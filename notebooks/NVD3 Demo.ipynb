{
 "cells": [
  {
   "cell_type": "markdown",
   "metadata": {},
   "source": [
    "## Prepare"
   ]
  },
  {
   "cell_type": "code",
   "execution_count": 47,
   "metadata": {
    "collapsed": false
   },
   "outputs": [
    {
     "data": {
      "text/plain": [
       "'3.5.2 |Anaconda 4.3.1 (x86_64)| (default, Jul  2 2016, 17:52:12) '"
      ]
     },
     "execution_count": 47,
     "metadata": {},
     "output_type": "execute_result"
    }
   ],
   "source": [
    "import time\n",
    "import sys\n",
    "sys.version.split(\"\\n\")[0]"
   ]
  },
  {
   "cell_type": "code",
   "execution_count": 48,
   "metadata": {
    "collapsed": false
   },
   "outputs": [
    {
     "data": {
      "text/html": [
       "<style>.container { width:95% !important; }</style>"
      ]
     },
     "metadata": {},
     "output_type": "display_data"
    }
   ],
   "source": [
    "from IPython.display import HTML, display_html, Javascript, display_javascript\n",
    "\n",
    "display_html(HTML(\"<style>.container { width:95% !important; }</style>\"))\n",
    "\n",
    "def display(html, style=None):\n",
    "    if isinstance(html, (tuple, list)):\n",
    "        html = \"\".join([\"\"\"<div style=\"display:inline; margin-left:%dpx\">%s</div>\"\"\" % (el[1], el[0]) for el in html])\n",
    "    if style is not None:\n",
    "        html = \"<%s>%s</%s>\" % (style, html, style)\n",
    "    display_html(HTML(html))"
   ]
  },
  {
   "cell_type": "markdown",
   "metadata": {},
   "source": [
    "## Load NVD3"
   ]
  },
  {
   "cell_type": "code",
   "execution_count": 49,
   "metadata": {
    "collapsed": false,
    "scrolled": false
   },
   "outputs": [
    {
     "data": {
      "application/javascript": [
       "\n",
       "            window.nvd3_stat = { session:{ __functions:{} } };\n",
       "\n",
       "            Jupyter.notebook.kernel.comm_manager.register_target(\"nvd3_stat\", \n",
       "                function(comm, msg) {\n",
       "                    console.log(\"NVD3-Stat [INFO] Comm for nvd3_stat opened\");\n",
       "\n",
       "                    comm.on_msg(function(msg) {\n",
       "                        var funcName = msg.content.data.funcName;\n",
       "                        var args = msg.content.data.args;\n",
       "                        if (window.__nvd3_stat_debug > 1) {\n",
       "                            console.log(\"NVD3-Stat [DEBUG]\", funcName, args)\n",
       "                        }\n",
       "                        window.nvd3_stat.session.__functions[funcName](window.nvd3_stat.session, args);\n",
       "                    });\n",
       "\n",
       "                    comm.on_close(function(msg) {\n",
       "                        console.log(\"NVD3-Stat [INFO] comm for nvd3_stat closed \", msg);         \n",
       "                    });    \n",
       "                }    \n",
       "            )\n",
       "        "
      ]
     },
     "metadata": {},
     "output_type": "display_data"
    },
    {
     "data": {
      "text/html": [
       "\n",
       "            <style>\n",
       "                div.output_area img, div.output_area svg {\n",
       "                    max-width: 100%;\n",
       "                    height: 100%;\n",
       "                }\n",
       "            </style>\n",
       "        "
      ]
     },
     "metadata": {},
     "output_type": "display_data"
    },
    {
     "data": {
      "application/javascript": [
       "\n",
       "        window.nvd3_stat.session.__functions.makeChart = function(session, object, chart) {\n",
       "\n",
       "        var cacheId = \"__nv__chart_cache_\" + object.plotId;\n",
       "\n",
       "        var Logger = function(name) {\n",
       "            this.name = name;\n",
       "        }\n",
       "        Logger.prototype.info = function(msg) {\n",
       "            if (window.__nvd3_stat_debug > 0) {\n",
       "                console.info(this.name + \" [INFO] \" + msg)\n",
       "            }\n",
       "        }\n",
       "        Logger.prototype.debug = function(msg, obj) {\n",
       "            if (window.__nvd3_stat_debug > 1) {\n",
       "                if (typeof(obj) === \"undefined\") {\n",
       "                    console.log(this.name + \" [DEBUG] \" + msg)\n",
       "                } else {\n",
       "                    console.log(this.name + \" [DEBUG] \" + msg, obj)\n",
       "                }\n",
       "            }\n",
       "        }\n",
       "        var logger = new Logger(\"NVD3-Stat\");\n",
       "        \n",
       "        logger.debug(\"makeChart called\");\n",
       "\n",
       "        d3.selectAll('.nvtooltip').style('opacity', '0');  // remove all \"zombie\" tooltips\n",
       "\n",
       "        nv.utils.windowResize = function(chart) { console.info(\"windowResize not supported\") } // avoid d3 translate(Nan,5) errors\n",
       "        var duration = 350;\n",
       "\n",
       "\n",
       "        var identifyData = function(data) {\n",
       "            if ((typeof(data[0].values) != \"undefined\") && (typeof(data[0].key) != \"undefined\")) {\n",
       "                return \"kv\"\n",
       "            } else if ((typeof(data[0].x) != \"undefined\") && (typeof(data[0].y) != \"undefined\")) {\n",
       "                return \"xy\"\n",
       "            } else {\n",
       "                console.error('Unknown data type')\n",
       "            }\n",
       "        }\n",
       "\n",
       "\n",
       "        var configure = function(chartModel, config) {\n",
       "            for (var c in config) {\n",
       "                if (c == \"margin\" || c == \"arcRadius\") {\n",
       "                    chart[c](config[c]);                \n",
       "                } else if ((typeof(config[c]) === \"object\") && ! Array.isArray(config[c])) {       // sub config, 1 level\n",
       "                    for (var c2 in config[c]) {\n",
       "                        if (c2 == \"tickFormat\") {\n",
       "                            var format = config[c][c2];\n",
       "                            if (format[0] == \"%\") {\n",
       "                                chart[c][c2](function(d) { return d3.time.format(format)(new Date(d)) });\n",
       "                            } else {\n",
       "                                chart[c][c2](d3.format(format));\n",
       "                            }\n",
       "                        } else {\n",
       "                            chart[c][c2](config[c][c2]);\n",
       "                        }\n",
       "                    }\n",
       "                } else {                                                                     // direct config\n",
       "                    if (c === \"halfPie\" && config[c]) {\n",
       "                        chart.pie.startAngle(function(d) { return d.startAngle/2 - Math.PI/2 })\n",
       "                                 .endAngle(function(d)   { return d.endAngle/2   - Math.PI/2 });\n",
       "                    } else {\n",
       "                        chart[c](config[c]);\n",
       "                    }\n",
       "                }\n",
       "            }\n",
       "            return chart;\n",
       "        }\n",
       "\n",
       "        \n",
       "        if (object.event == \"plot\") {\n",
       "            logger.debug(\"plot \" + object.plotId, object.data)\n",
       "\n",
       "            var data = object.data.data;\n",
       "            var config = object.data.config;\n",
       "            var duration = 200;\n",
       "            if (typeof config.duration != \"undefined\") {\n",
       "                duration = config.duration\n",
       "            }\n",
       "            console.log(\"duration \", duration)\n",
       "            var divId = \"#\" + object.plotId + \" svg\";\n",
       "            session[cacheId] = {\"data\": data};\n",
       "\n",
       "            nv.addGraph(function() {\n",
       "                try {\n",
       "                    chart = configure(chart, config);\n",
       "                    chartData = d3.select(divId).datum(JSON.parse(JSON.stringify(data)));\n",
       "                    if (duration == 0) {\n",
       "                        chartData.call(chart);\n",
       "                    } else {\n",
       "                        chartData.transition().duration(duration).call(chart);\n",
       "                    }\n",
       "                } catch(err) {\n",
       "                    console.error(err.message);\n",
       "                }\n",
       "\n",
       "                \n",
       "                session[cacheId].chart = chart;\n",
       "                session[cacheId].chartData = chartData;\n",
       "\n",
       "                return chart;\n",
       "            })\n",
       "\n",
       "                               \n",
       "        } else if (object.event == \"saveAsPng\") {\n",
       "            logger.debug(\"Save \" + object.plotId + \" as PNG\")\n",
       "            window.saveSvgAsPng(document.getElementById(object.plotId).children[0], object.data.filename + \".png\", {backgroundColor: object.data.backgroundColor});\n",
       "\n",
       "        } else if (object.event == \"replace\") {\n",
       "            var data = JSON.parse(JSON.stringify(object.data));  // clone data\n",
       "\n",
       "\n",
       "            session[cacheId].data = data;\n",
       "            var chart = session[cacheId].chart;\n",
       "            var chartData = session[cacheId].chartData;\n",
       "            console.log(\"replace: \" + chart.container.parentNode.id)\n",
       "\n",
       "            chartData.datum(data).transition().duration(duration).call(chart);\n",
       "\n",
       "        } else if (object.event == \"append\") {\n",
       "\n",
       "            var newData = JSON.parse(JSON.stringify(object.data));  // clone data\n",
       "\n",
       "            var data = session[cacheId].data;\n",
       "\n",
       "            var _append = function(dataType, dold, dnew) {\n",
       "                if (dataType == \"kv\") {\n",
       "                    dold.values = dold.values.concat(dnew.values);\n",
       "                    for (var attr in dnew) {\n",
       "                        if (attr !== \"key\" && attr !== \"values\") {\n",
       "                            dold[attr] = dnew[attr];\n",
       "                        }\n",
       "                    }\n",
       "                } else {\n",
       "                    dold = dold.concat(dnew);\n",
       "                }\n",
       "                return dold\n",
       "            }\n",
       "            \n",
       "            var dataType = identifyData(data);\n",
       "            if (dataType == \"kv\") {\n",
       "                for (var i in data) {\n",
       "                    data[i] = _append(\"kv\", data[i], newData[i])\n",
       "                }\n",
       "            } else if (dataType == \"xy\") {\n",
       "                data = _append(dataType, data, newData)\n",
       "            } else {\n",
       "                console.error(\"Unknown data type\");\n",
       "            }\n",
       "\n",
       "            var chart = session[cacheId].chart;\n",
       "            var chartData = session[cacheId].chartData;\n",
       "            logger.debug(\"append: \" + chart.container.parentNode.id, newData)\n",
       "            \n",
       "            chartData.datum(data).transition().duration(duration).call(chart);\n",
       "\n",
       "        } else if (object.event == \"update\") {\n",
       "\n",
       "            var changedData = JSON.parse(JSON.stringify(object.data.changedData));  // clone data\n",
       "            var rowIndices = object.data.rowIndices;\n",
       "            \n",
       "            var data = session[cacheId].data;\n",
       "            \n",
       "            var _update = function(dold, dnew, rowIndices) {\n",
       "                for (var i in rowIndices) {\n",
       "                    dold.values[rowIndices[i]] = dnew.values[i];\n",
       "                }\n",
       "                for (attr in dnew) {\n",
       "                    if (attr !== \"key\" && attr !== \"values\") {\n",
       "                        dold[attr] = dnew[attr];\n",
       "                    }\n",
       "                }\n",
       "            }\n",
       "\n",
       "            if (data instanceof Array && changedData instanceof Array) {\n",
       "                for (i in data) { _update(data[i], changedData[i], rowIndices) }\n",
       "            } else {\n",
       "                _update(data, changedData, rowIndices)\n",
       "            }\n",
       "            \n",
       "            var chart = session[cacheId].chart;\n",
       "            var chartData = session[cacheId].chartData;\n",
       "            logger.debug(\"update: \" + chart.container.parentNode.id, changedData)\n",
       "\n",
       "            chartData.datum(data).transition().duration(duration).call(chart);\n",
       "            \n",
       "        } else if (object.event == \"delete\") {\n",
       "\n",
       "            var sortedIndices = object.data.rowIndices;\n",
       "\n",
       "            var data = session[cacheId].data;\n",
       "\n",
       "            var _delete = function(dold, rowIndices) {\n",
       "                for (var i in sortedIndices) {\n",
       "                    dold.values.splice(sortedIndices[i], 1);\n",
       "                }\n",
       "            }\n",
       "\n",
       "            if (data instanceof Array) {\n",
       "                for (var i in data) { _delete(data[i], sortedIndices) }\n",
       "            } else {\n",
       "                _delete(data, sortedIndices)\n",
       "            }\n",
       "            \n",
       "            var chart = session[cacheId].chart;\n",
       "            var chartData = session[cacheId].chartData;\n",
       "            logger.debug(\"delete: \" + chart.container.parentNode.id, sortedIndices)\n",
       "\n",
       "            chartData.datum(data).transition().duration(duration).call(chart);\n",
       "            chart.update()\n",
       "        }}\n",
       "    ;\n",
       "        "
      ]
     },
     "metadata": {},
     "output_type": "display_data"
    },
    {
     "data": {
      "application/javascript": [
       "\n",
       "        if(typeof(window.__nvd3_stat_debug) == \"undefined\") {\n",
       "            window.__nvd3_stat_debug = 0;  // no debug output\n",
       "        }\n",
       "        console.info(\"nvd3_stat is initialized\");\n",
       "        "
      ]
     },
     "metadata": {},
     "output_type": "display_data"
    }
   ],
   "source": [
    "from nvd3_stat import Nvd3\n",
    "nv = Nvd3()"
   ]
  },
  {
   "cell_type": "code",
   "execution_count": 50,
   "metadata": {
    "collapsed": false,
    "scrolled": false
   },
   "outputs": [
    {
     "data": {
      "application/javascript": [
       "\n",
       "        var d3_js = \"https://cdnjs.cloudflare.com/ajax/libs/d3/3.5.17/d3\";\n",
       "        var nvd3_css = \"https://cdnjs.cloudflare.com/ajax/libs/nvd3/1.8.5/nv.d3.css\";\n",
       "        var nvd3_js = \"https://cdnjs.cloudflare.com/ajax/libs/nvd3/1.8.5/nv.d3.js\";\n",
       "        var saveAsPng_js = \"https://rawgit.com/bernhard-42/saveSvgAsPng/gh-pages/saveSvgAsPng\";\n",
       "\n",
       "        var cssLoaded = function(href) {\n",
       "            var found = false;\n",
       "            for (var i in document.styleSheets) {\n",
       "                if (document.styleSheets[i].href == href ) {\n",
       "                    found = true;\n",
       "                    break;\n",
       "                }\n",
       "            }   \n",
       "            return found;\n",
       "        }\n",
       "\n",
       "        var loadCss = function(href, callback) {\n",
       "           $('<link/>', {\n",
       "                rel: 'stylesheet',\n",
       "                type: 'text/css',\n",
       "                crossOrigin: 'anonymous',\n",
       "                href: href\n",
       "            }).error(function() {\n",
       "                element.html(\"<div style='color:red'>Error: loading nv.d3.css</div>\");\n",
       "            }).load(function() {\n",
       "                if (cssLoaded(href)) {\n",
       "                    element.append(\"<div>loaded nvd3 css</div>\");\n",
       "                    loadJs();\n",
       "                }\n",
       "            }).appendTo('head');\n",
       "        }\n",
       "\n",
       "        var loadJs = function() {\n",
       "            require.config({ paths: {d3: d3_js, saveSvg: saveAsPng_js} });\n",
       "            require([\"d3\"], function(d3) {\n",
       "                window.d3 = d3;\n",
       "                element.append(\"<div>loaded d3 js \" + d3.version + \"</div>\", window.d3)\n",
       "                $.getScript(nvd3_js)\n",
       "                 .done(function( script, textStatus ) {\n",
       "                    element.append(\"<div>loaded nvd3.js \" + nv.version + \"</div>\", window.nv)\n",
       "                    require([\"saveSvg\"], function(saveSvgAsPng) {\n",
       "                        window.saveSvgAsPng = saveSvgAsPng.saveSvgAsPng\n",
       "                        window.saveSvg = saveSvgAsPng.saveSvg\n",
       "                        window.__saveSvgAsPng = saveSvgAsPng;\n",
       "                        element.append(\"<div>loaded saveSvgAsPng</div>\");\n",
       "                    })\n",
       "                 }).fail(function(jqxhr, settings, exception){\n",
       "                    element.html(\"<div style='color:red'>Error: loading nv.d3.js</div>\");\n",
       "                 })\n",
       "            });\n",
       "        }\n",
       "\n",
       "        if (cssLoaded(nvd3_css)) {\n",
       "            loadJs();\n",
       "        } else {\n",
       "            loadCss(nvd3_css, loadJs);\n",
       "        } \n",
       "    "
      ]
     },
     "metadata": {},
     "output_type": "display_data"
    }
   ],
   "source": [
    "nv.reloadNVD3(nvd3version=\"1.8.5\", d3version=\"3.5.17\")"
   ]
  },
  {
   "cell_type": "code",
   "execution_count": 51,
   "metadata": {
    "collapsed": false,
    "scrolled": false
   },
   "outputs": [
    {
     "data": {
      "application/javascript": [
       "__nvd3_stat_debug=0"
      ]
     },
     "metadata": {},
     "output_type": "display_data"
    }
   ],
   "source": [
    "# turn javascript debugging on\n",
    "nv.traceJs(False)\n",
    "\n",
    "# turn javascript debugging on\n",
    "# nv.traceJs(True)"
   ]
  },
  {
   "cell_type": "markdown",
   "metadata": {},
   "source": [
    "## Some helpers to create data\n",
    "\n",
    "### Random data"
   ]
  },
  {
   "cell_type": "code",
   "execution_count": 52,
   "metadata": {
    "collapsed": true,
    "scrolled": false
   },
   "outputs": [],
   "source": [
    "import numpy as np\n",
    "import pandas as pd\n",
    "import random\n",
    "import time\n",
    "from datetime import datetime\n",
    "\n",
    "pd.options.display.width=200\n",
    "\n",
    "def randomList(count, mean, dist):\n",
    "    return [ mean + (1 if random.random() > 0.5 else -1) * random.random() * dist for i in range(count)]\n",
    "\n",
    "\n",
    "def randomNormalList(count, mean, stdev):\n",
    "    return np.random.normal(mean, stdev, count).tolist()\n",
    "\n",
    "\n",
    "def randomWalk(count=20, factor=2, offset=10):\n",
    "    return np.abs(np.cumsum(np.random.uniform(-factor, factor, (count, 1)) ) + offset)\n",
    "\n",
    "\n",
    "def lastDays(days, epoch=True, ms=True):\n",
    "    now = datetime.now()\n",
    "    t = int(time.mktime(now.timetuple())) - 3600 * 24 * days\n",
    "    if epoch:\n",
    "        factor = 1000 if ms else 1\n",
    "        return [int(t + i * 3600 * 24) * factor for i in range(days)]\n",
    "    else:\n",
    "        return [time.strftime('%Y-%m-%d', time.localtime(int(t + i*3600*24))) for i in range(days)]"
   ]
  },
  {
   "cell_type": "markdown",
   "metadata": {},
   "source": [
    "### Stock Downloader"
   ]
  },
  {
   "cell_type": "code",
   "execution_count": 53,
   "metadata": {
    "collapsed": false,
    "scrolled": false
   },
   "outputs": [],
   "source": [
    "#\n",
    "# pip install yahoo-finance\n",
    "#\n",
    "\n",
    "from yahoo_finance import Share     \n",
    "\n",
    "def downloadHistoricalStockData(symbol, begin, end, fillMissing=True):\n",
    "    data = Share(symbol).get_historical(\"%04d-%02d-%02d\" % begin, \"%04d-%02d-%02d\" % end)\n",
    "    df = pd.DataFrame(data)\n",
    "\n",
    "    for col in \"Adj_Close\", \"Close\", \"High\", \"Low\", \"Open\":\n",
    "        df[col] = df[col].astype(float)\n",
    "    df[\"Volume\"] = df[\"Volume\"].astype(int)\n",
    "    df[\"Date\"] = pd.to_datetime(df[\"Date\"], infer_datetime_format=True)\n",
    "    \n",
    "    if fillMissing:\n",
    "        return fillMissingValues(df, symbol, begin, end)\n",
    "    else: \n",
    "        return df\n",
    "\n",
    "def fillMissingValues(df, symbol, begin, end):\n",
    "    allDates = pd.DataFrame({\"Date\": pd.date_range(pd.datetime(*begin), pd.datetime(*end), freq='D')})\n",
    "    df2 = allDates.merge(df, how=\"outer\")\n",
    "    df2[\"Symbol\"] = symbol\n",
    "    # for volume fill bank holidays with 0 (no trade)\n",
    "    df2[\"Volume\"] = df2[\"Volume\"].fillna(0)\n",
    "    # and all indicators with value of day before (no price change)\n",
    "    df2 = df2.fillna(axis=0, method=\"ffill\")\n",
    "    df2[\"Timestamp\"] = (df2[\"Date\"].astype(\"int64\") / 1000000).astype('int64')\n",
    "    return df2.sort_values(by=[\"Timestamp\"])"
   ]
  },
  {
   "cell_type": "markdown",
   "metadata": {},
   "source": [
    "### Iris data"
   ]
  },
  {
   "cell_type": "code",
   "execution_count": 54,
   "metadata": {
    "collapsed": false,
    "scrolled": false
   },
   "outputs": [],
   "source": [
    "# !cd /tmp && wget  https://raw.github.com/pydata/pandas/master/pandas/tests/data/iris.csv"
   ]
  },
  {
   "cell_type": "code",
   "execution_count": 55,
   "metadata": {
    "collapsed": false,
    "scrolled": false
   },
   "outputs": [
    {
     "name": "stdout",
     "output_type": "stream",
     "text": [
      "   SepalLength  SepalWidth  PetalLength  PetalWidth         Name\n",
      "0          5.1         3.5          1.4         0.2  Iris-setosa\n",
      "1          4.9         3.0          1.4         0.2  Iris-setosa\n",
      "2          4.7         3.2          1.3         0.2  Iris-setosa\n",
      "3          4.6         3.1          1.5         0.2  Iris-setosa\n",
      "4          5.0         3.6          1.4         0.2  Iris-setosa\n"
     ]
    }
   ],
   "source": [
    "import pandas as pd\n",
    "iris = pd.read_csv('/tmp/iris.csv')\n",
    "\n",
    "def getSpecies(name):\n",
    "    return iris[iris.Name==name].loc[:,iris.columns != 'Name']\n",
    "\n",
    "print(iris.head())"
   ]
  },
  {
   "cell_type": "markdown",
   "metadata": {},
   "source": [
    "## 1 BoxPlot Chart\n",
    "\n",
    "### a) Single IQR Box Plot"
   ]
  },
  {
   "cell_type": "code",
   "execution_count": 56,
   "metadata": {
    "collapsed": false
   },
   "outputs": [
    {
     "data": {
      "application/javascript": [
       "\n",
       "        window.nvd3_stat.session.__functions.boxPlotChart = function(session, object) {\n",
       "            var chart = nv.models.boxPlotChart()\n",
       "                        .x(function(d) { return d.key })\n",
       "\n",
       "            session.__functions.makeChart(session, object, chart);\n",
       "        }      \n",
       "    ;\n",
       "        "
      ]
     },
     "metadata": {},
     "output_type": "display_data"
    },
    {
     "data": {
      "text/html": [
       "<div style=\"height:400px; width:450px\">\n",
       "            <div id=\"boxPlotChart-024\" class=\"with-3d-shadow with-transitions\" style=\" height:400px; width:450px\">\n",
       "                <svg></svg>\n",
       "            </div>\n",
       "            </div>"
      ]
     },
     "metadata": {},
     "output_type": "display_data"
    }
   ],
   "source": [
    "df = pd.DataFrame({\"X1\":randomNormalList(50, 5, 1), \"X2\":randomNormalList(50, 3, 0.5)})\n",
    "\n",
    "bp1 = nv.boxPlotChart()\n",
    "\n",
    "config={\"height\": 400, \"width\":450, \"color\":nv.c10(), \"yDomain\": [0, 10], \"maxBoxWidth\":False }\n",
    "\n",
    "bp1.plot(data=df, boxStyle=\"iqr\", config=config)"
   ]
  },
  {
   "cell_type": "markdown",
   "metadata": {},
   "source": [
    "### b) Append"
   ]
  },
  {
   "cell_type": "code",
   "execution_count": 57,
   "metadata": {
    "collapsed": false
   },
   "outputs": [],
   "source": [
    "bp1.append({\"X1\":[1,5,7,8,9,8,7], \"X2\":[0.5, 3,4,5,6,3,2]})"
   ]
  },
  {
   "cell_type": "markdown",
   "metadata": {},
   "source": [
    "### c) Horizontal Box Plots\n",
    "\n",
    "#### Compare the three species (horizontal IQR box plot)"
   ]
  },
  {
   "cell_type": "code",
   "execution_count": 58,
   "metadata": {
    "collapsed": false
   },
   "outputs": [
    {
     "data": {
      "text/html": [
       "<h3><div style=\"display:inline; margin-left:40px\">Iris-setosa</div><div style=\"display:inline; margin-left:355px\">Iris-versicolor</div><div style=\"display:inline; margin-left:330px\">Iris-virginica</div></h3>"
      ]
     },
     "metadata": {},
     "output_type": "display_data"
    },
    {
     "data": {
      "text/html": [
       "<div style=\"height:400px; width:1350px\">\n",
       "            <div id=\"boxPlotChart-025\" class=\"with-3d-shadow with-transitions\" style=\"float:left; height:400px; width:450px\">\n",
       "                <svg></svg>\n",
       "            </div>\n",
       "            \n",
       "            <div id=\"boxPlotChart-026\" class=\"with-3d-shadow with-transitions\" style=\"float:left; height:400px; width:450px\">\n",
       "                <svg></svg>\n",
       "            </div>\n",
       "            \n",
       "            <div id=\"boxPlotChart-027\" class=\"with-3d-shadow with-transitions\" style=\"float:left; height:400px; width:450px\">\n",
       "                <svg></svg>\n",
       "            </div>\n",
       "            </div>"
      ]
     },
     "metadata": {},
     "output_type": "display_data"
    }
   ],
   "source": [
    "display(html=[(\"Iris-setosa\", 40),(\"Iris-versicolor\", 355),(\"Iris-virginica\", 330)], style=\"h3\")\n",
    "\n",
    "bp2 = nv.boxPlotChart()\n",
    "\n",
    "config = {\"height\": 400, \"width\":450, \"color\":nv.c10(), \"yDomain\": [-0.5, 8.5], \"maxBoxWidth\":False}\n",
    "\n",
    "bp2.hplot([bp2.chart(getSpecies(\"Iris-setosa\"),     boxStyle=\"iqr\", config=config),\n",
    "           bp2.chart(getSpecies(\"Iris-versicolor\"), boxStyle=\"iqr\", config=config),\n",
    "           bp2.chart(getSpecies(\"Iris-virginica\"),  boxStyle=\"iqr\", config=config)])"
   ]
  },
  {
   "cell_type": "markdown",
   "metadata": {},
   "source": [
    "#### Compare IQR and Min-Max plot"
   ]
  },
  {
   "cell_type": "code",
   "execution_count": 59,
   "metadata": {
    "collapsed": false,
    "scrolled": false
   },
   "outputs": [
    {
     "data": {
      "text/html": [
       "<h3><div style=\"display:inline; margin-left:40px\">IQR</div><div style=\"display:inline; margin-left:415px\">Min-Max</div></h3>"
      ]
     },
     "metadata": {},
     "output_type": "display_data"
    },
    {
     "data": {
      "text/html": [
       "<div style=\"height:400px; width:900px\">\n",
       "            <div id=\"boxPlotChart-028\" class=\"with-3d-shadow with-transitions\" style=\"float:left; height:400px; width:450px\">\n",
       "                <svg></svg>\n",
       "            </div>\n",
       "            \n",
       "            <div id=\"boxPlotChart-029\" class=\"with-3d-shadow with-transitions\" style=\"float:left; height:400px; width:450px\">\n",
       "                <svg></svg>\n",
       "            </div>\n",
       "            </div>"
      ]
     },
     "metadata": {},
     "output_type": "display_data"
    }
   ],
   "source": [
    "display(html=[(\"IQR\", 40),(\"Min-Max\", 415)], style=\"h3\")\n",
    "\n",
    "bp3 = nv.boxPlotChart()\n",
    "\n",
    "config = {\"height\": 400, \"width\":450, \"color\":nv.c10(), \"yDomain\": [-0.5, 6], \"maxBoxWidth\":False }\n",
    "\n",
    "bp3.hplot([bp3.chart(data=getSpecies(\"Iris-setosa\"), boxStyle=\"iqr\",     config=config),\n",
    "           bp3.chart(data=getSpecies(\"Iris-setosa\"), boxStyle=\"min-max\", config=config)])"
   ]
  },
  {
   "cell_type": "markdown",
   "metadata": {},
   "source": [
    "## 2 Line Chart\n",
    "\n",
    "### a) Plot"
   ]
  },
  {
   "cell_type": "code",
   "execution_count": 60,
   "metadata": {
    "collapsed": false,
    "scrolled": false
   },
   "outputs": [
    {
     "name": "stdout",
     "output_type": "stream",
     "text": [
      "     ArcTan       Cos       Sin         X\n",
      "0 -0.470988  1.000000  0.000000  0.000000\n",
      "1 -0.469922  0.991955  0.126592  0.126933\n",
      "2 -0.468812  0.967949  0.251148  0.253866\n",
      "3 -0.467656  0.928368  0.371662  0.380799\n",
      "4 -0.466450  0.873849  0.486197  0.507732\n"
     ]
    }
   ],
   "source": [
    "x = np.linspace(0, 4*np.pi, 100)\n",
    "\n",
    "l_df = pd.DataFrame({\"X\":x,\n",
    "                     \"Sin\":np.sin(x), \n",
    "                     \"Cos\":np.cos(x), \n",
    "                     \"ArcTan\":np.arctan(x-2*np.pi)/3})\n",
    "\n",
    "print(l_df.head())"
   ]
  },
  {
   "cell_type": "markdown",
   "metadata": {},
   "source": [
    "#### Single line"
   ]
  },
  {
   "cell_type": "code",
   "execution_count": 61,
   "metadata": {
    "collapsed": false
   },
   "outputs": [
    {
     "data": {
      "application/javascript": [
       "\n",
       "        window.nvd3_stat.session.__functions.lineChart = function(session, object) {\n",
       "\n",
       "            var chart = nv.models.lineChart()\n",
       "                    .focusEnable(false)\n",
       "                    .useInteractiveGuideline(true)\n",
       "                    .margin({right:  40})\n",
       "                    .margin({bottom: 60})\n",
       "\n",
       "            chart.xAxis.showMaxMin(false)\n",
       "                       .tickFormat(d3.format(',.1f'))\n",
       "\n",
       "            chart.yAxis.showMaxMin(false)\n",
       "                       .tickFormat(d3.format(',.1f'))\n",
       "\n",
       "            session.__functions.makeChart(session, object, chart);\n",
       "        }        \n",
       "    ;\n",
       "        "
      ]
     },
     "metadata": {},
     "output_type": "display_data"
    },
    {
     "data": {
      "text/html": [
       "<style>.dashed { stroke-dasharray: 7,7; }\n",
       ".dotted { stroke-dasharray: 3,3; } </style>"
      ]
     },
     "metadata": {},
     "output_type": "display_data"
    },
    {
     "data": {
      "text/html": [
       "<div style=\"height:350px; width:800px\">\n",
       "            <div id=\"lineChart-030\" class=\"with-3d-shadow with-transitions\" style=\" height:350px; width:800px\">\n",
       "                <svg></svg>\n",
       "            </div>\n",
       "            </div>"
      ]
     },
     "metadata": {},
     "output_type": "display_data"
    }
   ],
   "source": [
    "l1 = nv.lineChart()\n",
    "\n",
    "config={\"height\":350, \"width\": 800, \"color\":nv.c10(), \n",
    "        \"yAxis\":{\"axisLabel\":\"f(x)\", \"tickFormat\":\",.2f\"}, \n",
    "        \"xAxis\":{\"axisLabel\":\"x\",    \"tickFormat\":\",.2f\"}}\n",
    "        \n",
    "lineAttributes={\"area\":True, \"fillOpacity\":0.2, \"style\":\"dashed\"}\n",
    "\n",
    "l1.plot(l_df, \"X\", \"Sin\", lineAttributes, config)"
   ]
  },
  {
   "cell_type": "code",
   "execution_count": 62,
   "metadata": {
    "collapsed": false
   },
   "outputs": [
    {
     "data": {
      "text/html": [
       "<style>.dashed { stroke-dasharray: 7,7; }\n",
       ".dotted { stroke-dasharray: 3,3; } </style>"
      ]
     },
     "metadata": {},
     "output_type": "display_data"
    },
    {
     "data": {
      "text/html": [
       "<div style=\"height:300px; width:1200px\">\n",
       "            <div id=\"lineChart-031\" class=\"with-3d-shadow with-transitions\" style=\"float:left; height:300px; width:400px\">\n",
       "                <svg></svg>\n",
       "            </div>\n",
       "            \n",
       "            <div id=\"lineChart-032\" class=\"with-3d-shadow with-transitions\" style=\"float:left; height:300px; width:400px\">\n",
       "                <svg></svg>\n",
       "            </div>\n",
       "            \n",
       "            <div id=\"lineChart-033\" class=\"with-3d-shadow with-transitions\" style=\"float:left; height:300px; width:400px\">\n",
       "                <svg></svg>\n",
       "            </div>\n",
       "            </div>"
      ]
     },
     "metadata": {},
     "output_type": "display_data"
    }
   ],
   "source": [
    "l2 = nv.lineChart()\n",
    "\n",
    "def config(i):\n",
    "    return {\"height\":300, \"width\": 400, \"color\":nv.c10()[i-1:], \n",
    "            \"yAxis\":{\"axisLabel\":\"f(x)\", \"tickFormat\":\",.2f\"}, \n",
    "            \"xAxis\":{\"axisLabel\":\"x\",    \"tickFormat\":\",.2f\"},\n",
    "            \"yDomain\":[-1.2,1.2]}\n",
    "\n",
    "lineAttributes1={\"area\":True,  \"fillOpacity\":0.2, \"style\":\"dashed\"}\n",
    "lineAttributes2={\"area\":False,                    \"style\":\"dotted\"}\n",
    "lineAttributes3={\"area\":True,  \"fillOpacity\":1.0                  }\n",
    "\n",
    "l2.hplot([l2.chart(l_df, \"X\", \"Sin\",    lineAttributes1, config=config(1)),\n",
    "          l2.chart(l_df, \"X\", \"Cos\",    lineAttributes2, config=config(2)),\n",
    "          l2.chart(l_df, \"X\", \"ArcTan\", lineAttributes3, config=config(3))])"
   ]
  },
  {
   "cell_type": "markdown",
   "metadata": {},
   "source": [
    "#### Multiple lines"
   ]
  },
  {
   "cell_type": "code",
   "execution_count": 63,
   "metadata": {
    "collapsed": false,
    "scrolled": false
   },
   "outputs": [
    {
     "data": {
      "text/html": [
       "<style>.dashed { stroke-dasharray: 7,7; }\n",
       ".dotted { stroke-dasharray: 3,3; } </style>"
      ]
     },
     "metadata": {},
     "output_type": "display_data"
    },
    {
     "data": {
      "text/html": [
       "<div style=\"height:500px; width:1024px\">\n",
       "            <div id=\"lineChart-034\" class=\"with-3d-shadow with-transitions\" style=\" height:500px; width:1024px\">\n",
       "                <svg></svg>\n",
       "            </div>\n",
       "            </div>"
      ]
     },
     "metadata": {},
     "output_type": "display_data"
    }
   ],
   "source": [
    "l3 = nv.lineChart()\n",
    "\n",
    "config={\"height\":500, \"width\": 1024, \"color\":nv.c20b()[10:13], \n",
    "        \"yAxis\":{\"axisLabel\":\"f(x)\", \"tickFormat\":\",.2f\"}, \n",
    "        \"xAxis\":{\"axisLabel\":\"x\",    \"tickFormat\":\",.2f\"},\n",
    "        \"focusEnable\": False, \"duration\":0}\n",
    "        \n",
    "lineAttributes={\"area\":[True, False, True], \"fillOpacity\":[0.2, 0, 0.2], \"style\":[\"dashed\", \"dotted\", None]}\n",
    "\n",
    "l3.plot(l_df[:70], \"X\", [\"Sin\", \"Cos\", \"ArcTan\"], lineAttributes, config)"
   ]
  },
  {
   "cell_type": "markdown",
   "metadata": {},
   "source": [
    "### b) Append values"
   ]
  },
  {
   "cell_type": "code",
   "execution_count": 64,
   "metadata": {
    "collapsed": false,
    "scrolled": false
   },
   "outputs": [],
   "source": [
    "for i in range(71,100):\n",
    "    time.sleep(0.05)\n",
    "    l3.append(l_df[i:i+1])"
   ]
  },
  {
   "cell_type": "markdown",
   "metadata": {},
   "source": [
    "### c) Save it as png"
   ]
  },
  {
   "cell_type": "code",
   "execution_count": 65,
   "metadata": {
    "collapsed": false
   },
   "outputs": [],
   "source": [
    "l3.saveAsPng(\"line.png\", backgroundColor=\"white\")"
   ]
  },
  {
   "cell_type": "markdown",
   "metadata": {},
   "source": [
    "### d) Multiple independent lines"
   ]
  },
  {
   "cell_type": "code",
   "execution_count": 66,
   "metadata": {
    "collapsed": false
   },
   "outputs": [
    {
     "data": {
      "text/html": [
       "<h3><div style=\"display:inline; margin-left:300px\">ROC</div></h3>"
      ]
     },
     "metadata": {},
     "output_type": "display_data"
    },
    {
     "data": {
      "text/html": [
       "<style>.dashed { stroke-dasharray: 7,7; }\n",
       ".dotted { stroke-dasharray: 3,3; } </style>"
      ]
     },
     "metadata": {},
     "output_type": "display_data"
    },
    {
     "data": {
      "text/html": [
       "<div style=\"height:500px; width:600px\">\n",
       "            <div id=\"lineChart-035\" class=\"with-3d-shadow with-transitions\" style=\" height:500px; width:600px\">\n",
       "                <svg></svg>\n",
       "            </div>\n",
       "            </div>"
      ]
     },
     "metadata": {},
     "output_type": "display_data"
    }
   ],
   "source": [
    "# data taken from scikit-learn http://scikit-learn.org/stable/auto_examples/model_selection/plot_roc.html\n",
    "\n",
    "data = {'FPR': [0.0000,0.0000,0.0196,0.0196,0.0784,0.0784,0.0980,0.0980,0.1176,0.1176,0.1373,\n",
    "                0.1373,0.1569,0.1569,0.1765,0.1765,0.3137,0.3137,0.3333,0.3333,0.3529,0.3529,\n",
    "                0.4118,0.4118,0.4510,0.4510,0.4706,0.4706,0.5098,0.5098,0.5686,0.5686,1.0000],\n",
    "        'TPR': [0.0417,0.1250,0.1250,0.2500,0.2500,0.2917,0.2917,0.3333,0.3333,0.4167,0.4167,\n",
    "                0.5000,0.5000,0.5417,0.5417,0.5833,0.5833,0.6667,0.6667,0.7500,0.7500,0.7917,\n",
    "                0.7917,0.8333,0.8333,0.8750,0.8750,0.9167,0.9167,0.9583,0.9583,1.0000,1.0000]}\n",
    "\n",
    "config = {\"width\":600, \"height\":500, \"color\":nv.c20(2,1), \"useInteractiveGuideline\":True,\n",
    "          \"xDomain\":[0,1], \"yDomain\":[0,1.05],\n",
    "          \"xAxis\":{\"axisLabel\":\"False Positive Rate\"},\n",
    "          \"yAxis\":{\"axisLabel\":\"True Positive Rate\"}\n",
    "         }\n",
    "display(html=[(\"ROC\", 300)], style=\"h3\")\n",
    "roc = nv.lineChart()\n",
    "roc.addLine(data, \"FPR\", \"TPR\")\n",
    "roc.addLine({\"X\":[0,1], \"Threshold\":[0,1]}, \"X\", \"Threshold\", lineAttributes={\"style\":\"dotted\"})\n",
    "roc.plot(config=config)"
   ]
  },
  {
   "cell_type": "markdown",
   "metadata": {},
   "source": [
    "### e) Add a focus selector"
   ]
  },
  {
   "cell_type": "code",
   "execution_count": 67,
   "metadata": {
    "collapsed": false,
    "scrolled": false
   },
   "outputs": [
    {
     "data": {
      "text/html": [
       "<style>.dashed { stroke-dasharray: 7,7; }\n",
       ".dotted { stroke-dasharray: 3,3; } </style>"
      ]
     },
     "metadata": {},
     "output_type": "display_data"
    },
    {
     "data": {
      "text/html": [
       "<div style=\"height:500px; width:1024px\">\n",
       "            <div id=\"lineChart-036\" class=\"with-3d-shadow with-transitions\" style=\" height:500px; width:1024px\">\n",
       "                <svg></svg>\n",
       "            </div>\n",
       "            </div>"
      ]
     },
     "metadata": {},
     "output_type": "display_data"
    }
   ],
   "source": [
    "l2 = nv.lineChart()\n",
    "\n",
    "config={\"height\":500, \"width\": 1024,\n",
    "        \"focusEnable\": True, \"color\":nv.c10(), \n",
    "        \"yAxis\": {\"axisLabel\":\"f(x)\", \"tickFormat\":\",.2f\"}, \n",
    "        \"xAxis\":{\"axisLabel\":\"x\", \"tickFormat\":\"%d-%m-%Y\"}}\n",
    "\n",
    "lineAttributes={\"area\":[True, False, True], \"fillOpacity\":[0.2, 0, 0.2], \"style\":[\"dashed\", \"dotted\", None]}\n",
    "\n",
    "l2.plot(l_df, \"X\", [\"Sin\", \"Cos\", \"ArcTan\"], lineAttributes, config)"
   ]
  },
  {
   "cell_type": "markdown",
   "metadata": {},
   "source": [
    "## 3 Discrete Bar Chart\n",
    "\n",
    "### a) Plot"
   ]
  },
  {
   "cell_type": "code",
   "execution_count": 68,
   "metadata": {
    "collapsed": false,
    "scrolled": false
   },
   "outputs": [
    {
     "data": {
      "application/javascript": [
       "\n",
       "        window.nvd3_stat.session.__functions.discreteBarChart = function(session, object) {\n",
       "            var chart = nv.models.discreteBarChart()\n",
       "                .staggerLabels(true)\n",
       "                .showValues(true)\n",
       "                .showLegend(false)\n",
       "                .margin({top:30})\n",
       "\n",
       "            session.__functions.makeChart(session, object, chart);\n",
       "        }        \n",
       "    ;\n",
       "        "
      ]
     },
     "metadata": {},
     "output_type": "display_data"
    },
    {
     "data": {
      "text/html": [
       "<div style=\"height:350px; width:500px\">\n",
       "            <div id=\"discreteBarChart-037\" class=\"with-3d-shadow with-transitions\" style=\" height:350px; width:500px\">\n",
       "                <svg></svg>\n",
       "            </div>\n",
       "            </div>"
      ]
     },
     "metadata": {},
     "output_type": "display_data"
    }
   ],
   "source": [
    "db_df = pd.DataFrame(iris.loc[:, [\"SepalLength\", \"SepalWidth\", \"PetalLength\", \"PetalWidth\"]].mean()).reset_index()\n",
    "db_df.columns = [\"Series\", \"Mean\"]\n",
    "\n",
    "db = nv.discreteBarChart()\n",
    "\n",
    "config={\"height\": 350, \"width\": 500, \"color\": nv.c20(), \"staggerLabels\": False}\n",
    "\n",
    "db.plot(db_df[:2], key=\"Series\", value=\"Mean\", config=config)\n"
   ]
  },
  {
   "cell_type": "markdown",
   "metadata": {},
   "source": [
    "### b) Append Values"
   ]
  },
  {
   "cell_type": "code",
   "execution_count": 69,
   "metadata": {
    "collapsed": false
   },
   "outputs": [],
   "source": [
    "db.append(db_df[2:])"
   ]
  },
  {
   "cell_type": "markdown",
   "metadata": {},
   "source": [
    "## 4 Multi Bar Chart"
   ]
  },
  {
   "cell_type": "markdown",
   "metadata": {},
   "source": [
    "### a) Plot"
   ]
  },
  {
   "cell_type": "code",
   "execution_count": 70,
   "metadata": {
    "collapsed": false,
    "scrolled": false
   },
   "outputs": [
    {
     "data": {
      "application/javascript": [
       "\n",
       "        window.nvd3_stat.session.__functions.multiBarChart = function(session, object) {\n",
       "\n",
       "            var chart = nv.models.multiBarChart()\n",
       "                .margin({bottom: 50, left: 50})\n",
       "                .groupSpacing(0.1)\n",
       "                .reduceXTicks(false)\n",
       "                .staggerLabels(true);\n",
       "\n",
       "            chart.xAxis.showMaxMin(false)\n",
       "                       .tickFormat(d3.format(',.1f'))\n",
       "\n",
       "            chart.yAxis.showMaxMin(false)\n",
       "                       .tickFormat(d3.format(',.1f'))\n",
       "\n",
       "            session.__functions.makeChart(session, object, chart);\n",
       "        }        \n",
       "    ;\n",
       "        "
      ]
     },
     "metadata": {},
     "output_type": "display_data"
    },
    {
     "data": {
      "text/html": [
       "<div style=\"height:500px; width:800px\">\n",
       "            <div id=\"multiBarChart-038\" class=\"with-3d-shadow with-transitions\" style=\" height:500px; width:800px\">\n",
       "                <svg></svg>\n",
       "            </div>\n",
       "            </div>"
      ]
     },
     "metadata": {},
     "output_type": "display_data"
    }
   ],
   "source": [
    "x = np.linspace(0, 4*np.pi, 10)\n",
    "mb_df = pd.DataFrame({\"X\":x, \"Sin\":np.sin(x), \"Cos\":np.cos(x), \"ArcTan\":np.arctan(x-2*np.pi)/3})\n",
    "\n",
    "mb1 = nv.multiBarChart()\n",
    "\n",
    "config = {\"height\":500, \"width\": 800, \n",
    "          \"color\": nv.c20(),\n",
    "          \"xAxis\":{\"axisLabel\":\"x\", \"tickFormat\":\",.2f\"},\n",
    "          \"yAxis\":{\"axisLabel\":\"f(x)\", \"tickFormat\":\",.2f\"}}\n",
    "\n",
    "mb1.plot(mb_df[:6], \"X\", [\"Sin\", \"Cos\", \"ArcTan\"], config)"
   ]
  },
  {
   "cell_type": "markdown",
   "metadata": {},
   "source": [
    "### b) Append values"
   ]
  },
  {
   "cell_type": "code",
   "execution_count": 71,
   "metadata": {
    "collapsed": false,
    "scrolled": false
   },
   "outputs": [],
   "source": [
    "for i in range(6,10):\n",
    "    time.sleep(0.5)\n",
    "    mb1.append(mb_df[i:i+1])"
   ]
  },
  {
   "cell_type": "markdown",
   "metadata": {},
   "source": [
    "## 5 Multi Bar Horizontal Chart"
   ]
  },
  {
   "cell_type": "markdown",
   "metadata": {},
   "source": [
    "### a) Plot"
   ]
  },
  {
   "cell_type": "code",
   "execution_count": 72,
   "metadata": {
    "collapsed": false,
    "scrolled": false
   },
   "outputs": [
    {
     "data": {
      "application/javascript": [
       "\n",
       "        window.nvd3_stat.session.__functions.multiBarHorizontalChart = function(session, object) {\n",
       "\n",
       "            var chart = nv.models.multiBarHorizontalChart()\n",
       "                .margin({bottom: 50, left: 50})\n",
       "                .stacked(false);\n",
       "                \n",
       "            chart.xAxis.showMaxMin(false)\n",
       "                       .tickFormat(d3.format(',.1f'))\n",
       "\n",
       "            chart.yAxis.showMaxMin(false)\n",
       "                       .tickFormat(d3.format(',.1f'))\n",
       "              \n",
       "           session.__functions.makeChart(session, object, chart);\n",
       "        }        \n",
       "    ;\n",
       "        "
      ]
     },
     "metadata": {},
     "output_type": "display_data"
    },
    {
     "data": {
      "text/html": [
       "<div style=\"height:500px; width:800px\">\n",
       "            <div id=\"multiBarHorizontalChart-039\" class=\"with-3d-shadow with-transitions\" style=\" height:500px; width:800px\">\n",
       "                <svg></svg>\n",
       "            </div>\n",
       "            </div>"
      ]
     },
     "metadata": {},
     "output_type": "display_data"
    }
   ],
   "source": [
    "mbh = nv.multiBarHorizontalChart()\n",
    "\n",
    "config = {\"height\":500, \"width\": 800, \"color\":nv.c20()[10:], \"stacked\":False}\n",
    "\n",
    "mbh.plot(mb_df[:6], \"X\", [\"Sin\", \"Cos\", \"ArcTan\"], config)"
   ]
  },
  {
   "cell_type": "markdown",
   "metadata": {},
   "source": [
    "### b) Append values"
   ]
  },
  {
   "cell_type": "code",
   "execution_count": 73,
   "metadata": {
    "collapsed": false
   },
   "outputs": [],
   "source": [
    "mbh.append(mb_df[6:])"
   ]
  },
  {
   "cell_type": "markdown",
   "metadata": {},
   "source": [
    "## 6 Line Plus Bar Chart"
   ]
  },
  {
   "cell_type": "markdown",
   "metadata": {},
   "source": [
    "### a) Plot"
   ]
  },
  {
   "cell_type": "code",
   "execution_count": 74,
   "metadata": {
    "collapsed": false,
    "scrolled": false
   },
   "outputs": [
    {
     "data": {
      "text/html": [
       "<div>\n",
       "<table border=\"1\" class=\"dataframe\">\n",
       "  <thead>\n",
       "    <tr style=\"text-align: right;\">\n",
       "      <th></th>\n",
       "      <th>Date</th>\n",
       "      <th>Adj_Close</th>\n",
       "      <th>Close</th>\n",
       "      <th>High</th>\n",
       "      <th>Low</th>\n",
       "      <th>Open</th>\n",
       "      <th>Symbol</th>\n",
       "      <th>Volume</th>\n",
       "      <th>Timestamp</th>\n",
       "      <th>VolumeMio</th>\n",
       "    </tr>\n",
       "  </thead>\n",
       "  <tbody>\n",
       "    <tr>\n",
       "      <th>0</th>\n",
       "      <td>2016-03-28</td>\n",
       "      <td>103.012296</td>\n",
       "      <td>105.190002</td>\n",
       "      <td>106.190002</td>\n",
       "      <td>105.059998</td>\n",
       "      <td>106.000000</td>\n",
       "      <td>AAPL</td>\n",
       "      <td>19411400.0</td>\n",
       "      <td>1459123200000</td>\n",
       "      <td>1.94114</td>\n",
       "    </tr>\n",
       "    <tr>\n",
       "      <th>1</th>\n",
       "      <td>2016-03-29</td>\n",
       "      <td>105.450744</td>\n",
       "      <td>107.680000</td>\n",
       "      <td>107.790001</td>\n",
       "      <td>104.879997</td>\n",
       "      <td>104.889999</td>\n",
       "      <td>AAPL</td>\n",
       "      <td>31190100.0</td>\n",
       "      <td>1459209600000</td>\n",
       "      <td>3.11901</td>\n",
       "    </tr>\n",
       "    <tr>\n",
       "      <th>2</th>\n",
       "      <td>2016-03-30</td>\n",
       "      <td>107.291821</td>\n",
       "      <td>109.559998</td>\n",
       "      <td>110.419998</td>\n",
       "      <td>108.599998</td>\n",
       "      <td>108.650002</td>\n",
       "      <td>AAPL</td>\n",
       "      <td>45601100.0</td>\n",
       "      <td>1459296000000</td>\n",
       "      <td>4.56011</td>\n",
       "    </tr>\n",
       "    <tr>\n",
       "      <th>3</th>\n",
       "      <td>2016-03-31</td>\n",
       "      <td>106.733621</td>\n",
       "      <td>108.989998</td>\n",
       "      <td>109.900002</td>\n",
       "      <td>108.879997</td>\n",
       "      <td>109.720001</td>\n",
       "      <td>AAPL</td>\n",
       "      <td>25888400.0</td>\n",
       "      <td>1459382400000</td>\n",
       "      <td>2.58884</td>\n",
       "    </tr>\n",
       "    <tr>\n",
       "      <th>4</th>\n",
       "      <td>2016-04-01</td>\n",
       "      <td>107.712919</td>\n",
       "      <td>109.989998</td>\n",
       "      <td>110.000000</td>\n",
       "      <td>108.199997</td>\n",
       "      <td>108.779999</td>\n",
       "      <td>AAPL</td>\n",
       "      <td>25874000.0</td>\n",
       "      <td>1459468800000</td>\n",
       "      <td>2.58740</td>\n",
       "    </tr>\n",
       "    <tr>\n",
       "      <th>5</th>\n",
       "      <td>2016-04-02</td>\n",
       "      <td>107.712919</td>\n",
       "      <td>109.989998</td>\n",
       "      <td>110.000000</td>\n",
       "      <td>108.199997</td>\n",
       "      <td>108.779999</td>\n",
       "      <td>AAPL</td>\n",
       "      <td>0.0</td>\n",
       "      <td>1459555200000</td>\n",
       "      <td>0.00000</td>\n",
       "    </tr>\n",
       "    <tr>\n",
       "      <th>6</th>\n",
       "      <td>2016-04-03</td>\n",
       "      <td>107.712919</td>\n",
       "      <td>109.989998</td>\n",
       "      <td>110.000000</td>\n",
       "      <td>108.199997</td>\n",
       "      <td>108.779999</td>\n",
       "      <td>AAPL</td>\n",
       "      <td>0.0</td>\n",
       "      <td>1459641600000</td>\n",
       "      <td>0.00000</td>\n",
       "    </tr>\n",
       "    <tr>\n",
       "      <th>7</th>\n",
       "      <td>2016-04-04</td>\n",
       "      <td>108.819530</td>\n",
       "      <td>111.120003</td>\n",
       "      <td>112.190002</td>\n",
       "      <td>110.269997</td>\n",
       "      <td>110.419998</td>\n",
       "      <td>AAPL</td>\n",
       "      <td>37356200.0</td>\n",
       "      <td>1459728000000</td>\n",
       "      <td>3.73562</td>\n",
       "    </tr>\n",
       "    <tr>\n",
       "      <th>8</th>\n",
       "      <td>2016-04-05</td>\n",
       "      <td>107.536645</td>\n",
       "      <td>109.809998</td>\n",
       "      <td>110.730003</td>\n",
       "      <td>109.419998</td>\n",
       "      <td>109.510002</td>\n",
       "      <td>AAPL</td>\n",
       "      <td>26578700.0</td>\n",
       "      <td>1459814400000</td>\n",
       "      <td>2.65787</td>\n",
       "    </tr>\n",
       "    <tr>\n",
       "      <th>9</th>\n",
       "      <td>2016-04-06</td>\n",
       "      <td>108.662839</td>\n",
       "      <td>110.959999</td>\n",
       "      <td>110.980003</td>\n",
       "      <td>109.199997</td>\n",
       "      <td>110.230003</td>\n",
       "      <td>AAPL</td>\n",
       "      <td>26404100.0</td>\n",
       "      <td>1459900800000</td>\n",
       "      <td>2.64041</td>\n",
       "    </tr>\n",
       "  </tbody>\n",
       "</table>\n",
       "</div>"
      ],
      "text/plain": [
       "        Date   Adj_Close       Close        High         Low        Open Symbol      Volume      Timestamp  VolumeMio\n",
       "0 2016-03-28  103.012296  105.190002  106.190002  105.059998  106.000000   AAPL  19411400.0  1459123200000    1.94114\n",
       "1 2016-03-29  105.450744  107.680000  107.790001  104.879997  104.889999   AAPL  31190100.0  1459209600000    3.11901\n",
       "2 2016-03-30  107.291821  109.559998  110.419998  108.599998  108.650002   AAPL  45601100.0  1459296000000    4.56011\n",
       "3 2016-03-31  106.733621  108.989998  109.900002  108.879997  109.720001   AAPL  25888400.0  1459382400000    2.58884\n",
       "4 2016-04-01  107.712919  109.989998  110.000000  108.199997  108.779999   AAPL  25874000.0  1459468800000    2.58740\n",
       "5 2016-04-02  107.712919  109.989998  110.000000  108.199997  108.779999   AAPL         0.0  1459555200000    0.00000\n",
       "6 2016-04-03  107.712919  109.989998  110.000000  108.199997  108.779999   AAPL         0.0  1459641600000    0.00000\n",
       "7 2016-04-04  108.819530  111.120003  112.190002  110.269997  110.419998   AAPL  37356200.0  1459728000000    3.73562\n",
       "8 2016-04-05  107.536645  109.809998  110.730003  109.419998  109.510002   AAPL  26578700.0  1459814400000    2.65787\n",
       "9 2016-04-06  108.662839  110.959999  110.980003  109.199997  110.230003   AAPL  26404100.0  1459900800000    2.64041"
      ]
     },
     "execution_count": 74,
     "metadata": {},
     "output_type": "execute_result"
    }
   ],
   "source": [
    "ohlcDf = downloadHistoricalStockData('AAPL', (2016,3,28), (2017,3,27))\n",
    "ohlcDf[\"VolumeMio\"] = ohlcDf[\"Volume\"] / 10000000\n",
    "ohlcDf.head(10)"
   ]
  },
  {
   "cell_type": "code",
   "execution_count": 75,
   "metadata": {
    "collapsed": false,
    "scrolled": false
   },
   "outputs": [
    {
     "data": {
      "application/javascript": [
       "\n",
       "        window.nvd3_stat.session.__functions.linePlusBarChart = function(session, object) {\n",
       "    \n",
       "            var chart = nv.models.linePlusBarChart()\n",
       "                      .margin({bottom: 50, left: 70, right:50})\n",
       "      \n",
       "            chart.xAxis.showMaxMin(false)\n",
       "                       .tickFormat(d3.format(',.1f'))\n",
       "    \n",
       "            chart.x2Axis.showMaxMin(false)\n",
       "                       .tickFormat(d3.format(',.1f'))\n",
       "    \n",
       "            chart.y1Axis.showMaxMin(false)\n",
       "                       .tickFormat(d3.format(',.1f'))\n",
       "    \n",
       "            chart.y2Axis.showMaxMin(false)\n",
       "                       .tickFormat(d3.format(',.1f'))\n",
       "            \n",
       "           session.__functions.makeChart(session, object, chart);\n",
       "        }\n",
       "    ;\n",
       "        "
      ]
     },
     "metadata": {},
     "output_type": "display_data"
    },
    {
     "data": {
      "text/html": [
       "<div style=\"height:600px; width:1200px\">\n",
       "            <div id=\"linePlusBarChart-040\" class=\"with-3d-shadow with-transitions\" style=\" height:600px; width:1200px\">\n",
       "                <svg></svg>\n",
       "            </div>\n",
       "            </div>"
      ]
     },
     "metadata": {},
     "output_type": "display_data"
    }
   ],
   "source": [
    "lpb = nv.linePlusBarChart()\n",
    "\n",
    "config={\"color\":[nv.c20()[0], nv.c20()[3]], \n",
    "        \"height\":600, \"width\":1200,\n",
    "        \"xAxis\":{\"tickFormat\":\"%d.%m.%y\"},\n",
    "        \"x2Axis\":{\"tickFormat\":\"%d.%m.%y\"},\n",
    "        \"yDomain\":[80, 145],\n",
    "        \"duration\":0, \"focusEnable\":True\n",
    "}\n",
    "\n",
    "lpb.plot(ohlcDf[0:300], \"Timestamp\", lineValue=\"Close\", barValue=\"Volume\", config=config)\n"
   ]
  },
  {
   "cell_type": "markdown",
   "metadata": {},
   "source": [
    "### b) Append"
   ]
  },
  {
   "cell_type": "code",
   "execution_count": 45,
   "metadata": {
    "collapsed": false
   },
   "outputs": [],
   "source": [
    "for i in range(301,len(ohlcDf), 5):\n",
    "    time.sleep(0.5)\n",
    "    lpb.append(ohlcDf[i:i+5])"
   ]
  },
  {
   "cell_type": "markdown",
   "metadata": {},
   "source": [
    "## 7 Pie Chart\n",
    "\n",
    "### a) Plot"
   ]
  },
  {
   "cell_type": "code",
   "execution_count": 76,
   "metadata": {
    "collapsed": false
   },
   "outputs": [
    {
     "data": {
      "application/javascript": [
       "\n",
       "        window.nvd3_stat.session.__functions.pieChart = function(session, object) {\n",
       "            var chart = nv.models.pieChart()\n",
       "                .showLabels(true)\n",
       "                .growOnHover(true)\n",
       "                .labelType('value')\n",
       "                .legendPosition('top')\n",
       "//                .showTooltipPercent(true)\n",
       "\n",
       "           session.__functions.makeChart(session, object, chart);\n",
       "        }        \n",
       "    ;\n",
       "        "
      ]
     },
     "metadata": {},
     "output_type": "display_data"
    },
    {
     "data": {
      "text/html": [
       "<div style=\"height:300px; width:260px\">\n",
       "            <div id=\"pieChart-041\" class=\"with-3d-shadow with-transitions\" style=\" height:300px; width:260px\">\n",
       "                <svg></svg>\n",
       "            </div>\n",
       "            </div>"
      ]
     },
     "metadata": {},
     "output_type": "display_data"
    }
   ],
   "source": [
    "p1 = nv.pieChart()\n",
    "p1.plot(db_df, \"Series\", \"Mean\", config={\"height\":300, \"width\":260})"
   ]
  },
  {
   "cell_type": "code",
   "execution_count": 77,
   "metadata": {
    "collapsed": false,
    "scrolled": false
   },
   "outputs": [
    {
     "data": {
      "text/html": [
       "<div style=\"height:400px; width:900px\">\n",
       "            <div id=\"pieChart-042\" class=\"with-3d-shadow with-transitions\" style=\"float:left; height:400px; width:300px\">\n",
       "                <svg></svg>\n",
       "            </div>\n",
       "            \n",
       "            <div id=\"pieChart-043\" class=\"with-3d-shadow with-transitions\" style=\"float:left; height:400px; width:300px\">\n",
       "                <svg></svg>\n",
       "            </div>\n",
       "            \n",
       "            <div id=\"pieChart-044\" class=\"with-3d-shadow with-transitions\" style=\"float:left; height:400px; width:300px\">\n",
       "                <svg></svg>\n",
       "            </div>\n",
       "            </div>"
      ]
     },
     "metadata": {},
     "output_type": "display_data"
    }
   ],
   "source": [
    "p2 = nv.pieChart()\n",
    "\n",
    "config1={\"donut\": False,                  \"color\": nv.c10(),  \"width\": 300, \"height\":400}\n",
    "config2={\"donut\": True,                   \"color\": nv.c20(),  \"width\": 300, \"height\":400}\n",
    "config3={\"donut\": True,  \"halfPie\": True, \"color\": nv.c20b(), \"width\": 300, \"height\":400}\n",
    "\n",
    "p2.hplot([p2.chart(db_df[:2], \"Series\", \"Mean\", config=config1), \n",
    "          p2.chart(db_df[:2], \"Series\", \"Mean\", config=config2), \n",
    "          p2.chart(db_df[:2], \"Series\", \"Mean\", config=config3)])\n"
   ]
  },
  {
   "cell_type": "markdown",
   "metadata": {},
   "source": [
    "### b) Append values"
   ]
  },
  {
   "cell_type": "code",
   "execution_count": 78,
   "metadata": {
    "collapsed": false,
    "scrolled": false
   },
   "outputs": [],
   "source": [
    "for chart in range(3):\n",
    "    p2.append(db_df[2:], chart=chart)"
   ]
  },
  {
   "cell_type": "markdown",
   "metadata": {},
   "source": [
    "## 8 Stacked Area Chart\n",
    "\n",
    "### a) Plot"
   ]
  },
  {
   "cell_type": "code",
   "execution_count": 79,
   "metadata": {
    "collapsed": false
   },
   "outputs": [
    {
     "data": {
      "text/html": [
       "<div>\n",
       "<table border=\"1\" class=\"dataframe\">\n",
       "  <thead>\n",
       "    <tr style=\"text-align: right;\">\n",
       "      <th></th>\n",
       "      <th>Date</th>\n",
       "      <th>Series 0</th>\n",
       "      <th>Series 1</th>\n",
       "      <th>Series 2</th>\n",
       "      <th>Series 3</th>\n",
       "      <th>Series 4</th>\n",
       "    </tr>\n",
       "  </thead>\n",
       "  <tbody>\n",
       "    <tr>\n",
       "      <th>0</th>\n",
       "      <td>1.482227e+12</td>\n",
       "      <td>106.187735</td>\n",
       "      <td>24.494277</td>\n",
       "      <td>97.247961</td>\n",
       "      <td>44.540256</td>\n",
       "      <td>56.853384</td>\n",
       "    </tr>\n",
       "    <tr>\n",
       "      <th>1</th>\n",
       "      <td>1.482314e+12</td>\n",
       "      <td>115.212605</td>\n",
       "      <td>19.856779</td>\n",
       "      <td>93.000786</td>\n",
       "      <td>41.524022</td>\n",
       "      <td>67.830162</td>\n",
       "    </tr>\n",
       "  </tbody>\n",
       "</table>\n",
       "</div>"
      ],
      "text/plain": [
       "           Date    Series 0   Series 1   Series 2   Series 3   Series 4\n",
       "0  1.482227e+12  106.187735  24.494277  97.247961  44.540256  56.853384\n",
       "1  1.482314e+12  115.212605  19.856779  93.000786  41.524022  67.830162"
      ]
     },
     "execution_count": 79,
     "metadata": {},
     "output_type": "execute_result"
    }
   ],
   "source": [
    "count = 100\n",
    "groups = 5\n",
    "\n",
    "series = []\n",
    "for i in range(groups):\n",
    "    factor = np.random.randint(5,10)\n",
    "    offset = np.random.randint(20,100)\n",
    "    series.append(randomWalk(count, 20, offset).tolist())\n",
    "\n",
    "sa_df = pd.DataFrame([lastDays(count, epoch=True)] + series).T\n",
    "sa_df.columns = [\"Date\"] + [\"Series %d\" % i  for i in range(groups)]\n",
    "sa_df.head(2)"
   ]
  },
  {
   "cell_type": "code",
   "execution_count": 80,
   "metadata": {
    "collapsed": false,
    "scrolled": false
   },
   "outputs": [
    {
     "data": {
      "application/javascript": [
       "\n",
       "        window.nvd3_stat.session.__functions.stackedAreaChart = function(session, object) {\n",
       "\n",
       "            var chart = nv.models.stackedAreaChart()\n",
       "                .useInteractiveGuideline(true)\n",
       "                .controlLabels({stacked: \"Stacked\"})\n",
       "\n",
       "            chart.xAxis.showMaxMin(false)\n",
       "                       .tickFormat(d3.format(',.1f'));\n",
       "            chart.yAxis.showMaxMin(false)\n",
       "                       .tickFormat(d3.format(',.1f'));\n",
       "\n",
       "           session.__functions.makeChart(session, object, chart);\n",
       "        }        \n",
       "    ;\n",
       "        "
      ]
     },
     "metadata": {},
     "output_type": "display_data"
    },
    {
     "data": {
      "text/html": [
       "<div style=\"height:500px; width:1024px\">\n",
       "            <div id=\"stackedAreaChart-045\" class=\"with-3d-shadow with-transitions\" style=\" height:500px; width:1024px\">\n",
       "                <svg></svg>\n",
       "            </div>\n",
       "            </div>"
      ]
     },
     "metadata": {},
     "output_type": "display_data"
    }
   ],
   "source": [
    "sa = nv.stackedAreaChart()\n",
    "\n",
    "config={\"color\": nv.c20(), \"height\":500, \"xAxis\":{\"tickFormat\":\"%d.%m.%Y\"}, \"duration\":0}\n",
    "\n",
    "sa.plot(sa_df[:80], \"Date\", [\"Series %d\" % i for i in range(groups)], config=config)"
   ]
  },
  {
   "cell_type": "markdown",
   "metadata": {},
   "source": [
    "\n",
    "### b) Append values"
   ]
  },
  {
   "cell_type": "code",
   "execution_count": 81,
   "metadata": {
    "collapsed": false
   },
   "outputs": [],
   "source": [
    "for i in range(80, 100, 2):\n",
    "    time.sleep(0.1)\n",
    "    sa.append(sa_df[i:i+2])"
   ]
  },
  {
   "cell_type": "markdown",
   "metadata": {},
   "source": [
    "## 9 Scatter Plus Line Chart\n",
    "\n",
    "### a) Plot"
   ]
  },
  {
   "cell_type": "code",
   "execution_count": 82,
   "metadata": {
    "collapsed": false
   },
   "outputs": [
    {
     "data": {
      "text/html": [
       "<div>\n",
       "<table border=\"1\" class=\"dataframe\">\n",
       "  <thead>\n",
       "    <tr style=\"text-align: right;\">\n",
       "      <th></th>\n",
       "      <th>A</th>\n",
       "      <th>B</th>\n",
       "      <th>C</th>\n",
       "      <th>D</th>\n",
       "      <th>S1</th>\n",
       "      <th>S2</th>\n",
       "    </tr>\n",
       "  </thead>\n",
       "  <tbody>\n",
       "    <tr>\n",
       "      <th>0</th>\n",
       "      <td>4.795151</td>\n",
       "      <td>2.594601</td>\n",
       "      <td>4.996279</td>\n",
       "      <td>3.429959</td>\n",
       "      <td>diamond</td>\n",
       "      <td>square</td>\n",
       "    </tr>\n",
       "    <tr>\n",
       "      <th>1</th>\n",
       "      <td>5.009756</td>\n",
       "      <td>3.850969</td>\n",
       "      <td>3.609662</td>\n",
       "      <td>2.662540</td>\n",
       "      <td>diamond</td>\n",
       "      <td>square</td>\n",
       "    </tr>\n",
       "  </tbody>\n",
       "</table>\n",
       "</div>"
      ],
      "text/plain": [
       "          A         B         C         D       S1      S2\n",
       "0  4.795151  2.594601  4.996279  3.429959  diamond  square\n",
       "1  5.009756  3.850969  3.609662  2.662540  diamond  square"
      ]
     },
     "execution_count": 82,
     "metadata": {},
     "output_type": "execute_result"
    }
   ],
   "source": [
    "spl_df = pd.DataFrame({chr(65+i): randomNormalList(40, 4, 1) for i in range(4)})\n",
    "spl_df[\"S1\"] = \"diamond\"\n",
    "spl_df[\"S2\"] = \"square\"\n",
    "spl_df.head(2)\n"
   ]
  },
  {
   "cell_type": "code",
   "execution_count": 83,
   "metadata": {
    "collapsed": false
   },
   "outputs": [
    {
     "data": {
      "application/javascript": [
       "\n",
       "        var d3_js = \"https://cdnjs.cloudflare.com/ajax/libs/d3/3.5.17/d3\";\n",
       "        var nvd3_css = \"https://cdnjs.cloudflare.com/ajax/libs/nvd3/1.8.2/nv.d3.css\";\n",
       "        var nvd3_js = \"https://cdnjs.cloudflare.com/ajax/libs/nvd3/1.8.2/nv.d3.js\";\n",
       "        var saveAsPng_js = \"https://rawgit.com/bernhard-42/saveSvgAsPng/gh-pages/saveSvgAsPng\";\n",
       "\n",
       "        var cssLoaded = function(href) {\n",
       "            var found = false;\n",
       "            for (var i in document.styleSheets) {\n",
       "                if (document.styleSheets[i].href == href ) {\n",
       "                    found = true;\n",
       "                    break;\n",
       "                }\n",
       "            }   \n",
       "            return found;\n",
       "        }\n",
       "\n",
       "        var loadCss = function(href, callback) {\n",
       "           $('<link/>', {\n",
       "                rel: 'stylesheet',\n",
       "                type: 'text/css',\n",
       "                crossOrigin: 'anonymous',\n",
       "                href: href\n",
       "            }).error(function() {\n",
       "                element.html(\"<div style='color:red'>Error: loading nv.d3.css</div>\");\n",
       "            }).load(function() {\n",
       "                if (cssLoaded(href)) {\n",
       "                    element.append(\"<div>loaded nvd3 css</div>\");\n",
       "                    loadJs();\n",
       "                }\n",
       "            }).appendTo('head');\n",
       "        }\n",
       "\n",
       "        var loadJs = function() {\n",
       "            require.config({ paths: {d3: d3_js, saveSvg: saveAsPng_js} });\n",
       "            require([\"d3\"], function(d3) {\n",
       "                window.d3 = d3;\n",
       "                element.append(\"<div>loaded d3 js \" + d3.version + \"</div>\", window.d3)\n",
       "                $.getScript(nvd3_js)\n",
       "                 .done(function( script, textStatus ) {\n",
       "                    element.append(\"<div>loaded nvd3.js \" + nv.version + \"</div>\", window.nv)\n",
       "                    require([\"saveSvg\"], function(saveSvgAsPng) {\n",
       "                        window.saveSvgAsPng = saveSvgAsPng.saveSvgAsPng\n",
       "                        window.saveSvg = saveSvgAsPng.saveSvg\n",
       "                        window.__saveSvgAsPng = saveSvgAsPng;\n",
       "                        element.append(\"<div>loaded saveSvgAsPng</div>\");\n",
       "                    })\n",
       "                 }).fail(function(jqxhr, settings, exception){\n",
       "                    element.html(\"<div style='color:red'>Error: loading nv.d3.js</div>\");\n",
       "                 })\n",
       "            });\n",
       "        }\n",
       "\n",
       "        if (cssLoaded(nvd3_css)) {\n",
       "            loadJs();\n",
       "        } else {\n",
       "            loadCss(nvd3_css, loadJs);\n",
       "        } \n",
       "    "
      ]
     },
     "metadata": {},
     "output_type": "display_data"
    }
   ],
   "source": [
    "# ScatterPlusLineChart has an issue with lines in Jupyter and Zeppelin from 1.8.3 onwards, so switch to 1.8.2\n",
    "nv.reloadNVD3(\"1.8.2\")"
   ]
  },
  {
   "cell_type": "code",
   "execution_count": 84,
   "metadata": {
    "collapsed": false
   },
   "outputs": [
    {
     "data": {
      "application/javascript": [
       "\n",
       "        window.nvd3_stat.session.__functions.scatterPlusLineChart = function(session, object) {\n",
       "\n",
       "            var chart = nv.models.scatterChart()\n",
       "                          .showDistX(true)\n",
       "                          .showDistY(true)\n",
       "\n",
       "            chart.xAxis.showMaxMin(false)\n",
       "                       .tickFormat(d3.format('.1f'));\n",
       "                       \n",
       "            chart.yAxis.showMaxMin(false)\n",
       "                       .tickFormat(d3.format('.1f'));\n",
       "          \n",
       "            chart.scatter.onlyCircles = false;\n",
       "\n",
       "            session.__functions.makeChart(session, object, chart);\n",
       "        }        \n",
       "    ;\n",
       "        "
      ]
     },
     "metadata": {},
     "output_type": "display_data"
    },
    {
     "data": {
      "text/html": [
       "<div style=\"height:400px; width:1024px\">\n",
       "            <div id=\"scatterPlusLineChart-046\" class=\"with-3d-shadow with-transitions\" style=\" height:400px; width:1024px\">\n",
       "                <svg></svg>\n",
       "            </div>\n",
       "            </div>"
      ]
     },
     "metadata": {},
     "output_type": "display_data"
    }
   ],
   "source": [
    "spl1 = nv.scatterPlusLineChart()\n",
    "\n",
    "config = {\"color\":nv.c10(), \n",
    "          \"xDomain\":[0, 8], \"xAxis\":{\"axisLabel\":\"A: squares,  C: diamonds\"},\n",
    "          \"yDomain\":[0, 8]}\n",
    "\n",
    "data = spl1.plot(spl_df[:30], keys=[\"A\", \"C\"], values=[\"B\", \"D\"], pointAttributes={\"shapes\":[\"S1\", \"S2\"]},\n",
    "                 lines=[{\"slope\":1.0, \"intercept\":-1.0}, {\"slope\":-0.6, \"intercept\":6.0}], config=config)"
   ]
  },
  {
   "cell_type": "markdown",
   "metadata": {},
   "source": [
    "### b) Append"
   ]
  },
  {
   "cell_type": "code",
   "execution_count": 85,
   "metadata": {
    "collapsed": false
   },
   "outputs": [],
   "source": [
    "for i in range(30,40):\n",
    "    time.sleep(0.5)\n",
    "    spl1.append(spl_df[i:i+1], \n",
    "                lines=[{\"slope\":30.0/i, \"intercept\":-1.0}, {\"slope\":-20.0/i, \"intercept\":6.0}])"
   ]
  },
  {
   "cell_type": "markdown",
   "metadata": {},
   "source": [
    "### c) Example"
   ]
  },
  {
   "cell_type": "code",
   "execution_count": 86,
   "metadata": {
    "collapsed": false,
    "scrolled": false
   },
   "outputs": [],
   "source": [
    "from sklearn import linear_model\n",
    "\n",
    "setosa     = iris[iris.Name == \"Iris-setosa\"]\n",
    "versicolor = iris[iris.Name == \"Iris-versicolor\"]\n",
    "virginica  = iris[iris.Name == \"Iris-virginica\"]\n",
    "\n",
    "def linReg(x,y):\n",
    "    regr = linear_model.LinearRegression()\n",
    "    regr.fit(x,y)\n",
    "    return (regr.coef_.item(0), regr.intercept_.item(0))\n",
    "    \n",
    "def prepare(df, name):\n",
    "    sepal = df.loc[:,[\"SepalLength\", \"SepalWidth\"]]\n",
    "    sepal.columns = [\"X\", name]\n",
    "    sepal[\"Shape\"] = \"diamond\"\n",
    "    petal = df.loc[:,[\"PetalLength\", \"PetalWidth\"]]\n",
    "    petal.columns = [\"X\", name]\n",
    "    petal[\"Shape\"] = \"square\"\n",
    "    \n",
    "    df = pd.concat([sepal, petal])\n",
    "    x = df[\"X\"].values.reshape(df.shape[0], 1)\n",
    "    y = df[name].values.reshape(df.shape[0], 1)\n",
    "    slope, intercept = linReg(x,y)\n",
    "\n",
    "    df[\"Size\"] = 2\n",
    "    df = df.groupby([\"Shape\", \"X\", name]).sum().reset_index()\n",
    "    return (df, slope, intercept)\n",
    "\n",
    "setosaDf,     setosaSlope,     setosaIntercept     = prepare(setosa,     \"Setosa\")\n",
    "virginicaDf,  virginicaSlope,  virginicaIntercept  = prepare(virginica,  \"Virginica\")\n",
    "versicolorDf, versicolorSlope, versicolorIntercept = prepare(versicolor, \"Versicolor\")\n"
   ]
  },
  {
   "cell_type": "code",
   "execution_count": 87,
   "metadata": {
    "collapsed": false,
    "scrolled": false
   },
   "outputs": [
    {
     "data": {
      "text/html": [
       "<div style=\"height:700px; width:1024px\">\n",
       "            <div id=\"scatterPlusLineChart-047\" class=\"with-3d-shadow with-transitions\" style=\" height:700px; width:1024px\">\n",
       "                <svg></svg>\n",
       "            </div>\n",
       "            </div>"
      ]
     },
     "metadata": {},
     "output_type": "display_data"
    }
   ],
   "source": [
    "spl2 = nv.scatterPlusLineChart()\n",
    "\n",
    "config = {\"height\":700, #\"xDomain\":[0,8], \"yDomain\":[0,4.5],\n",
    "          \"xAxis\":{\"axisLabel\":\"Length (sepal=diamond, petal=square)\"}, \"yAxis\":{\"axisLabel\":\"Width (sepal=diamond, petal=square)\"}\n",
    "}\n",
    "\n",
    "spl2.addScatter(setosaDf,     \"X\", \"Setosa\",     lines={\"slope\":setosaSlope, \"intercept\":setosaIntercept}, \n",
    "                                                 pointAttributes={\"shapes\":\"Shape\", \"sizes\":\"Size\"})\n",
    "spl2.addScatter(virginicaDf,  \"X\", \"Virginica\",  lines={\"slope\":virginicaSlope, \"intercept\":virginicaIntercept}, \n",
    "                                                 pointAttributes={\"shapes\":\"Shape\", \"sizes\":\"Size\"})\n",
    "spl2.addScatter(versicolorDf, \"X\", \"Versicolor\", lines={\"slope\":versicolorSlope, \"intercept\":versicolorIntercept}, \n",
    "                                                 pointAttributes={\"shapes\":\"Shape\", \"sizes\":\"Size\"})\n",
    "\n",
    "spl2.plot(config=config)\n",
    "                "
   ]
  },
  {
   "cell_type": "code",
   "execution_count": 89,
   "metadata": {
    "collapsed": false
   },
   "outputs": [
    {
     "data": {
      "application/javascript": [
       "\n",
       "        var d3_js = \"https://cdnjs.cloudflare.com/ajax/libs/d3/3.5.17/d3\";\n",
       "        var nvd3_css = \"https://cdnjs.cloudflare.com/ajax/libs/nvd3/1.8.5/nv.d3.css\";\n",
       "        var nvd3_js = \"https://cdnjs.cloudflare.com/ajax/libs/nvd3/1.8.5/nv.d3.js\";\n",
       "        var saveAsPng_js = \"https://rawgit.com/bernhard-42/saveSvgAsPng/gh-pages/saveSvgAsPng\";\n",
       "\n",
       "        var cssLoaded = function(href) {\n",
       "            var found = false;\n",
       "            for (var i in document.styleSheets) {\n",
       "                if (document.styleSheets[i].href == href ) {\n",
       "                    found = true;\n",
       "                    break;\n",
       "                }\n",
       "            }   \n",
       "            return found;\n",
       "        }\n",
       "\n",
       "        var loadCss = function(href, callback) {\n",
       "           $('<link/>', {\n",
       "                rel: 'stylesheet',\n",
       "                type: 'text/css',\n",
       "                crossOrigin: 'anonymous',\n",
       "                href: href\n",
       "            }).error(function() {\n",
       "                element.html(\"<div style='color:red'>Error: loading nv.d3.css</div>\");\n",
       "            }).load(function() {\n",
       "                if (cssLoaded(href)) {\n",
       "                    element.append(\"<div>loaded nvd3 css</div>\");\n",
       "                    loadJs();\n",
       "                }\n",
       "            }).appendTo('head');\n",
       "        }\n",
       "\n",
       "        var loadJs = function() {\n",
       "            require.config({ paths: {d3: d3_js, saveSvg: saveAsPng_js} });\n",
       "            require([\"d3\"], function(d3) {\n",
       "                window.d3 = d3;\n",
       "                element.append(\"<div>loaded d3 js \" + d3.version + \"</div>\", window.d3)\n",
       "                $.getScript(nvd3_js)\n",
       "                 .done(function( script, textStatus ) {\n",
       "                    element.append(\"<div>loaded nvd3.js \" + nv.version + \"</div>\", window.nv)\n",
       "                    require([\"saveSvg\"], function(saveSvgAsPng) {\n",
       "                        window.saveSvgAsPng = saveSvgAsPng.saveSvgAsPng\n",
       "                        window.saveSvg = saveSvgAsPng.saveSvg\n",
       "                        window.__saveSvgAsPng = saveSvgAsPng;\n",
       "                        element.append(\"<div>loaded saveSvgAsPng</div>\");\n",
       "                    })\n",
       "                 }).fail(function(jqxhr, settings, exception){\n",
       "                    element.html(\"<div style='color:red'>Error: loading nv.d3.js</div>\");\n",
       "                 })\n",
       "            });\n",
       "        }\n",
       "\n",
       "        if (cssLoaded(nvd3_css)) {\n",
       "            loadJs();\n",
       "        } else {\n",
       "            loadCss(nvd3_css, loadJs);\n",
       "        } \n",
       "    "
      ]
     },
     "metadata": {},
     "output_type": "display_data"
    }
   ],
   "source": [
    "# Switch back to 1.8.5\n",
    "nv.reloadNVD3(\"1.8.5\")"
   ]
  },
  {
   "cell_type": "markdown",
   "metadata": {},
   "source": [
    "## 10 Parallel Coordinates Plot"
   ]
  },
  {
   "cell_type": "code",
   "execution_count": 88,
   "metadata": {
    "collapsed": false,
    "scrolled": false
   },
   "outputs": [
    {
     "data": {
      "text/html": [
       "<div>\n",
       "<table border=\"1\" class=\"dataframe\">\n",
       "  <thead>\n",
       "    <tr style=\"text-align: right;\">\n",
       "      <th></th>\n",
       "      <th>SepalLength</th>\n",
       "      <th>SepalWidth</th>\n",
       "      <th>PetalLength</th>\n",
       "      <th>PetalWidth</th>\n",
       "      <th>Name</th>\n",
       "      <th>color</th>\n",
       "      <th>strokeWidth</th>\n",
       "    </tr>\n",
       "  </thead>\n",
       "  <tbody>\n",
       "    <tr>\n",
       "      <th>0</th>\n",
       "      <td>5.1</td>\n",
       "      <td>3.5</td>\n",
       "      <td>1.4</td>\n",
       "      <td>0.2</td>\n",
       "      <td>Iris-setosa</td>\n",
       "      <td>#1f77b4</td>\n",
       "      <td>0.5</td>\n",
       "    </tr>\n",
       "    <tr>\n",
       "      <th>1</th>\n",
       "      <td>4.9</td>\n",
       "      <td>3.0</td>\n",
       "      <td>1.4</td>\n",
       "      <td>0.2</td>\n",
       "      <td>Iris-setosa</td>\n",
       "      <td>#1f77b4</td>\n",
       "      <td>0.5</td>\n",
       "    </tr>\n",
       "    <tr>\n",
       "      <th>2</th>\n",
       "      <td>4.7</td>\n",
       "      <td>3.2</td>\n",
       "      <td>1.3</td>\n",
       "      <td>0.2</td>\n",
       "      <td>Iris-setosa</td>\n",
       "      <td>#1f77b4</td>\n",
       "      <td>0.5</td>\n",
       "    </tr>\n",
       "    <tr>\n",
       "      <th>3</th>\n",
       "      <td>4.6</td>\n",
       "      <td>3.1</td>\n",
       "      <td>1.5</td>\n",
       "      <td>0.2</td>\n",
       "      <td>Iris-setosa</td>\n",
       "      <td>#1f77b4</td>\n",
       "      <td>0.5</td>\n",
       "    </tr>\n",
       "    <tr>\n",
       "      <th>4</th>\n",
       "      <td>5.0</td>\n",
       "      <td>3.6</td>\n",
       "      <td>1.4</td>\n",
       "      <td>0.2</td>\n",
       "      <td>Iris-setosa</td>\n",
       "      <td>#1f77b4</td>\n",
       "      <td>0.5</td>\n",
       "    </tr>\n",
       "  </tbody>\n",
       "</table>\n",
       "</div>"
      ],
      "text/plain": [
       "   SepalLength  SepalWidth  PetalLength  PetalWidth         Name    color  strokeWidth\n",
       "0          5.1         3.5          1.4         0.2  Iris-setosa  #1f77b4          0.5\n",
       "1          4.9         3.0          1.4         0.2  Iris-setosa  #1f77b4          0.5\n",
       "2          4.7         3.2          1.3         0.2  Iris-setosa  #1f77b4          0.5\n",
       "3          4.6         3.1          1.5         0.2  Iris-setosa  #1f77b4          0.5\n",
       "4          5.0         3.6          1.4         0.2  Iris-setosa  #1f77b4          0.5"
      ]
     },
     "execution_count": 88,
     "metadata": {},
     "output_type": "execute_result"
    }
   ],
   "source": [
    "iris.loc[iris.Name==\"Iris-setosa\",     \"color\"] = nv.c10()[0]\n",
    "iris.loc[iris.Name==\"Iris-versicolor\", \"color\"] = nv.c10()[1]\n",
    "iris.loc[iris.Name==\"Iris-virginica\",  \"color\"] = nv.c10()[2]\n",
    "iris[\"strokeWidth\"] = 0.5\n",
    "iris.head()\n"
   ]
  },
  {
   "cell_type": "code",
   "execution_count": 90,
   "metadata": {
    "collapsed": false,
    "scrolled": false
   },
   "outputs": [
    {
     "data": {
      "application/javascript": [
       "\n",
       "        window.nvd3_stat.session.__functions.parallelCoordinatesChart = function(session, object) {\n",
       "            for(var i in object.data.dim) {\n",
       "                object.data.dim[i].format = d3.format(object.data.dim[i].format)\n",
       "            }\n",
       "\n",
       "            var chart = nv.models.parallelCoordinatesChart()\n",
       "                    .dimensionData(object.data.dim)\n",
       "                    .displayBrush(true)\n",
       "                    .lineTension(0.85);\n",
       "\n",
       "            session.__functions.makeChart(session, object, chart);\n",
       "        }\n",
       "    ;\n",
       "        "
      ]
     },
     "metadata": {},
     "output_type": "display_data"
    },
    {
     "data": {
      "text/html": [
       "<div style=\"height:600px; width:1024px\">\n",
       "            <div id=\"parallelCoordinatesChart-048\" class=\"with-3d-shadow with-transitions\" style=\" height:600px; width:1024px\">\n",
       "                <svg></svg>\n",
       "            </div>\n",
       "            </div>"
      ]
     },
     "metadata": {},
     "output_type": "display_data"
    }
   ],
   "source": [
    "pc = nv.parallelCoordinatesChart()\n",
    "\n",
    "config = {\"height\": 600}\n",
    "\n",
    "pc.plot(iris, 'Name', ['SepalWidth', 'SepalLength', 'PetalWidth', 'PetalLength'],\n",
    "        lineAttributes=[\"color\", \"strokeWidth\"], \n",
    "        dimAttributes= {\"format\": [\",.1f\", \",.1f\", \",.1f\", \",.1f\"]},\n",
    "        config=config)"
   ]
  },
  {
   "cell_type": "markdown",
   "metadata": {},
   "source": [
    "## 11 Historical Bar Chart"
   ]
  },
  {
   "cell_type": "code",
   "execution_count": null,
   "metadata": {
    "collapsed": false,
    "scrolled": false
   },
   "outputs": [],
   "source": [
    "hb = nv.historicalBarChart()\n",
    "\n",
    "config = {\"color\":nv.c20()[4:],\n",
    "          \"xAxis\":{\"axisLabel\":\"Date (d.m.y)\"},\n",
    "          \"yAxis\":{\"axisLabel\":\"Volume (Mio)\", \"tickFormat\":\",.2f\"}}\n",
    "\n",
    "hb.plot(ohlcDf, \"Timestamp\", \"VolumeMio\",config=config)"
   ]
  },
  {
   "cell_type": "markdown",
   "metadata": {},
   "source": [
    "## 12 Candlestick Chart"
   ]
  },
  {
   "cell_type": "code",
   "execution_count": null,
   "metadata": {
    "collapsed": false,
    "scrolled": false
   },
   "outputs": [],
   "source": [
    "cs = nv.candlestickBarChart()\n",
    "\n",
    "config = {\"color\":nv.c10(), \"yDomain\":[114,145], \"width\":1400, \"height\":800,\n",
    "          \"xAxis\":{\"tickFormat\":\"%d/%m/%Y\", \"axisLabel\":\"Date (d/m/y)\"},\n",
    "          \"yAxis\":{\"axisLabel\":\"Close (USD)\"}}\n",
    "\n",
    "ohlcAttribs = {\"open\":\"Open\" ,\"high\":\"High\" ,\"low\":\"Low\" ,\"volume\":\"Volume\" ,\"adjusted\":\"Adj_Close\"}\n",
    "\n",
    "cs.plot(ohlcDf[-80:], \"Timestamp\", \"Close\", ohlcAttribs, config=config)"
   ]
  },
  {
   "cell_type": "markdown",
   "metadata": {},
   "source": [
    "## 13 OHLC Chart"
   ]
  },
  {
   "cell_type": "code",
   "execution_count": null,
   "metadata": {
    "collapsed": false,
    "scrolled": false
   },
   "outputs": [],
   "source": [
    "ohlc = nv.ohlcBarChart()\n",
    "\n",
    "config = {\"color\":nv.c10(), \"yDomain\":[114,145], \"width\":1400, \"height\":800,\n",
    "          \"xAxis\":{\"tickFormat\":\"%d/%m/%Y\", \"axisLabel\":\"Date (d/m/y)\"},\n",
    "          \"yAxis\":{\"axisLabel\":\"Close (USD)\"}}\n",
    "\n",
    "ohlcAttribs = {\"open\":\"Open\" ,\"high\":\"High\" ,\"low\":\"Low\" ,\"volume\":\"Volume\" ,\"adjusted\":\"Adj_Close\"}\n",
    "\n",
    "ohlc.plot(ohlcDf[-90:], \"Timestamp\", \"Close\", ohlcAttribs, config=config)"
   ]
  },
  {
   "cell_type": "markdown",
   "metadata": {},
   "source": [
    "## 14 Bullet Chart"
   ]
  },
  {
   "cell_type": "code",
   "execution_count": null,
   "metadata": {
    "collapsed": false
   },
   "outputs": [],
   "source": [
    "def getData(title, actual, previous):\n",
    "    return {\"title\":title, \"subtitle\":\"out of 5\",\n",
    "            \"ranges\":{'Bad':3.5, 'OK':4.25, 'Good':5},\n",
    "            \"measure\":{'Current':actual},\n",
    "            \"markers\":{'Previous':previous},\n",
    "            \"markerLines\":{'Threshold':3.0, 'Target':4.4}}\n",
    "                \n",
    "b1 = nv.bulletChart()\n",
    "\n",
    "config = {\"height\":60, \"width\":600}\n",
    "\n",
    "b1.vplot([b1.chart(config=config, **getData(\"Satisfaction\", 3.9, 3.8)),\n",
    "          b1.chart(config=config, **getData(\"Satisfaction\", 4.3, 3.8))])\n"
   ]
  },
  {
   "cell_type": "code",
   "execution_count": null,
   "metadata": {
    "collapsed": true
   },
   "outputs": [],
   "source": []
  },
  {
   "cell_type": "code",
   "execution_count": null,
   "metadata": {
    "collapsed": true
   },
   "outputs": [],
   "source": []
  }
 ],
 "metadata": {
  "anaconda-cloud": {},
  "kernelspec": {
   "display_name": "Python 3",
   "language": "python",
   "name": "python3"
  },
  "language_info": {
   "codemirror_mode": {
    "name": "ipython",
    "version": 3
   },
   "file_extension": ".py",
   "mimetype": "text/x-python",
   "name": "python",
   "nbconvert_exporter": "python",
   "pygments_lexer": "ipython3",
   "version": "3.5.2"
  }
 },
 "nbformat": 4,
 "nbformat_minor": 2
}
