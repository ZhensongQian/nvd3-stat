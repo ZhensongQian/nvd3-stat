{
 "cells": [
  {
   "cell_type": "markdown",
   "metadata": {},
   "source": [
    "## Prepare"
   ]
  },
  {
   "cell_type": "code",
   "execution_count": 1,
   "metadata": {
    "collapsed": false
   },
   "outputs": [
    {
     "data": {
      "text/plain": [
       "'3.5.2 |Anaconda 4.3.1 (x86_64)| (default, Jul  2 2016, 17:52:12) '"
      ]
     },
     "execution_count": 1,
     "metadata": {},
     "output_type": "execute_result"
    }
   ],
   "source": [
    "import time\n",
    "import sys\n",
    "sys.version.split(\"\\n\")[0]"
   ]
  },
  {
   "cell_type": "code",
   "execution_count": 2,
   "metadata": {
    "collapsed": false
   },
   "outputs": [
    {
     "data": {
      "text/html": [
       "<style>.container { width:95% !important; }</style>"
      ]
     },
     "metadata": {},
     "output_type": "display_data"
    }
   ],
   "source": [
    "from IPython.display import HTML, display_html, Javascript, display_javascript\n",
    "\n",
    "display_html(HTML(\"<style>.container { width:95% !important; }</style>\"))\n",
    "\n",
    "def display(html, style=None):\n",
    "    if isinstance(html, (tuple, list)):\n",
    "        html = \"\".join([\"\"\"<div style=\"display:inline; margin-left:%dpx\">%s</div>\"\"\" % (el[1], el[0]) for el in html])\n",
    "    if style is not None:\n",
    "        html = \"<%s>%s</%s>\" % (style, html, style)\n",
    "    display_html(HTML(html))"
   ]
  },
  {
   "cell_type": "markdown",
   "metadata": {},
   "source": [
    "## Load NVD3"
   ]
  },
  {
   "cell_type": "code",
   "execution_count": 3,
   "metadata": {
    "collapsed": false,
    "scrolled": false
   },
   "outputs": [
    {
     "data": {
      "application/javascript": [
       "\n",
       "            window.nvd3_stat = { \n",
       "                session: { \n",
       "                    __functions:{ charts: {} }, \n",
       "                    __cache:    { charts: {} } \n",
       "                } \n",
       "            };\n",
       "\n",
       "            // after refresh window wait for max 5 seconds until Jupyter notebook is initialized\n",
       "\n",
       "            var counter = 0;\n",
       "            var timer = setInterval(function(){\n",
       "                if (typeof Jupyter != \"undefined\" && \n",
       "                    typeof Jupyter.notebook != \"unfdefined\" && \n",
       "                    typeof Jupyter.notebook.kernel != \"undefined\" && \n",
       "                    Jupyter.notebook.kernel.is_connected() &&                    \n",
       "                    typeof Jupyter.notebook.kernel.comm_manager != \"undefined\") {\n",
       "\n",
       "                    console.log(\"NVD3-Stat [INFO] registering Jupyter comms target\");\n",
       "                    Jupyter.notebook.kernel.comm_manager.register_target(\"nvd3_stat\", \n",
       "                        function(comm, msg) {\n",
       "                            if (window.__nvd3_stat_debug > 1) {\n",
       "                                console.log(\"NVD3-Stat [DEBUG] Comm for nvd3_stat opened\");\n",
       "                            }\n",
       "\n",
       "                            comm.on_msg(function(msg) {\n",
       "                                var funcName = msg.content.data.funcName;\n",
       "                                var plotId = msg.content.data.args.plotId;\n",
       "                                var args = msg.content.data.args;\n",
       "                                if (window.__nvd3_stat_debug > 1) {\n",
       "                                    console.log(\"NVD3-Stat [DEBUG]\", funcName, args)\n",
       "                                }\n",
       "                                window.nvd3_stat.session.__functions.charts[plotId](window.nvd3_stat.session, args);\n",
       "                            });\n",
       "\n",
       "                            comm.on_close(function(msg) {\n",
       "                                console.log(\"NVD3-Stat [INFO] comm for nvd3_stat closed \", msg);         \n",
       "                            });    \n",
       "                        }    \n",
       "                    )\n",
       "\n",
       "                    clearInterval(timer)\n",
       "                } else {\n",
       "                    counter++;\n",
       "                    if (counter === 50) {\n",
       "                        console.log(\"Registering comms target failed\")\n",
       "                        clearInterval(timer)            \n",
       "                    }\n",
       "                }\n",
       "            }, 100)\n",
       "        "
      ]
     },
     "metadata": {},
     "output_type": "display_data"
    },
    {
     "data": {
      "text/html": [
       "\n",
       "            <style>\n",
       "                div.output_area img, div.output_area svg {\n",
       "                    max-width: 100%;\n",
       "                    height: 100%;\n",
       "                }\n",
       "            </style>\n",
       "        "
      ]
     },
     "metadata": {},
     "output_type": "display_data"
    },
    {
     "data": {
      "application/javascript": [
       "\n",
       "        window.nvd3_stat.session.__functions.makeChart = function(session, object, chart) {\n",
       "\n",
       "    //\n",
       "    // Generic Logger\n",
       "    //\n",
       "\n",
       "    var Logger = function(name) {\n",
       "        this.name = name;\n",
       "    }\n",
       "    Logger.prototype.info = function(msg) {\n",
       "        if (window.__nvd3_stat_debug > 0) {\n",
       "            console.info(this.name + \" [INFO] \" + msg)\n",
       "        }\n",
       "    }\n",
       "    Logger.prototype.debug = function(msg, obj) {\n",
       "        if (window.__nvd3_stat_debug > 1) {\n",
       "            if (typeof(obj) === \"undefined\") {\n",
       "                console.log(this.name + \" [DEBUG] \" + msg)\n",
       "            } else {\n",
       "                console.log(this.name + \" [DEBUG] \" + msg, obj)\n",
       "            }\n",
       "        }\n",
       "    }\n",
       "\n",
       "    //\n",
       "    // Determine type of data provided\n",
       "    //\n",
       "\n",
       "    var identifyData = function(data) {\n",
       "        if ((typeof(data[0].values) != \"undefined\") && (typeof(data[0].key) != \"undefined\")) {\n",
       "            return \"kv\"\n",
       "        } else if ((typeof(data[0].x) != \"undefined\") && (typeof(data[0].y) != \"undefined\")) {\n",
       "            return \"xy\"\n",
       "        } else {\n",
       "            console.error('Unknown data type')\n",
       "        }\n",
       "    }\n",
       "\n",
       "    //\n",
       "    // Apply configurations provided to chart\n",
       "    //\n",
       "\n",
       "    var configure = function(chartModel, config) {\n",
       "        for (var c in config) {\n",
       "            if (c == \"margin\" || c == \"arcRadius\") {\n",
       "                chart[c](config[c]);                \n",
       "            } else if ((typeof(config[c]) === \"object\") && ! Array.isArray(config[c])) {       // sub config, 1 level\n",
       "                for (var c2 in config[c]) {\n",
       "                    if (c2 == \"tickFormat\") {\n",
       "                        var format = config[c][c2];\n",
       "                        if (format[0] == \"%\") {\n",
       "                            chart[c][c2](function(d) { return d3.time.format(format)(new Date(d)) });\n",
       "                        } else {\n",
       "                            chart[c][c2](d3.format(format));\n",
       "                        }\n",
       "                    } else {\n",
       "                        chart[c][c2](config[c][c2]);\n",
       "                    }\n",
       "                }\n",
       "            } else {                                                                     // direct config\n",
       "                if (c === \"halfPie\" && config[c]) {\n",
       "                    chart.pie.startAngle(function(d) { return d.startAngle/2 - Math.PI/2 })\n",
       "                             .endAngle(function(d)   { return d.endAngle/2   - Math.PI/2 });\n",
       "                } else {\n",
       "                    chart[c](config[c]);\n",
       "                }\n",
       "            }\n",
       "        }\n",
       "        return chart;\n",
       "    }\n",
       "\n",
       "    //\n",
       "    // Initialization\n",
       "    //\n",
       "\n",
       "    var logger = new Logger(\"NVD3-Stat\");\n",
       "    \n",
       "    logger.debug(\"makeChart called\");\n",
       "\n",
       "    d3.selectAll('.nvtooltip').style('opacity', '0');  // remove all \"zombie\" tooltips\n",
       "\n",
       "    nv.utils.windowResize = function(chart) { console.info(\"windowResize not supported\") } // avoid d3 translate(Nan,5) errors\n",
       "    var duration = 350;\n",
       "\n",
       "    var cache = session.__cache.charts;\n",
       "    \n",
       "    if (object.event == \"plot\") {\n",
       "\n",
       "        //\n",
       "        // Plotting data\n",
       "        //\n",
       "\n",
       "        logger.debug(\"plot \" + object.plotId, object.data)\n",
       "\n",
       "        var data = object.data.data;\n",
       "        var config = object.data.config;\n",
       "        var duration = 200;\n",
       "        if (typeof config.duration != \"undefined\") {\n",
       "            duration = config.duration\n",
       "        }\n",
       "\n",
       "        var divId = \"#\" + object.plotId + \" svg\";\n",
       "        cache[object.plotId] = {\"data\": data, \"config\": config};\n",
       "\n",
       "        nv.addGraph(function() {\n",
       "            try {\n",
       "                chart = configure(chart, config);\n",
       "                chartData = d3.select(divId).datum(JSON.parse(JSON.stringify(data)));\n",
       "                if (duration == 0) {\n",
       "                    chartData.call(chart);\n",
       "                } else {\n",
       "                    chartData.transition().duration(duration).call(chart);\n",
       "                }\n",
       "            } catch(err) {\n",
       "                console.error(err.message);\n",
       "            }\n",
       "\n",
       "            \n",
       "            cache[object.plotId].chart = chart;\n",
       "            cache[object.plotId].chartData = chartData;\n",
       "\n",
       "            return chart;\n",
       "        })\n",
       "\n",
       "                           \n",
       "    } else if (object.event == \"append\") {\n",
       "\n",
       "        //\n",
       "        // Append data\n",
       "        //\n",
       "\n",
       "        var newData = JSON.parse(JSON.stringify(object.data));  // clone data\n",
       "\n",
       "        var data = cache[object.plotId].data;\n",
       "        var config = cache[object.plotId].config;\n",
       "\n",
       "        var _append = function(dataType, dold, dnew) {\n",
       "            if (dataType == \"kv\") {\n",
       "                dold.values = dold.values.concat(dnew.values);\n",
       "                for (var attr in dnew) {\n",
       "                    if (attr !== \"key\" && attr !== \"values\") {\n",
       "                        dold[attr] = dnew[attr];\n",
       "                    }\n",
       "                }\n",
       "            } else {\n",
       "                dold = dold.concat(dnew);\n",
       "            }\n",
       "            return dold\n",
       "        }\n",
       "        \n",
       "        var dataType = identifyData(data);\n",
       "        if (dataType == \"kv\") {\n",
       "            for (var i in data) {\n",
       "                data[i] = _append(\"kv\", data[i], newData[i])\n",
       "            }\n",
       "        } else if (dataType == \"xy\") {\n",
       "            data = _append(dataType, data, newData)\n",
       "        } else {\n",
       "            console.error(\"Unknown data type\");\n",
       "        }\n",
       "        \n",
       "        var chart = cache[object.plotId].chart;\n",
       "        var chartData = cache[object.plotId].chartData;\n",
       "        logger.debug(\"append: \" + chart.container.parentNode.id, newData)\n",
       "        \n",
       "        chartData.datum(data).transition().duration(duration).call(chart);\n",
       "\n",
       "    } else if (object.event == \"saveAsPng\") {\n",
       "\n",
       "        //\n",
       "        // Save plot and download as PNG\n",
       "        //\n",
       "\n",
       "        logger.debug(\"Save \" + object.plotId + \" as PNG\")\n",
       "        window.saveSvgAsPng(document.getElementById(object.plotId).children[0], object.data.filename + \".png\", {backgroundColor: object.data.backgroundColor});\n",
       "\n",
       "    } else if (object.event == \"replace\") {\n",
       "\n",
       "        //\n",
       "        // Replace data (CURRENTLY UNUSED AND ONLY slightly tested)\n",
       "        //\n",
       "\n",
       "        var data = JSON.parse(JSON.stringify(object.data));  // clone data\n",
       "\n",
       "\n",
       "        cache[object.plotId].data = data;\n",
       "        var chart = cache[object.plotId].chart;\n",
       "        var chartData = cache[object.plotId].chartData;\n",
       "        console.log(\"replace: \" + chart.container.parentNode.id)\n",
       "\n",
       "        chartData.datum(data).transition().duration(duration).call(chart);\n",
       "\n",
       "    } else if (object.event == \"update\") {\n",
       "\n",
       "        //\n",
       "        // Updqate data (CURRENTLY UNUSED AND ONLY slightly tested)\n",
       "        //\n",
       "\n",
       "        var changedData = JSON.parse(JSON.stringify(object.data.changedData));  // clone data\n",
       "        var rowIndices = object.data.rowIndices;\n",
       "        \n",
       "        var data = cache[object.plotId].data;\n",
       "        \n",
       "        var _update = function(dold, dnew, rowIndices) {\n",
       "            for (var i in rowIndices) {\n",
       "                dold.values[rowIndices[i]] = dnew.values[i];\n",
       "            }\n",
       "            for (attr in dnew) {\n",
       "                if (attr !== \"key\" && attr !== \"values\") {\n",
       "                    dold[attr] = dnew[attr];\n",
       "                }\n",
       "            }\n",
       "        }\n",
       "\n",
       "        if (data instanceof Array && changedData instanceof Array) {\n",
       "            for (i in data) { _update(data[i], changedData[i], rowIndices) }\n",
       "        } else {\n",
       "            _update(data, changedData, rowIndices)\n",
       "        }\n",
       "        \n",
       "        var chart = cache[object.plotId].chart;\n",
       "        var chartData = cache[object.plotId].chartData;\n",
       "        logger.debug(\"update: \" + chart.container.parentNode.id, changedData)\n",
       "\n",
       "        chartData.datum(data).transition().duration(duration).call(chart);\n",
       "        \n",
       "    } else if (object.event == \"delete\") {\n",
       "\n",
       "        //\n",
       "        // Delete data (CURRENTLY UNUSED AND ONLY slightly tested)\n",
       "        //\n",
       "\n",
       "        var sortedIndices = object.data.rowIndices;\n",
       "\n",
       "        var data = cache[object.plotId].data;\n",
       "\n",
       "        var _delete = function(dold, rowIndices) {\n",
       "            for (var i in sortedIndices) {\n",
       "                dold.values.splice(sortedIndices[i], 1);\n",
       "            }\n",
       "        }\n",
       "\n",
       "        if (data instanceof Array) {\n",
       "            for (var i in data) { _delete(data[i], sortedIndices) }\n",
       "        } else {\n",
       "            _delete(data, sortedIndices)\n",
       "        }\n",
       "        \n",
       "        var chart = cache[object.plotId].chart;\n",
       "        var chartData = cache[object.plotId].chartData;\n",
       "        logger.debug(\"delete: \" + chart.container.parentNode.id, sortedIndices)\n",
       "\n",
       "        chartData.datum(data).transition().duration(duration).call(chart);\n",
       "        chart.update()\n",
       "    }\n",
       "};\n",
       "        "
      ]
     },
     "metadata": {},
     "output_type": "display_data"
    },
    {
     "data": {
      "application/javascript": [
       "\n",
       "        if(typeof(window.__nvd3_stat_debug) == \"undefined\") {\n",
       "            window.__nvd3_stat_debug = 0;  // no debug output\n",
       "        }\n",
       "        console.info(\"nvd3_stat is initialized\");\n",
       "        "
      ]
     },
     "metadata": {},
     "output_type": "display_data"
    }
   ],
   "source": [
    "from nvd3_stat import Nvd3\n",
    "nv = Nvd3()"
   ]
  },
  {
   "cell_type": "code",
   "execution_count": 4,
   "metadata": {
    "collapsed": false,
    "scrolled": false
   },
   "outputs": [
    {
     "data": {
      "application/javascript": [
       "\n",
       "        window.nvd3_stat.promise = new Promise(function(resolve, reject) {\n",
       "            var d3_js = \"https://cdnjs.cloudflare.com/ajax/libs/d3/3.5.17/d3.min\";  // has to be min: https://github.com/novus/nvd3/issues/1520\n",
       "            var nvd3_css = \"https://cdnjs.cloudflare.com/ajax/libs/nvd3/1.8.5/nv.d3.min.css\";\n",
       "            var nvd3_js = \"https://cdnjs.cloudflare.com/ajax/libs/nvd3/1.8.5/nv.d3.min.js\";\n",
       "            var saveAsPng_js = \"https://rawgit.com/bernhard-42/saveSvgAsPng/gh-pages/saveSvgAsPng\";\n",
       "\n",
       "            var cssLoaded = function(href) {\n",
       "                var found = false;\n",
       "                for (var i in document.styleSheets) {\n",
       "                    if (document.styleSheets[i].href == href ) {\n",
       "                        found = true;\n",
       "                        break;\n",
       "                    }\n",
       "                }   \n",
       "                return found;\n",
       "            }\n",
       "\n",
       "            var loadCss = function(href, callback) {\n",
       "               $('<link/>', {\n",
       "                    rel: 'stylesheet',\n",
       "                    type: 'text/css',\n",
       "                    crossOrigin: 'anonymous',\n",
       "                    href: href\n",
       "                }).error(function() {\n",
       "                    element.html(\"<div style='color:red'>Error: loading nv.d3.css</div>\");\n",
       "                }).load(function() {\n",
       "                    if (cssLoaded(href)) {\n",
       "                        element.append(\"<div>loaded nvd3 css</div>\");\n",
       "                        loadJs();\n",
       "                    }\n",
       "                }).appendTo('head');\n",
       "            }\n",
       "\n",
       "            var loadJs = function() {\n",
       "                require.config({ paths: {d3: d3_js, saveSvg: saveAsPng_js} });\n",
       "                require([\"d3\"], function(d3) {\n",
       "                    window.d3 = d3;\n",
       "                    element.append(\"<div>loaded d3 js \" + d3.version + \"</div>\", window.d3)\n",
       "                    $.getScript(nvd3_js)\n",
       "                     .done(function( script, textStatus ) {\n",
       "                        element.append(\"<div>loaded nvd3.js \" + nv.version + \"</div>\", window.nv)\n",
       "                        resolve();\n",
       "                        require([\"saveSvg\"], function(saveSvgAsPng) {\n",
       "                            window.saveSvgAsPng = saveSvgAsPng.saveSvgAsPng\n",
       "                            window.saveSvg = saveSvgAsPng.saveSvg\n",
       "                            window.__saveSvgAsPng = saveSvgAsPng;\n",
       "                            element.append(\"<div>loaded saveSvgAsPng</div>\");\n",
       "                        })\n",
       "                     }).fail(function(jqxhr, settings, exception){\n",
       "                        element.html(\"<div style='color:red'>Error: loading nv.d3.js</div>\");\n",
       "                     })\n",
       "                });\n",
       "            }\n",
       "\n",
       "            if (cssLoaded(nvd3_css)) {\n",
       "                loadJs();\n",
       "            } else {\n",
       "                loadCss(nvd3_css, loadJs);\n",
       "            } \n",
       "        });\n",
       "    "
      ]
     },
     "metadata": {},
     "output_type": "display_data"
    }
   ],
   "source": [
    "nv.reloadNVD3(nvd3version=\"1.8.5\", d3version=\"3.5.17\")"
   ]
  },
  {
   "cell_type": "code",
   "execution_count": 5,
   "metadata": {
    "collapsed": false,
    "scrolled": false
   },
   "outputs": [
    {
     "data": {
      "application/javascript": [
       "__nvd3_stat_debug=0"
      ]
     },
     "metadata": {},
     "output_type": "display_data"
    }
   ],
   "source": [
    "# turn javascript debugging on\n",
    "nv.traceJs(False)\n",
    "\n",
    "# turn javascript debugging on\n",
    "# nv.traceJs(True)"
   ]
  },
  {
   "cell_type": "markdown",
   "metadata": {},
   "source": [
    "## Some helpers to create data\n",
    "\n",
    "### Random data"
   ]
  },
  {
   "cell_type": "code",
   "execution_count": 6,
   "metadata": {
    "collapsed": true,
    "scrolled": false
   },
   "outputs": [],
   "source": [
    "import numpy as np\n",
    "import pandas as pd\n",
    "import random\n",
    "import time\n",
    "from datetime import datetime\n",
    "\n",
    "pd.options.display.width=200\n",
    "\n",
    "def randomList(count, mean, dist):\n",
    "    return [ mean + (1 if random.random() > 0.5 else -1) * random.random() * dist for i in range(count)]\n",
    "\n",
    "\n",
    "def randomNormalList(count, mean, stdev):\n",
    "    return np.random.normal(mean, stdev, count).tolist()\n",
    "\n",
    "\n",
    "def randomWalk(count=20, factor=2, offset=10):\n",
    "    return np.abs(np.cumsum(np.random.uniform(-factor, factor, (count, 1)) ) + offset)\n",
    "\n",
    "\n",
    "def lastDays(days, epoch=True, ms=True):\n",
    "    now = datetime.now()\n",
    "    t = int(time.mktime(now.timetuple())) - 3600 * 24 * days\n",
    "    if epoch:\n",
    "        factor = 1000 if ms else 1\n",
    "        return [int(t + i * 3600 * 24) * factor for i in range(days)]\n",
    "    else:\n",
    "        return [time.strftime('%Y-%m-%d', time.localtime(int(t + i*3600*24))) for i in range(days)]"
   ]
  },
  {
   "cell_type": "markdown",
   "metadata": {},
   "source": [
    "### Stock Downloader"
   ]
  },
  {
   "cell_type": "code",
   "execution_count": 7,
   "metadata": {
    "collapsed": false,
    "scrolled": false
   },
   "outputs": [],
   "source": [
    "#\n",
    "# pip install yahoo-finance\n",
    "#\n",
    "\n",
    "from yahoo_finance import Share     \n",
    "\n",
    "def downloadHistoricalStockData(symbol, begin, end, fillMissing=True):\n",
    "    data = Share(symbol).get_historical(\"%04d-%02d-%02d\" % begin, \"%04d-%02d-%02d\" % end)\n",
    "    df = pd.DataFrame(data)\n",
    "\n",
    "    for col in \"Adj_Close\", \"Close\", \"High\", \"Low\", \"Open\":\n",
    "        df[col] = df[col].astype(float)\n",
    "    df[\"Volume\"] = df[\"Volume\"].astype(int)\n",
    "    df[\"Date\"] = pd.to_datetime(df[\"Date\"], infer_datetime_format=True)\n",
    "    \n",
    "    if fillMissing:\n",
    "        return fillMissingValues(df, symbol, begin, end)\n",
    "    else: \n",
    "        return df\n",
    "\n",
    "def fillMissingValues(df, symbol, begin, end):\n",
    "    allDates = pd.DataFrame({\"Date\": pd.date_range(pd.datetime(*begin), pd.datetime(*end), freq='D')})\n",
    "    df2 = allDates.merge(df, how=\"outer\")\n",
    "    df2[\"Symbol\"] = symbol\n",
    "    # for volume fill bank holidays with 0 (no trade)\n",
    "    df2[\"Volume\"] = df2[\"Volume\"].fillna(0)\n",
    "    # and all indicators with value of day before (no price change)\n",
    "    df2 = df2.fillna(axis=0, method=\"ffill\")\n",
    "    df2[\"Timestamp\"] = (df2[\"Date\"].astype(\"int64\") / 1000000).astype('int64')\n",
    "    return df2.sort_values(by=[\"Timestamp\"])"
   ]
  },
  {
   "cell_type": "markdown",
   "metadata": {},
   "source": [
    "### Iris data"
   ]
  },
  {
   "cell_type": "code",
   "execution_count": 8,
   "metadata": {
    "collapsed": false,
    "scrolled": false
   },
   "outputs": [],
   "source": [
    "#!cd /tmp && wget  https://raw.github.com/pydata/pandas/master/pandas/tests/data/iris.csv"
   ]
  },
  {
   "cell_type": "code",
   "execution_count": 9,
   "metadata": {
    "collapsed": false,
    "scrolled": false
   },
   "outputs": [
    {
     "name": "stdout",
     "output_type": "stream",
     "text": [
      "   SepalLength  SepalWidth  PetalLength  PetalWidth         Name\n",
      "0          5.1         3.5          1.4         0.2  Iris-setosa\n",
      "1          4.9         3.0          1.4         0.2  Iris-setosa\n",
      "2          4.7         3.2          1.3         0.2  Iris-setosa\n",
      "3          4.6         3.1          1.5         0.2  Iris-setosa\n",
      "4          5.0         3.6          1.4         0.2  Iris-setosa\n"
     ]
    }
   ],
   "source": [
    "import pandas as pd\n",
    "iris = pd.read_csv('/tmp/iris.csv')\n",
    "\n",
    "def getSpecies(name):\n",
    "    return iris[iris.Name==name].loc[:,iris.columns != 'Name']\n",
    "\n",
    "print(iris.head())"
   ]
  },
  {
   "cell_type": "markdown",
   "metadata": {},
   "source": [
    "## 1 BoxPlot Chart\n",
    "\n",
    "### a) Single IQR Box Plot"
   ]
  },
  {
   "cell_type": "code",
   "execution_count": 10,
   "metadata": {
    "collapsed": false
   },
   "outputs": [
    {
     "data": {
      "text/html": [
       "<div style=\"height:400px; width:450px\">\n",
       "            <div id=\"boxPlotChart_001\" class=\"with-3d-shadow with-transitions\" style=\" height:400px; width:450px\">\n",
       "                <svg></svg>\n",
       "                <script class=\"nvd3_data\">\n",
       "                    var data_boxPlotChart_001 = {\"config\": {\"yDomain\": [0, 10], \"maxBoxWidth\": false, \"width\": 450, \"height\": 400, \"color\": [\"#1f77b4\", \"#ff7f0e\", \"#2ca02c\", \"#d62728\", \"#9467bd\", \"#8c564b\", \"#e377c2\", \"#7f7f7f\", \"#bcbd22\", \"#17becf\"]}, \"data\": [{\"key\": \"X1\", \"values\": {\"Q3\": 5.559949996533856, \"whisker_low\": 1.7776411687615932, \"Q1\": 4.047026465424951, \"whisker_high\": 7.8293352931972136, \"outliers\": [], \"Q2\": 4.915342967923465}}, {\"key\": \"X2\", \"values\": {\"Q3\": 3.304256899841474, \"whisker_low\": 1.5800910360917835, \"Q1\": 2.6145905543415977, \"whisker_high\": 4.338756418091288, \"outliers\": [1.5586666404069351], \"Q2\": 2.9632550092978924}}]};\n",
       "                </script>\n",
       "                <script>\n",
       "                    (function() {\n",
       "                        var plot = function(session, object) {\n",
       "            var chart = nv.models.boxPlotChart()\n",
       "                        .x(function(d) { return d.key })\n",
       "\n",
       "            session.__functions.makeChart(session, object, chart);\n",
       "        }\n",
       "                        var synch = function(session, object) {\n",
       "                            window.nvd3_stat.promise.then(function() {\n",
       "                                window.nvd3_stat.session.__functions.charts[\"boxPlotChart_001\"] = plot;\n",
       "                                plot(session, object);\n",
       "                            })\n",
       "                        }\n",
       "                        document.getElementById(\"boxPlotChart_001\")\n",
       "                                .addEventListener(\"load\", synch(window.nvd3_stat.session, \n",
       "                                                  {\"event\":\"plot\", \"data\": data_boxPlotChart_001, \"plotId\":\"boxPlotChart_001\"}))\n",
       "                    })();\n",
       "                </script>\n",
       "            </div>\n",
       "            "
      ]
     },
     "metadata": {},
     "output_type": "display_data"
    }
   ],
   "source": [
    "df = pd.DataFrame({\"X1\":randomNormalList(50, 5, 1), \"X2\":randomNormalList(50, 3, 0.5)})\n",
    "\n",
    "bp1 = nv.boxPlotChart()\n",
    "\n",
    "config={\"height\": 400, \"width\":450, \"color\":nv.c10(), \"yDomain\": [0, 10], \"maxBoxWidth\":False }\n",
    "\n",
    "bp1.plot(data=df, boxStyle=\"iqr\", config=config)"
   ]
  },
  {
   "cell_type": "markdown",
   "metadata": {},
   "source": [
    "### b) Append"
   ]
  },
  {
   "cell_type": "code",
   "execution_count": 11,
   "metadata": {
    "collapsed": false
   },
   "outputs": [],
   "source": [
    "bp1.append({\"X1\":[1,5,7,8,9,8,7], \"X2\":[0.5, 3,4,5,6,3,2]})"
   ]
  },
  {
   "cell_type": "markdown",
   "metadata": {},
   "source": [
    "### c) Horizontal Box Plots\n",
    "\n",
    "#### Compare the three species (horizontal IQR box plot)"
   ]
  },
  {
   "cell_type": "code",
   "execution_count": 12,
   "metadata": {
    "collapsed": false
   },
   "outputs": [
    {
     "data": {
      "text/html": [
       "<h3><div style=\"display:inline; margin-left:40px\">Iris-setosa</div><div style=\"display:inline; margin-left:355px\">Iris-versicolor</div><div style=\"display:inline; margin-left:330px\">Iris-virginica</div></h3>"
      ]
     },
     "metadata": {},
     "output_type": "display_data"
    },
    {
     "data": {
      "text/html": [
       "<div style=\"height:400px; width:1350px\">\n",
       "            <div id=\"boxPlotChart_002\" class=\"with-3d-shadow with-transitions\" style=\"float:left; height:400px; width:450px\">\n",
       "                <svg></svg>\n",
       "                <script class=\"nvd3_data\">\n",
       "                    var data_boxPlotChart_002 = {\"config\": {\"yDomain\": [-0.5, 8.5], \"maxBoxWidth\": false, \"width\": 450, \"height\": 400, \"color\": [\"#1f77b4\", \"#ff7f0e\", \"#2ca02c\", \"#d62728\", \"#9467bd\", \"#8c564b\", \"#e377c2\", \"#7f7f7f\", \"#bcbd22\", \"#17becf\"]}, \"data\": [{\"key\": \"SepalLength\", \"values\": {\"Q3\": 5.2, \"whisker_low\": 4.199999999999999, \"Q1\": 4.8, \"whisker_high\": 5.800000000000001, \"outliers\": [], \"Q2\": 5.0}}, {\"key\": \"SepalWidth\", \"values\": {\"Q3\": 3.6750000000000003, \"whisker_low\": 2.3, \"Q1\": 3.125, \"whisker_high\": 4.500000000000001, \"outliers\": [], \"Q2\": 3.4}}, {\"key\": \"PetalLength\", \"values\": {\"Q3\": 1.5750000000000002, \"whisker_low\": 1.1374999999999995, \"Q1\": 1.4, \"whisker_high\": 1.8375000000000006, \"outliers\": [1.1, 1.0, 1.9, 1.9], \"Q2\": 1.5}}, {\"key\": \"PetalWidth\", \"values\": {\"Q3\": 0.3, \"whisker_low\": 0.050000000000000044, \"Q1\": 0.2, \"whisker_high\": 0.44999999999999996, \"outliers\": [0.5, 0.6], \"Q2\": 0.2}}]};\n",
       "                </script>\n",
       "                <script>\n",
       "                    (function() {\n",
       "                        var plot = function(session, object) {\n",
       "            var chart = nv.models.boxPlotChart()\n",
       "                        .x(function(d) { return d.key })\n",
       "\n",
       "            session.__functions.makeChart(session, object, chart);\n",
       "        }\n",
       "                        var synch = function(session, object) {\n",
       "                            window.nvd3_stat.promise.then(function() {\n",
       "                                window.nvd3_stat.session.__functions.charts[\"boxPlotChart_002\"] = plot;\n",
       "                                plot(session, object);\n",
       "                            })\n",
       "                        }\n",
       "                        document.getElementById(\"boxPlotChart_002\")\n",
       "                                .addEventListener(\"load\", synch(window.nvd3_stat.session, \n",
       "                                                  {\"event\":\"plot\", \"data\": data_boxPlotChart_002, \"plotId\":\"boxPlotChart_002\"}))\n",
       "                    })();\n",
       "                </script>\n",
       "            </div>\n",
       "            \n",
       "            <div id=\"boxPlotChart_003\" class=\"with-3d-shadow with-transitions\" style=\"float:left; height:400px; width:450px\">\n",
       "                <svg></svg>\n",
       "                <script class=\"nvd3_data\">\n",
       "                    var data_boxPlotChart_003 = {\"config\": {\"yDomain\": [-0.5, 8.5], \"maxBoxWidth\": false, \"width\": 450, \"height\": 400, \"color\": [\"#1f77b4\", \"#ff7f0e\", \"#2ca02c\", \"#d62728\", \"#9467bd\", \"#8c564b\", \"#e377c2\", \"#7f7f7f\", \"#bcbd22\", \"#17becf\"]}, \"data\": [{\"key\": \"SepalLength\", \"values\": {\"Q3\": 6.3, \"whisker_low\": 4.549999999999999, \"Q1\": 5.6, \"whisker_high\": 7.35, \"outliers\": [], \"Q2\": 5.9}}, {\"key\": \"SepalWidth\", \"values\": {\"Q3\": 3.0, \"whisker_low\": 1.8124999999999998, \"Q1\": 2.525, \"whisker_high\": 3.7125000000000004, \"outliers\": [], \"Q2\": 2.8}}, {\"key\": \"PetalLength\", \"values\": {\"Q3\": 4.6, \"whisker_low\": 3.1000000000000005, \"Q1\": 4.0, \"whisker_high\": 5.499999999999999, \"outliers\": [3.0], \"Q2\": 4.35}}, {\"key\": \"PetalWidth\", \"values\": {\"Q3\": 1.5, \"whisker_low\": 0.7499999999999999, \"Q1\": 1.2, \"whisker_high\": 1.9500000000000002, \"outliers\": [], \"Q2\": 1.3}}]};\n",
       "                </script>\n",
       "                <script>\n",
       "                    (function() {\n",
       "                        var plot = function(session, object) {\n",
       "            var chart = nv.models.boxPlotChart()\n",
       "                        .x(function(d) { return d.key })\n",
       "\n",
       "            session.__functions.makeChart(session, object, chart);\n",
       "        }\n",
       "                        var synch = function(session, object) {\n",
       "                            window.nvd3_stat.promise.then(function() {\n",
       "                                window.nvd3_stat.session.__functions.charts[\"boxPlotChart_003\"] = plot;\n",
       "                                plot(session, object);\n",
       "                            })\n",
       "                        }\n",
       "                        document.getElementById(\"boxPlotChart_003\")\n",
       "                                .addEventListener(\"load\", synch(window.nvd3_stat.session, \n",
       "                                                  {\"event\":\"plot\", \"data\": data_boxPlotChart_003, \"plotId\":\"boxPlotChart_003\"}))\n",
       "                    })();\n",
       "                </script>\n",
       "            </div>\n",
       "            \n",
       "            <div id=\"boxPlotChart_004\" class=\"with-3d-shadow with-transitions\" style=\"float:left; height:400px; width:450px\">\n",
       "                <svg></svg>\n",
       "                <script class=\"nvd3_data\">\n",
       "                    var data_boxPlotChart_004 = {\"config\": {\"yDomain\": [-0.5, 8.5], \"maxBoxWidth\": false, \"width\": 450, \"height\": 400, \"color\": [\"#1f77b4\", \"#ff7f0e\", \"#2ca02c\", \"#d62728\", \"#9467bd\", \"#8c564b\", \"#e377c2\", \"#7f7f7f\", \"#bcbd22\", \"#17becf\"]}, \"data\": [{\"key\": \"SepalLength\", \"values\": {\"Q3\": 6.9, \"whisker_low\": 5.2125, \"Q1\": 6.2250000000000005, \"whisker_high\": 7.9125, \"outliers\": [4.9], \"Q2\": 6.5}}, {\"key\": \"SepalWidth\", \"values\": {\"Q3\": 3.1750000000000003, \"whisker_low\": 2.237499999999999, \"Q1\": 2.8, \"whisker_high\": 3.7375000000000007, \"outliers\": [3.8, 2.2, 3.8], \"Q2\": 3.0}}, {\"key\": \"PetalLength\", \"values\": {\"Q3\": 5.875000000000001, \"whisker_low\": 3.937499999999998, \"Q1\": 5.1, \"whisker_high\": 7.037500000000003, \"outliers\": [], \"Q2\": 5.55}}, {\"key\": \"PetalWidth\", \"values\": {\"Q3\": 2.3, \"whisker_low\": 1.0500000000000003, \"Q1\": 1.8, \"whisker_high\": 3.0499999999999994, \"outliers\": [], \"Q2\": 2.0}}]};\n",
       "                </script>\n",
       "                <script>\n",
       "                    (function() {\n",
       "                        var plot = function(session, object) {\n",
       "            var chart = nv.models.boxPlotChart()\n",
       "                        .x(function(d) { return d.key })\n",
       "\n",
       "            session.__functions.makeChart(session, object, chart);\n",
       "        }\n",
       "                        var synch = function(session, object) {\n",
       "                            window.nvd3_stat.promise.then(function() {\n",
       "                                window.nvd3_stat.session.__functions.charts[\"boxPlotChart_004\"] = plot;\n",
       "                                plot(session, object);\n",
       "                            })\n",
       "                        }\n",
       "                        document.getElementById(\"boxPlotChart_004\")\n",
       "                                .addEventListener(\"load\", synch(window.nvd3_stat.session, \n",
       "                                                  {\"event\":\"plot\", \"data\": data_boxPlotChart_004, \"plotId\":\"boxPlotChart_004\"}))\n",
       "                    })();\n",
       "                </script>\n",
       "            </div>\n",
       "            "
      ]
     },
     "metadata": {},
     "output_type": "display_data"
    }
   ],
   "source": [
    "display(html=[(\"Iris-setosa\", 40),(\"Iris-versicolor\", 355),(\"Iris-virginica\", 330)], style=\"h3\")\n",
    "\n",
    "bp2 = nv.boxPlotChart()\n",
    "\n",
    "config = {\"height\": 400, \"width\":450, \"color\":nv.c10(), \"yDomain\": [-0.5, 8.5], \"maxBoxWidth\":False}\n",
    "\n",
    "bp2.hplot([bp2.chart(getSpecies(\"Iris-setosa\"),     boxStyle=\"iqr\", config=config),\n",
    "           bp2.chart(getSpecies(\"Iris-versicolor\"), boxStyle=\"iqr\", config=config),\n",
    "           bp2.chart(getSpecies(\"Iris-virginica\"),  boxStyle=\"iqr\", config=config)])"
   ]
  },
  {
   "cell_type": "markdown",
   "metadata": {},
   "source": [
    "#### Compare IQR and Min-Max plot"
   ]
  },
  {
   "cell_type": "code",
   "execution_count": 13,
   "metadata": {
    "collapsed": false,
    "scrolled": false
   },
   "outputs": [
    {
     "data": {
      "text/html": [
       "<h3><div style=\"display:inline; margin-left:40px\">IQR</div><div style=\"display:inline; margin-left:415px\">Min-Max</div></h3>"
      ]
     },
     "metadata": {},
     "output_type": "display_data"
    },
    {
     "data": {
      "text/html": [
       "<div style=\"height:400px; width:900px\">\n",
       "            <div id=\"boxPlotChart_005\" class=\"with-3d-shadow with-transitions\" style=\"float:left; height:400px; width:450px\">\n",
       "                <svg></svg>\n",
       "                <script class=\"nvd3_data\">\n",
       "                    var data_boxPlotChart_005 = {\"config\": {\"yDomain\": [-0.5, 6], \"maxBoxWidth\": false, \"width\": 450, \"height\": 400, \"color\": [\"#1f77b4\", \"#ff7f0e\", \"#2ca02c\", \"#d62728\", \"#9467bd\", \"#8c564b\", \"#e377c2\", \"#7f7f7f\", \"#bcbd22\", \"#17becf\"]}, \"data\": [{\"key\": \"SepalLength\", \"values\": {\"Q3\": 5.2, \"whisker_low\": 4.199999999999999, \"Q1\": 4.8, \"whisker_high\": 5.800000000000001, \"outliers\": [], \"Q2\": 5.0}}, {\"key\": \"SepalWidth\", \"values\": {\"Q3\": 3.6750000000000003, \"whisker_low\": 2.3, \"Q1\": 3.125, \"whisker_high\": 4.500000000000001, \"outliers\": [], \"Q2\": 3.4}}, {\"key\": \"PetalLength\", \"values\": {\"Q3\": 1.5750000000000002, \"whisker_low\": 1.1374999999999995, \"Q1\": 1.4, \"whisker_high\": 1.8375000000000006, \"outliers\": [1.1, 1.0, 1.9, 1.9], \"Q2\": 1.5}}, {\"key\": \"PetalWidth\", \"values\": {\"Q3\": 0.3, \"whisker_low\": 0.050000000000000044, \"Q1\": 0.2, \"whisker_high\": 0.44999999999999996, \"outliers\": [0.5, 0.6], \"Q2\": 0.2}}]};\n",
       "                </script>\n",
       "                <script>\n",
       "                    (function() {\n",
       "                        var plot = function(session, object) {\n",
       "            var chart = nv.models.boxPlotChart()\n",
       "                        .x(function(d) { return d.key })\n",
       "\n",
       "            session.__functions.makeChart(session, object, chart);\n",
       "        }\n",
       "                        var synch = function(session, object) {\n",
       "                            window.nvd3_stat.promise.then(function() {\n",
       "                                window.nvd3_stat.session.__functions.charts[\"boxPlotChart_005\"] = plot;\n",
       "                                plot(session, object);\n",
       "                            })\n",
       "                        }\n",
       "                        document.getElementById(\"boxPlotChart_005\")\n",
       "                                .addEventListener(\"load\", synch(window.nvd3_stat.session, \n",
       "                                                  {\"event\":\"plot\", \"data\": data_boxPlotChart_005, \"plotId\":\"boxPlotChart_005\"}))\n",
       "                    })();\n",
       "                </script>\n",
       "            </div>\n",
       "            \n",
       "            <div id=\"boxPlotChart_006\" class=\"with-3d-shadow with-transitions\" style=\"float:left; height:400px; width:450px\">\n",
       "                <svg></svg>\n",
       "                <script class=\"nvd3_data\">\n",
       "                    var data_boxPlotChart_006 = {\"config\": {\"yDomain\": [-0.5, 6], \"maxBoxWidth\": false, \"width\": 450, \"height\": 400, \"color\": [\"#1f77b4\", \"#ff7f0e\", \"#2ca02c\", \"#d62728\", \"#9467bd\", \"#8c564b\", \"#e377c2\", \"#7f7f7f\", \"#bcbd22\", \"#17becf\"]}, \"data\": [{\"key\": \"SepalLength\", \"values\": {\"Q3\": 5.2, \"whisker_low\": 4.3, \"Q1\": 4.8, \"whisker_high\": 5.8, \"Q2\": 5.0}}, {\"key\": \"SepalWidth\", \"values\": {\"Q3\": 3.6750000000000003, \"whisker_low\": 2.3, \"Q1\": 3.125, \"whisker_high\": 4.4, \"Q2\": 3.4}}, {\"key\": \"PetalLength\", \"values\": {\"Q3\": 1.5750000000000002, \"whisker_low\": 1.0, \"Q1\": 1.4, \"whisker_high\": 1.9, \"Q2\": 1.5}}, {\"key\": \"PetalWidth\", \"values\": {\"Q3\": 0.3, \"whisker_low\": 0.1, \"Q1\": 0.2, \"whisker_high\": 0.6, \"Q2\": 0.2}}]};\n",
       "                </script>\n",
       "                <script>\n",
       "                    (function() {\n",
       "                        var plot = function(session, object) {\n",
       "            var chart = nv.models.boxPlotChart()\n",
       "                        .x(function(d) { return d.key })\n",
       "\n",
       "            session.__functions.makeChart(session, object, chart);\n",
       "        }\n",
       "                        var synch = function(session, object) {\n",
       "                            window.nvd3_stat.promise.then(function() {\n",
       "                                window.nvd3_stat.session.__functions.charts[\"boxPlotChart_006\"] = plot;\n",
       "                                plot(session, object);\n",
       "                            })\n",
       "                        }\n",
       "                        document.getElementById(\"boxPlotChart_006\")\n",
       "                                .addEventListener(\"load\", synch(window.nvd3_stat.session, \n",
       "                                                  {\"event\":\"plot\", \"data\": data_boxPlotChart_006, \"plotId\":\"boxPlotChart_006\"}))\n",
       "                    })();\n",
       "                </script>\n",
       "            </div>\n",
       "            "
      ]
     },
     "metadata": {},
     "output_type": "display_data"
    }
   ],
   "source": [
    "display(html=[(\"IQR\", 40),(\"Min-Max\", 415)], style=\"h3\")\n",
    "\n",
    "bp3 = nv.boxPlotChart()\n",
    "\n",
    "config = {\"height\": 400, \"width\":450, \"color\":nv.c10(), \"yDomain\": [-0.5, 6], \"maxBoxWidth\":False }\n",
    "\n",
    "bp3.hplot([bp3.chart(data=getSpecies(\"Iris-setosa\"), boxStyle=\"iqr\",     config=config),\n",
    "           bp3.chart(data=getSpecies(\"Iris-setosa\"), boxStyle=\"min-max\", config=config)])"
   ]
  },
  {
   "cell_type": "markdown",
   "metadata": {},
   "source": [
    "## 2 Line Chart\n",
    "\n",
    "### a) Plot"
   ]
  },
  {
   "cell_type": "code",
   "execution_count": 14,
   "metadata": {
    "collapsed": false,
    "scrolled": false
   },
   "outputs": [
    {
     "name": "stdout",
     "output_type": "stream",
     "text": [
      "     ArcTan       Cos       Sin         X\n",
      "0 -0.470988  1.000000  0.000000  0.000000\n",
      "1 -0.469922  0.991955  0.126592  0.126933\n",
      "2 -0.468812  0.967949  0.251148  0.253866\n",
      "3 -0.467656  0.928368  0.371662  0.380799\n",
      "4 -0.466450  0.873849  0.486197  0.507732\n"
     ]
    }
   ],
   "source": [
    "x = np.linspace(0, 4*np.pi, 100)\n",
    "\n",
    "l_df = pd.DataFrame({\"X\":x,\n",
    "                     \"Sin\":np.sin(x), \n",
    "                     \"Cos\":np.cos(x), \n",
    "                     \"ArcTan\":np.arctan(x-2*np.pi)/3})\n",
    "\n",
    "print(l_df.head())"
   ]
  },
  {
   "cell_type": "markdown",
   "metadata": {},
   "source": [
    "#### Single line"
   ]
  },
  {
   "cell_type": "code",
   "execution_count": 15,
   "metadata": {
    "collapsed": false
   },
   "outputs": [
    {
     "data": {
      "text/html": [
       "<style>.dashed { stroke-dasharray: 7,7; }\n",
       ".dotted { stroke-dasharray: 3,3; } </style>"
      ]
     },
     "metadata": {},
     "output_type": "display_data"
    },
    {
     "data": {
      "text/html": [
       "<div style=\"height:350px; width:800px\">\n",
       "            <div id=\"lineChart_007\" class=\"with-3d-shadow with-transitions\" style=\" height:350px; width:800px\">\n",
       "                <svg></svg>\n",
       "                <script class=\"nvd3_data\">\n",
       "                    var data_lineChart_007 = {\"config\": {\"yAxis\": {\"tickFormat\": \",.2f\", \"axisLabel\": \"f(x)\"}, \"xAxis\": {\"tickFormat\": \",.2f\", \"axisLabel\": \"x\"}, \"width\": 800, \"height\": 350, \"color\": [\"#1f77b4\", \"#ff7f0e\", \"#2ca02c\", \"#d62728\", \"#9467bd\", \"#8c564b\", \"#e377c2\", \"#7f7f7f\", \"#bcbd22\", \"#17becf\"]}, \"data\": [{\"key\": \"Sin\", \"classed\": \"dashed\", \"area\": true, \"fillOpacity\": 0.2, \"values\": [{\"x\": 0.0, \"y\": 0.0}, {\"x\": 0.12693303650867852, \"y\": 0.12659245357374926}, {\"x\": 0.25386607301735703, \"y\": 0.2511479871810792}, {\"x\": 0.3807991095260356, \"y\": 0.3716624556603276}, {\"x\": 0.5077321460347141, \"y\": 0.4861967361004687}, {\"x\": 0.6346651825433925, \"y\": 0.5929079290546404}, {\"x\": 0.7615982190520711, \"y\": 0.690079011482112}, {\"x\": 0.8885312555607496, \"y\": 0.7761464642917568}, {\"x\": 1.0154642920694281, \"y\": 0.8497254299495144}, {\"x\": 1.1423973285781066, \"y\": 0.9096319953545183}, {\"x\": 1.269330365086785, \"y\": 0.9549022414440739}, {\"x\": 1.3962634015954636, \"y\": 0.984807753012208}, {\"x\": 1.5231964381041423, \"y\": 0.998867339183008}, {\"x\": 1.6501294746128208, \"y\": 0.9968547759519424}, {\"x\": 1.7770625111214993, \"y\": 0.9788024462147787}, {\"x\": 1.9039955476301778, \"y\": 0.9450008187146685}, {\"x\": 2.0309285841388562, \"y\": 0.8959937742913359}, {\"x\": 2.1578616206475347, \"y\": 0.8325698546347714}, {\"x\": 2.284794657156213, \"y\": 0.7557495743542584}, {\"x\": 2.4117276936648917, \"y\": 0.6667690005162916}, {\"x\": 2.53866073017357, \"y\": 0.5670598638627709}, {\"x\": 2.6655937666822487, \"y\": 0.4582265217274105}, {\"x\": 2.792526803190927, \"y\": 0.3420201433256689}, {\"x\": 2.9194598396996057, \"y\": 0.2203105327865408}, {\"x\": 3.0463928762082846, \"y\": 0.09505604330418244}, {\"x\": 3.173325912716963, \"y\": -0.03172793349806785}, {\"x\": 3.3002589492256416, \"y\": -0.15800139597335008}, {\"x\": 3.42719198573432, \"y\": -0.28173255684142984}, {\"x\": 3.5541250222429985, \"y\": -0.40093053540661383}, {\"x\": 3.681058058751677, \"y\": -0.5136773915734064}, {\"x\": 3.8079910952603555, \"y\": -0.6181589862206053}, {\"x\": 3.934924131769034, \"y\": -0.7126941713788628}, {\"x\": 4.0618571682777125, \"y\": -0.7957618405308321}, {\"x\": 4.188790204786391, \"y\": -0.8660254037844388}, {\"x\": 4.3157232412950695, \"y\": -0.9223542941045814}, {\"x\": 4.442656277803748, \"y\": -0.9638421585599422}, {\"x\": 4.569589314312426, \"y\": -0.9898214418809327}, {\"x\": 4.696522350821105, \"y\": -0.9998741276738751}, {\"x\": 4.823455387329783, \"y\": -0.9938384644612541}, {\"x\": 4.950388423838462, \"y\": -0.9718115683235417}, {\"x\": 5.07732146034714, \"y\": -0.9341478602651068}, {\"x\": 5.204254496855819, \"y\": -0.881453363447582}, {\"x\": 5.331187533364497, \"y\": -0.814575952050336}, {\"x\": 5.458120569873176, \"y\": -0.7345917086575331}, {\"x\": 5.585053606381854, \"y\": -0.6427876096865396}, {\"x\": 5.711986642890533, \"y\": -0.5406408174555974}, {\"x\": 5.838919679399211, \"y\": -0.4297949120891719}, {\"x\": 5.96585271590789, \"y\": -0.31203344569848707}, {\"x\": 6.092785752416569, \"y\": -0.18925124436040974}, {\"x\": 6.219718788925247, \"y\": -0.06342391965656452}, {\"x\": 6.346651825433926, \"y\": 0.06342391965656491}, {\"x\": 6.473584861942604, \"y\": 0.18925124436041013}, {\"x\": 6.600517898451283, \"y\": 0.31203344569848745}, {\"x\": 6.727450934959961, \"y\": 0.42979491208917153}, {\"x\": 6.85438397146864, \"y\": 0.5406408174555979}, {\"x\": 6.981317007977318, \"y\": 0.6427876096865393}, {\"x\": 7.108250044485997, \"y\": 0.7345917086575334}, {\"x\": 7.235183080994675, \"y\": 0.8145759520503355}, {\"x\": 7.362116117503354, \"y\": 0.8814533634475821}, {\"x\": 7.489049154012032, \"y\": 0.9341478602651067}, {\"x\": 7.615982190520711, \"y\": 0.9718115683235418}, {\"x\": 7.742915227029389, \"y\": 0.9938384644612541}, {\"x\": 7.869848263538068, \"y\": 0.9998741276738751}, {\"x\": 7.996781300046746, \"y\": 0.9898214418809328}, {\"x\": 8.123714336555425, \"y\": 0.963842158559942}, {\"x\": 8.250647373064103, \"y\": 0.9223542941045816}, {\"x\": 8.377580409572783, \"y\": 0.8660254037844383}, {\"x\": 8.50451344608146, \"y\": 0.7957618405308319}, {\"x\": 8.631446482590139, \"y\": 0.7126941713788629}, {\"x\": 8.758379519098817, \"y\": 0.6181589862206056}, {\"x\": 8.885312555607497, \"y\": 0.5136773915734056}, {\"x\": 9.012245592116175, \"y\": 0.40093053540661344}, {\"x\": 9.139178628624853, \"y\": 0.2817325568414299}, {\"x\": 9.266111665133531, \"y\": 0.15800139597335056}, {\"x\": 9.39304470164221, \"y\": 0.03172793349806701}, {\"x\": 9.519977738150889, \"y\": -0.09505604330418284}, {\"x\": 9.646910774659567, \"y\": -0.22031053278654034}, {\"x\": 9.773843811168245, \"y\": -0.342020143325668}, {\"x\": 9.900776847676925, \"y\": -0.45822652172741085}, {\"x\": 10.027709884185603, \"y\": -0.5670598638627709}, {\"x\": 10.15464292069428, \"y\": -0.6667690005162913}, {\"x\": 10.28157595720296, \"y\": -0.7557495743542588}, {\"x\": 10.408508993711639, \"y\": -0.8325698546347716}, {\"x\": 10.535442030220317, \"y\": -0.8959937742913359}, {\"x\": 10.662375066728995, \"y\": -0.9450008187146683}, {\"x\": 10.789308103237675, \"y\": -0.9788024462147789}, {\"x\": 10.916241139746353, \"y\": -0.9968547759519424}, {\"x\": 11.04317417625503, \"y\": -0.998867339183008}, {\"x\": 11.170107212763709, \"y\": -0.9848077530122081}, {\"x\": 11.297040249272388, \"y\": -0.9549022414440737}, {\"x\": 11.423973285781067, \"y\": -0.9096319953545183}, {\"x\": 11.550906322289745, \"y\": -0.8497254299495145}, {\"x\": 11.677839358798423, \"y\": -0.7761464642917573}, {\"x\": 11.804772395307102, \"y\": -0.6900790114821116}, {\"x\": 11.93170543181578, \"y\": -0.5929079290546404}, {\"x\": 12.058638468324459, \"y\": -0.486196736100469}, {\"x\": 12.185571504833138, \"y\": -0.3716624556603267}, {\"x\": 12.312504541341816, \"y\": -0.2511479871810788}, {\"x\": 12.439437577850494, \"y\": -0.1265924535737493}, {\"x\": 12.566370614359172, \"y\": -4.898587196589413e-16}]}]};\n",
       "                </script>\n",
       "                <script>\n",
       "                    (function() {\n",
       "                        var plot = function(session, object) {\n",
       "\n",
       "            var chart = nv.models.lineChart()\n",
       "                    .focusEnable(false)\n",
       "                    .useInteractiveGuideline(true)\n",
       "                    .margin({right:  40})\n",
       "                    .margin({bottom: 60})\n",
       "\n",
       "            chart.xAxis.showMaxMin(false)\n",
       "                       .tickFormat(d3.format(',.1f'))\n",
       "\n",
       "            chart.yAxis.showMaxMin(false)\n",
       "                       .tickFormat(d3.format(',.1f'))\n",
       "\n",
       "            session.__functions.makeChart(session, object, chart);\n",
       "        }\n",
       "                        var synch = function(session, object) {\n",
       "                            window.nvd3_stat.promise.then(function() {\n",
       "                                window.nvd3_stat.session.__functions.charts[\"lineChart_007\"] = plot;\n",
       "                                plot(session, object);\n",
       "                            })\n",
       "                        }\n",
       "                        document.getElementById(\"lineChart_007\")\n",
       "                                .addEventListener(\"load\", synch(window.nvd3_stat.session, \n",
       "                                                  {\"event\":\"plot\", \"data\": data_lineChart_007, \"plotId\":\"lineChart_007\"}))\n",
       "                    })();\n",
       "                </script>\n",
       "            </div>\n",
       "            "
      ]
     },
     "metadata": {},
     "output_type": "display_data"
    }
   ],
   "source": [
    "l1 = nv.lineChart()\n",
    "\n",
    "config={\"height\":350, \"width\": 800, \"color\":nv.c10(), \n",
    "        \"yAxis\":{\"axisLabel\":\"f(x)\", \"tickFormat\":\",.2f\"}, \n",
    "        \"xAxis\":{\"axisLabel\":\"x\",    \"tickFormat\":\",.2f\"}}\n",
    "        \n",
    "lineAttributes={\"area\":True, \"fillOpacity\":0.2, \"style\":\"dashed\"}\n",
    "\n",
    "l1.plot(l_df, \"X\", \"Sin\", lineAttributes, config)"
   ]
  },
  {
   "cell_type": "code",
   "execution_count": 16,
   "metadata": {
    "collapsed": false
   },
   "outputs": [
    {
     "data": {
      "text/html": [
       "<style>.dashed { stroke-dasharray: 7,7; }\n",
       ".dotted { stroke-dasharray: 3,3; } </style>"
      ]
     },
     "metadata": {},
     "output_type": "display_data"
    },
    {
     "data": {
      "text/html": [
       "<div style=\"height:300px; width:1200px\">\n",
       "            <div id=\"lineChart_008\" class=\"with-3d-shadow with-transitions\" style=\"float:left; height:300px; width:400px\">\n",
       "                <svg></svg>\n",
       "                <script class=\"nvd3_data\">\n",
       "                    var data_lineChart_008 = {\"config\": {\"height\": 300, \"width\": 400, \"color\": [\"#1f77b4\", \"#ff7f0e\", \"#2ca02c\", \"#d62728\", \"#9467bd\", \"#8c564b\", \"#e377c2\", \"#7f7f7f\", \"#bcbd22\", \"#17becf\"], \"yAxis\": {\"tickFormat\": \",.2f\", \"axisLabel\": \"f(x)\"}, \"yDomain\": [-1.2, 1.2], \"xAxis\": {\"tickFormat\": \",.2f\", \"axisLabel\": \"x\"}}, \"data\": [{\"key\": \"Sin\", \"classed\": \"dashed\", \"area\": true, \"fillOpacity\": 0.2, \"values\": [{\"x\": 0.0, \"y\": 0.0}, {\"x\": 0.12693303650867852, \"y\": 0.12659245357374926}, {\"x\": 0.25386607301735703, \"y\": 0.2511479871810792}, {\"x\": 0.3807991095260356, \"y\": 0.3716624556603276}, {\"x\": 0.5077321460347141, \"y\": 0.4861967361004687}, {\"x\": 0.6346651825433925, \"y\": 0.5929079290546404}, {\"x\": 0.7615982190520711, \"y\": 0.690079011482112}, {\"x\": 0.8885312555607496, \"y\": 0.7761464642917568}, {\"x\": 1.0154642920694281, \"y\": 0.8497254299495144}, {\"x\": 1.1423973285781066, \"y\": 0.9096319953545183}, {\"x\": 1.269330365086785, \"y\": 0.9549022414440739}, {\"x\": 1.3962634015954636, \"y\": 0.984807753012208}, {\"x\": 1.5231964381041423, \"y\": 0.998867339183008}, {\"x\": 1.6501294746128208, \"y\": 0.9968547759519424}, {\"x\": 1.7770625111214993, \"y\": 0.9788024462147787}, {\"x\": 1.9039955476301778, \"y\": 0.9450008187146685}, {\"x\": 2.0309285841388562, \"y\": 0.8959937742913359}, {\"x\": 2.1578616206475347, \"y\": 0.8325698546347714}, {\"x\": 2.284794657156213, \"y\": 0.7557495743542584}, {\"x\": 2.4117276936648917, \"y\": 0.6667690005162916}, {\"x\": 2.53866073017357, \"y\": 0.5670598638627709}, {\"x\": 2.6655937666822487, \"y\": 0.4582265217274105}, {\"x\": 2.792526803190927, \"y\": 0.3420201433256689}, {\"x\": 2.9194598396996057, \"y\": 0.2203105327865408}, {\"x\": 3.0463928762082846, \"y\": 0.09505604330418244}, {\"x\": 3.173325912716963, \"y\": -0.03172793349806785}, {\"x\": 3.3002589492256416, \"y\": -0.15800139597335008}, {\"x\": 3.42719198573432, \"y\": -0.28173255684142984}, {\"x\": 3.5541250222429985, \"y\": -0.40093053540661383}, {\"x\": 3.681058058751677, \"y\": -0.5136773915734064}, {\"x\": 3.8079910952603555, \"y\": -0.6181589862206053}, {\"x\": 3.934924131769034, \"y\": -0.7126941713788628}, {\"x\": 4.0618571682777125, \"y\": -0.7957618405308321}, {\"x\": 4.188790204786391, \"y\": -0.8660254037844388}, {\"x\": 4.3157232412950695, \"y\": -0.9223542941045814}, {\"x\": 4.442656277803748, \"y\": -0.9638421585599422}, {\"x\": 4.569589314312426, \"y\": -0.9898214418809327}, {\"x\": 4.696522350821105, \"y\": -0.9998741276738751}, {\"x\": 4.823455387329783, \"y\": -0.9938384644612541}, {\"x\": 4.950388423838462, \"y\": -0.9718115683235417}, {\"x\": 5.07732146034714, \"y\": -0.9341478602651068}, {\"x\": 5.204254496855819, \"y\": -0.881453363447582}, {\"x\": 5.331187533364497, \"y\": -0.814575952050336}, {\"x\": 5.458120569873176, \"y\": -0.7345917086575331}, {\"x\": 5.585053606381854, \"y\": -0.6427876096865396}, {\"x\": 5.711986642890533, \"y\": -0.5406408174555974}, {\"x\": 5.838919679399211, \"y\": -0.4297949120891719}, {\"x\": 5.96585271590789, \"y\": -0.31203344569848707}, {\"x\": 6.092785752416569, \"y\": -0.18925124436040974}, {\"x\": 6.219718788925247, \"y\": -0.06342391965656452}, {\"x\": 6.346651825433926, \"y\": 0.06342391965656491}, {\"x\": 6.473584861942604, \"y\": 0.18925124436041013}, {\"x\": 6.600517898451283, \"y\": 0.31203344569848745}, {\"x\": 6.727450934959961, \"y\": 0.42979491208917153}, {\"x\": 6.85438397146864, \"y\": 0.5406408174555979}, {\"x\": 6.981317007977318, \"y\": 0.6427876096865393}, {\"x\": 7.108250044485997, \"y\": 0.7345917086575334}, {\"x\": 7.235183080994675, \"y\": 0.8145759520503355}, {\"x\": 7.362116117503354, \"y\": 0.8814533634475821}, {\"x\": 7.489049154012032, \"y\": 0.9341478602651067}, {\"x\": 7.615982190520711, \"y\": 0.9718115683235418}, {\"x\": 7.742915227029389, \"y\": 0.9938384644612541}, {\"x\": 7.869848263538068, \"y\": 0.9998741276738751}, {\"x\": 7.996781300046746, \"y\": 0.9898214418809328}, {\"x\": 8.123714336555425, \"y\": 0.963842158559942}, {\"x\": 8.250647373064103, \"y\": 0.9223542941045816}, {\"x\": 8.377580409572783, \"y\": 0.8660254037844383}, {\"x\": 8.50451344608146, \"y\": 0.7957618405308319}, {\"x\": 8.631446482590139, \"y\": 0.7126941713788629}, {\"x\": 8.758379519098817, \"y\": 0.6181589862206056}, {\"x\": 8.885312555607497, \"y\": 0.5136773915734056}, {\"x\": 9.012245592116175, \"y\": 0.40093053540661344}, {\"x\": 9.139178628624853, \"y\": 0.2817325568414299}, {\"x\": 9.266111665133531, \"y\": 0.15800139597335056}, {\"x\": 9.39304470164221, \"y\": 0.03172793349806701}, {\"x\": 9.519977738150889, \"y\": -0.09505604330418284}, {\"x\": 9.646910774659567, \"y\": -0.22031053278654034}, {\"x\": 9.773843811168245, \"y\": -0.342020143325668}, {\"x\": 9.900776847676925, \"y\": -0.45822652172741085}, {\"x\": 10.027709884185603, \"y\": -0.5670598638627709}, {\"x\": 10.15464292069428, \"y\": -0.6667690005162913}, {\"x\": 10.28157595720296, \"y\": -0.7557495743542588}, {\"x\": 10.408508993711639, \"y\": -0.8325698546347716}, {\"x\": 10.535442030220317, \"y\": -0.8959937742913359}, {\"x\": 10.662375066728995, \"y\": -0.9450008187146683}, {\"x\": 10.789308103237675, \"y\": -0.9788024462147789}, {\"x\": 10.916241139746353, \"y\": -0.9968547759519424}, {\"x\": 11.04317417625503, \"y\": -0.998867339183008}, {\"x\": 11.170107212763709, \"y\": -0.9848077530122081}, {\"x\": 11.297040249272388, \"y\": -0.9549022414440737}, {\"x\": 11.423973285781067, \"y\": -0.9096319953545183}, {\"x\": 11.550906322289745, \"y\": -0.8497254299495145}, {\"x\": 11.677839358798423, \"y\": -0.7761464642917573}, {\"x\": 11.804772395307102, \"y\": -0.6900790114821116}, {\"x\": 11.93170543181578, \"y\": -0.5929079290546404}, {\"x\": 12.058638468324459, \"y\": -0.486196736100469}, {\"x\": 12.185571504833138, \"y\": -0.3716624556603267}, {\"x\": 12.312504541341816, \"y\": -0.2511479871810788}, {\"x\": 12.439437577850494, \"y\": -0.1265924535737493}, {\"x\": 12.566370614359172, \"y\": -4.898587196589413e-16}]}]};\n",
       "                </script>\n",
       "                <script>\n",
       "                    (function() {\n",
       "                        var plot = function(session, object) {\n",
       "\n",
       "            var chart = nv.models.lineChart()\n",
       "                    .focusEnable(false)\n",
       "                    .useInteractiveGuideline(true)\n",
       "                    .margin({right:  40})\n",
       "                    .margin({bottom: 60})\n",
       "\n",
       "            chart.xAxis.showMaxMin(false)\n",
       "                       .tickFormat(d3.format(',.1f'))\n",
       "\n",
       "            chart.yAxis.showMaxMin(false)\n",
       "                       .tickFormat(d3.format(',.1f'))\n",
       "\n",
       "            session.__functions.makeChart(session, object, chart);\n",
       "        }\n",
       "                        var synch = function(session, object) {\n",
       "                            window.nvd3_stat.promise.then(function() {\n",
       "                                window.nvd3_stat.session.__functions.charts[\"lineChart_008\"] = plot;\n",
       "                                plot(session, object);\n",
       "                            })\n",
       "                        }\n",
       "                        document.getElementById(\"lineChart_008\")\n",
       "                                .addEventListener(\"load\", synch(window.nvd3_stat.session, \n",
       "                                                  {\"event\":\"plot\", \"data\": data_lineChart_008, \"plotId\":\"lineChart_008\"}))\n",
       "                    })();\n",
       "                </script>\n",
       "            </div>\n",
       "            \n",
       "            <div id=\"lineChart_009\" class=\"with-3d-shadow with-transitions\" style=\"float:left; height:300px; width:400px\">\n",
       "                <svg></svg>\n",
       "                <script class=\"nvd3_data\">\n",
       "                    var data_lineChart_009 = {\"config\": {\"height\": 300, \"width\": 400, \"color\": [\"#ff7f0e\", \"#2ca02c\", \"#d62728\", \"#9467bd\", \"#8c564b\", \"#e377c2\", \"#7f7f7f\", \"#bcbd22\", \"#17becf\"], \"yAxis\": {\"tickFormat\": \",.2f\", \"axisLabel\": \"f(x)\"}, \"yDomain\": [-1.2, 1.2], \"xAxis\": {\"tickFormat\": \",.2f\", \"axisLabel\": \"x\"}}, \"data\": [{\"key\": \"Cos\", \"classed\": \"dotted\", \"area\": false, \"values\": [{\"x\": 0.0, \"y\": 1.0}, {\"x\": 0.12693303650867852, \"y\": 0.9919548128307953}, {\"x\": 0.25386607301735703, \"y\": 0.9679487013963562}, {\"x\": 0.3807991095260356, \"y\": 0.9283679330160726}, {\"x\": 0.5077321460347141, \"y\": 0.8738493770697849}, {\"x\": 0.6346651825433925, \"y\": 0.8052702575310586}, {\"x\": 0.7615982190520711, \"y\": 0.7237340381050701}, {\"x\": 0.8885312555607496, \"y\": 0.6305526670845225}, {\"x\": 1.0154642920694281, \"y\": 0.5272254676105025}, {\"x\": 1.1423973285781066, \"y\": 0.41541501300188644}, {\"x\": 1.269330365086785, \"y\": 0.2969203753282749}, {\"x\": 1.3962634015954636, \"y\": 0.17364817766693041}, {\"x\": 1.5231964381041423, \"y\": 0.04758191582374218}, {\"x\": 1.6501294746128208, \"y\": -0.07924995685678855}, {\"x\": 1.7770625111214993, \"y\": -0.20480666806519074}, {\"x\": 1.9039955476301778, \"y\": -0.32706796331742166}, {\"x\": 2.0309285841388562, \"y\": -0.4440666126057741}, {\"x\": 2.1578616206475347, \"y\": -0.5539200638661103}, {\"x\": 2.284794657156213, \"y\": -0.654860733945285}, {\"x\": 2.4117276936648917, \"y\": -0.7452644496757547}, {\"x\": 2.53866073017357, \"y\": -0.8236765814298327}, {\"x\": 2.6655937666822487, \"y\": -0.8888354486549234}, {\"x\": 2.792526803190927, \"y\": -0.9396926207859083}, {\"x\": 2.9194598396996057, \"y\": -0.975429786885407}, {\"x\": 3.0463928762082846, \"y\": -0.9954719225730846}, {\"x\": 3.173325912716963, \"y\": -0.9994965423831851}, {\"x\": 3.3002589492256416, \"y\": -0.9874388886763943}, {\"x\": 3.42719198573432, \"y\": -0.9594929736144974}, {\"x\": 3.5541250222429985, \"y\": -0.9161084574320696}, {\"x\": 3.681058058751677, \"y\": -0.857983413234977}, {\"x\": 3.8079910952603555, \"y\": -0.7860530947427874}, {\"x\": 3.934924131769034, \"y\": -0.7014748877063213}, {\"x\": 4.0618571682777125, \"y\": -0.6056096871376667}, {\"x\": 4.188790204786391, \"y\": -0.49999999999999967}, {\"x\": 4.3157232412950695, \"y\": -0.3863451256931287}, {\"x\": 4.442656277803748, \"y\": -0.26647381369003464}, {\"x\": 4.569589314312426, \"y\": -0.14231483827328525}, {\"x\": 4.696522350821105, \"y\": -0.01586596383480761}, {\"x\": 4.823455387329783, \"y\": 0.11083819990101086}, {\"x\": 4.950388423838462, \"y\": 0.23575893550942748}, {\"x\": 5.07732146034714, \"y\": 0.35688622159187167}, {\"x\": 5.204254496855819, \"y\": 0.47227107477268293}, {\"x\": 5.331187533364497, \"y\": 0.5800569095711979}, {\"x\": 5.458120569873176, \"y\": 0.6785094115571323}, {\"x\": 5.585053606381854, \"y\": 0.7660444431189779}, {\"x\": 5.711986642890533, \"y\": 0.8412535328311812}, {\"x\": 5.838919679399211, \"y\": 0.9029265382866211}, {\"x\": 5.96585271590789, \"y\": 0.9500711177409454}, {\"x\": 6.092785752416569, \"y\": 0.9819286972627068}, {\"x\": 6.219718788925247, \"y\": 0.9979866764718844}, {\"x\": 6.346651825433926, \"y\": 0.9979866764718843}, {\"x\": 6.473584861942604, \"y\": 0.9819286972627067}, {\"x\": 6.600517898451283, \"y\": 0.9500711177409452}, {\"x\": 6.727450934959961, \"y\": 0.9029265382866213}, {\"x\": 6.85438397146864, \"y\": 0.841253532831181}, {\"x\": 6.981317007977318, \"y\": 0.7660444431189781}, {\"x\": 7.108250044485997, \"y\": 0.6785094115571321}, {\"x\": 7.235183080994675, \"y\": 0.5800569095711984}, {\"x\": 7.362116117503354, \"y\": 0.4722710747726826}, {\"x\": 7.489049154012032, \"y\": 0.3568862215918721}, {\"x\": 7.615982190520711, \"y\": 0.2357589355094271}, {\"x\": 7.742915227029389, \"y\": 0.11083819990101135}, {\"x\": 7.869848263538068, \"y\": -0.015865963834808008}, {\"x\": 7.996781300046746, \"y\": -0.14231483827328475}, {\"x\": 8.123714336555425, \"y\": -0.266473813690035}, {\"x\": 8.250647373064103, \"y\": -0.3863451256931282}, {\"x\": 8.377580409572783, \"y\": -0.5000000000000007}, {\"x\": 8.50451344608146, \"y\": -0.6056096871376669}, {\"x\": 8.631446482590139, \"y\": -0.7014748877063212}, {\"x\": 8.758379519098817, \"y\": -0.7860530947427872}, {\"x\": 8.885312555607497, \"y\": -0.8579834132349774}, {\"x\": 9.012245592116175, \"y\": -0.9161084574320697}, {\"x\": 9.139178628624853, \"y\": -0.9594929736144974}, {\"x\": 9.266111665133531, \"y\": -0.9874388886763943}, {\"x\": 9.39304470164221, \"y\": -0.9994965423831852}, {\"x\": 9.519977738150889, \"y\": -0.9954719225730846}, {\"x\": 9.646910774659567, \"y\": -0.9754297868854072}, {\"x\": 9.773843811168245, \"y\": -0.9396926207859086}, {\"x\": 9.900776847676925, \"y\": -0.8888354486549233}, {\"x\": 10.027709884185603, \"y\": -0.8236765814298327}, {\"x\": 10.15464292069428, \"y\": -0.745264449675755}, {\"x\": 10.28157595720296, \"y\": -0.6548607339452844}, {\"x\": 10.408508993711639, \"y\": -0.5539200638661099}, {\"x\": 10.535442030220317, \"y\": -0.4440666126057742}, {\"x\": 10.662375066728995, \"y\": -0.32706796331742216}, {\"x\": 10.789308103237675, \"y\": -0.2048066680651899}, {\"x\": 10.916241139746353, \"y\": -0.07924995685678815}, {\"x\": 11.04317417625503, \"y\": 0.04758191582374213}, {\"x\": 11.170107212763709, \"y\": 0.17364817766692975}, {\"x\": 11.297040249272388, \"y\": 0.2969203753282755}, {\"x\": 11.423973285781067, \"y\": 0.4154150130018866}, {\"x\": 11.550906322289745, \"y\": 0.5272254676105022}, {\"x\": 11.677839358798423, \"y\": 0.6305526670845218}, {\"x\": 11.804772395307102, \"y\": 0.7237340381050705}, {\"x\": 11.93170543181578, \"y\": 0.8052702575310586}, {\"x\": 12.058638468324459, \"y\": 0.8738493770697848}, {\"x\": 12.185571504833138, \"y\": 0.9283679330160729}, {\"x\": 12.312504541341816, \"y\": 0.9679487013963564}, {\"x\": 12.439437577850494, \"y\": 0.9919548128307953}, {\"x\": 12.566370614359172, \"y\": 1.0}]}]};\n",
       "                </script>\n",
       "                <script>\n",
       "                    (function() {\n",
       "                        var plot = function(session, object) {\n",
       "\n",
       "            var chart = nv.models.lineChart()\n",
       "                    .focusEnable(false)\n",
       "                    .useInteractiveGuideline(true)\n",
       "                    .margin({right:  40})\n",
       "                    .margin({bottom: 60})\n",
       "\n",
       "            chart.xAxis.showMaxMin(false)\n",
       "                       .tickFormat(d3.format(',.1f'))\n",
       "\n",
       "            chart.yAxis.showMaxMin(false)\n",
       "                       .tickFormat(d3.format(',.1f'))\n",
       "\n",
       "            session.__functions.makeChart(session, object, chart);\n",
       "        }\n",
       "                        var synch = function(session, object) {\n",
       "                            window.nvd3_stat.promise.then(function() {\n",
       "                                window.nvd3_stat.session.__functions.charts[\"lineChart_009\"] = plot;\n",
       "                                plot(session, object);\n",
       "                            })\n",
       "                        }\n",
       "                        document.getElementById(\"lineChart_009\")\n",
       "                                .addEventListener(\"load\", synch(window.nvd3_stat.session, \n",
       "                                                  {\"event\":\"plot\", \"data\": data_lineChart_009, \"plotId\":\"lineChart_009\"}))\n",
       "                    })();\n",
       "                </script>\n",
       "            </div>\n",
       "            \n",
       "            <div id=\"lineChart_010\" class=\"with-3d-shadow with-transitions\" style=\"float:left; height:300px; width:400px\">\n",
       "                <svg></svg>\n",
       "                <script class=\"nvd3_data\">\n",
       "                    var data_lineChart_010 = {\"config\": {\"height\": 300, \"width\": 400, \"color\": [\"#2ca02c\", \"#d62728\", \"#9467bd\", \"#8c564b\", \"#e377c2\", \"#7f7f7f\", \"#bcbd22\", \"#17becf\"], \"yAxis\": {\"tickFormat\": \",.2f\", \"axisLabel\": \"f(x)\"}, \"yDomain\": [-1.2, 1.2], \"xAxis\": {\"tickFormat\": \",.2f\", \"axisLabel\": \"x\"}}, \"data\": [{\"key\": \"ArcTan\", \"area\": true, \"fillOpacity\": 1.0, \"values\": [{\"x\": 0.0, \"y\": -0.47098837883557926}, {\"x\": 0.12693303650867852, \"y\": -0.46992210020343866}, {\"x\": 0.25386607301735703, \"y\": -0.46881210376014343}, {\"x\": 0.3807991095260356, \"y\": -0.46765567077002185}, {\"x\": 0.5077321460347141, \"y\": -0.46644985464978306}, {\"x\": 0.6346651825433925, \"y\": -0.46519145685995267}, {\"x\": 0.7615982190520711, \"y\": -0.4638769997073948}, {\"x\": 0.8885312555607496, \"y\": -0.4625026955936227}, {\"x\": 1.0154642920694281, \"y\": -0.4610644121630311}, {\"x\": 1.1423973285781066, \"y\": -0.45955763270886835}, {\"x\": 1.269330365086785, \"y\": -0.4579774110792972}, {\"x\": 1.3962634015954636, \"y\": -0.4563183201870366}, {\"x\": 1.5231964381041423, \"y\": -0.45457439305860237}, {\"x\": 1.6501294746128208, \"y\": -0.45273905515655327}, {\"x\": 1.7770625111214993, \"y\": -0.4508050464622835}, {\"x\": 1.9039955476301778, \"y\": -0.44876433150764905}, {\"x\": 2.0309285841388562, \"y\": -0.4466079951783772}, {\"x\": 2.1578616206475347, \"y\": -0.44432612166490326}, {\"x\": 2.284794657156213, \"y\": -0.4419076533870665}, {\"x\": 2.4117276936648917, \"y\": -0.4393402260429909}, {\"x\": 2.53866073017357, \"y\": -0.43660997509818017}, {\"x\": 2.6655937666822487, \"y\": -0.43370130799926354}, {\"x\": 2.792526803190927, \"y\": -0.4305966351193506}, {\"x\": 2.9194598396996057, \"y\": -0.4272760508586448}, {\"x\": 3.0463928762082846, \"y\": -0.42371695436186957}, {\"x\": 3.173325912716963, \"y\": -0.4198935968861323}, {\"x\": 3.3002589492256416, \"y\": -0.4157765398587067}, {\"x\": 3.42719198573432, \"y\": -0.41133200399463704}, {\"x\": 3.5541250222429985, \"y\": -0.4065210853933057}, {\"x\": 3.681058058751677, \"y\": -0.40129880922607786}, {\"x\": 3.8079910952603555, \"y\": -0.39561298547460666}, {\"x\": 3.934924131769034, \"y\": -0.38940282438478274}, {\"x\": 4.0618571682777125, \"y\": -0.38259726246088177}, {\"x\": 4.188790204786391, \"y\": -0.3751129442947661}, {\"x\": 4.3157232412950695, \"y\": -0.3668518040844415}, {\"x\": 4.442656277803748, \"y\": -0.3576981987142925}, {\"x\": 4.569589314312426, \"y\": -0.3475155717229776}, {\"x\": 4.696522350821105, \"y\": -0.3361426923188633}, {\"x\": 4.823455387329783, \"y\": -0.3233896470178511}, {\"x\": 4.950388423838462, \"y\": -0.3090340154219568}, {\"x\": 5.07732146034714, \"y\": -0.29281811710651023}, {\"x\": 5.204254496855819, \"y\": -0.27444898578566884}, {\"x\": 5.331187533364497, \"y\": -0.25360392874155463}, {\"x\": 5.458120569873176, \"y\": -0.22994618776339915}, {\"x\": 5.585053606381854, \"y\": -0.20315699047580982}, {\"x\": 5.711986642890533, \"y\": -0.1729909274897151}, {\"x\": 5.838919679399211, \"y\": -0.13935833284604682}, {\"x\": 5.96585271590789, \"y\": -0.10242714550689658}, {\"x\": 6.092785752416569, \"y\": -0.06271585054614373}, {\"x\": 6.219718788925247, \"y\": -0.021127169751194812}, {\"x\": 6.346651825433926, \"y\": 0.021127169751195107}, {\"x\": 6.473584861942604, \"y\": 0.06271585054614402}, {\"x\": 6.600517898451283, \"y\": 0.10242714550689686}, {\"x\": 6.727450934959961, \"y\": 0.13935833284604682}, {\"x\": 6.85438397146864, \"y\": 0.1729909274897153}, {\"x\": 6.981317007977318, \"y\": 0.20315699047580982}, {\"x\": 7.108250044485997, \"y\": 0.22994618776339928}, {\"x\": 7.235183080994675, \"y\": 0.25360392874155463}, {\"x\": 7.362116117503354, \"y\": 0.27444898578566895}, {\"x\": 7.489049154012032, \"y\": 0.29281811710651023}, {\"x\": 7.615982190520711, \"y\": 0.3090340154219569}, {\"x\": 7.742915227029389, \"y\": 0.3233896470178511}, {\"x\": 7.869848263538068, \"y\": 0.33614269231886346}, {\"x\": 7.996781300046746, \"y\": 0.3475155717229776}, {\"x\": 8.123714336555425, \"y\": 0.3576981987142926}, {\"x\": 8.250647373064103, \"y\": 0.3668518040844415}, {\"x\": 8.377580409572783, \"y\": 0.3751129442947662}, {\"x\": 8.50451344608146, \"y\": 0.3825972624608818}, {\"x\": 8.631446482590139, \"y\": 0.38940282438478285}, {\"x\": 8.758379519098817, \"y\": 0.39561298547460666}, {\"x\": 8.885312555607497, \"y\": 0.40129880922607786}, {\"x\": 9.012245592116175, \"y\": 0.40652108539330584}, {\"x\": 9.139178628624853, \"y\": 0.41133200399463704}, {\"x\": 9.266111665133531, \"y\": 0.4157765398587067}, {\"x\": 9.39304470164221, \"y\": 0.4198935968861323}, {\"x\": 9.519977738150889, \"y\": 0.42371695436186957}, {\"x\": 9.646910774659567, \"y\": 0.4272760508586448}, {\"x\": 9.773843811168245, \"y\": 0.4305966351193506}, {\"x\": 9.900776847676925, \"y\": 0.43370130799926354}, {\"x\": 10.027709884185603, \"y\": 0.43660997509818017}, {\"x\": 10.15464292069428, \"y\": 0.4393402260429909}, {\"x\": 10.28157595720296, \"y\": 0.4419076533870665}, {\"x\": 10.408508993711639, \"y\": 0.44432612166490326}, {\"x\": 10.535442030220317, \"y\": 0.4466079951783772}, {\"x\": 10.662375066728995, \"y\": 0.44876433150764905}, {\"x\": 10.789308103237675, \"y\": 0.4508050464622835}, {\"x\": 10.916241139746353, \"y\": 0.45273905515655327}, {\"x\": 11.04317417625503, \"y\": 0.45457439305860237}, {\"x\": 11.170107212763709, \"y\": 0.4563183201870366}, {\"x\": 11.297040249272388, \"y\": 0.4579774110792972}, {\"x\": 11.423973285781067, \"y\": 0.45955763270886835}, {\"x\": 11.550906322289745, \"y\": 0.4610644121630311}, {\"x\": 11.677839358798423, \"y\": 0.4625026955936227}, {\"x\": 11.804772395307102, \"y\": 0.4638769997073948}, {\"x\": 11.93170543181578, \"y\": 0.4651914568599527}, {\"x\": 12.058638468324459, \"y\": 0.46644985464978306}, {\"x\": 12.185571504833138, \"y\": 0.46765567077002185}, {\"x\": 12.312504541341816, \"y\": 0.46881210376014343}, {\"x\": 12.439437577850494, \"y\": 0.46992210020343866}, {\"x\": 12.566370614359172, \"y\": 0.47098837883557926}]}]};\n",
       "                </script>\n",
       "                <script>\n",
       "                    (function() {\n",
       "                        var plot = function(session, object) {\n",
       "\n",
       "            var chart = nv.models.lineChart()\n",
       "                    .focusEnable(false)\n",
       "                    .useInteractiveGuideline(true)\n",
       "                    .margin({right:  40})\n",
       "                    .margin({bottom: 60})\n",
       "\n",
       "            chart.xAxis.showMaxMin(false)\n",
       "                       .tickFormat(d3.format(',.1f'))\n",
       "\n",
       "            chart.yAxis.showMaxMin(false)\n",
       "                       .tickFormat(d3.format(',.1f'))\n",
       "\n",
       "            session.__functions.makeChart(session, object, chart);\n",
       "        }\n",
       "                        var synch = function(session, object) {\n",
       "                            window.nvd3_stat.promise.then(function() {\n",
       "                                window.nvd3_stat.session.__functions.charts[\"lineChart_010\"] = plot;\n",
       "                                plot(session, object);\n",
       "                            })\n",
       "                        }\n",
       "                        document.getElementById(\"lineChart_010\")\n",
       "                                .addEventListener(\"load\", synch(window.nvd3_stat.session, \n",
       "                                                  {\"event\":\"plot\", \"data\": data_lineChart_010, \"plotId\":\"lineChart_010\"}))\n",
       "                    })();\n",
       "                </script>\n",
       "            </div>\n",
       "            "
      ]
     },
     "metadata": {},
     "output_type": "display_data"
    }
   ],
   "source": [
    "l2 = nv.lineChart()\n",
    "\n",
    "def config(i):\n",
    "    return {\"height\":300, \"width\": 400, \"color\":nv.c10()[i-1:], \n",
    "            \"yAxis\":{\"axisLabel\":\"f(x)\", \"tickFormat\":\",.2f\"}, \n",
    "            \"xAxis\":{\"axisLabel\":\"x\",    \"tickFormat\":\",.2f\"},\n",
    "            \"yDomain\":[-1.2,1.2]}\n",
    "\n",
    "lineAttributes1={\"area\":True,  \"fillOpacity\":0.2, \"style\":\"dashed\"}\n",
    "lineAttributes2={\"area\":False,                    \"style\":\"dotted\"}\n",
    "lineAttributes3={\"area\":True,  \"fillOpacity\":1.0                  }\n",
    "\n",
    "l2.hplot([l2.chart(l_df, \"X\", \"Sin\",    lineAttributes1, config=config(1)),\n",
    "          l2.chart(l_df, \"X\", \"Cos\",    lineAttributes2, config=config(2)),\n",
    "          l2.chart(l_df, \"X\", \"ArcTan\", lineAttributes3, config=config(3))])"
   ]
  },
  {
   "cell_type": "markdown",
   "metadata": {},
   "source": [
    "#### Multiple lines"
   ]
  },
  {
   "cell_type": "code",
   "execution_count": 17,
   "metadata": {
    "collapsed": false,
    "scrolled": false
   },
   "outputs": [
    {
     "data": {
      "text/html": [
       "<style>.dashed { stroke-dasharray: 7,7; }\n",
       ".dotted { stroke-dasharray: 3,3; } </style>"
      ]
     },
     "metadata": {},
     "output_type": "display_data"
    },
    {
     "data": {
      "text/html": [
       "<div style=\"height:500px; width:1024px\">\n",
       "            <div id=\"lineChart_011\" class=\"with-3d-shadow with-transitions\" style=\" height:500px; width:1024px\">\n",
       "                <svg></svg>\n",
       "                <script class=\"nvd3_data\">\n",
       "                    var data_lineChart_011 = {\"config\": {\"focusEnable\": false, \"height\": 500, \"width\": 1024, \"color\": [\"#e7ba52\", \"#e7cb94\", \"#843c39\"], \"yAxis\": {\"tickFormat\": \",.2f\", \"axisLabel\": \"f(x)\"}, \"xAxis\": {\"tickFormat\": \",.2f\", \"axisLabel\": \"x\"}, \"duration\": 0}, \"data\": [{\"key\": \"Sin\", \"classed\": \"dashed\", \"area\": true, \"fillOpacity\": 0.2, \"values\": [{\"x\": 0.0, \"y\": 0.0}, {\"x\": 0.12693303650867852, \"y\": 0.12659245357374926}, {\"x\": 0.25386607301735703, \"y\": 0.2511479871810792}, {\"x\": 0.3807991095260356, \"y\": 0.3716624556603276}, {\"x\": 0.5077321460347141, \"y\": 0.4861967361004687}, {\"x\": 0.6346651825433925, \"y\": 0.5929079290546404}, {\"x\": 0.7615982190520711, \"y\": 0.690079011482112}, {\"x\": 0.8885312555607496, \"y\": 0.7761464642917568}, {\"x\": 1.0154642920694281, \"y\": 0.8497254299495144}, {\"x\": 1.1423973285781066, \"y\": 0.9096319953545183}, {\"x\": 1.269330365086785, \"y\": 0.9549022414440739}, {\"x\": 1.3962634015954636, \"y\": 0.984807753012208}, {\"x\": 1.5231964381041423, \"y\": 0.998867339183008}, {\"x\": 1.6501294746128208, \"y\": 0.9968547759519424}, {\"x\": 1.7770625111214993, \"y\": 0.9788024462147787}, {\"x\": 1.9039955476301778, \"y\": 0.9450008187146685}, {\"x\": 2.0309285841388562, \"y\": 0.8959937742913359}, {\"x\": 2.1578616206475347, \"y\": 0.8325698546347714}, {\"x\": 2.284794657156213, \"y\": 0.7557495743542584}, {\"x\": 2.4117276936648917, \"y\": 0.6667690005162916}, {\"x\": 2.53866073017357, \"y\": 0.5670598638627709}, {\"x\": 2.6655937666822487, \"y\": 0.4582265217274105}, {\"x\": 2.792526803190927, \"y\": 0.3420201433256689}, {\"x\": 2.9194598396996057, \"y\": 0.2203105327865408}, {\"x\": 3.0463928762082846, \"y\": 0.09505604330418244}, {\"x\": 3.173325912716963, \"y\": -0.03172793349806785}, {\"x\": 3.3002589492256416, \"y\": -0.15800139597335008}, {\"x\": 3.42719198573432, \"y\": -0.28173255684142984}, {\"x\": 3.5541250222429985, \"y\": -0.40093053540661383}, {\"x\": 3.681058058751677, \"y\": -0.5136773915734064}, {\"x\": 3.8079910952603555, \"y\": -0.6181589862206053}, {\"x\": 3.934924131769034, \"y\": -0.7126941713788628}, {\"x\": 4.0618571682777125, \"y\": -0.7957618405308321}, {\"x\": 4.188790204786391, \"y\": -0.8660254037844388}, {\"x\": 4.3157232412950695, \"y\": -0.9223542941045814}, {\"x\": 4.442656277803748, \"y\": -0.9638421585599422}, {\"x\": 4.569589314312426, \"y\": -0.9898214418809327}, {\"x\": 4.696522350821105, \"y\": -0.9998741276738751}, {\"x\": 4.823455387329783, \"y\": -0.9938384644612541}, {\"x\": 4.950388423838462, \"y\": -0.9718115683235417}, {\"x\": 5.07732146034714, \"y\": -0.9341478602651068}, {\"x\": 5.204254496855819, \"y\": -0.881453363447582}, {\"x\": 5.331187533364497, \"y\": -0.814575952050336}, {\"x\": 5.458120569873176, \"y\": -0.7345917086575331}, {\"x\": 5.585053606381854, \"y\": -0.6427876096865396}, {\"x\": 5.711986642890533, \"y\": -0.5406408174555974}, {\"x\": 5.838919679399211, \"y\": -0.4297949120891719}, {\"x\": 5.96585271590789, \"y\": -0.31203344569848707}, {\"x\": 6.092785752416569, \"y\": -0.18925124436040974}, {\"x\": 6.219718788925247, \"y\": -0.06342391965656452}, {\"x\": 6.346651825433926, \"y\": 0.06342391965656491}, {\"x\": 6.473584861942604, \"y\": 0.18925124436041013}, {\"x\": 6.600517898451283, \"y\": 0.31203344569848745}, {\"x\": 6.727450934959961, \"y\": 0.42979491208917153}, {\"x\": 6.85438397146864, \"y\": 0.5406408174555979}, {\"x\": 6.981317007977318, \"y\": 0.6427876096865393}, {\"x\": 7.108250044485997, \"y\": 0.7345917086575334}, {\"x\": 7.235183080994675, \"y\": 0.8145759520503355}, {\"x\": 7.362116117503354, \"y\": 0.8814533634475821}, {\"x\": 7.489049154012032, \"y\": 0.9341478602651067}, {\"x\": 7.615982190520711, \"y\": 0.9718115683235418}, {\"x\": 7.742915227029389, \"y\": 0.9938384644612541}, {\"x\": 7.869848263538068, \"y\": 0.9998741276738751}, {\"x\": 7.996781300046746, \"y\": 0.9898214418809328}, {\"x\": 8.123714336555425, \"y\": 0.963842158559942}, {\"x\": 8.250647373064103, \"y\": 0.9223542941045816}, {\"x\": 8.377580409572783, \"y\": 0.8660254037844383}, {\"x\": 8.50451344608146, \"y\": 0.7957618405308319}, {\"x\": 8.631446482590139, \"y\": 0.7126941713788629}, {\"x\": 8.758379519098817, \"y\": 0.6181589862206056}]}, {\"key\": \"Cos\", \"classed\": \"dotted\", \"area\": false, \"fillOpacity\": 0, \"values\": [{\"x\": 0.0, \"y\": 1.0}, {\"x\": 0.12693303650867852, \"y\": 0.9919548128307953}, {\"x\": 0.25386607301735703, \"y\": 0.9679487013963562}, {\"x\": 0.3807991095260356, \"y\": 0.9283679330160726}, {\"x\": 0.5077321460347141, \"y\": 0.8738493770697849}, {\"x\": 0.6346651825433925, \"y\": 0.8052702575310586}, {\"x\": 0.7615982190520711, \"y\": 0.7237340381050701}, {\"x\": 0.8885312555607496, \"y\": 0.6305526670845225}, {\"x\": 1.0154642920694281, \"y\": 0.5272254676105025}, {\"x\": 1.1423973285781066, \"y\": 0.41541501300188644}, {\"x\": 1.269330365086785, \"y\": 0.2969203753282749}, {\"x\": 1.3962634015954636, \"y\": 0.17364817766693041}, {\"x\": 1.5231964381041423, \"y\": 0.04758191582374218}, {\"x\": 1.6501294746128208, \"y\": -0.07924995685678855}, {\"x\": 1.7770625111214993, \"y\": -0.20480666806519074}, {\"x\": 1.9039955476301778, \"y\": -0.32706796331742166}, {\"x\": 2.0309285841388562, \"y\": -0.4440666126057741}, {\"x\": 2.1578616206475347, \"y\": -0.5539200638661103}, {\"x\": 2.284794657156213, \"y\": -0.654860733945285}, {\"x\": 2.4117276936648917, \"y\": -0.7452644496757547}, {\"x\": 2.53866073017357, \"y\": -0.8236765814298327}, {\"x\": 2.6655937666822487, \"y\": -0.8888354486549234}, {\"x\": 2.792526803190927, \"y\": -0.9396926207859083}, {\"x\": 2.9194598396996057, \"y\": -0.975429786885407}, {\"x\": 3.0463928762082846, \"y\": -0.9954719225730846}, {\"x\": 3.173325912716963, \"y\": -0.9994965423831851}, {\"x\": 3.3002589492256416, \"y\": -0.9874388886763943}, {\"x\": 3.42719198573432, \"y\": -0.9594929736144974}, {\"x\": 3.5541250222429985, \"y\": -0.9161084574320696}, {\"x\": 3.681058058751677, \"y\": -0.857983413234977}, {\"x\": 3.8079910952603555, \"y\": -0.7860530947427874}, {\"x\": 3.934924131769034, \"y\": -0.7014748877063213}, {\"x\": 4.0618571682777125, \"y\": -0.6056096871376667}, {\"x\": 4.188790204786391, \"y\": -0.49999999999999967}, {\"x\": 4.3157232412950695, \"y\": -0.3863451256931287}, {\"x\": 4.442656277803748, \"y\": -0.26647381369003464}, {\"x\": 4.569589314312426, \"y\": -0.14231483827328525}, {\"x\": 4.696522350821105, \"y\": -0.01586596383480761}, {\"x\": 4.823455387329783, \"y\": 0.11083819990101086}, {\"x\": 4.950388423838462, \"y\": 0.23575893550942748}, {\"x\": 5.07732146034714, \"y\": 0.35688622159187167}, {\"x\": 5.204254496855819, \"y\": 0.47227107477268293}, {\"x\": 5.331187533364497, \"y\": 0.5800569095711979}, {\"x\": 5.458120569873176, \"y\": 0.6785094115571323}, {\"x\": 5.585053606381854, \"y\": 0.7660444431189779}, {\"x\": 5.711986642890533, \"y\": 0.8412535328311812}, {\"x\": 5.838919679399211, \"y\": 0.9029265382866211}, {\"x\": 5.96585271590789, \"y\": 0.9500711177409454}, {\"x\": 6.092785752416569, \"y\": 0.9819286972627068}, {\"x\": 6.219718788925247, \"y\": 0.9979866764718844}, {\"x\": 6.346651825433926, \"y\": 0.9979866764718843}, {\"x\": 6.473584861942604, \"y\": 0.9819286972627067}, {\"x\": 6.600517898451283, \"y\": 0.9500711177409452}, {\"x\": 6.727450934959961, \"y\": 0.9029265382866213}, {\"x\": 6.85438397146864, \"y\": 0.841253532831181}, {\"x\": 6.981317007977318, \"y\": 0.7660444431189781}, {\"x\": 7.108250044485997, \"y\": 0.6785094115571321}, {\"x\": 7.235183080994675, \"y\": 0.5800569095711984}, {\"x\": 7.362116117503354, \"y\": 0.4722710747726826}, {\"x\": 7.489049154012032, \"y\": 0.3568862215918721}, {\"x\": 7.615982190520711, \"y\": 0.2357589355094271}, {\"x\": 7.742915227029389, \"y\": 0.11083819990101135}, {\"x\": 7.869848263538068, \"y\": -0.015865963834808008}, {\"x\": 7.996781300046746, \"y\": -0.14231483827328475}, {\"x\": 8.123714336555425, \"y\": -0.266473813690035}, {\"x\": 8.250647373064103, \"y\": -0.3863451256931282}, {\"x\": 8.377580409572783, \"y\": -0.5000000000000007}, {\"x\": 8.50451344608146, \"y\": -0.6056096871376669}, {\"x\": 8.631446482590139, \"y\": -0.7014748877063212}, {\"x\": 8.758379519098817, \"y\": -0.7860530947427872}]}, {\"key\": \"ArcTan\", \"classed\": null, \"area\": true, \"fillOpacity\": 0.2, \"values\": [{\"x\": 0.0, \"y\": -0.47098837883557926}, {\"x\": 0.12693303650867852, \"y\": -0.46992210020343866}, {\"x\": 0.25386607301735703, \"y\": -0.46881210376014343}, {\"x\": 0.3807991095260356, \"y\": -0.46765567077002185}, {\"x\": 0.5077321460347141, \"y\": -0.46644985464978306}, {\"x\": 0.6346651825433925, \"y\": -0.46519145685995267}, {\"x\": 0.7615982190520711, \"y\": -0.4638769997073948}, {\"x\": 0.8885312555607496, \"y\": -0.4625026955936227}, {\"x\": 1.0154642920694281, \"y\": -0.4610644121630311}, {\"x\": 1.1423973285781066, \"y\": -0.45955763270886835}, {\"x\": 1.269330365086785, \"y\": -0.4579774110792972}, {\"x\": 1.3962634015954636, \"y\": -0.4563183201870366}, {\"x\": 1.5231964381041423, \"y\": -0.45457439305860237}, {\"x\": 1.6501294746128208, \"y\": -0.45273905515655327}, {\"x\": 1.7770625111214993, \"y\": -0.4508050464622835}, {\"x\": 1.9039955476301778, \"y\": -0.44876433150764905}, {\"x\": 2.0309285841388562, \"y\": -0.4466079951783772}, {\"x\": 2.1578616206475347, \"y\": -0.44432612166490326}, {\"x\": 2.284794657156213, \"y\": -0.4419076533870665}, {\"x\": 2.4117276936648917, \"y\": -0.4393402260429909}, {\"x\": 2.53866073017357, \"y\": -0.43660997509818017}, {\"x\": 2.6655937666822487, \"y\": -0.43370130799926354}, {\"x\": 2.792526803190927, \"y\": -0.4305966351193506}, {\"x\": 2.9194598396996057, \"y\": -0.4272760508586448}, {\"x\": 3.0463928762082846, \"y\": -0.42371695436186957}, {\"x\": 3.173325912716963, \"y\": -0.4198935968861323}, {\"x\": 3.3002589492256416, \"y\": -0.4157765398587067}, {\"x\": 3.42719198573432, \"y\": -0.41133200399463704}, {\"x\": 3.5541250222429985, \"y\": -0.4065210853933057}, {\"x\": 3.681058058751677, \"y\": -0.40129880922607786}, {\"x\": 3.8079910952603555, \"y\": -0.39561298547460666}, {\"x\": 3.934924131769034, \"y\": -0.38940282438478274}, {\"x\": 4.0618571682777125, \"y\": -0.38259726246088177}, {\"x\": 4.188790204786391, \"y\": -0.3751129442947661}, {\"x\": 4.3157232412950695, \"y\": -0.3668518040844415}, {\"x\": 4.442656277803748, \"y\": -0.3576981987142925}, {\"x\": 4.569589314312426, \"y\": -0.3475155717229776}, {\"x\": 4.696522350821105, \"y\": -0.3361426923188633}, {\"x\": 4.823455387329783, \"y\": -0.3233896470178511}, {\"x\": 4.950388423838462, \"y\": -0.3090340154219568}, {\"x\": 5.07732146034714, \"y\": -0.29281811710651023}, {\"x\": 5.204254496855819, \"y\": -0.27444898578566884}, {\"x\": 5.331187533364497, \"y\": -0.25360392874155463}, {\"x\": 5.458120569873176, \"y\": -0.22994618776339915}, {\"x\": 5.585053606381854, \"y\": -0.20315699047580982}, {\"x\": 5.711986642890533, \"y\": -0.1729909274897151}, {\"x\": 5.838919679399211, \"y\": -0.13935833284604682}, {\"x\": 5.96585271590789, \"y\": -0.10242714550689658}, {\"x\": 6.092785752416569, \"y\": -0.06271585054614373}, {\"x\": 6.219718788925247, \"y\": -0.021127169751194812}, {\"x\": 6.346651825433926, \"y\": 0.021127169751195107}, {\"x\": 6.473584861942604, \"y\": 0.06271585054614402}, {\"x\": 6.600517898451283, \"y\": 0.10242714550689686}, {\"x\": 6.727450934959961, \"y\": 0.13935833284604682}, {\"x\": 6.85438397146864, \"y\": 0.1729909274897153}, {\"x\": 6.981317007977318, \"y\": 0.20315699047580982}, {\"x\": 7.108250044485997, \"y\": 0.22994618776339928}, {\"x\": 7.235183080994675, \"y\": 0.25360392874155463}, {\"x\": 7.362116117503354, \"y\": 0.27444898578566895}, {\"x\": 7.489049154012032, \"y\": 0.29281811710651023}, {\"x\": 7.615982190520711, \"y\": 0.3090340154219569}, {\"x\": 7.742915227029389, \"y\": 0.3233896470178511}, {\"x\": 7.869848263538068, \"y\": 0.33614269231886346}, {\"x\": 7.996781300046746, \"y\": 0.3475155717229776}, {\"x\": 8.123714336555425, \"y\": 0.3576981987142926}, {\"x\": 8.250647373064103, \"y\": 0.3668518040844415}, {\"x\": 8.377580409572783, \"y\": 0.3751129442947662}, {\"x\": 8.50451344608146, \"y\": 0.3825972624608818}, {\"x\": 8.631446482590139, \"y\": 0.38940282438478285}, {\"x\": 8.758379519098817, \"y\": 0.39561298547460666}]}]};\n",
       "                </script>\n",
       "                <script>\n",
       "                    (function() {\n",
       "                        var plot = function(session, object) {\n",
       "\n",
       "            var chart = nv.models.lineChart()\n",
       "                    .focusEnable(false)\n",
       "                    .useInteractiveGuideline(true)\n",
       "                    .margin({right:  40})\n",
       "                    .margin({bottom: 60})\n",
       "\n",
       "            chart.xAxis.showMaxMin(false)\n",
       "                       .tickFormat(d3.format(',.1f'))\n",
       "\n",
       "            chart.yAxis.showMaxMin(false)\n",
       "                       .tickFormat(d3.format(',.1f'))\n",
       "\n",
       "            session.__functions.makeChart(session, object, chart);\n",
       "        }\n",
       "                        var synch = function(session, object) {\n",
       "                            window.nvd3_stat.promise.then(function() {\n",
       "                                window.nvd3_stat.session.__functions.charts[\"lineChart_011\"] = plot;\n",
       "                                plot(session, object);\n",
       "                            })\n",
       "                        }\n",
       "                        document.getElementById(\"lineChart_011\")\n",
       "                                .addEventListener(\"load\", synch(window.nvd3_stat.session, \n",
       "                                                  {\"event\":\"plot\", \"data\": data_lineChart_011, \"plotId\":\"lineChart_011\"}))\n",
       "                    })();\n",
       "                </script>\n",
       "            </div>\n",
       "            "
      ]
     },
     "metadata": {},
     "output_type": "display_data"
    }
   ],
   "source": [
    "l3 = nv.lineChart()\n",
    "\n",
    "config={\"height\":500, \"width\": 1024, \"color\":nv.c20b()[10:13], \n",
    "        \"yAxis\":{\"axisLabel\":\"f(x)\", \"tickFormat\":\",.2f\"}, \n",
    "        \"xAxis\":{\"axisLabel\":\"x\",    \"tickFormat\":\",.2f\"},\n",
    "        \"focusEnable\": False, \"duration\":0}\n",
    "        \n",
    "lineAttributes={\"area\":[True, False, True], \"fillOpacity\":[0.2, 0, 0.2], \"style\":[\"dashed\", \"dotted\", None]}\n",
    "\n",
    "l3.plot(l_df[:70], \"X\", [\"Sin\", \"Cos\", \"ArcTan\"], lineAttributes, config)"
   ]
  },
  {
   "cell_type": "markdown",
   "metadata": {},
   "source": [
    "### b) Append values"
   ]
  },
  {
   "cell_type": "code",
   "execution_count": 18,
   "metadata": {
    "collapsed": false,
    "scrolled": false
   },
   "outputs": [],
   "source": [
    "for i in range(71,100):\n",
    "    time.sleep(0.05)\n",
    "    l3.append(l_df[i:i+1])"
   ]
  },
  {
   "cell_type": "markdown",
   "metadata": {},
   "source": [
    "### c) Save it as png"
   ]
  },
  {
   "cell_type": "code",
   "execution_count": 19,
   "metadata": {
    "collapsed": false
   },
   "outputs": [],
   "source": [
    "l3.saveAsPng(\"line.png\", backgroundColor=\"white\")"
   ]
  },
  {
   "cell_type": "markdown",
   "metadata": {},
   "source": [
    "### d) Clone it to save dynamic chart in notebook"
   ]
  },
  {
   "cell_type": "code",
   "execution_count": 20,
   "metadata": {
    "collapsed": false
   },
   "outputs": [
    {
     "data": {
      "text/html": [
       "<style>.dashed { stroke-dasharray: 7,7; }\n",
       ".dotted { stroke-dasharray: 3,3; } </style>"
      ]
     },
     "metadata": {},
     "output_type": "display_data"
    },
    {
     "data": {
      "text/html": [
       "<div style=\"height:500px; width:1024px\">\n",
       "            <div id=\"lineChart_012\" class=\"with-3d-shadow with-transitions\" style=\" height:500px; width:1024px\">\n",
       "                <svg></svg>\n",
       "                <script class=\"nvd3_data\">\n",
       "                    var data_lineChart_012 = {\"config\": {\"focusEnable\": false, \"height\": 500, \"width\": 1024, \"color\": [\"#e7ba52\", \"#e7cb94\", \"#843c39\"], \"yAxis\": {\"tickFormat\": \",.2f\", \"axisLabel\": \"f(x)\"}, \"xAxis\": {\"tickFormat\": \",.2f\", \"axisLabel\": \"x\"}, \"duration\": 0}, \"data\": [{\"key\": \"Sin\", \"classed\": \"dashed\", \"area\": true, \"fillOpacity\": 0.2, \"values\": [{\"x\": 0.0, \"y\": 0.0}, {\"x\": 0.12693303650867852, \"y\": 0.12659245357374926}, {\"x\": 0.25386607301735703, \"y\": 0.2511479871810792}, {\"x\": 0.3807991095260356, \"y\": 0.3716624556603276}, {\"x\": 0.5077321460347141, \"y\": 0.4861967361004687}, {\"x\": 0.6346651825433925, \"y\": 0.5929079290546404}, {\"x\": 0.7615982190520711, \"y\": 0.690079011482112}, {\"x\": 0.8885312555607496, \"y\": 0.7761464642917568}, {\"x\": 1.0154642920694281, \"y\": 0.8497254299495144}, {\"x\": 1.1423973285781066, \"y\": 0.9096319953545183}, {\"x\": 1.269330365086785, \"y\": 0.9549022414440739}, {\"x\": 1.3962634015954636, \"y\": 0.984807753012208}, {\"x\": 1.5231964381041423, \"y\": 0.998867339183008}, {\"x\": 1.6501294746128208, \"y\": 0.9968547759519424}, {\"x\": 1.7770625111214993, \"y\": 0.9788024462147787}, {\"x\": 1.9039955476301778, \"y\": 0.9450008187146685}, {\"x\": 2.0309285841388562, \"y\": 0.8959937742913359}, {\"x\": 2.1578616206475347, \"y\": 0.8325698546347714}, {\"x\": 2.284794657156213, \"y\": 0.7557495743542584}, {\"x\": 2.4117276936648917, \"y\": 0.6667690005162916}, {\"x\": 2.53866073017357, \"y\": 0.5670598638627709}, {\"x\": 2.6655937666822487, \"y\": 0.4582265217274105}, {\"x\": 2.792526803190927, \"y\": 0.3420201433256689}, {\"x\": 2.9194598396996057, \"y\": 0.2203105327865408}, {\"x\": 3.0463928762082846, \"y\": 0.09505604330418244}, {\"x\": 3.173325912716963, \"y\": -0.03172793349806785}, {\"x\": 3.3002589492256416, \"y\": -0.15800139597335008}, {\"x\": 3.42719198573432, \"y\": -0.28173255684142984}, {\"x\": 3.5541250222429985, \"y\": -0.40093053540661383}, {\"x\": 3.681058058751677, \"y\": -0.5136773915734064}, {\"x\": 3.8079910952603555, \"y\": -0.6181589862206053}, {\"x\": 3.934924131769034, \"y\": -0.7126941713788628}, {\"x\": 4.0618571682777125, \"y\": -0.7957618405308321}, {\"x\": 4.188790204786391, \"y\": -0.8660254037844388}, {\"x\": 4.3157232412950695, \"y\": -0.9223542941045814}, {\"x\": 4.442656277803748, \"y\": -0.9638421585599422}, {\"x\": 4.569589314312426, \"y\": -0.9898214418809327}, {\"x\": 4.696522350821105, \"y\": -0.9998741276738751}, {\"x\": 4.823455387329783, \"y\": -0.9938384644612541}, {\"x\": 4.950388423838462, \"y\": -0.9718115683235417}, {\"x\": 5.07732146034714, \"y\": -0.9341478602651068}, {\"x\": 5.204254496855819, \"y\": -0.881453363447582}, {\"x\": 5.331187533364497, \"y\": -0.814575952050336}, {\"x\": 5.458120569873176, \"y\": -0.7345917086575331}, {\"x\": 5.585053606381854, \"y\": -0.6427876096865396}, {\"x\": 5.711986642890533, \"y\": -0.5406408174555974}, {\"x\": 5.838919679399211, \"y\": -0.4297949120891719}, {\"x\": 5.96585271590789, \"y\": -0.31203344569848707}, {\"x\": 6.092785752416569, \"y\": -0.18925124436040974}, {\"x\": 6.219718788925247, \"y\": -0.06342391965656452}, {\"x\": 6.346651825433926, \"y\": 0.06342391965656491}, {\"x\": 6.473584861942604, \"y\": 0.18925124436041013}, {\"x\": 6.600517898451283, \"y\": 0.31203344569848745}, {\"x\": 6.727450934959961, \"y\": 0.42979491208917153}, {\"x\": 6.85438397146864, \"y\": 0.5406408174555979}, {\"x\": 6.981317007977318, \"y\": 0.6427876096865393}, {\"x\": 7.108250044485997, \"y\": 0.7345917086575334}, {\"x\": 7.235183080994675, \"y\": 0.8145759520503355}, {\"x\": 7.362116117503354, \"y\": 0.8814533634475821}, {\"x\": 7.489049154012032, \"y\": 0.9341478602651067}, {\"x\": 7.615982190520711, \"y\": 0.9718115683235418}, {\"x\": 7.742915227029389, \"y\": 0.9938384644612541}, {\"x\": 7.869848263538068, \"y\": 0.9998741276738751}, {\"x\": 7.996781300046746, \"y\": 0.9898214418809328}, {\"x\": 8.123714336555425, \"y\": 0.963842158559942}, {\"x\": 8.250647373064103, \"y\": 0.9223542941045816}, {\"x\": 8.377580409572783, \"y\": 0.8660254037844383}, {\"x\": 8.50451344608146, \"y\": 0.7957618405308319}, {\"x\": 8.631446482590139, \"y\": 0.7126941713788629}, {\"x\": 8.758379519098817, \"y\": 0.6181589862206056}, {\"x\": 9.012245592116175, \"y\": 0.40093053540661344}, {\"x\": 9.139178628624853, \"y\": 0.2817325568414299}, {\"x\": 9.266111665133531, \"y\": 0.15800139597335056}, {\"x\": 9.39304470164221, \"y\": 0.03172793349806701}, {\"x\": 9.519977738150889, \"y\": -0.09505604330418284}, {\"x\": 9.646910774659567, \"y\": -0.22031053278654034}, {\"x\": 9.773843811168245, \"y\": -0.342020143325668}, {\"x\": 9.900776847676925, \"y\": -0.45822652172741085}, {\"x\": 10.027709884185603, \"y\": -0.5670598638627709}, {\"x\": 10.15464292069428, \"y\": -0.6667690005162913}, {\"x\": 10.28157595720296, \"y\": -0.7557495743542588}, {\"x\": 10.408508993711639, \"y\": -0.8325698546347716}, {\"x\": 10.535442030220317, \"y\": -0.8959937742913359}, {\"x\": 10.662375066728995, \"y\": -0.9450008187146683}, {\"x\": 10.789308103237675, \"y\": -0.9788024462147789}, {\"x\": 10.916241139746353, \"y\": -0.9968547759519424}, {\"x\": 11.04317417625503, \"y\": -0.998867339183008}, {\"x\": 11.170107212763709, \"y\": -0.9848077530122081}, {\"x\": 11.297040249272388, \"y\": -0.9549022414440737}, {\"x\": 11.423973285781067, \"y\": -0.9096319953545183}, {\"x\": 11.550906322289745, \"y\": -0.8497254299495145}, {\"x\": 11.677839358798423, \"y\": -0.7761464642917573}, {\"x\": 11.804772395307102, \"y\": -0.6900790114821116}, {\"x\": 11.93170543181578, \"y\": -0.5929079290546404}, {\"x\": 12.058638468324459, \"y\": -0.486196736100469}, {\"x\": 12.185571504833138, \"y\": -0.3716624556603267}, {\"x\": 12.312504541341816, \"y\": -0.2511479871810788}, {\"x\": 12.439437577850494, \"y\": -0.1265924535737493}, {\"x\": 12.566370614359172, \"y\": -4.898587196589413e-16}]}, {\"key\": \"Cos\", \"classed\": \"dotted\", \"area\": false, \"fillOpacity\": 0, \"values\": [{\"x\": 0.0, \"y\": 1.0}, {\"x\": 0.12693303650867852, \"y\": 0.9919548128307953}, {\"x\": 0.25386607301735703, \"y\": 0.9679487013963562}, {\"x\": 0.3807991095260356, \"y\": 0.9283679330160726}, {\"x\": 0.5077321460347141, \"y\": 0.8738493770697849}, {\"x\": 0.6346651825433925, \"y\": 0.8052702575310586}, {\"x\": 0.7615982190520711, \"y\": 0.7237340381050701}, {\"x\": 0.8885312555607496, \"y\": 0.6305526670845225}, {\"x\": 1.0154642920694281, \"y\": 0.5272254676105025}, {\"x\": 1.1423973285781066, \"y\": 0.41541501300188644}, {\"x\": 1.269330365086785, \"y\": 0.2969203753282749}, {\"x\": 1.3962634015954636, \"y\": 0.17364817766693041}, {\"x\": 1.5231964381041423, \"y\": 0.04758191582374218}, {\"x\": 1.6501294746128208, \"y\": -0.07924995685678855}, {\"x\": 1.7770625111214993, \"y\": -0.20480666806519074}, {\"x\": 1.9039955476301778, \"y\": -0.32706796331742166}, {\"x\": 2.0309285841388562, \"y\": -0.4440666126057741}, {\"x\": 2.1578616206475347, \"y\": -0.5539200638661103}, {\"x\": 2.284794657156213, \"y\": -0.654860733945285}, {\"x\": 2.4117276936648917, \"y\": -0.7452644496757547}, {\"x\": 2.53866073017357, \"y\": -0.8236765814298327}, {\"x\": 2.6655937666822487, \"y\": -0.8888354486549234}, {\"x\": 2.792526803190927, \"y\": -0.9396926207859083}, {\"x\": 2.9194598396996057, \"y\": -0.975429786885407}, {\"x\": 3.0463928762082846, \"y\": -0.9954719225730846}, {\"x\": 3.173325912716963, \"y\": -0.9994965423831851}, {\"x\": 3.3002589492256416, \"y\": -0.9874388886763943}, {\"x\": 3.42719198573432, \"y\": -0.9594929736144974}, {\"x\": 3.5541250222429985, \"y\": -0.9161084574320696}, {\"x\": 3.681058058751677, \"y\": -0.857983413234977}, {\"x\": 3.8079910952603555, \"y\": -0.7860530947427874}, {\"x\": 3.934924131769034, \"y\": -0.7014748877063213}, {\"x\": 4.0618571682777125, \"y\": -0.6056096871376667}, {\"x\": 4.188790204786391, \"y\": -0.49999999999999967}, {\"x\": 4.3157232412950695, \"y\": -0.3863451256931287}, {\"x\": 4.442656277803748, \"y\": -0.26647381369003464}, {\"x\": 4.569589314312426, \"y\": -0.14231483827328525}, {\"x\": 4.696522350821105, \"y\": -0.01586596383480761}, {\"x\": 4.823455387329783, \"y\": 0.11083819990101086}, {\"x\": 4.950388423838462, \"y\": 0.23575893550942748}, {\"x\": 5.07732146034714, \"y\": 0.35688622159187167}, {\"x\": 5.204254496855819, \"y\": 0.47227107477268293}, {\"x\": 5.331187533364497, \"y\": 0.5800569095711979}, {\"x\": 5.458120569873176, \"y\": 0.6785094115571323}, {\"x\": 5.585053606381854, \"y\": 0.7660444431189779}, {\"x\": 5.711986642890533, \"y\": 0.8412535328311812}, {\"x\": 5.838919679399211, \"y\": 0.9029265382866211}, {\"x\": 5.96585271590789, \"y\": 0.9500711177409454}, {\"x\": 6.092785752416569, \"y\": 0.9819286972627068}, {\"x\": 6.219718788925247, \"y\": 0.9979866764718844}, {\"x\": 6.346651825433926, \"y\": 0.9979866764718843}, {\"x\": 6.473584861942604, \"y\": 0.9819286972627067}, {\"x\": 6.600517898451283, \"y\": 0.9500711177409452}, {\"x\": 6.727450934959961, \"y\": 0.9029265382866213}, {\"x\": 6.85438397146864, \"y\": 0.841253532831181}, {\"x\": 6.981317007977318, \"y\": 0.7660444431189781}, {\"x\": 7.108250044485997, \"y\": 0.6785094115571321}, {\"x\": 7.235183080994675, \"y\": 0.5800569095711984}, {\"x\": 7.362116117503354, \"y\": 0.4722710747726826}, {\"x\": 7.489049154012032, \"y\": 0.3568862215918721}, {\"x\": 7.615982190520711, \"y\": 0.2357589355094271}, {\"x\": 7.742915227029389, \"y\": 0.11083819990101135}, {\"x\": 7.869848263538068, \"y\": -0.015865963834808008}, {\"x\": 7.996781300046746, \"y\": -0.14231483827328475}, {\"x\": 8.123714336555425, \"y\": -0.266473813690035}, {\"x\": 8.250647373064103, \"y\": -0.3863451256931282}, {\"x\": 8.377580409572783, \"y\": -0.5000000000000007}, {\"x\": 8.50451344608146, \"y\": -0.6056096871376669}, {\"x\": 8.631446482590139, \"y\": -0.7014748877063212}, {\"x\": 8.758379519098817, \"y\": -0.7860530947427872}, {\"x\": 9.012245592116175, \"y\": -0.9161084574320697}, {\"x\": 9.139178628624853, \"y\": -0.9594929736144974}, {\"x\": 9.266111665133531, \"y\": -0.9874388886763943}, {\"x\": 9.39304470164221, \"y\": -0.9994965423831852}, {\"x\": 9.519977738150889, \"y\": -0.9954719225730846}, {\"x\": 9.646910774659567, \"y\": -0.9754297868854072}, {\"x\": 9.773843811168245, \"y\": -0.9396926207859086}, {\"x\": 9.900776847676925, \"y\": -0.8888354486549233}, {\"x\": 10.027709884185603, \"y\": -0.8236765814298327}, {\"x\": 10.15464292069428, \"y\": -0.745264449675755}, {\"x\": 10.28157595720296, \"y\": -0.6548607339452844}, {\"x\": 10.408508993711639, \"y\": -0.5539200638661099}, {\"x\": 10.535442030220317, \"y\": -0.4440666126057742}, {\"x\": 10.662375066728995, \"y\": -0.32706796331742216}, {\"x\": 10.789308103237675, \"y\": -0.2048066680651899}, {\"x\": 10.916241139746353, \"y\": -0.07924995685678815}, {\"x\": 11.04317417625503, \"y\": 0.04758191582374213}, {\"x\": 11.170107212763709, \"y\": 0.17364817766692975}, {\"x\": 11.297040249272388, \"y\": 0.2969203753282755}, {\"x\": 11.423973285781067, \"y\": 0.4154150130018866}, {\"x\": 11.550906322289745, \"y\": 0.5272254676105022}, {\"x\": 11.677839358798423, \"y\": 0.6305526670845218}, {\"x\": 11.804772395307102, \"y\": 0.7237340381050705}, {\"x\": 11.93170543181578, \"y\": 0.8052702575310586}, {\"x\": 12.058638468324459, \"y\": 0.8738493770697848}, {\"x\": 12.185571504833138, \"y\": 0.9283679330160729}, {\"x\": 12.312504541341816, \"y\": 0.9679487013963564}, {\"x\": 12.439437577850494, \"y\": 0.9919548128307953}, {\"x\": 12.566370614359172, \"y\": 1.0}]}, {\"key\": \"ArcTan\", \"classed\": null, \"area\": true, \"fillOpacity\": 0.2, \"values\": [{\"x\": 0.0, \"y\": -0.47098837883557926}, {\"x\": 0.12693303650867852, \"y\": -0.46992210020343866}, {\"x\": 0.25386607301735703, \"y\": -0.46881210376014343}, {\"x\": 0.3807991095260356, \"y\": -0.46765567077002185}, {\"x\": 0.5077321460347141, \"y\": -0.46644985464978306}, {\"x\": 0.6346651825433925, \"y\": -0.46519145685995267}, {\"x\": 0.7615982190520711, \"y\": -0.4638769997073948}, {\"x\": 0.8885312555607496, \"y\": -0.4625026955936227}, {\"x\": 1.0154642920694281, \"y\": -0.4610644121630311}, {\"x\": 1.1423973285781066, \"y\": -0.45955763270886835}, {\"x\": 1.269330365086785, \"y\": -0.4579774110792972}, {\"x\": 1.3962634015954636, \"y\": -0.4563183201870366}, {\"x\": 1.5231964381041423, \"y\": -0.45457439305860237}, {\"x\": 1.6501294746128208, \"y\": -0.45273905515655327}, {\"x\": 1.7770625111214993, \"y\": -0.4508050464622835}, {\"x\": 1.9039955476301778, \"y\": -0.44876433150764905}, {\"x\": 2.0309285841388562, \"y\": -0.4466079951783772}, {\"x\": 2.1578616206475347, \"y\": -0.44432612166490326}, {\"x\": 2.284794657156213, \"y\": -0.4419076533870665}, {\"x\": 2.4117276936648917, \"y\": -0.4393402260429909}, {\"x\": 2.53866073017357, \"y\": -0.43660997509818017}, {\"x\": 2.6655937666822487, \"y\": -0.43370130799926354}, {\"x\": 2.792526803190927, \"y\": -0.4305966351193506}, {\"x\": 2.9194598396996057, \"y\": -0.4272760508586448}, {\"x\": 3.0463928762082846, \"y\": -0.42371695436186957}, {\"x\": 3.173325912716963, \"y\": -0.4198935968861323}, {\"x\": 3.3002589492256416, \"y\": -0.4157765398587067}, {\"x\": 3.42719198573432, \"y\": -0.41133200399463704}, {\"x\": 3.5541250222429985, \"y\": -0.4065210853933057}, {\"x\": 3.681058058751677, \"y\": -0.40129880922607786}, {\"x\": 3.8079910952603555, \"y\": -0.39561298547460666}, {\"x\": 3.934924131769034, \"y\": -0.38940282438478274}, {\"x\": 4.0618571682777125, \"y\": -0.38259726246088177}, {\"x\": 4.188790204786391, \"y\": -0.3751129442947661}, {\"x\": 4.3157232412950695, \"y\": -0.3668518040844415}, {\"x\": 4.442656277803748, \"y\": -0.3576981987142925}, {\"x\": 4.569589314312426, \"y\": -0.3475155717229776}, {\"x\": 4.696522350821105, \"y\": -0.3361426923188633}, {\"x\": 4.823455387329783, \"y\": -0.3233896470178511}, {\"x\": 4.950388423838462, \"y\": -0.3090340154219568}, {\"x\": 5.07732146034714, \"y\": -0.29281811710651023}, {\"x\": 5.204254496855819, \"y\": -0.27444898578566884}, {\"x\": 5.331187533364497, \"y\": -0.25360392874155463}, {\"x\": 5.458120569873176, \"y\": -0.22994618776339915}, {\"x\": 5.585053606381854, \"y\": -0.20315699047580982}, {\"x\": 5.711986642890533, \"y\": -0.1729909274897151}, {\"x\": 5.838919679399211, \"y\": -0.13935833284604682}, {\"x\": 5.96585271590789, \"y\": -0.10242714550689658}, {\"x\": 6.092785752416569, \"y\": -0.06271585054614373}, {\"x\": 6.219718788925247, \"y\": -0.021127169751194812}, {\"x\": 6.346651825433926, \"y\": 0.021127169751195107}, {\"x\": 6.473584861942604, \"y\": 0.06271585054614402}, {\"x\": 6.600517898451283, \"y\": 0.10242714550689686}, {\"x\": 6.727450934959961, \"y\": 0.13935833284604682}, {\"x\": 6.85438397146864, \"y\": 0.1729909274897153}, {\"x\": 6.981317007977318, \"y\": 0.20315699047580982}, {\"x\": 7.108250044485997, \"y\": 0.22994618776339928}, {\"x\": 7.235183080994675, \"y\": 0.25360392874155463}, {\"x\": 7.362116117503354, \"y\": 0.27444898578566895}, {\"x\": 7.489049154012032, \"y\": 0.29281811710651023}, {\"x\": 7.615982190520711, \"y\": 0.3090340154219569}, {\"x\": 7.742915227029389, \"y\": 0.3233896470178511}, {\"x\": 7.869848263538068, \"y\": 0.33614269231886346}, {\"x\": 7.996781300046746, \"y\": 0.3475155717229776}, {\"x\": 8.123714336555425, \"y\": 0.3576981987142926}, {\"x\": 8.250647373064103, \"y\": 0.3668518040844415}, {\"x\": 8.377580409572783, \"y\": 0.3751129442947662}, {\"x\": 8.50451344608146, \"y\": 0.3825972624608818}, {\"x\": 8.631446482590139, \"y\": 0.38940282438478285}, {\"x\": 8.758379519098817, \"y\": 0.39561298547460666}, {\"x\": 9.012245592116175, \"y\": 0.40652108539330584}, {\"x\": 9.139178628624853, \"y\": 0.41133200399463704}, {\"x\": 9.266111665133531, \"y\": 0.4157765398587067}, {\"x\": 9.39304470164221, \"y\": 0.4198935968861323}, {\"x\": 9.519977738150889, \"y\": 0.42371695436186957}, {\"x\": 9.646910774659567, \"y\": 0.4272760508586448}, {\"x\": 9.773843811168245, \"y\": 0.4305966351193506}, {\"x\": 9.900776847676925, \"y\": 0.43370130799926354}, {\"x\": 10.027709884185603, \"y\": 0.43660997509818017}, {\"x\": 10.15464292069428, \"y\": 0.4393402260429909}, {\"x\": 10.28157595720296, \"y\": 0.4419076533870665}, {\"x\": 10.408508993711639, \"y\": 0.44432612166490326}, {\"x\": 10.535442030220317, \"y\": 0.4466079951783772}, {\"x\": 10.662375066728995, \"y\": 0.44876433150764905}, {\"x\": 10.789308103237675, \"y\": 0.4508050464622835}, {\"x\": 10.916241139746353, \"y\": 0.45273905515655327}, {\"x\": 11.04317417625503, \"y\": 0.45457439305860237}, {\"x\": 11.170107212763709, \"y\": 0.4563183201870366}, {\"x\": 11.297040249272388, \"y\": 0.4579774110792972}, {\"x\": 11.423973285781067, \"y\": 0.45955763270886835}, {\"x\": 11.550906322289745, \"y\": 0.4610644121630311}, {\"x\": 11.677839358798423, \"y\": 0.4625026955936227}, {\"x\": 11.804772395307102, \"y\": 0.4638769997073948}, {\"x\": 11.93170543181578, \"y\": 0.4651914568599527}, {\"x\": 12.058638468324459, \"y\": 0.46644985464978306}, {\"x\": 12.185571504833138, \"y\": 0.46765567077002185}, {\"x\": 12.312504541341816, \"y\": 0.46881210376014343}, {\"x\": 12.439437577850494, \"y\": 0.46992210020343866}, {\"x\": 12.566370614359172, \"y\": 0.47098837883557926}]}]};\n",
       "                </script>\n",
       "                <script>\n",
       "                    (function() {\n",
       "                        var plot = function(session, object) {\n",
       "\n",
       "            var chart = nv.models.lineChart()\n",
       "                    .focusEnable(false)\n",
       "                    .useInteractiveGuideline(true)\n",
       "                    .margin({right:  40})\n",
       "                    .margin({bottom: 60})\n",
       "\n",
       "            chart.xAxis.showMaxMin(false)\n",
       "                       .tickFormat(d3.format(',.1f'))\n",
       "\n",
       "            chart.yAxis.showMaxMin(false)\n",
       "                       .tickFormat(d3.format(',.1f'))\n",
       "\n",
       "            session.__functions.makeChart(session, object, chart);\n",
       "        }\n",
       "                        var synch = function(session, object) {\n",
       "                            window.nvd3_stat.promise.then(function() {\n",
       "                                window.nvd3_stat.session.__functions.charts[\"lineChart_012\"] = plot;\n",
       "                                plot(session, object);\n",
       "                            })\n",
       "                        }\n",
       "                        document.getElementById(\"lineChart_012\")\n",
       "                                .addEventListener(\"load\", synch(window.nvd3_stat.session, \n",
       "                                                  {\"event\":\"plot\", \"data\": data_lineChart_012, \"plotId\":\"lineChart_012\"}))\n",
       "                    })();\n",
       "                </script>\n",
       "            </div>\n",
       "            "
      ]
     },
     "metadata": {},
     "output_type": "display_data"
    }
   ],
   "source": [
    "l4 = l3.clone()"
   ]
  },
  {
   "cell_type": "markdown",
   "metadata": {},
   "source": [
    "### e) Multiple independent lines"
   ]
  },
  {
   "cell_type": "code",
   "execution_count": 21,
   "metadata": {
    "collapsed": false
   },
   "outputs": [
    {
     "data": {
      "text/html": [
       "<h3><div style=\"display:inline; margin-left:300px\">ROC</div></h3>"
      ]
     },
     "metadata": {},
     "output_type": "display_data"
    },
    {
     "data": {
      "text/html": [
       "<style>.dashed { stroke-dasharray: 7,7; }\n",
       ".dotted { stroke-dasharray: 3,3; } </style>"
      ]
     },
     "metadata": {},
     "output_type": "display_data"
    },
    {
     "data": {
      "text/html": [
       "<div style=\"height:500px; width:600px\">\n",
       "            <div id=\"lineChart_013\" class=\"with-3d-shadow with-transitions\" style=\" height:500px; width:600px\">\n",
       "                <svg></svg>\n",
       "                <script class=\"nvd3_data\">\n",
       "                    var data_lineChart_013 = {\"config\": {\"useInteractiveGuideline\": true, \"height\": 500, \"width\": 600, \"color\": [\"#ff7f0e\", \"#aec7e8\"], \"yAxis\": {\"axisLabel\": \"True Positive Rate\"}, \"yDomain\": [0, 1.05], \"xAxis\": {\"axisLabel\": \"False Positive Rate\"}, \"xDomain\": [0, 1]}, \"data\": [{\"key\": \"TPR\", \"values\": [{\"x\": 0.0, \"y\": 0.0417}, {\"x\": 0.0, \"y\": 0.125}, {\"x\": 0.0196, \"y\": 0.125}, {\"x\": 0.0196, \"y\": 0.25}, {\"x\": 0.0784, \"y\": 0.25}, {\"x\": 0.0784, \"y\": 0.2917}, {\"x\": 0.098, \"y\": 0.2917}, {\"x\": 0.098, \"y\": 0.3333}, {\"x\": 0.1176, \"y\": 0.3333}, {\"x\": 0.1176, \"y\": 0.4167}, {\"x\": 0.1373, \"y\": 0.4167}, {\"x\": 0.1373, \"y\": 0.5}, {\"x\": 0.1569, \"y\": 0.5}, {\"x\": 0.1569, \"y\": 0.5417}, {\"x\": 0.1765, \"y\": 0.5417}, {\"x\": 0.1765, \"y\": 0.5833}, {\"x\": 0.3137, \"y\": 0.5833}, {\"x\": 0.3137, \"y\": 0.6667}, {\"x\": 0.3333, \"y\": 0.6667}, {\"x\": 0.3333, \"y\": 0.75}, {\"x\": 0.3529, \"y\": 0.75}, {\"x\": 0.3529, \"y\": 0.7917}, {\"x\": 0.4118, \"y\": 0.7917}, {\"x\": 0.4118, \"y\": 0.8333}, {\"x\": 0.451, \"y\": 0.8333}, {\"x\": 0.451, \"y\": 0.875}, {\"x\": 0.4706, \"y\": 0.875}, {\"x\": 0.4706, \"y\": 0.9167}, {\"x\": 0.5098, \"y\": 0.9167}, {\"x\": 0.5098, \"y\": 0.9583}, {\"x\": 0.5686, \"y\": 0.9583}, {\"x\": 0.5686, \"y\": 1.0}, {\"x\": 1.0, \"y\": 1.0}]}, {\"key\": \"Threshold\", \"classed\": \"dotted\", \"values\": [{\"x\": 0, \"y\": 0}, {\"x\": 1, \"y\": 1}]}]};\n",
       "                </script>\n",
       "                <script>\n",
       "                    (function() {\n",
       "                        var plot = function(session, object) {\n",
       "\n",
       "            var chart = nv.models.lineChart()\n",
       "                    .focusEnable(false)\n",
       "                    .useInteractiveGuideline(true)\n",
       "                    .margin({right:  40})\n",
       "                    .margin({bottom: 60})\n",
       "\n",
       "            chart.xAxis.showMaxMin(false)\n",
       "                       .tickFormat(d3.format(',.1f'))\n",
       "\n",
       "            chart.yAxis.showMaxMin(false)\n",
       "                       .tickFormat(d3.format(',.1f'))\n",
       "\n",
       "            session.__functions.makeChart(session, object, chart);\n",
       "        }\n",
       "                        var synch = function(session, object) {\n",
       "                            window.nvd3_stat.promise.then(function() {\n",
       "                                window.nvd3_stat.session.__functions.charts[\"lineChart_013\"] = plot;\n",
       "                                plot(session, object);\n",
       "                            })\n",
       "                        }\n",
       "                        document.getElementById(\"lineChart_013\")\n",
       "                                .addEventListener(\"load\", synch(window.nvd3_stat.session, \n",
       "                                                  {\"event\":\"plot\", \"data\": data_lineChart_013, \"plotId\":\"lineChart_013\"}))\n",
       "                    })();\n",
       "                </script>\n",
       "            </div>\n",
       "            "
      ]
     },
     "metadata": {},
     "output_type": "display_data"
    }
   ],
   "source": [
    "# data taken from scikit-learn http://scikit-learn.org/stable/auto_examples/model_selection/plot_roc.html\n",
    "\n",
    "data = {'FPR': [0.0000,0.0000,0.0196,0.0196,0.0784,0.0784,0.0980,0.0980,0.1176,0.1176,0.1373,\n",
    "                0.1373,0.1569,0.1569,0.1765,0.1765,0.3137,0.3137,0.3333,0.3333,0.3529,0.3529,\n",
    "                0.4118,0.4118,0.4510,0.4510,0.4706,0.4706,0.5098,0.5098,0.5686,0.5686,1.0000],\n",
    "        'TPR': [0.0417,0.1250,0.1250,0.2500,0.2500,0.2917,0.2917,0.3333,0.3333,0.4167,0.4167,\n",
    "                0.5000,0.5000,0.5417,0.5417,0.5833,0.5833,0.6667,0.6667,0.7500,0.7500,0.7917,\n",
    "                0.7917,0.8333,0.8333,0.8750,0.8750,0.9167,0.9167,0.9583,0.9583,1.0000,1.0000]}\n",
    "\n",
    "config = {\"width\":600, \"height\":500, \"color\":nv.c20(2,1), \"useInteractiveGuideline\":True,\n",
    "          \"xDomain\":[0,1], \"yDomain\":[0,1.05],\n",
    "          \"xAxis\":{\"axisLabel\":\"False Positive Rate\"},\n",
    "          \"yAxis\":{\"axisLabel\":\"True Positive Rate\"}\n",
    "         }\n",
    "display(html=[(\"ROC\", 300)], style=\"h3\")\n",
    "roc = nv.lineChart()\n",
    "roc.addLine(data, \"FPR\", \"TPR\")\n",
    "roc.addLine({\"X\":[0,1], \"Threshold\":[0,1]}, \"X\", \"Threshold\", lineAttributes={\"style\":\"dotted\"})\n",
    "roc.plot(config=config)"
   ]
  },
  {
   "cell_type": "markdown",
   "metadata": {},
   "source": [
    "### f) Add a focus selector"
   ]
  },
  {
   "cell_type": "code",
   "execution_count": 22,
   "metadata": {
    "collapsed": false,
    "scrolled": false
   },
   "outputs": [
    {
     "data": {
      "text/html": [
       "<style>.dashed { stroke-dasharray: 7,7; }\n",
       ".dotted { stroke-dasharray: 3,3; } </style>"
      ]
     },
     "metadata": {},
     "output_type": "display_data"
    },
    {
     "data": {
      "text/html": [
       "<div style=\"height:500px; width:1024px\">\n",
       "            <div id=\"lineChart_014\" class=\"with-3d-shadow with-transitions\" style=\" height:500px; width:1024px\">\n",
       "                <svg></svg>\n",
       "                <script class=\"nvd3_data\">\n",
       "                    var data_lineChart_014 = {\"config\": {\"focusEnable\": true, \"height\": 500, \"width\": 1024, \"color\": [\"#1f77b4\", \"#ff7f0e\", \"#2ca02c\", \"#d62728\", \"#9467bd\", \"#8c564b\", \"#e377c2\", \"#7f7f7f\", \"#bcbd22\", \"#17becf\"], \"yAxis\": {\"tickFormat\": \",.2f\", \"axisLabel\": \"f(x)\"}, \"xAxis\": {\"tickFormat\": \"%d-%m-%Y\", \"axisLabel\": \"x\"}}, \"data\": [{\"key\": \"Sin\", \"classed\": \"dashed\", \"area\": true, \"fillOpacity\": 0.2, \"values\": [{\"x\": 0.0, \"y\": 0.0}, {\"x\": 0.12693303650867852, \"y\": 0.12659245357374926}, {\"x\": 0.25386607301735703, \"y\": 0.2511479871810792}, {\"x\": 0.3807991095260356, \"y\": 0.3716624556603276}, {\"x\": 0.5077321460347141, \"y\": 0.4861967361004687}, {\"x\": 0.6346651825433925, \"y\": 0.5929079290546404}, {\"x\": 0.7615982190520711, \"y\": 0.690079011482112}, {\"x\": 0.8885312555607496, \"y\": 0.7761464642917568}, {\"x\": 1.0154642920694281, \"y\": 0.8497254299495144}, {\"x\": 1.1423973285781066, \"y\": 0.9096319953545183}, {\"x\": 1.269330365086785, \"y\": 0.9549022414440739}, {\"x\": 1.3962634015954636, \"y\": 0.984807753012208}, {\"x\": 1.5231964381041423, \"y\": 0.998867339183008}, {\"x\": 1.6501294746128208, \"y\": 0.9968547759519424}, {\"x\": 1.7770625111214993, \"y\": 0.9788024462147787}, {\"x\": 1.9039955476301778, \"y\": 0.9450008187146685}, {\"x\": 2.0309285841388562, \"y\": 0.8959937742913359}, {\"x\": 2.1578616206475347, \"y\": 0.8325698546347714}, {\"x\": 2.284794657156213, \"y\": 0.7557495743542584}, {\"x\": 2.4117276936648917, \"y\": 0.6667690005162916}, {\"x\": 2.53866073017357, \"y\": 0.5670598638627709}, {\"x\": 2.6655937666822487, \"y\": 0.4582265217274105}, {\"x\": 2.792526803190927, \"y\": 0.3420201433256689}, {\"x\": 2.9194598396996057, \"y\": 0.2203105327865408}, {\"x\": 3.0463928762082846, \"y\": 0.09505604330418244}, {\"x\": 3.173325912716963, \"y\": -0.03172793349806785}, {\"x\": 3.3002589492256416, \"y\": -0.15800139597335008}, {\"x\": 3.42719198573432, \"y\": -0.28173255684142984}, {\"x\": 3.5541250222429985, \"y\": -0.40093053540661383}, {\"x\": 3.681058058751677, \"y\": -0.5136773915734064}, {\"x\": 3.8079910952603555, \"y\": -0.6181589862206053}, {\"x\": 3.934924131769034, \"y\": -0.7126941713788628}, {\"x\": 4.0618571682777125, \"y\": -0.7957618405308321}, {\"x\": 4.188790204786391, \"y\": -0.8660254037844388}, {\"x\": 4.3157232412950695, \"y\": -0.9223542941045814}, {\"x\": 4.442656277803748, \"y\": -0.9638421585599422}, {\"x\": 4.569589314312426, \"y\": -0.9898214418809327}, {\"x\": 4.696522350821105, \"y\": -0.9998741276738751}, {\"x\": 4.823455387329783, \"y\": -0.9938384644612541}, {\"x\": 4.950388423838462, \"y\": -0.9718115683235417}, {\"x\": 5.07732146034714, \"y\": -0.9341478602651068}, {\"x\": 5.204254496855819, \"y\": -0.881453363447582}, {\"x\": 5.331187533364497, \"y\": -0.814575952050336}, {\"x\": 5.458120569873176, \"y\": -0.7345917086575331}, {\"x\": 5.585053606381854, \"y\": -0.6427876096865396}, {\"x\": 5.711986642890533, \"y\": -0.5406408174555974}, {\"x\": 5.838919679399211, \"y\": -0.4297949120891719}, {\"x\": 5.96585271590789, \"y\": -0.31203344569848707}, {\"x\": 6.092785752416569, \"y\": -0.18925124436040974}, {\"x\": 6.219718788925247, \"y\": -0.06342391965656452}, {\"x\": 6.346651825433926, \"y\": 0.06342391965656491}, {\"x\": 6.473584861942604, \"y\": 0.18925124436041013}, {\"x\": 6.600517898451283, \"y\": 0.31203344569848745}, {\"x\": 6.727450934959961, \"y\": 0.42979491208917153}, {\"x\": 6.85438397146864, \"y\": 0.5406408174555979}, {\"x\": 6.981317007977318, \"y\": 0.6427876096865393}, {\"x\": 7.108250044485997, \"y\": 0.7345917086575334}, {\"x\": 7.235183080994675, \"y\": 0.8145759520503355}, {\"x\": 7.362116117503354, \"y\": 0.8814533634475821}, {\"x\": 7.489049154012032, \"y\": 0.9341478602651067}, {\"x\": 7.615982190520711, \"y\": 0.9718115683235418}, {\"x\": 7.742915227029389, \"y\": 0.9938384644612541}, {\"x\": 7.869848263538068, \"y\": 0.9998741276738751}, {\"x\": 7.996781300046746, \"y\": 0.9898214418809328}, {\"x\": 8.123714336555425, \"y\": 0.963842158559942}, {\"x\": 8.250647373064103, \"y\": 0.9223542941045816}, {\"x\": 8.377580409572783, \"y\": 0.8660254037844383}, {\"x\": 8.50451344608146, \"y\": 0.7957618405308319}, {\"x\": 8.631446482590139, \"y\": 0.7126941713788629}, {\"x\": 8.758379519098817, \"y\": 0.6181589862206056}, {\"x\": 8.885312555607497, \"y\": 0.5136773915734056}, {\"x\": 9.012245592116175, \"y\": 0.40093053540661344}, {\"x\": 9.139178628624853, \"y\": 0.2817325568414299}, {\"x\": 9.266111665133531, \"y\": 0.15800139597335056}, {\"x\": 9.39304470164221, \"y\": 0.03172793349806701}, {\"x\": 9.519977738150889, \"y\": -0.09505604330418284}, {\"x\": 9.646910774659567, \"y\": -0.22031053278654034}, {\"x\": 9.773843811168245, \"y\": -0.342020143325668}, {\"x\": 9.900776847676925, \"y\": -0.45822652172741085}, {\"x\": 10.027709884185603, \"y\": -0.5670598638627709}, {\"x\": 10.15464292069428, \"y\": -0.6667690005162913}, {\"x\": 10.28157595720296, \"y\": -0.7557495743542588}, {\"x\": 10.408508993711639, \"y\": -0.8325698546347716}, {\"x\": 10.535442030220317, \"y\": -0.8959937742913359}, {\"x\": 10.662375066728995, \"y\": -0.9450008187146683}, {\"x\": 10.789308103237675, \"y\": -0.9788024462147789}, {\"x\": 10.916241139746353, \"y\": -0.9968547759519424}, {\"x\": 11.04317417625503, \"y\": -0.998867339183008}, {\"x\": 11.170107212763709, \"y\": -0.9848077530122081}, {\"x\": 11.297040249272388, \"y\": -0.9549022414440737}, {\"x\": 11.423973285781067, \"y\": -0.9096319953545183}, {\"x\": 11.550906322289745, \"y\": -0.8497254299495145}, {\"x\": 11.677839358798423, \"y\": -0.7761464642917573}, {\"x\": 11.804772395307102, \"y\": -0.6900790114821116}, {\"x\": 11.93170543181578, \"y\": -0.5929079290546404}, {\"x\": 12.058638468324459, \"y\": -0.486196736100469}, {\"x\": 12.185571504833138, \"y\": -0.3716624556603267}, {\"x\": 12.312504541341816, \"y\": -0.2511479871810788}, {\"x\": 12.439437577850494, \"y\": -0.1265924535737493}, {\"x\": 12.566370614359172, \"y\": -4.898587196589413e-16}]}, {\"key\": \"Cos\", \"classed\": \"dotted\", \"area\": false, \"fillOpacity\": 0, \"values\": [{\"x\": 0.0, \"y\": 1.0}, {\"x\": 0.12693303650867852, \"y\": 0.9919548128307953}, {\"x\": 0.25386607301735703, \"y\": 0.9679487013963562}, {\"x\": 0.3807991095260356, \"y\": 0.9283679330160726}, {\"x\": 0.5077321460347141, \"y\": 0.8738493770697849}, {\"x\": 0.6346651825433925, \"y\": 0.8052702575310586}, {\"x\": 0.7615982190520711, \"y\": 0.7237340381050701}, {\"x\": 0.8885312555607496, \"y\": 0.6305526670845225}, {\"x\": 1.0154642920694281, \"y\": 0.5272254676105025}, {\"x\": 1.1423973285781066, \"y\": 0.41541501300188644}, {\"x\": 1.269330365086785, \"y\": 0.2969203753282749}, {\"x\": 1.3962634015954636, \"y\": 0.17364817766693041}, {\"x\": 1.5231964381041423, \"y\": 0.04758191582374218}, {\"x\": 1.6501294746128208, \"y\": -0.07924995685678855}, {\"x\": 1.7770625111214993, \"y\": -0.20480666806519074}, {\"x\": 1.9039955476301778, \"y\": -0.32706796331742166}, {\"x\": 2.0309285841388562, \"y\": -0.4440666126057741}, {\"x\": 2.1578616206475347, \"y\": -0.5539200638661103}, {\"x\": 2.284794657156213, \"y\": -0.654860733945285}, {\"x\": 2.4117276936648917, \"y\": -0.7452644496757547}, {\"x\": 2.53866073017357, \"y\": -0.8236765814298327}, {\"x\": 2.6655937666822487, \"y\": -0.8888354486549234}, {\"x\": 2.792526803190927, \"y\": -0.9396926207859083}, {\"x\": 2.9194598396996057, \"y\": -0.975429786885407}, {\"x\": 3.0463928762082846, \"y\": -0.9954719225730846}, {\"x\": 3.173325912716963, \"y\": -0.9994965423831851}, {\"x\": 3.3002589492256416, \"y\": -0.9874388886763943}, {\"x\": 3.42719198573432, \"y\": -0.9594929736144974}, {\"x\": 3.5541250222429985, \"y\": -0.9161084574320696}, {\"x\": 3.681058058751677, \"y\": -0.857983413234977}, {\"x\": 3.8079910952603555, \"y\": -0.7860530947427874}, {\"x\": 3.934924131769034, \"y\": -0.7014748877063213}, {\"x\": 4.0618571682777125, \"y\": -0.6056096871376667}, {\"x\": 4.188790204786391, \"y\": -0.49999999999999967}, {\"x\": 4.3157232412950695, \"y\": -0.3863451256931287}, {\"x\": 4.442656277803748, \"y\": -0.26647381369003464}, {\"x\": 4.569589314312426, \"y\": -0.14231483827328525}, {\"x\": 4.696522350821105, \"y\": -0.01586596383480761}, {\"x\": 4.823455387329783, \"y\": 0.11083819990101086}, {\"x\": 4.950388423838462, \"y\": 0.23575893550942748}, {\"x\": 5.07732146034714, \"y\": 0.35688622159187167}, {\"x\": 5.204254496855819, \"y\": 0.47227107477268293}, {\"x\": 5.331187533364497, \"y\": 0.5800569095711979}, {\"x\": 5.458120569873176, \"y\": 0.6785094115571323}, {\"x\": 5.585053606381854, \"y\": 0.7660444431189779}, {\"x\": 5.711986642890533, \"y\": 0.8412535328311812}, {\"x\": 5.838919679399211, \"y\": 0.9029265382866211}, {\"x\": 5.96585271590789, \"y\": 0.9500711177409454}, {\"x\": 6.092785752416569, \"y\": 0.9819286972627068}, {\"x\": 6.219718788925247, \"y\": 0.9979866764718844}, {\"x\": 6.346651825433926, \"y\": 0.9979866764718843}, {\"x\": 6.473584861942604, \"y\": 0.9819286972627067}, {\"x\": 6.600517898451283, \"y\": 0.9500711177409452}, {\"x\": 6.727450934959961, \"y\": 0.9029265382866213}, {\"x\": 6.85438397146864, \"y\": 0.841253532831181}, {\"x\": 6.981317007977318, \"y\": 0.7660444431189781}, {\"x\": 7.108250044485997, \"y\": 0.6785094115571321}, {\"x\": 7.235183080994675, \"y\": 0.5800569095711984}, {\"x\": 7.362116117503354, \"y\": 0.4722710747726826}, {\"x\": 7.489049154012032, \"y\": 0.3568862215918721}, {\"x\": 7.615982190520711, \"y\": 0.2357589355094271}, {\"x\": 7.742915227029389, \"y\": 0.11083819990101135}, {\"x\": 7.869848263538068, \"y\": -0.015865963834808008}, {\"x\": 7.996781300046746, \"y\": -0.14231483827328475}, {\"x\": 8.123714336555425, \"y\": -0.266473813690035}, {\"x\": 8.250647373064103, \"y\": -0.3863451256931282}, {\"x\": 8.377580409572783, \"y\": -0.5000000000000007}, {\"x\": 8.50451344608146, \"y\": -0.6056096871376669}, {\"x\": 8.631446482590139, \"y\": -0.7014748877063212}, {\"x\": 8.758379519098817, \"y\": -0.7860530947427872}, {\"x\": 8.885312555607497, \"y\": -0.8579834132349774}, {\"x\": 9.012245592116175, \"y\": -0.9161084574320697}, {\"x\": 9.139178628624853, \"y\": -0.9594929736144974}, {\"x\": 9.266111665133531, \"y\": -0.9874388886763943}, {\"x\": 9.39304470164221, \"y\": -0.9994965423831852}, {\"x\": 9.519977738150889, \"y\": -0.9954719225730846}, {\"x\": 9.646910774659567, \"y\": -0.9754297868854072}, {\"x\": 9.773843811168245, \"y\": -0.9396926207859086}, {\"x\": 9.900776847676925, \"y\": -0.8888354486549233}, {\"x\": 10.027709884185603, \"y\": -0.8236765814298327}, {\"x\": 10.15464292069428, \"y\": -0.745264449675755}, {\"x\": 10.28157595720296, \"y\": -0.6548607339452844}, {\"x\": 10.408508993711639, \"y\": -0.5539200638661099}, {\"x\": 10.535442030220317, \"y\": -0.4440666126057742}, {\"x\": 10.662375066728995, \"y\": -0.32706796331742216}, {\"x\": 10.789308103237675, \"y\": -0.2048066680651899}, {\"x\": 10.916241139746353, \"y\": -0.07924995685678815}, {\"x\": 11.04317417625503, \"y\": 0.04758191582374213}, {\"x\": 11.170107212763709, \"y\": 0.17364817766692975}, {\"x\": 11.297040249272388, \"y\": 0.2969203753282755}, {\"x\": 11.423973285781067, \"y\": 0.4154150130018866}, {\"x\": 11.550906322289745, \"y\": 0.5272254676105022}, {\"x\": 11.677839358798423, \"y\": 0.6305526670845218}, {\"x\": 11.804772395307102, \"y\": 0.7237340381050705}, {\"x\": 11.93170543181578, \"y\": 0.8052702575310586}, {\"x\": 12.058638468324459, \"y\": 0.8738493770697848}, {\"x\": 12.185571504833138, \"y\": 0.9283679330160729}, {\"x\": 12.312504541341816, \"y\": 0.9679487013963564}, {\"x\": 12.439437577850494, \"y\": 0.9919548128307953}, {\"x\": 12.566370614359172, \"y\": 1.0}]}, {\"key\": \"ArcTan\", \"classed\": null, \"area\": true, \"fillOpacity\": 0.2, \"values\": [{\"x\": 0.0, \"y\": -0.47098837883557926}, {\"x\": 0.12693303650867852, \"y\": -0.46992210020343866}, {\"x\": 0.25386607301735703, \"y\": -0.46881210376014343}, {\"x\": 0.3807991095260356, \"y\": -0.46765567077002185}, {\"x\": 0.5077321460347141, \"y\": -0.46644985464978306}, {\"x\": 0.6346651825433925, \"y\": -0.46519145685995267}, {\"x\": 0.7615982190520711, \"y\": -0.4638769997073948}, {\"x\": 0.8885312555607496, \"y\": -0.4625026955936227}, {\"x\": 1.0154642920694281, \"y\": -0.4610644121630311}, {\"x\": 1.1423973285781066, \"y\": -0.45955763270886835}, {\"x\": 1.269330365086785, \"y\": -0.4579774110792972}, {\"x\": 1.3962634015954636, \"y\": -0.4563183201870366}, {\"x\": 1.5231964381041423, \"y\": -0.45457439305860237}, {\"x\": 1.6501294746128208, \"y\": -0.45273905515655327}, {\"x\": 1.7770625111214993, \"y\": -0.4508050464622835}, {\"x\": 1.9039955476301778, \"y\": -0.44876433150764905}, {\"x\": 2.0309285841388562, \"y\": -0.4466079951783772}, {\"x\": 2.1578616206475347, \"y\": -0.44432612166490326}, {\"x\": 2.284794657156213, \"y\": -0.4419076533870665}, {\"x\": 2.4117276936648917, \"y\": -0.4393402260429909}, {\"x\": 2.53866073017357, \"y\": -0.43660997509818017}, {\"x\": 2.6655937666822487, \"y\": -0.43370130799926354}, {\"x\": 2.792526803190927, \"y\": -0.4305966351193506}, {\"x\": 2.9194598396996057, \"y\": -0.4272760508586448}, {\"x\": 3.0463928762082846, \"y\": -0.42371695436186957}, {\"x\": 3.173325912716963, \"y\": -0.4198935968861323}, {\"x\": 3.3002589492256416, \"y\": -0.4157765398587067}, {\"x\": 3.42719198573432, \"y\": -0.41133200399463704}, {\"x\": 3.5541250222429985, \"y\": -0.4065210853933057}, {\"x\": 3.681058058751677, \"y\": -0.40129880922607786}, {\"x\": 3.8079910952603555, \"y\": -0.39561298547460666}, {\"x\": 3.934924131769034, \"y\": -0.38940282438478274}, {\"x\": 4.0618571682777125, \"y\": -0.38259726246088177}, {\"x\": 4.188790204786391, \"y\": -0.3751129442947661}, {\"x\": 4.3157232412950695, \"y\": -0.3668518040844415}, {\"x\": 4.442656277803748, \"y\": -0.3576981987142925}, {\"x\": 4.569589314312426, \"y\": -0.3475155717229776}, {\"x\": 4.696522350821105, \"y\": -0.3361426923188633}, {\"x\": 4.823455387329783, \"y\": -0.3233896470178511}, {\"x\": 4.950388423838462, \"y\": -0.3090340154219568}, {\"x\": 5.07732146034714, \"y\": -0.29281811710651023}, {\"x\": 5.204254496855819, \"y\": -0.27444898578566884}, {\"x\": 5.331187533364497, \"y\": -0.25360392874155463}, {\"x\": 5.458120569873176, \"y\": -0.22994618776339915}, {\"x\": 5.585053606381854, \"y\": -0.20315699047580982}, {\"x\": 5.711986642890533, \"y\": -0.1729909274897151}, {\"x\": 5.838919679399211, \"y\": -0.13935833284604682}, {\"x\": 5.96585271590789, \"y\": -0.10242714550689658}, {\"x\": 6.092785752416569, \"y\": -0.06271585054614373}, {\"x\": 6.219718788925247, \"y\": -0.021127169751194812}, {\"x\": 6.346651825433926, \"y\": 0.021127169751195107}, {\"x\": 6.473584861942604, \"y\": 0.06271585054614402}, {\"x\": 6.600517898451283, \"y\": 0.10242714550689686}, {\"x\": 6.727450934959961, \"y\": 0.13935833284604682}, {\"x\": 6.85438397146864, \"y\": 0.1729909274897153}, {\"x\": 6.981317007977318, \"y\": 0.20315699047580982}, {\"x\": 7.108250044485997, \"y\": 0.22994618776339928}, {\"x\": 7.235183080994675, \"y\": 0.25360392874155463}, {\"x\": 7.362116117503354, \"y\": 0.27444898578566895}, {\"x\": 7.489049154012032, \"y\": 0.29281811710651023}, {\"x\": 7.615982190520711, \"y\": 0.3090340154219569}, {\"x\": 7.742915227029389, \"y\": 0.3233896470178511}, {\"x\": 7.869848263538068, \"y\": 0.33614269231886346}, {\"x\": 7.996781300046746, \"y\": 0.3475155717229776}, {\"x\": 8.123714336555425, \"y\": 0.3576981987142926}, {\"x\": 8.250647373064103, \"y\": 0.3668518040844415}, {\"x\": 8.377580409572783, \"y\": 0.3751129442947662}, {\"x\": 8.50451344608146, \"y\": 0.3825972624608818}, {\"x\": 8.631446482590139, \"y\": 0.38940282438478285}, {\"x\": 8.758379519098817, \"y\": 0.39561298547460666}, {\"x\": 8.885312555607497, \"y\": 0.40129880922607786}, {\"x\": 9.012245592116175, \"y\": 0.40652108539330584}, {\"x\": 9.139178628624853, \"y\": 0.41133200399463704}, {\"x\": 9.266111665133531, \"y\": 0.4157765398587067}, {\"x\": 9.39304470164221, \"y\": 0.4198935968861323}, {\"x\": 9.519977738150889, \"y\": 0.42371695436186957}, {\"x\": 9.646910774659567, \"y\": 0.4272760508586448}, {\"x\": 9.773843811168245, \"y\": 0.4305966351193506}, {\"x\": 9.900776847676925, \"y\": 0.43370130799926354}, {\"x\": 10.027709884185603, \"y\": 0.43660997509818017}, {\"x\": 10.15464292069428, \"y\": 0.4393402260429909}, {\"x\": 10.28157595720296, \"y\": 0.4419076533870665}, {\"x\": 10.408508993711639, \"y\": 0.44432612166490326}, {\"x\": 10.535442030220317, \"y\": 0.4466079951783772}, {\"x\": 10.662375066728995, \"y\": 0.44876433150764905}, {\"x\": 10.789308103237675, \"y\": 0.4508050464622835}, {\"x\": 10.916241139746353, \"y\": 0.45273905515655327}, {\"x\": 11.04317417625503, \"y\": 0.45457439305860237}, {\"x\": 11.170107212763709, \"y\": 0.4563183201870366}, {\"x\": 11.297040249272388, \"y\": 0.4579774110792972}, {\"x\": 11.423973285781067, \"y\": 0.45955763270886835}, {\"x\": 11.550906322289745, \"y\": 0.4610644121630311}, {\"x\": 11.677839358798423, \"y\": 0.4625026955936227}, {\"x\": 11.804772395307102, \"y\": 0.4638769997073948}, {\"x\": 11.93170543181578, \"y\": 0.4651914568599527}, {\"x\": 12.058638468324459, \"y\": 0.46644985464978306}, {\"x\": 12.185571504833138, \"y\": 0.46765567077002185}, {\"x\": 12.312504541341816, \"y\": 0.46881210376014343}, {\"x\": 12.439437577850494, \"y\": 0.46992210020343866}, {\"x\": 12.566370614359172, \"y\": 0.47098837883557926}]}]};\n",
       "                </script>\n",
       "                <script>\n",
       "                    (function() {\n",
       "                        var plot = function(session, object) {\n",
       "\n",
       "            var chart = nv.models.lineChart()\n",
       "                    .focusEnable(false)\n",
       "                    .useInteractiveGuideline(true)\n",
       "                    .margin({right:  40})\n",
       "                    .margin({bottom: 60})\n",
       "\n",
       "            chart.xAxis.showMaxMin(false)\n",
       "                       .tickFormat(d3.format(',.1f'))\n",
       "\n",
       "            chart.yAxis.showMaxMin(false)\n",
       "                       .tickFormat(d3.format(',.1f'))\n",
       "\n",
       "            session.__functions.makeChart(session, object, chart);\n",
       "        }\n",
       "                        var synch = function(session, object) {\n",
       "                            window.nvd3_stat.promise.then(function() {\n",
       "                                window.nvd3_stat.session.__functions.charts[\"lineChart_014\"] = plot;\n",
       "                                plot(session, object);\n",
       "                            })\n",
       "                        }\n",
       "                        document.getElementById(\"lineChart_014\")\n",
       "                                .addEventListener(\"load\", synch(window.nvd3_stat.session, \n",
       "                                                  {\"event\":\"plot\", \"data\": data_lineChart_014, \"plotId\":\"lineChart_014\"}))\n",
       "                    })();\n",
       "                </script>\n",
       "            </div>\n",
       "            "
      ]
     },
     "metadata": {},
     "output_type": "display_data"
    }
   ],
   "source": [
    "l2 = nv.lineChart()\n",
    "\n",
    "config={\"height\":500, \"width\": 1024,\n",
    "        \"focusEnable\": True, \"color\":nv.c10(), \n",
    "        \"yAxis\": {\"axisLabel\":\"f(x)\", \"tickFormat\":\",.2f\"}, \n",
    "        \"xAxis\":{\"axisLabel\":\"x\", \"tickFormat\":\"%d-%m-%Y\"}}\n",
    "\n",
    "lineAttributes={\"area\":[True, False, True], \"fillOpacity\":[0.2, 0, 0.2], \"style\":[\"dashed\", \"dotted\", None]}\n",
    "\n",
    "l2.plot(l_df, \"X\", [\"Sin\", \"Cos\", \"ArcTan\"], lineAttributes, config)"
   ]
  },
  {
   "cell_type": "markdown",
   "metadata": {},
   "source": [
    "## 3 Discrete Bar Chart\n",
    "\n",
    "### a) Plot"
   ]
  },
  {
   "cell_type": "code",
   "execution_count": 23,
   "metadata": {
    "collapsed": false,
    "scrolled": false
   },
   "outputs": [
    {
     "data": {
      "text/html": [
       "<div style=\"height:350px; width:500px\">\n",
       "            <div id=\"discreteBarChart_015\" class=\"with-3d-shadow with-transitions\" style=\" height:350px; width:500px\">\n",
       "                <svg></svg>\n",
       "                <script class=\"nvd3_data\">\n",
       "                    var data_discreteBarChart_015 = {\"config\": {\"staggerLabels\": false, \"width\": 500, \"height\": 350, \"color\": [\"#1f77b4\", \"#aec7e8\", \"#ff7f0e\", \"#ffbb78\", \"#2ca02c\", \"#98df8a\", \"#d62728\", \"#ff9896\", \"#9467bd\", \"#c5b0d5\", \"#8c564b\", \"#c49c94\", \"#e377c2\", \"#f7b6d2\", \"#7f7f7f\", \"#c7c7c7\", \"#bcbd22\", \"#dbdb8d\", \"#17becf\", \"#9edae5\"]}, \"data\": [{\"key\": \"Series\", \"values\": [{\"x\": \"SepalLength\", \"y\": 5.843333333333335}, {\"x\": \"SepalWidth\", \"y\": 3.0540000000000007}]}]};\n",
       "                </script>\n",
       "                <script>\n",
       "                    (function() {\n",
       "                        var plot = function(session, object) {\n",
       "            var chart = nv.models.discreteBarChart()\n",
       "                .staggerLabels(true)\n",
       "                .showValues(true)\n",
       "                .showLegend(false)\n",
       "                .margin({top:30})\n",
       "\n",
       "            session.__functions.makeChart(session, object, chart);\n",
       "        }\n",
       "                        var synch = function(session, object) {\n",
       "                            window.nvd3_stat.promise.then(function() {\n",
       "                                window.nvd3_stat.session.__functions.charts[\"discreteBarChart_015\"] = plot;\n",
       "                                plot(session, object);\n",
       "                            })\n",
       "                        }\n",
       "                        document.getElementById(\"discreteBarChart_015\")\n",
       "                                .addEventListener(\"load\", synch(window.nvd3_stat.session, \n",
       "                                                  {\"event\":\"plot\", \"data\": data_discreteBarChart_015, \"plotId\":\"discreteBarChart_015\"}))\n",
       "                    })();\n",
       "                </script>\n",
       "            </div>\n",
       "            "
      ]
     },
     "metadata": {},
     "output_type": "display_data"
    }
   ],
   "source": [
    "db_df = pd.DataFrame(iris.loc[:, [\"SepalLength\", \"SepalWidth\", \"PetalLength\", \"PetalWidth\"]].mean()).reset_index()\n",
    "db_df.columns = [\"Series\", \"Mean\"]\n",
    "\n",
    "db = nv.discreteBarChart()\n",
    "\n",
    "config={\"height\": 350, \"width\": 500, \"color\": nv.c20(), \"staggerLabels\": False}\n",
    "\n",
    "db.plot(db_df[:2], key=\"Series\", value=\"Mean\", config=config)\n"
   ]
  },
  {
   "cell_type": "markdown",
   "metadata": {},
   "source": [
    "### b) Append Values"
   ]
  },
  {
   "cell_type": "code",
   "execution_count": 24,
   "metadata": {
    "collapsed": false
   },
   "outputs": [],
   "source": [
    "db.append(db_df[2:])"
   ]
  },
  {
   "cell_type": "markdown",
   "metadata": {},
   "source": [
    "## 4 Multi Bar Chart"
   ]
  },
  {
   "cell_type": "markdown",
   "metadata": {},
   "source": [
    "### a) Plot"
   ]
  },
  {
   "cell_type": "code",
   "execution_count": 25,
   "metadata": {
    "collapsed": false,
    "scrolled": false
   },
   "outputs": [
    {
     "data": {
      "text/html": [
       "<div style=\"height:500px; width:800px\">\n",
       "            <div id=\"multiBarChart_016\" class=\"with-3d-shadow with-transitions\" style=\" height:500px; width:800px\">\n",
       "                <svg></svg>\n",
       "                <script class=\"nvd3_data\">\n",
       "                    var data_multiBarChart_016 = {\"config\": {\"yAxis\": {\"tickFormat\": \",.2f\", \"axisLabel\": \"f(x)\"}, \"xAxis\": {\"tickFormat\": \",.2f\", \"axisLabel\": \"x\"}, \"width\": 800, \"height\": 500, \"color\": [\"#1f77b4\", \"#aec7e8\", \"#ff7f0e\", \"#ffbb78\", \"#2ca02c\", \"#98df8a\", \"#d62728\", \"#ff9896\", \"#9467bd\", \"#c5b0d5\", \"#8c564b\", \"#c49c94\", \"#e377c2\", \"#f7b6d2\", \"#7f7f7f\", \"#c7c7c7\", \"#bcbd22\", \"#dbdb8d\", \"#17becf\", \"#9edae5\"]}, \"data\": [{\"key\": \"Sin\", \"values\": [{\"x\": 0.0, \"y\": 0.0}, {\"x\": 1.3962634015954636, \"y\": 0.984807753012208}, {\"x\": 2.792526803190927, \"y\": 0.3420201433256689}, {\"x\": 4.1887902047863905, \"y\": -0.8660254037844384}, {\"x\": 5.585053606381854, \"y\": -0.6427876096865396}, {\"x\": 6.981317007977318, \"y\": 0.6427876096865393}]}, {\"key\": \"Cos\", \"values\": [{\"x\": 0.0, \"y\": 1.0}, {\"x\": 1.3962634015954636, \"y\": 0.17364817766693041}, {\"x\": 2.792526803190927, \"y\": -0.9396926207859083}, {\"x\": 4.1887902047863905, \"y\": -0.5000000000000004}, {\"x\": 5.585053606381854, \"y\": 0.7660444431189779}, {\"x\": 6.981317007977318, \"y\": 0.7660444431189781}]}, {\"key\": \"ArcTan\", \"values\": [{\"x\": 0.0, \"y\": -0.47098837883557926}, {\"x\": 1.3962634015954636, \"y\": -0.4563183201870366}, {\"x\": 2.792526803190927, \"y\": -0.4305966351193506}, {\"x\": 4.1887902047863905, \"y\": -0.3751129442947662}, {\"x\": 5.585053606381854, \"y\": -0.20315699047580982}, {\"x\": 6.981317007977318, \"y\": 0.20315699047580982}]}]};\n",
       "                </script>\n",
       "                <script>\n",
       "                    (function() {\n",
       "                        var plot = function(session, object) {\n",
       "\n",
       "            var chart = nv.models.multiBarChart()\n",
       "                .margin({bottom: 50, left: 50})\n",
       "                .groupSpacing(0.1)\n",
       "                .reduceXTicks(false)\n",
       "                .staggerLabels(true);\n",
       "\n",
       "            chart.xAxis.showMaxMin(false)\n",
       "                       .tickFormat(d3.format(',.1f'))\n",
       "\n",
       "            chart.yAxis.showMaxMin(false)\n",
       "                       .tickFormat(d3.format(',.1f'))\n",
       "\n",
       "            session.__functions.makeChart(session, object, chart);\n",
       "        }\n",
       "                        var synch = function(session, object) {\n",
       "                            window.nvd3_stat.promise.then(function() {\n",
       "                                window.nvd3_stat.session.__functions.charts[\"multiBarChart_016\"] = plot;\n",
       "                                plot(session, object);\n",
       "                            })\n",
       "                        }\n",
       "                        document.getElementById(\"multiBarChart_016\")\n",
       "                                .addEventListener(\"load\", synch(window.nvd3_stat.session, \n",
       "                                                  {\"event\":\"plot\", \"data\": data_multiBarChart_016, \"plotId\":\"multiBarChart_016\"}))\n",
       "                    })();\n",
       "                </script>\n",
       "            </div>\n",
       "            "
      ]
     },
     "metadata": {},
     "output_type": "display_data"
    }
   ],
   "source": [
    "x = np.linspace(0, 4*np.pi, 10)\n",
    "mb_df = pd.DataFrame({\"X\":x, \"Sin\":np.sin(x), \"Cos\":np.cos(x), \"ArcTan\":np.arctan(x-2*np.pi)/3})\n",
    "\n",
    "mb1 = nv.multiBarChart()\n",
    "\n",
    "config = {\"height\":500, \"width\": 800, \n",
    "          \"color\": nv.c20(),\n",
    "          \"xAxis\":{\"axisLabel\":\"x\", \"tickFormat\":\",.2f\"},\n",
    "          \"yAxis\":{\"axisLabel\":\"f(x)\", \"tickFormat\":\",.2f\"}}\n",
    "\n",
    "mb1.plot(mb_df[:6], \"X\", [\"Sin\", \"Cos\", \"ArcTan\"], config)"
   ]
  },
  {
   "cell_type": "markdown",
   "metadata": {},
   "source": [
    "### b) Append values"
   ]
  },
  {
   "cell_type": "code",
   "execution_count": 26,
   "metadata": {
    "collapsed": false,
    "scrolled": false
   },
   "outputs": [],
   "source": [
    "for i in range(6,10):\n",
    "    time.sleep(0.5)\n",
    "    mb1.append(mb_df[i:i+1])"
   ]
  },
  {
   "cell_type": "markdown",
   "metadata": {},
   "source": [
    "## 5 Multi Bar Horizontal Chart"
   ]
  },
  {
   "cell_type": "markdown",
   "metadata": {},
   "source": [
    "### a) Plot"
   ]
  },
  {
   "cell_type": "code",
   "execution_count": 27,
   "metadata": {
    "collapsed": false,
    "scrolled": false
   },
   "outputs": [
    {
     "data": {
      "text/html": [
       "<div style=\"height:500px; width:800px\">\n",
       "            <div id=\"multiBarHorizontalChart_017\" class=\"with-3d-shadow with-transitions\" style=\" height:500px; width:800px\">\n",
       "                <svg></svg>\n",
       "                <script class=\"nvd3_data\">\n",
       "                    var data_multiBarHorizontalChart_017 = {\"config\": {\"stacked\": false, \"width\": 800, \"height\": 500, \"color\": [\"#8c564b\", \"#c49c94\", \"#e377c2\", \"#f7b6d2\", \"#7f7f7f\", \"#c7c7c7\", \"#bcbd22\", \"#dbdb8d\", \"#17becf\", \"#9edae5\"]}, \"data\": [{\"key\": \"Sin\", \"values\": [{\"x\": 0.0, \"y\": 0.0}, {\"x\": 1.3962634015954636, \"y\": 0.984807753012208}, {\"x\": 2.792526803190927, \"y\": 0.3420201433256689}, {\"x\": 4.1887902047863905, \"y\": -0.8660254037844384}, {\"x\": 5.585053606381854, \"y\": -0.6427876096865396}, {\"x\": 6.981317007977318, \"y\": 0.6427876096865393}]}, {\"key\": \"Cos\", \"values\": [{\"x\": 0.0, \"y\": 1.0}, {\"x\": 1.3962634015954636, \"y\": 0.17364817766693041}, {\"x\": 2.792526803190927, \"y\": -0.9396926207859083}, {\"x\": 4.1887902047863905, \"y\": -0.5000000000000004}, {\"x\": 5.585053606381854, \"y\": 0.7660444431189779}, {\"x\": 6.981317007977318, \"y\": 0.7660444431189781}]}, {\"key\": \"ArcTan\", \"values\": [{\"x\": 0.0, \"y\": -0.47098837883557926}, {\"x\": 1.3962634015954636, \"y\": -0.4563183201870366}, {\"x\": 2.792526803190927, \"y\": -0.4305966351193506}, {\"x\": 4.1887902047863905, \"y\": -0.3751129442947662}, {\"x\": 5.585053606381854, \"y\": -0.20315699047580982}, {\"x\": 6.981317007977318, \"y\": 0.20315699047580982}]}]};\n",
       "                </script>\n",
       "                <script>\n",
       "                    (function() {\n",
       "                        var plot = function(session, object) {\n",
       "\n",
       "            var chart = nv.models.multiBarHorizontalChart()\n",
       "                .margin({bottom: 50, left: 50})\n",
       "                .stacked(false);\n",
       "                \n",
       "            chart.xAxis.showMaxMin(false)\n",
       "                       .tickFormat(d3.format(',.1f'))\n",
       "\n",
       "            chart.yAxis.showMaxMin(false)\n",
       "                       .tickFormat(d3.format(',.1f'))\n",
       "              \n",
       "           session.__functions.makeChart(session, object, chart);\n",
       "        }\n",
       "                        var synch = function(session, object) {\n",
       "                            window.nvd3_stat.promise.then(function() {\n",
       "                                window.nvd3_stat.session.__functions.charts[\"multiBarHorizontalChart_017\"] = plot;\n",
       "                                plot(session, object);\n",
       "                            })\n",
       "                        }\n",
       "                        document.getElementById(\"multiBarHorizontalChart_017\")\n",
       "                                .addEventListener(\"load\", synch(window.nvd3_stat.session, \n",
       "                                                  {\"event\":\"plot\", \"data\": data_multiBarHorizontalChart_017, \"plotId\":\"multiBarHorizontalChart_017\"}))\n",
       "                    })();\n",
       "                </script>\n",
       "            </div>\n",
       "            "
      ]
     },
     "metadata": {},
     "output_type": "display_data"
    }
   ],
   "source": [
    "mbh = nv.multiBarHorizontalChart()\n",
    "\n",
    "config = {\"height\":500, \"width\": 800, \"color\":nv.c20()[10:], \"stacked\":False}\n",
    "\n",
    "mbh.plot(mb_df[:6], \"X\", [\"Sin\", \"Cos\", \"ArcTan\"], config)"
   ]
  },
  {
   "cell_type": "markdown",
   "metadata": {},
   "source": [
    "### b) Append values"
   ]
  },
  {
   "cell_type": "code",
   "execution_count": 28,
   "metadata": {
    "collapsed": false
   },
   "outputs": [],
   "source": [
    "mbh.append(mb_df[6:])"
   ]
  },
  {
   "cell_type": "markdown",
   "metadata": {},
   "source": [
    "## 6 Line Plus Bar Chart"
   ]
  },
  {
   "cell_type": "markdown",
   "metadata": {},
   "source": [
    "### a) Plot"
   ]
  },
  {
   "cell_type": "code",
   "execution_count": 29,
   "metadata": {
    "collapsed": false,
    "scrolled": false
   },
   "outputs": [
    {
     "data": {
      "text/html": [
       "<div>\n",
       "<table border=\"1\" class=\"dataframe\">\n",
       "  <thead>\n",
       "    <tr style=\"text-align: right;\">\n",
       "      <th></th>\n",
       "      <th>Date</th>\n",
       "      <th>Adj_Close</th>\n",
       "      <th>Close</th>\n",
       "      <th>High</th>\n",
       "      <th>Low</th>\n",
       "      <th>Open</th>\n",
       "      <th>Symbol</th>\n",
       "      <th>Volume</th>\n",
       "      <th>Timestamp</th>\n",
       "      <th>VolumeMio</th>\n",
       "    </tr>\n",
       "  </thead>\n",
       "  <tbody>\n",
       "    <tr>\n",
       "      <th>0</th>\n",
       "      <td>2016-03-28</td>\n",
       "      <td>103.012296</td>\n",
       "      <td>105.190002</td>\n",
       "      <td>106.190002</td>\n",
       "      <td>105.059998</td>\n",
       "      <td>106.000000</td>\n",
       "      <td>AAPL</td>\n",
       "      <td>19411400.0</td>\n",
       "      <td>1459123200000</td>\n",
       "      <td>1.94114</td>\n",
       "    </tr>\n",
       "    <tr>\n",
       "      <th>1</th>\n",
       "      <td>2016-03-29</td>\n",
       "      <td>105.450744</td>\n",
       "      <td>107.680000</td>\n",
       "      <td>107.790001</td>\n",
       "      <td>104.879997</td>\n",
       "      <td>104.889999</td>\n",
       "      <td>AAPL</td>\n",
       "      <td>31190100.0</td>\n",
       "      <td>1459209600000</td>\n",
       "      <td>3.11901</td>\n",
       "    </tr>\n",
       "    <tr>\n",
       "      <th>2</th>\n",
       "      <td>2016-03-30</td>\n",
       "      <td>107.291821</td>\n",
       "      <td>109.559998</td>\n",
       "      <td>110.419998</td>\n",
       "      <td>108.599998</td>\n",
       "      <td>108.650002</td>\n",
       "      <td>AAPL</td>\n",
       "      <td>45601100.0</td>\n",
       "      <td>1459296000000</td>\n",
       "      <td>4.56011</td>\n",
       "    </tr>\n",
       "    <tr>\n",
       "      <th>3</th>\n",
       "      <td>2016-03-31</td>\n",
       "      <td>106.733621</td>\n",
       "      <td>108.989998</td>\n",
       "      <td>109.900002</td>\n",
       "      <td>108.879997</td>\n",
       "      <td>109.720001</td>\n",
       "      <td>AAPL</td>\n",
       "      <td>25888400.0</td>\n",
       "      <td>1459382400000</td>\n",
       "      <td>2.58884</td>\n",
       "    </tr>\n",
       "    <tr>\n",
       "      <th>4</th>\n",
       "      <td>2016-04-01</td>\n",
       "      <td>107.712919</td>\n",
       "      <td>109.989998</td>\n",
       "      <td>110.000000</td>\n",
       "      <td>108.199997</td>\n",
       "      <td>108.779999</td>\n",
       "      <td>AAPL</td>\n",
       "      <td>25874000.0</td>\n",
       "      <td>1459468800000</td>\n",
       "      <td>2.58740</td>\n",
       "    </tr>\n",
       "    <tr>\n",
       "      <th>5</th>\n",
       "      <td>2016-04-02</td>\n",
       "      <td>107.712919</td>\n",
       "      <td>109.989998</td>\n",
       "      <td>110.000000</td>\n",
       "      <td>108.199997</td>\n",
       "      <td>108.779999</td>\n",
       "      <td>AAPL</td>\n",
       "      <td>0.0</td>\n",
       "      <td>1459555200000</td>\n",
       "      <td>0.00000</td>\n",
       "    </tr>\n",
       "    <tr>\n",
       "      <th>6</th>\n",
       "      <td>2016-04-03</td>\n",
       "      <td>107.712919</td>\n",
       "      <td>109.989998</td>\n",
       "      <td>110.000000</td>\n",
       "      <td>108.199997</td>\n",
       "      <td>108.779999</td>\n",
       "      <td>AAPL</td>\n",
       "      <td>0.0</td>\n",
       "      <td>1459641600000</td>\n",
       "      <td>0.00000</td>\n",
       "    </tr>\n",
       "    <tr>\n",
       "      <th>7</th>\n",
       "      <td>2016-04-04</td>\n",
       "      <td>108.819530</td>\n",
       "      <td>111.120003</td>\n",
       "      <td>112.190002</td>\n",
       "      <td>110.269997</td>\n",
       "      <td>110.419998</td>\n",
       "      <td>AAPL</td>\n",
       "      <td>37356200.0</td>\n",
       "      <td>1459728000000</td>\n",
       "      <td>3.73562</td>\n",
       "    </tr>\n",
       "    <tr>\n",
       "      <th>8</th>\n",
       "      <td>2016-04-05</td>\n",
       "      <td>107.536645</td>\n",
       "      <td>109.809998</td>\n",
       "      <td>110.730003</td>\n",
       "      <td>109.419998</td>\n",
       "      <td>109.510002</td>\n",
       "      <td>AAPL</td>\n",
       "      <td>26578700.0</td>\n",
       "      <td>1459814400000</td>\n",
       "      <td>2.65787</td>\n",
       "    </tr>\n",
       "    <tr>\n",
       "      <th>9</th>\n",
       "      <td>2016-04-06</td>\n",
       "      <td>108.662839</td>\n",
       "      <td>110.959999</td>\n",
       "      <td>110.980003</td>\n",
       "      <td>109.199997</td>\n",
       "      <td>110.230003</td>\n",
       "      <td>AAPL</td>\n",
       "      <td>26404100.0</td>\n",
       "      <td>1459900800000</td>\n",
       "      <td>2.64041</td>\n",
       "    </tr>\n",
       "  </tbody>\n",
       "</table>\n",
       "</div>"
      ],
      "text/plain": [
       "        Date   Adj_Close       Close        High         Low        Open Symbol      Volume      Timestamp  VolumeMio\n",
       "0 2016-03-28  103.012296  105.190002  106.190002  105.059998  106.000000   AAPL  19411400.0  1459123200000    1.94114\n",
       "1 2016-03-29  105.450744  107.680000  107.790001  104.879997  104.889999   AAPL  31190100.0  1459209600000    3.11901\n",
       "2 2016-03-30  107.291821  109.559998  110.419998  108.599998  108.650002   AAPL  45601100.0  1459296000000    4.56011\n",
       "3 2016-03-31  106.733621  108.989998  109.900002  108.879997  109.720001   AAPL  25888400.0  1459382400000    2.58884\n",
       "4 2016-04-01  107.712919  109.989998  110.000000  108.199997  108.779999   AAPL  25874000.0  1459468800000    2.58740\n",
       "5 2016-04-02  107.712919  109.989998  110.000000  108.199997  108.779999   AAPL         0.0  1459555200000    0.00000\n",
       "6 2016-04-03  107.712919  109.989998  110.000000  108.199997  108.779999   AAPL         0.0  1459641600000    0.00000\n",
       "7 2016-04-04  108.819530  111.120003  112.190002  110.269997  110.419998   AAPL  37356200.0  1459728000000    3.73562\n",
       "8 2016-04-05  107.536645  109.809998  110.730003  109.419998  109.510002   AAPL  26578700.0  1459814400000    2.65787\n",
       "9 2016-04-06  108.662839  110.959999  110.980003  109.199997  110.230003   AAPL  26404100.0  1459900800000    2.64041"
      ]
     },
     "execution_count": 29,
     "metadata": {},
     "output_type": "execute_result"
    }
   ],
   "source": [
    "ohlcDf = downloadHistoricalStockData('AAPL', (2016,3,28), (2017,3,27))\n",
    "ohlcDf[\"VolumeMio\"] = ohlcDf[\"Volume\"] / 10000000\n",
    "ohlcDf.head(10)"
   ]
  },
  {
   "cell_type": "code",
   "execution_count": 30,
   "metadata": {
    "collapsed": false,
    "scrolled": false
   },
   "outputs": [
    {
     "data": {
      "text/html": [
       "<div style=\"height:600px; width:1200px\">\n",
       "            <div id=\"linePlusBarChart_018\" class=\"with-3d-shadow with-transitions\" style=\" height:600px; width:1200px\">\n",
       "                <svg></svg>\n",
       "                <script class=\"nvd3_data\">\n",
       "                    var data_linePlusBarChart_018 = {\"config\": {\"focusEnable\": true, \"x2Axis\": {\"tickFormat\": \"%d.%m.%y\"}, \"width\": 1200, \"height\": 600, \"color\": [\"#1f77b4\", \"#ffbb78\"], \"yDomain\": [80, 145], \"xAxis\": {\"tickFormat\": \"%d.%m.%y\"}, \"duration\": 0}, \"data\": [{\"key\": \"Close\", \"values\": [{\"x\": 1459123200000.0, \"y\": 105.190002}, {\"x\": 1459209600000.0, \"y\": 107.68}, {\"x\": 1459296000000.0, \"y\": 109.559998}, {\"x\": 1459382400000.0, \"y\": 108.989998}, {\"x\": 1459468800000.0, \"y\": 109.989998}, {\"x\": 1459555200000.0, \"y\": 109.989998}, {\"x\": 1459641600000.0, \"y\": 109.989998}, {\"x\": 1459728000000.0, \"y\": 111.120003}, {\"x\": 1459814400000.0, \"y\": 109.809998}, {\"x\": 1459900800000.0, \"y\": 110.959999}, {\"x\": 1459987200000.0, \"y\": 108.540001}, {\"x\": 1460073600000.0, \"y\": 108.660004}, {\"x\": 1460160000000.0, \"y\": 108.660004}, {\"x\": 1460246400000.0, \"y\": 108.660004}, {\"x\": 1460332800000.0, \"y\": 109.019997}, {\"x\": 1460419200000.0, \"y\": 110.440002}, {\"x\": 1460505600000.0, \"y\": 112.040001}, {\"x\": 1460592000000.0, \"y\": 112.099998}, {\"x\": 1460678400000.0, \"y\": 109.849998}, {\"x\": 1460764800000.0, \"y\": 109.849998}, {\"x\": 1460851200000.0, \"y\": 109.849998}, {\"x\": 1460937600000.0, \"y\": 107.480003}, {\"x\": 1461024000000.0, \"y\": 106.910004}, {\"x\": 1461110400000.0, \"y\": 107.129997}, {\"x\": 1461196800000.0, \"y\": 105.970001}, {\"x\": 1461283200000.0, \"y\": 105.68}, {\"x\": 1461369600000.0, \"y\": 105.68}, {\"x\": 1461456000000.0, \"y\": 105.68}, {\"x\": 1461542400000.0, \"y\": 105.080002}, {\"x\": 1461628800000.0, \"y\": 104.349998}, {\"x\": 1461715200000.0, \"y\": 97.82}, {\"x\": 1461801600000.0, \"y\": 94.830002}, {\"x\": 1461888000000.0, \"y\": 93.739998}, {\"x\": 1461974400000.0, \"y\": 93.739998}, {\"x\": 1462060800000.0, \"y\": 93.739998}, {\"x\": 1462147200000.0, \"y\": 93.639999}, {\"x\": 1462233600000.0, \"y\": 95.18}, {\"x\": 1462320000000.0, \"y\": 94.190002}, {\"x\": 1462406400000.0, \"y\": 93.239998}, {\"x\": 1462492800000.0, \"y\": 92.720001}, {\"x\": 1462579200000.0, \"y\": 92.720001}, {\"x\": 1462665600000.0, \"y\": 92.720001}, {\"x\": 1462752000000.0, \"y\": 92.790001}, {\"x\": 1462838400000.0, \"y\": 93.419998}, {\"x\": 1462924800000.0, \"y\": 92.510002}, {\"x\": 1463011200000.0, \"y\": 90.339996}, {\"x\": 1463097600000.0, \"y\": 90.519997}, {\"x\": 1463184000000.0, \"y\": 90.519997}, {\"x\": 1463270400000.0, \"y\": 90.519997}, {\"x\": 1463356800000.0, \"y\": 93.879997}, {\"x\": 1463443200000.0, \"y\": 93.489998}, {\"x\": 1463529600000.0, \"y\": 94.559998}, {\"x\": 1463616000000.0, \"y\": 94.199997}, {\"x\": 1463702400000.0, \"y\": 95.220001}, {\"x\": 1463788800000.0, \"y\": 95.220001}, {\"x\": 1463875200000.0, \"y\": 95.220001}, {\"x\": 1463961600000.0, \"y\": 96.43}, {\"x\": 1464048000000.0, \"y\": 97.900002}, {\"x\": 1464134400000.0, \"y\": 99.620003}, {\"x\": 1464220800000.0, \"y\": 100.410004}, {\"x\": 1464307200000.0, \"y\": 100.349998}, {\"x\": 1464393600000.0, \"y\": 100.349998}, {\"x\": 1464480000000.0, \"y\": 100.349998}, {\"x\": 1464566400000.0, \"y\": 100.349998}, {\"x\": 1464652800000.0, \"y\": 99.860001}, {\"x\": 1464739200000.0, \"y\": 98.459999}, {\"x\": 1464825600000.0, \"y\": 97.720001}, {\"x\": 1464912000000.0, \"y\": 97.919998}, {\"x\": 1464998400000.0, \"y\": 97.919998}, {\"x\": 1465084800000.0, \"y\": 97.919998}, {\"x\": 1465171200000.0, \"y\": 98.629997}, {\"x\": 1465257600000.0, \"y\": 99.029999}, {\"x\": 1465344000000.0, \"y\": 98.940002}, {\"x\": 1465430400000.0, \"y\": 99.650002}, {\"x\": 1465516800000.0, \"y\": 98.830002}, {\"x\": 1465603200000.0, \"y\": 98.830002}, {\"x\": 1465689600000.0, \"y\": 98.830002}, {\"x\": 1465776000000.0, \"y\": 97.339996}, {\"x\": 1465862400000.0, \"y\": 97.459999}, {\"x\": 1465948800000.0, \"y\": 97.139999}, {\"x\": 1466035200000.0, \"y\": 97.550003}, {\"x\": 1466121600000.0, \"y\": 95.330002}, {\"x\": 1466208000000.0, \"y\": 95.330002}, {\"x\": 1466294400000.0, \"y\": 95.330002}, {\"x\": 1466380800000.0, \"y\": 95.099998}, {\"x\": 1466467200000.0, \"y\": 95.910004}, {\"x\": 1466553600000.0, \"y\": 95.550003}, {\"x\": 1466640000000.0, \"y\": 96.099998}, {\"x\": 1466726400000.0, \"y\": 93.400002}, {\"x\": 1466812800000.0, \"y\": 93.400002}, {\"x\": 1466899200000.0, \"y\": 93.400002}, {\"x\": 1466985600000.0, \"y\": 92.040001}, {\"x\": 1467072000000.0, \"y\": 93.589996}, {\"x\": 1467158400000.0, \"y\": 94.400002}, {\"x\": 1467244800000.0, \"y\": 95.599998}, {\"x\": 1467331200000.0, \"y\": 95.889999}, {\"x\": 1467417600000.0, \"y\": 95.889999}, {\"x\": 1467504000000.0, \"y\": 95.889999}, {\"x\": 1467590400000.0, \"y\": 95.889999}, {\"x\": 1467676800000.0, \"y\": 94.989998}, {\"x\": 1467763200000.0, \"y\": 95.529999}, {\"x\": 1467849600000.0, \"y\": 95.940002}, {\"x\": 1467936000000.0, \"y\": 96.68}, {\"x\": 1468022400000.0, \"y\": 96.68}, {\"x\": 1468108800000.0, \"y\": 96.68}, {\"x\": 1468195200000.0, \"y\": 96.980003}, {\"x\": 1468281600000.0, \"y\": 97.419998}, {\"x\": 1468368000000.0, \"y\": 96.870003}, {\"x\": 1468454400000.0, \"y\": 98.790001}, {\"x\": 1468540800000.0, \"y\": 98.779999}, {\"x\": 1468627200000.0, \"y\": 98.779999}, {\"x\": 1468713600000.0, \"y\": 98.779999}, {\"x\": 1468800000000.0, \"y\": 99.830002}, {\"x\": 1468886400000.0, \"y\": 99.870003}, {\"x\": 1468972800000.0, \"y\": 99.959999}, {\"x\": 1469059200000.0, \"y\": 99.43}, {\"x\": 1469145600000.0, \"y\": 98.660004}, {\"x\": 1469232000000.0, \"y\": 98.660004}, {\"x\": 1469318400000.0, \"y\": 98.660004}, {\"x\": 1469404800000.0, \"y\": 97.339996}, {\"x\": 1469491200000.0, \"y\": 96.669998}, {\"x\": 1469577600000.0, \"y\": 102.949997}, {\"x\": 1469664000000.0, \"y\": 104.339996}, {\"x\": 1469750400000.0, \"y\": 104.209999}, {\"x\": 1469836800000.0, \"y\": 104.209999}, {\"x\": 1469923200000.0, \"y\": 104.209999}, {\"x\": 1470009600000.0, \"y\": 106.050003}, {\"x\": 1470096000000.0, \"y\": 104.480003}, {\"x\": 1470182400000.0, \"y\": 105.790001}, {\"x\": 1470268800000.0, \"y\": 105.870003}, {\"x\": 1470355200000.0, \"y\": 107.480003}, {\"x\": 1470441600000.0, \"y\": 107.480003}, {\"x\": 1470528000000.0, \"y\": 107.480003}, {\"x\": 1470614400000.0, \"y\": 108.370003}, {\"x\": 1470700800000.0, \"y\": 108.809998}, {\"x\": 1470787200000.0, \"y\": 108.0}, {\"x\": 1470873600000.0, \"y\": 107.93}, {\"x\": 1470960000000.0, \"y\": 108.18}, {\"x\": 1471046400000.0, \"y\": 108.18}, {\"x\": 1471132800000.0, \"y\": 108.18}, {\"x\": 1471219200000.0, \"y\": 109.480003}, {\"x\": 1471305600000.0, \"y\": 109.379997}, {\"x\": 1471392000000.0, \"y\": 109.220001}, {\"x\": 1471478400000.0, \"y\": 109.080002}, {\"x\": 1471564800000.0, \"y\": 109.360001}, {\"x\": 1471651200000.0, \"y\": 109.360001}, {\"x\": 1471737600000.0, \"y\": 109.360001}, {\"x\": 1471824000000.0, \"y\": 108.510002}, {\"x\": 1471910400000.0, \"y\": 108.849998}, {\"x\": 1471996800000.0, \"y\": 108.029999}, {\"x\": 1472083200000.0, \"y\": 107.57}, {\"x\": 1472169600000.0, \"y\": 106.940002}, {\"x\": 1472256000000.0, \"y\": 106.940002}, {\"x\": 1472342400000.0, \"y\": 106.940002}, {\"x\": 1472428800000.0, \"y\": 106.82}, {\"x\": 1472515200000.0, \"y\": 106.0}, {\"x\": 1472601600000.0, \"y\": 106.099998}, {\"x\": 1472688000000.0, \"y\": 106.730003}, {\"x\": 1472774400000.0, \"y\": 107.730003}, {\"x\": 1472860800000.0, \"y\": 107.730003}, {\"x\": 1472947200000.0, \"y\": 107.730003}, {\"x\": 1473033600000.0, \"y\": 107.730003}, {\"x\": 1473120000000.0, \"y\": 107.699997}, {\"x\": 1473206400000.0, \"y\": 108.360001}, {\"x\": 1473292800000.0, \"y\": 105.519997}, {\"x\": 1473379200000.0, \"y\": 103.129997}, {\"x\": 1473465600000.0, \"y\": 103.129997}, {\"x\": 1473552000000.0, \"y\": 103.129997}, {\"x\": 1473638400000.0, \"y\": 105.440002}, {\"x\": 1473724800000.0, \"y\": 107.949997}, {\"x\": 1473811200000.0, \"y\": 111.769997}, {\"x\": 1473897600000.0, \"y\": 115.57}, {\"x\": 1473984000000.0, \"y\": 114.919998}, {\"x\": 1474070400000.0, \"y\": 114.919998}, {\"x\": 1474156800000.0, \"y\": 114.919998}, {\"x\": 1474243200000.0, \"y\": 113.580002}, {\"x\": 1474329600000.0, \"y\": 113.57}, {\"x\": 1474416000000.0, \"y\": 113.550003}, {\"x\": 1474502400000.0, \"y\": 114.620003}, {\"x\": 1474588800000.0, \"y\": 112.709999}, {\"x\": 1474675200000.0, \"y\": 112.709999}, {\"x\": 1474761600000.0, \"y\": 112.709999}, {\"x\": 1474848000000.0, \"y\": 112.879997}, {\"x\": 1474934400000.0, \"y\": 113.089996}, {\"x\": 1475020800000.0, \"y\": 113.949997}, {\"x\": 1475107200000.0, \"y\": 112.18}, {\"x\": 1475193600000.0, \"y\": 113.050003}, {\"x\": 1475280000000.0, \"y\": 113.050003}, {\"x\": 1475366400000.0, \"y\": 113.050003}, {\"x\": 1475452800000.0, \"y\": 112.519997}, {\"x\": 1475539200000.0, \"y\": 113.0}, {\"x\": 1475625600000.0, \"y\": 113.050003}, {\"x\": 1475712000000.0, \"y\": 113.889999}, {\"x\": 1475798400000.0, \"y\": 114.059998}, {\"x\": 1475884800000.0, \"y\": 114.059998}, {\"x\": 1475971200000.0, \"y\": 114.059998}, {\"x\": 1476057600000.0, \"y\": 116.050003}, {\"x\": 1476144000000.0, \"y\": 116.300003}, {\"x\": 1476230400000.0, \"y\": 117.339996}, {\"x\": 1476316800000.0, \"y\": 116.980003}, {\"x\": 1476403200000.0, \"y\": 117.629997}, {\"x\": 1476489600000.0, \"y\": 117.629997}, {\"x\": 1476576000000.0, \"y\": 117.629997}, {\"x\": 1476662400000.0, \"y\": 117.550003}, {\"x\": 1476748800000.0, \"y\": 117.470001}, {\"x\": 1476835200000.0, \"y\": 117.120003}, {\"x\": 1476921600000.0, \"y\": 117.059998}, {\"x\": 1477008000000.0, \"y\": 116.599998}, {\"x\": 1477094400000.0, \"y\": 116.599998}, {\"x\": 1477180800000.0, \"y\": 116.599998}, {\"x\": 1477267200000.0, \"y\": 117.650002}, {\"x\": 1477353600000.0, \"y\": 118.25}, {\"x\": 1477440000000.0, \"y\": 115.589996}, {\"x\": 1477526400000.0, \"y\": 114.480003}, {\"x\": 1477612800000.0, \"y\": 113.720001}, {\"x\": 1477699200000.0, \"y\": 113.720001}, {\"x\": 1477785600000.0, \"y\": 113.720001}, {\"x\": 1477872000000.0, \"y\": 113.540001}, {\"x\": 1477958400000.0, \"y\": 111.489998}, {\"x\": 1478044800000.0, \"y\": 111.589996}, {\"x\": 1478131200000.0, \"y\": 109.830002}, {\"x\": 1478217600000.0, \"y\": 108.839996}, {\"x\": 1478304000000.0, \"y\": 108.839996}, {\"x\": 1478390400000.0, \"y\": 108.839996}, {\"x\": 1478476800000.0, \"y\": 110.410004}, {\"x\": 1478563200000.0, \"y\": 111.059998}, {\"x\": 1478649600000.0, \"y\": 110.879997}, {\"x\": 1478736000000.0, \"y\": 107.790001}, {\"x\": 1478822400000.0, \"y\": 108.43}, {\"x\": 1478908800000.0, \"y\": 108.43}, {\"x\": 1478995200000.0, \"y\": 108.43}, {\"x\": 1479081600000.0, \"y\": 105.709999}, {\"x\": 1479168000000.0, \"y\": 107.110001}, {\"x\": 1479254400000.0, \"y\": 109.989998}, {\"x\": 1479340800000.0, \"y\": 109.949997}, {\"x\": 1479427200000.0, \"y\": 110.059998}, {\"x\": 1479513600000.0, \"y\": 110.059998}, {\"x\": 1479600000000.0, \"y\": 110.059998}, {\"x\": 1479686400000.0, \"y\": 111.730003}, {\"x\": 1479772800000.0, \"y\": 111.800003}, {\"x\": 1479859200000.0, \"y\": 111.230003}, {\"x\": 1479945600000.0, \"y\": 111.230003}, {\"x\": 1480032000000.0, \"y\": 111.790001}, {\"x\": 1480118400000.0, \"y\": 111.790001}, {\"x\": 1480204800000.0, \"y\": 111.790001}, {\"x\": 1480291200000.0, \"y\": 111.57}, {\"x\": 1480377600000.0, \"y\": 111.459999}, {\"x\": 1480464000000.0, \"y\": 110.519997}, {\"x\": 1480550400000.0, \"y\": 109.489998}, {\"x\": 1480636800000.0, \"y\": 109.900002}, {\"x\": 1480723200000.0, \"y\": 109.900002}, {\"x\": 1480809600000.0, \"y\": 109.900002}, {\"x\": 1480896000000.0, \"y\": 109.110001}, {\"x\": 1480982400000.0, \"y\": 109.949997}, {\"x\": 1481068800000.0, \"y\": 111.029999}, {\"x\": 1481155200000.0, \"y\": 112.120003}, {\"x\": 1481241600000.0, \"y\": 113.949997}, {\"x\": 1481328000000.0, \"y\": 113.949997}, {\"x\": 1481414400000.0, \"y\": 113.949997}, {\"x\": 1481500800000.0, \"y\": 113.300003}, {\"x\": 1481587200000.0, \"y\": 115.190002}, {\"x\": 1481673600000.0, \"y\": 115.190002}, {\"x\": 1481760000000.0, \"y\": 115.82}, {\"x\": 1481846400000.0, \"y\": 115.970001}, {\"x\": 1481932800000.0, \"y\": 115.970001}, {\"x\": 1482019200000.0, \"y\": 115.970001}, {\"x\": 1482105600000.0, \"y\": 116.639999}, {\"x\": 1482192000000.0, \"y\": 116.949997}, {\"x\": 1482278400000.0, \"y\": 117.059998}, {\"x\": 1482364800000.0, \"y\": 116.290001}, {\"x\": 1482451200000.0, \"y\": 116.519997}, {\"x\": 1482537600000.0, \"y\": 116.519997}, {\"x\": 1482624000000.0, \"y\": 116.519997}, {\"x\": 1482710400000.0, \"y\": 116.519997}, {\"x\": 1482796800000.0, \"y\": 117.260002}, {\"x\": 1482883200000.0, \"y\": 116.760002}, {\"x\": 1482969600000.0, \"y\": 116.730003}, {\"x\": 1483056000000.0, \"y\": 115.82}, {\"x\": 1483142400000.0, \"y\": 115.82}, {\"x\": 1483228800000.0, \"y\": 115.82}, {\"x\": 1483315200000.0, \"y\": 115.82}, {\"x\": 1483401600000.0, \"y\": 116.150002}, {\"x\": 1483488000000.0, \"y\": 116.019997}, {\"x\": 1483574400000.0, \"y\": 116.610001}, {\"x\": 1483660800000.0, \"y\": 117.910004}, {\"x\": 1483747200000.0, \"y\": 117.910004}, {\"x\": 1483833600000.0, \"y\": 117.910004}, {\"x\": 1483920000000.0, \"y\": 118.989998}, {\"x\": 1484006400000.0, \"y\": 119.110001}, {\"x\": 1484092800000.0, \"y\": 119.75}, {\"x\": 1484179200000.0, \"y\": 119.25}, {\"x\": 1484265600000.0, \"y\": 119.040001}, {\"x\": 1484352000000.0, \"y\": 119.040001}, {\"x\": 1484438400000.0, \"y\": 119.040001}, {\"x\": 1484524800000.0, \"y\": 119.040001}, {\"x\": 1484611200000.0, \"y\": 120.0}, {\"x\": 1484697600000.0, \"y\": 119.989998}, {\"x\": 1484784000000.0, \"y\": 119.779999}, {\"x\": 1484870400000.0, \"y\": 120.0}, {\"x\": 1484956800000.0, \"y\": 120.0}]}, {\"bar\": true, \"key\": \"Volume\", \"values\": [{\"x\": 1459123200000.0, \"y\": 19411400.0}, {\"x\": 1459209600000.0, \"y\": 31190100.0}, {\"x\": 1459296000000.0, \"y\": 45601100.0}, {\"x\": 1459382400000.0, \"y\": 25888400.0}, {\"x\": 1459468800000.0, \"y\": 25874000.0}, {\"x\": 1459555200000.0, \"y\": 0.0}, {\"x\": 1459641600000.0, \"y\": 0.0}, {\"x\": 1459728000000.0, \"y\": 37356200.0}, {\"x\": 1459814400000.0, \"y\": 26578700.0}, {\"x\": 1459900800000.0, \"y\": 26404100.0}, {\"x\": 1459987200000.0, \"y\": 31801900.0}, {\"x\": 1460073600000.0, \"y\": 23581700.0}, {\"x\": 1460160000000.0, \"y\": 0.0}, {\"x\": 1460246400000.0, \"y\": 0.0}, {\"x\": 1460332800000.0, \"y\": 29407500.0}, {\"x\": 1460419200000.0, \"y\": 27232300.0}, {\"x\": 1460505600000.0, \"y\": 33257300.0}, {\"x\": 1460592000000.0, \"y\": 25473900.0}, {\"x\": 1460678400000.0, \"y\": 46939000.0}, {\"x\": 1460764800000.0, \"y\": 0.0}, {\"x\": 1460851200000.0, \"y\": 0.0}, {\"x\": 1460937600000.0, \"y\": 60834000.0}, {\"x\": 1461024000000.0, \"y\": 32384900.0}, {\"x\": 1461110400000.0, \"y\": 30611000.0}, {\"x\": 1461196800000.0, \"y\": 31552500.0}, {\"x\": 1461283200000.0, \"y\": 33683100.0}, {\"x\": 1461369600000.0, \"y\": 0.0}, {\"x\": 1461456000000.0, \"y\": 0.0}, {\"x\": 1461542400000.0, \"y\": 28031600.0}, {\"x\": 1461628800000.0, \"y\": 56016200.0}, {\"x\": 1461715200000.0, \"y\": 114602100.0}, {\"x\": 1461801600000.0, \"y\": 82242700.0}, {\"x\": 1461888000000.0, \"y\": 68531500.0}, {\"x\": 1461974400000.0, \"y\": 0.0}, {\"x\": 1462060800000.0, \"y\": 0.0}, {\"x\": 1462147200000.0, \"y\": 48160100.0}, {\"x\": 1462233600000.0, \"y\": 56831300.0}, {\"x\": 1462320000000.0, \"y\": 41025500.0}, {\"x\": 1462406400000.0, \"y\": 35890500.0}, {\"x\": 1462492800000.0, \"y\": 43458200.0}, {\"x\": 1462579200000.0, \"y\": 0.0}, {\"x\": 1462665600000.0, \"y\": 0.0}, {\"x\": 1462752000000.0, \"y\": 32936400.0}, {\"x\": 1462838400000.0, \"y\": 33686800.0}, {\"x\": 1462924800000.0, \"y\": 28719100.0}, {\"x\": 1463011200000.0, \"y\": 76314700.0}, {\"x\": 1463097600000.0, \"y\": 44392800.0}, {\"x\": 1463184000000.0, \"y\": 0.0}, {\"x\": 1463270400000.0, \"y\": 0.0}, {\"x\": 1463356800000.0, \"y\": 61259800.0}, {\"x\": 1463443200000.0, \"y\": 46916900.0}, {\"x\": 1463529600000.0, \"y\": 42062400.0}, {\"x\": 1463616000000.0, \"y\": 30442100.0}, {\"x\": 1463702400000.0, \"y\": 32026000.0}, {\"x\": 1463788800000.0, \"y\": 0.0}, {\"x\": 1463875200000.0, \"y\": 0.0}, {\"x\": 1463961600000.0, \"y\": 38018600.0}, {\"x\": 1464048000000.0, \"y\": 35140200.0}, {\"x\": 1464134400000.0, \"y\": 38168800.0}, {\"x\": 1464220800000.0, \"y\": 56331200.0}, {\"x\": 1464307200000.0, \"y\": 36229500.0}, {\"x\": 1464393600000.0, \"y\": 0.0}, {\"x\": 1464480000000.0, \"y\": 0.0}, {\"x\": 1464566400000.0, \"y\": 0.0}, {\"x\": 1464652800000.0, \"y\": 42307200.0}, {\"x\": 1464739200000.0, \"y\": 29173300.0}, {\"x\": 1464825600000.0, \"y\": 40191600.0}, {\"x\": 1464912000000.0, \"y\": 28062900.0}, {\"x\": 1464998400000.0, \"y\": 0.0}, {\"x\": 1465084800000.0, \"y\": 0.0}, {\"x\": 1465171200000.0, \"y\": 23292500.0}, {\"x\": 1465257600000.0, \"y\": 22409500.0}, {\"x\": 1465344000000.0, \"y\": 20848100.0}, {\"x\": 1465430400000.0, \"y\": 26601400.0}, {\"x\": 1465516800000.0, \"y\": 31712900.0}, {\"x\": 1465603200000.0, \"y\": 0.0}, {\"x\": 1465689600000.0, \"y\": 0.0}, {\"x\": 1465776000000.0, \"y\": 38020500.0}, {\"x\": 1465862400000.0, \"y\": 31931900.0}, {\"x\": 1465948800000.0, \"y\": 29445200.0}, {\"x\": 1466035200000.0, \"y\": 31326800.0}, {\"x\": 1466121600000.0, \"y\": 61008200.0}, {\"x\": 1466208000000.0, \"y\": 0.0}, {\"x\": 1466294400000.0, \"y\": 0.0}, {\"x\": 1466380800000.0, \"y\": 34411900.0}, {\"x\": 1466467200000.0, \"y\": 35546400.0}, {\"x\": 1466553600000.0, \"y\": 29219100.0}, {\"x\": 1466640000000.0, \"y\": 32240200.0}, {\"x\": 1466726400000.0, \"y\": 75311400.0}, {\"x\": 1466812800000.0, \"y\": 0.0}, {\"x\": 1466899200000.0, \"y\": 0.0}, {\"x\": 1466985600000.0, \"y\": 45489600.0}, {\"x\": 1467072000000.0, \"y\": 40444900.0}, {\"x\": 1467158400000.0, \"y\": 36531000.0}, {\"x\": 1467244800000.0, \"y\": 35836400.0}, {\"x\": 1467331200000.0, \"y\": 26026500.0}, {\"x\": 1467417600000.0, \"y\": 0.0}, {\"x\": 1467504000000.0, \"y\": 0.0}, {\"x\": 1467590400000.0, \"y\": 0.0}, {\"x\": 1467676800000.0, \"y\": 27705200.0}, {\"x\": 1467763200000.0, \"y\": 30949100.0}, {\"x\": 1467849600000.0, \"y\": 25139600.0}, {\"x\": 1467936000000.0, \"y\": 28912100.0}, {\"x\": 1468022400000.0, \"y\": 0.0}, {\"x\": 1468108800000.0, \"y\": 0.0}, {\"x\": 1468195200000.0, \"y\": 23794900.0}, {\"x\": 1468281600000.0, \"y\": 24167500.0}, {\"x\": 1468368000000.0, \"y\": 25892200.0}, {\"x\": 1468454400000.0, \"y\": 38919000.0}, {\"x\": 1468540800000.0, \"y\": 30137000.0}, {\"x\": 1468627200000.0, \"y\": 0.0}, {\"x\": 1468713600000.0, \"y\": 0.0}, {\"x\": 1468800000000.0, \"y\": 36493900.0}, {\"x\": 1468886400000.0, \"y\": 23779900.0}, {\"x\": 1468972800000.0, \"y\": 26276000.0}, {\"x\": 1469059200000.0, \"y\": 32702000.0}, {\"x\": 1469145600000.0, \"y\": 28313700.0}, {\"x\": 1469232000000.0, \"y\": 0.0}, {\"x\": 1469318400000.0, \"y\": 0.0}, {\"x\": 1469404800000.0, \"y\": 40382900.0}, {\"x\": 1469491200000.0, \"y\": 56239800.0}, {\"x\": 1469577600000.0, \"y\": 92344800.0}, {\"x\": 1469664000000.0, \"y\": 39869800.0}, {\"x\": 1469750400000.0, \"y\": 27733700.0}, {\"x\": 1469836800000.0, \"y\": 0.0}, {\"x\": 1469923200000.0, \"y\": 0.0}, {\"x\": 1470009600000.0, \"y\": 38167900.0}, {\"x\": 1470096000000.0, \"y\": 33816600.0}, {\"x\": 1470182400000.0, \"y\": 30202600.0}, {\"x\": 1470268800000.0, \"y\": 27408700.0}, {\"x\": 1470355200000.0, \"y\": 40553400.0}, {\"x\": 1470441600000.0, \"y\": 0.0}, {\"x\": 1470528000000.0, \"y\": 0.0}, {\"x\": 1470614400000.0, \"y\": 28037200.0}, {\"x\": 1470700800000.0, \"y\": 26315200.0}, {\"x\": 1470787200000.0, \"y\": 24008500.0}, {\"x\": 1470873600000.0, \"y\": 27484500.0}, {\"x\": 1470960000000.0, \"y\": 18660400.0}, {\"x\": 1471046400000.0, \"y\": 0.0}, {\"x\": 1471132800000.0, \"y\": 0.0}, {\"x\": 1471219200000.0, \"y\": 25868200.0}, {\"x\": 1471305600000.0, \"y\": 33794400.0}, {\"x\": 1471392000000.0, \"y\": 25356000.0}, {\"x\": 1471478400000.0, \"y\": 21984700.0}, {\"x\": 1471564800000.0, \"y\": 25368100.0}, {\"x\": 1471651200000.0, \"y\": 0.0}, {\"x\": 1471737600000.0, \"y\": 0.0}, {\"x\": 1471824000000.0, \"y\": 25820200.0}, {\"x\": 1471910400000.0, \"y\": 21257700.0}, {\"x\": 1471996800000.0, \"y\": 23675100.0}, {\"x\": 1472083200000.0, \"y\": 25086200.0}, {\"x\": 1472169600000.0, \"y\": 27766300.0}, {\"x\": 1472256000000.0, \"y\": 0.0}, {\"x\": 1472342400000.0, \"y\": 0.0}, {\"x\": 1472428800000.0, \"y\": 24970300.0}, {\"x\": 1472515200000.0, \"y\": 24863900.0}, {\"x\": 1472601600000.0, \"y\": 29662400.0}, {\"x\": 1472688000000.0, \"y\": 26701500.0}, {\"x\": 1472774400000.0, \"y\": 26802500.0}, {\"x\": 1472860800000.0, \"y\": 0.0}, {\"x\": 1472947200000.0, \"y\": 0.0}, {\"x\": 1473033600000.0, \"y\": 0.0}, {\"x\": 1473120000000.0, \"y\": 26880400.0}, {\"x\": 1473206400000.0, \"y\": 42364300.0}, {\"x\": 1473292800000.0, \"y\": 53002000.0}, {\"x\": 1473379200000.0, \"y\": 46557000.0}, {\"x\": 1473465600000.0, \"y\": 0.0}, {\"x\": 1473552000000.0, \"y\": 0.0}, {\"x\": 1473638400000.0, \"y\": 45292800.0}, {\"x\": 1473724800000.0, \"y\": 62176200.0}, {\"x\": 1473811200000.0, \"y\": 110888700.0}, {\"x\": 1473897600000.0, \"y\": 89983600.0}, {\"x\": 1473984000000.0, \"y\": 79886900.0}, {\"x\": 1474070400000.0, \"y\": 0.0}, {\"x\": 1474156800000.0, \"y\": 0.0}, {\"x\": 1474243200000.0, \"y\": 47023000.0}, {\"x\": 1474329600000.0, \"y\": 34514300.0}, {\"x\": 1474416000000.0, \"y\": 36003200.0}, {\"x\": 1474502400000.0, \"y\": 31074000.0}, {\"x\": 1474588800000.0, \"y\": 52481200.0}, {\"x\": 1474675200000.0, \"y\": 0.0}, {\"x\": 1474761600000.0, \"y\": 0.0}, {\"x\": 1474848000000.0, \"y\": 29869400.0}, {\"x\": 1474934400000.0, \"y\": 24607400.0}, {\"x\": 1475020800000.0, \"y\": 29641100.0}, {\"x\": 1475107200000.0, \"y\": 35887000.0}, {\"x\": 1475193600000.0, \"y\": 36379100.0}, {\"x\": 1475280000000.0, \"y\": 0.0}, {\"x\": 1475366400000.0, \"y\": 0.0}, {\"x\": 1475452800000.0, \"y\": 21701800.0}, {\"x\": 1475539200000.0, \"y\": 29736800.0}, {\"x\": 1475625600000.0, \"y\": 21453100.0}, {\"x\": 1475712000000.0, \"y\": 28779300.0}, {\"x\": 1475798400000.0, \"y\": 24358400.0}, {\"x\": 1475884800000.0, \"y\": 0.0}, {\"x\": 1475971200000.0, \"y\": 0.0}, {\"x\": 1476057600000.0, \"y\": 36236000.0}, {\"x\": 1476144000000.0, \"y\": 64041000.0}, {\"x\": 1476230400000.0, \"y\": 37586800.0}, {\"x\": 1476316800000.0, \"y\": 35192400.0}, {\"x\": 1476403200000.0, \"y\": 35652200.0}, {\"x\": 1476489600000.0, \"y\": 0.0}, {\"x\": 1476576000000.0, \"y\": 0.0}, {\"x\": 1476662400000.0, \"y\": 23624900.0}, {\"x\": 1476748800000.0, \"y\": 24553500.0}, {\"x\": 1476835200000.0, \"y\": 20034600.0}, {\"x\": 1476921600000.0, \"y\": 24125800.0}, {\"x\": 1477008000000.0, \"y\": 23192700.0}, {\"x\": 1477094400000.0, \"y\": 0.0}, {\"x\": 1477180800000.0, \"y\": 0.0}, {\"x\": 1477267200000.0, \"y\": 23538700.0}, {\"x\": 1477353600000.0, \"y\": 48129000.0}, {\"x\": 1477440000000.0, \"y\": 66134200.0}, {\"x\": 1477526400000.0, \"y\": 34562000.0}, {\"x\": 1477612800000.0, \"y\": 37861700.0}, {\"x\": 1477699200000.0, \"y\": 0.0}, {\"x\": 1477785600000.0, \"y\": 0.0}, {\"x\": 1477872000000.0, \"y\": 26419400.0}, {\"x\": 1477958400000.0, \"y\": 43825800.0}, {\"x\": 1478044800000.0, \"y\": 28331700.0}, {\"x\": 1478131200000.0, \"y\": 26932600.0}, {\"x\": 1478217600000.0, \"y\": 30837000.0}, {\"x\": 1478304000000.0, \"y\": 0.0}, {\"x\": 1478390400000.0, \"y\": 0.0}, {\"x\": 1478476800000.0, \"y\": 32560000.0}, {\"x\": 1478563200000.0, \"y\": 24054500.0}, {\"x\": 1478649600000.0, \"y\": 59176400.0}, {\"x\": 1478736000000.0, \"y\": 57134500.0}, {\"x\": 1478822400000.0, \"y\": 34094100.0}, {\"x\": 1478908800000.0, \"y\": 0.0}, {\"x\": 1478995200000.0, \"y\": 0.0}, {\"x\": 1479081600000.0, \"y\": 51175500.0}, {\"x\": 1479168000000.0, \"y\": 32264500.0}, {\"x\": 1479254400000.0, \"y\": 58840500.0}, {\"x\": 1479340800000.0, \"y\": 27632000.0}, {\"x\": 1479427200000.0, \"y\": 28428900.0}, {\"x\": 1479513600000.0, \"y\": 0.0}, {\"x\": 1479600000000.0, \"y\": 0.0}, {\"x\": 1479686400000.0, \"y\": 29264600.0}, {\"x\": 1479772800000.0, \"y\": 25965500.0}, {\"x\": 1479859200000.0, \"y\": 27426400.0}, {\"x\": 1479945600000.0, \"y\": 0.0}, {\"x\": 1480032000000.0, \"y\": 11475900.0}, {\"x\": 1480118400000.0, \"y\": 0.0}, {\"x\": 1480204800000.0, \"y\": 0.0}, {\"x\": 1480291200000.0, \"y\": 27194000.0}, {\"x\": 1480377600000.0, \"y\": 28528800.0}, {\"x\": 1480464000000.0, \"y\": 36162300.0}, {\"x\": 1480550400000.0, \"y\": 37086900.0}, {\"x\": 1480636800000.0, \"y\": 26528000.0}, {\"x\": 1480723200000.0, \"y\": 0.0}, {\"x\": 1480809600000.0, \"y\": 0.0}, {\"x\": 1480896000000.0, \"y\": 34324500.0}, {\"x\": 1480982400000.0, \"y\": 26195500.0}, {\"x\": 1481068800000.0, \"y\": 29998700.0}, {\"x\": 1481155200000.0, \"y\": 27068300.0}, {\"x\": 1481241600000.0, \"y\": 34402600.0}, {\"x\": 1481328000000.0, \"y\": 0.0}, {\"x\": 1481414400000.0, \"y\": 0.0}, {\"x\": 1481500800000.0, \"y\": 26374400.0}, {\"x\": 1481587200000.0, \"y\": 43733800.0}, {\"x\": 1481673600000.0, \"y\": 34031800.0}, {\"x\": 1481760000000.0, \"y\": 46524500.0}, {\"x\": 1481846400000.0, \"y\": 44351100.0}, {\"x\": 1481932800000.0, \"y\": 0.0}, {\"x\": 1482019200000.0, \"y\": 0.0}, {\"x\": 1482105600000.0, \"y\": 27779400.0}, {\"x\": 1482192000000.0, \"y\": 21425000.0}, {\"x\": 1482278400000.0, \"y\": 23783200.0}, {\"x\": 1482364800000.0, \"y\": 26085900.0}, {\"x\": 1482451200000.0, \"y\": 14181200.0}, {\"x\": 1482537600000.0, \"y\": 0.0}, {\"x\": 1482624000000.0, \"y\": 0.0}, {\"x\": 1482710400000.0, \"y\": 0.0}, {\"x\": 1482796800000.0, \"y\": 18296900.0}, {\"x\": 1482883200000.0, \"y\": 20905900.0}, {\"x\": 1482969600000.0, \"y\": 15039500.0}, {\"x\": 1483056000000.0, \"y\": 30586300.0}, {\"x\": 1483142400000.0, \"y\": 0.0}, {\"x\": 1483228800000.0, \"y\": 0.0}, {\"x\": 1483315200000.0, \"y\": 0.0}, {\"x\": 1483401600000.0, \"y\": 28781900.0}, {\"x\": 1483488000000.0, \"y\": 21118100.0}, {\"x\": 1483574400000.0, \"y\": 22193600.0}, {\"x\": 1483660800000.0, \"y\": 31751900.0}, {\"x\": 1483747200000.0, \"y\": 0.0}, {\"x\": 1483833600000.0, \"y\": 0.0}, {\"x\": 1483920000000.0, \"y\": 33561900.0}, {\"x\": 1484006400000.0, \"y\": 24462100.0}, {\"x\": 1484092800000.0, \"y\": 27588600.0}, {\"x\": 1484179200000.0, \"y\": 27086200.0}, {\"x\": 1484265600000.0, \"y\": 26111900.0}, {\"x\": 1484352000000.0, \"y\": 0.0}, {\"x\": 1484438400000.0, \"y\": 0.0}, {\"x\": 1484524800000.0, \"y\": 0.0}, {\"x\": 1484611200000.0, \"y\": 34439800.0}, {\"x\": 1484697600000.0, \"y\": 23713000.0}, {\"x\": 1484784000000.0, \"y\": 25597300.0}, {\"x\": 1484870400000.0, \"y\": 32597900.0}, {\"x\": 1484956800000.0, \"y\": 0.0}]}]};\n",
       "                </script>\n",
       "                <script>\n",
       "                    (function() {\n",
       "                        var plot = function(session, object) {\n",
       "    \n",
       "            var chart = nv.models.linePlusBarChart()\n",
       "                      .margin({bottom: 50, left: 70, right:50})\n",
       "      \n",
       "            chart.xAxis.showMaxMin(false)\n",
       "                       .tickFormat(d3.format(',.1f'))\n",
       "    \n",
       "            chart.x2Axis.showMaxMin(false)\n",
       "                       .tickFormat(d3.format(',.1f'))\n",
       "    \n",
       "            chart.y1Axis.showMaxMin(false)\n",
       "                       .tickFormat(d3.format(',.1f'))\n",
       "    \n",
       "            chart.y2Axis.showMaxMin(false)\n",
       "                       .tickFormat(d3.format(',.1f'))\n",
       "            \n",
       "           session.__functions.makeChart(session, object, chart);\n",
       "        }\n",
       "                        var synch = function(session, object) {\n",
       "                            window.nvd3_stat.promise.then(function() {\n",
       "                                window.nvd3_stat.session.__functions.charts[\"linePlusBarChart_018\"] = plot;\n",
       "                                plot(session, object);\n",
       "                            })\n",
       "                        }\n",
       "                        document.getElementById(\"linePlusBarChart_018\")\n",
       "                                .addEventListener(\"load\", synch(window.nvd3_stat.session, \n",
       "                                                  {\"event\":\"plot\", \"data\": data_linePlusBarChart_018, \"plotId\":\"linePlusBarChart_018\"}))\n",
       "                    })();\n",
       "                </script>\n",
       "            </div>\n",
       "            "
      ]
     },
     "metadata": {},
     "output_type": "display_data"
    }
   ],
   "source": [
    "lpb = nv.linePlusBarChart()\n",
    "\n",
    "config={\"color\":[nv.c20()[0], nv.c20()[3]], \n",
    "        \"height\":600, \"width\":1200,\n",
    "        \"xAxis\":{\"tickFormat\":\"%d.%m.%y\"},\n",
    "        \"x2Axis\":{\"tickFormat\":\"%d.%m.%y\"},\n",
    "        \"yDomain\":[80, 145],\n",
    "        \"duration\":0, \"focusEnable\":True\n",
    "}\n",
    "\n",
    "lpb.plot(ohlcDf[0:300], \"Timestamp\", lineValue=\"Close\", barValue=\"Volume\", config=config)\n"
   ]
  },
  {
   "cell_type": "markdown",
   "metadata": {},
   "source": [
    "### b) Append"
   ]
  },
  {
   "cell_type": "code",
   "execution_count": 31,
   "metadata": {
    "collapsed": false
   },
   "outputs": [],
   "source": [
    "for i in range(301,len(ohlcDf), 5):\n",
    "    time.sleep(0.5)\n",
    "    lpb.append(ohlcDf[i:i+5])"
   ]
  },
  {
   "cell_type": "markdown",
   "metadata": {},
   "source": [
    "## 7 Pie Chart\n",
    "\n",
    "### a) Plot"
   ]
  },
  {
   "cell_type": "code",
   "execution_count": 32,
   "metadata": {
    "collapsed": false
   },
   "outputs": [
    {
     "data": {
      "text/html": [
       "<div style=\"height:300px; width:260px\">\n",
       "            <div id=\"pieChart_019\" class=\"with-3d-shadow with-transitions\" style=\" height:300px; width:260px\">\n",
       "                <svg></svg>\n",
       "                <script class=\"nvd3_data\">\n",
       "                    var data_pieChart_019 = {\"config\": {\"width\": 260, \"height\": 300}, \"data\": [{\"x\": \"SepalLength\", \"y\": 5.843333333333335}, {\"x\": \"SepalWidth\", \"y\": 3.0540000000000007}, {\"x\": \"PetalLength\", \"y\": 3.7586666666666693}, {\"x\": \"PetalWidth\", \"y\": 1.1986666666666672}]};\n",
       "                </script>\n",
       "                <script>\n",
       "                    (function() {\n",
       "                        var plot = function(session, object) {\n",
       "            var chart = nv.models.pieChart()\n",
       "                .showLabels(true)\n",
       "                .growOnHover(true)\n",
       "                .labelType('value')\n",
       "                .legendPosition('top')\n",
       "//                .showTooltipPercent(true)\n",
       "\n",
       "           session.__functions.makeChart(session, object, chart);\n",
       "        }\n",
       "                        var synch = function(session, object) {\n",
       "                            window.nvd3_stat.promise.then(function() {\n",
       "                                window.nvd3_stat.session.__functions.charts[\"pieChart_019\"] = plot;\n",
       "                                plot(session, object);\n",
       "                            })\n",
       "                        }\n",
       "                        document.getElementById(\"pieChart_019\")\n",
       "                                .addEventListener(\"load\", synch(window.nvd3_stat.session, \n",
       "                                                  {\"event\":\"plot\", \"data\": data_pieChart_019, \"plotId\":\"pieChart_019\"}))\n",
       "                    })();\n",
       "                </script>\n",
       "            </div>\n",
       "            "
      ]
     },
     "metadata": {},
     "output_type": "display_data"
    }
   ],
   "source": [
    "p1 = nv.pieChart()\n",
    "p1.plot(db_df, \"Series\", \"Mean\", config={\"height\":300, \"width\":260})"
   ]
  },
  {
   "cell_type": "code",
   "execution_count": 33,
   "metadata": {
    "collapsed": false,
    "scrolled": false
   },
   "outputs": [
    {
     "data": {
      "text/html": [
       "<div style=\"height:400px; width:900px\">\n",
       "            <div id=\"pieChart_020\" class=\"with-3d-shadow with-transitions\" style=\"float:left; height:400px; width:300px\">\n",
       "                <svg></svg>\n",
       "                <script class=\"nvd3_data\">\n",
       "                    var data_pieChart_020 = {\"config\": {\"donut\": false, \"height\": 400, \"width\": 300, \"color\": [\"#1f77b4\", \"#ff7f0e\", \"#2ca02c\", \"#d62728\", \"#9467bd\", \"#8c564b\", \"#e377c2\", \"#7f7f7f\", \"#bcbd22\", \"#17becf\"]}, \"data\": [{\"x\": \"SepalLength\", \"y\": 5.843333333333335}, {\"x\": \"SepalWidth\", \"y\": 3.0540000000000007}]};\n",
       "                </script>\n",
       "                <script>\n",
       "                    (function() {\n",
       "                        var plot = function(session, object) {\n",
       "            var chart = nv.models.pieChart()\n",
       "                .showLabels(true)\n",
       "                .growOnHover(true)\n",
       "                .labelType('value')\n",
       "                .legendPosition('top')\n",
       "//                .showTooltipPercent(true)\n",
       "\n",
       "           session.__functions.makeChart(session, object, chart);\n",
       "        }\n",
       "                        var synch = function(session, object) {\n",
       "                            window.nvd3_stat.promise.then(function() {\n",
       "                                window.nvd3_stat.session.__functions.charts[\"pieChart_020\"] = plot;\n",
       "                                plot(session, object);\n",
       "                            })\n",
       "                        }\n",
       "                        document.getElementById(\"pieChart_020\")\n",
       "                                .addEventListener(\"load\", synch(window.nvd3_stat.session, \n",
       "                                                  {\"event\":\"plot\", \"data\": data_pieChart_020, \"plotId\":\"pieChart_020\"}))\n",
       "                    })();\n",
       "                </script>\n",
       "            </div>\n",
       "            \n",
       "            <div id=\"pieChart_021\" class=\"with-3d-shadow with-transitions\" style=\"float:left; height:400px; width:300px\">\n",
       "                <svg></svg>\n",
       "                <script class=\"nvd3_data\">\n",
       "                    var data_pieChart_021 = {\"config\": {\"donut\": true, \"height\": 400, \"width\": 300, \"color\": [\"#1f77b4\", \"#aec7e8\", \"#ff7f0e\", \"#ffbb78\", \"#2ca02c\", \"#98df8a\", \"#d62728\", \"#ff9896\", \"#9467bd\", \"#c5b0d5\", \"#8c564b\", \"#c49c94\", \"#e377c2\", \"#f7b6d2\", \"#7f7f7f\", \"#c7c7c7\", \"#bcbd22\", \"#dbdb8d\", \"#17becf\", \"#9edae5\"]}, \"data\": [{\"x\": \"SepalLength\", \"y\": 5.843333333333335}, {\"x\": \"SepalWidth\", \"y\": 3.0540000000000007}]};\n",
       "                </script>\n",
       "                <script>\n",
       "                    (function() {\n",
       "                        var plot = function(session, object) {\n",
       "            var chart = nv.models.pieChart()\n",
       "                .showLabels(true)\n",
       "                .growOnHover(true)\n",
       "                .labelType('value')\n",
       "                .legendPosition('top')\n",
       "//                .showTooltipPercent(true)\n",
       "\n",
       "           session.__functions.makeChart(session, object, chart);\n",
       "        }\n",
       "                        var synch = function(session, object) {\n",
       "                            window.nvd3_stat.promise.then(function() {\n",
       "                                window.nvd3_stat.session.__functions.charts[\"pieChart_021\"] = plot;\n",
       "                                plot(session, object);\n",
       "                            })\n",
       "                        }\n",
       "                        document.getElementById(\"pieChart_021\")\n",
       "                                .addEventListener(\"load\", synch(window.nvd3_stat.session, \n",
       "                                                  {\"event\":\"plot\", \"data\": data_pieChart_021, \"plotId\":\"pieChart_021\"}))\n",
       "                    })();\n",
       "                </script>\n",
       "            </div>\n",
       "            \n",
       "            <div id=\"pieChart_022\" class=\"with-3d-shadow with-transitions\" style=\"float:left; height:400px; width:300px\">\n",
       "                <svg></svg>\n",
       "                <script class=\"nvd3_data\">\n",
       "                    var data_pieChart_022 = {\"config\": {\"height\": 400, \"donut\": true, \"width\": 300, \"halfPie\": true, \"color\": [\"#393b79\", \"#5254a3\", \"#6b6ecf\", \"#9c9ede\", \"#637939\", \"#8ca252\", \"#b5cf6b\", \"#cedb9c\", \"#8c6d31\", \"#bd9e39\", \"#e7ba52\", \"#e7cb94\", \"#843c39\", \"#ad494a\", \"#d6616b\", \"#e7969c\", \"#7b4173\", \"#a55194\", \"#ce6dbd\", \"#de9ed6\"]}, \"data\": [{\"x\": \"SepalLength\", \"y\": 5.843333333333335}, {\"x\": \"SepalWidth\", \"y\": 3.0540000000000007}]};\n",
       "                </script>\n",
       "                <script>\n",
       "                    (function() {\n",
       "                        var plot = function(session, object) {\n",
       "            var chart = nv.models.pieChart()\n",
       "                .showLabels(true)\n",
       "                .growOnHover(true)\n",
       "                .labelType('value')\n",
       "                .legendPosition('top')\n",
       "//                .showTooltipPercent(true)\n",
       "\n",
       "           session.__functions.makeChart(session, object, chart);\n",
       "        }\n",
       "                        var synch = function(session, object) {\n",
       "                            window.nvd3_stat.promise.then(function() {\n",
       "                                window.nvd3_stat.session.__functions.charts[\"pieChart_022\"] = plot;\n",
       "                                plot(session, object);\n",
       "                            })\n",
       "                        }\n",
       "                        document.getElementById(\"pieChart_022\")\n",
       "                                .addEventListener(\"load\", synch(window.nvd3_stat.session, \n",
       "                                                  {\"event\":\"plot\", \"data\": data_pieChart_022, \"plotId\":\"pieChart_022\"}))\n",
       "                    })();\n",
       "                </script>\n",
       "            </div>\n",
       "            "
      ]
     },
     "metadata": {},
     "output_type": "display_data"
    }
   ],
   "source": [
    "p2 = nv.pieChart()\n",
    "\n",
    "config1={\"donut\": False,                  \"color\": nv.c10(),  \"width\": 300, \"height\":400}\n",
    "config2={\"donut\": True,                   \"color\": nv.c20(),  \"width\": 300, \"height\":400}\n",
    "config3={\"donut\": True,  \"halfPie\": True, \"color\": nv.c20b(), \"width\": 300, \"height\":400}\n",
    "\n",
    "p2.hplot([p2.chart(db_df[:2], \"Series\", \"Mean\", config=config1), \n",
    "          p2.chart(db_df[:2], \"Series\", \"Mean\", config=config2), \n",
    "          p2.chart(db_df[:2], \"Series\", \"Mean\", config=config3)])\n"
   ]
  },
  {
   "cell_type": "markdown",
   "metadata": {},
   "source": [
    "### b) Append values"
   ]
  },
  {
   "cell_type": "code",
   "execution_count": 34,
   "metadata": {
    "collapsed": false,
    "scrolled": false
   },
   "outputs": [],
   "source": [
    "for chart in range(3):\n",
    "    p2.append(db_df[2:], chart=chart)"
   ]
  },
  {
   "cell_type": "markdown",
   "metadata": {},
   "source": [
    "### c) Clone dynamic chart"
   ]
  },
  {
   "cell_type": "code",
   "execution_count": 35,
   "metadata": {
    "collapsed": false
   },
   "outputs": [
    {
     "data": {
      "text/html": [
       "<div style=\"height:400px; width:900px\">\n",
       "            <div id=\"pieChart_023\" class=\"with-3d-shadow with-transitions\" style=\"float:left; height:400px; width:300px\">\n",
       "                <svg></svg>\n",
       "                <script class=\"nvd3_data\">\n",
       "                    var data_pieChart_023 = {\"config\": {\"donut\": false, \"height\": 400, \"width\": 300, \"color\": [\"#1f77b4\", \"#ff7f0e\", \"#2ca02c\", \"#d62728\", \"#9467bd\", \"#8c564b\", \"#e377c2\", \"#7f7f7f\", \"#bcbd22\", \"#17becf\"]}, \"data\": [{\"x\": \"SepalLength\", \"y\": 5.843333333333335}, {\"x\": \"SepalWidth\", \"y\": 3.0540000000000007}, {\"x\": \"PetalLength\", \"y\": 3.7586666666666693}, {\"x\": \"PetalWidth\", \"y\": 1.1986666666666672}]};\n",
       "                </script>\n",
       "                <script>\n",
       "                    (function() {\n",
       "                        var plot = function(session, object) {\n",
       "            var chart = nv.models.pieChart()\n",
       "                .showLabels(true)\n",
       "                .growOnHover(true)\n",
       "                .labelType('value')\n",
       "                .legendPosition('top')\n",
       "//                .showTooltipPercent(true)\n",
       "\n",
       "           session.__functions.makeChart(session, object, chart);\n",
       "        }\n",
       "                        var synch = function(session, object) {\n",
       "                            window.nvd3_stat.promise.then(function() {\n",
       "                                window.nvd3_stat.session.__functions.charts[\"pieChart_023\"] = plot;\n",
       "                                plot(session, object);\n",
       "                            })\n",
       "                        }\n",
       "                        document.getElementById(\"pieChart_023\")\n",
       "                                .addEventListener(\"load\", synch(window.nvd3_stat.session, \n",
       "                                                  {\"event\":\"plot\", \"data\": data_pieChart_023, \"plotId\":\"pieChart_023\"}))\n",
       "                    })();\n",
       "                </script>\n",
       "            </div>\n",
       "            \n",
       "            <div id=\"pieChart_024\" class=\"with-3d-shadow with-transitions\" style=\"float:left; height:400px; width:300px\">\n",
       "                <svg></svg>\n",
       "                <script class=\"nvd3_data\">\n",
       "                    var data_pieChart_024 = {\"config\": {\"donut\": true, \"height\": 400, \"width\": 300, \"color\": [\"#1f77b4\", \"#aec7e8\", \"#ff7f0e\", \"#ffbb78\", \"#2ca02c\", \"#98df8a\", \"#d62728\", \"#ff9896\", \"#9467bd\", \"#c5b0d5\", \"#8c564b\", \"#c49c94\", \"#e377c2\", \"#f7b6d2\", \"#7f7f7f\", \"#c7c7c7\", \"#bcbd22\", \"#dbdb8d\", \"#17becf\", \"#9edae5\"]}, \"data\": [{\"x\": \"SepalLength\", \"y\": 5.843333333333335}, {\"x\": \"SepalWidth\", \"y\": 3.0540000000000007}, {\"x\": \"PetalLength\", \"y\": 3.7586666666666693}, {\"x\": \"PetalWidth\", \"y\": 1.1986666666666672}]};\n",
       "                </script>\n",
       "                <script>\n",
       "                    (function() {\n",
       "                        var plot = function(session, object) {\n",
       "            var chart = nv.models.pieChart()\n",
       "                .showLabels(true)\n",
       "                .growOnHover(true)\n",
       "                .labelType('value')\n",
       "                .legendPosition('top')\n",
       "//                .showTooltipPercent(true)\n",
       "\n",
       "           session.__functions.makeChart(session, object, chart);\n",
       "        }\n",
       "                        var synch = function(session, object) {\n",
       "                            window.nvd3_stat.promise.then(function() {\n",
       "                                window.nvd3_stat.session.__functions.charts[\"pieChart_024\"] = plot;\n",
       "                                plot(session, object);\n",
       "                            })\n",
       "                        }\n",
       "                        document.getElementById(\"pieChart_024\")\n",
       "                                .addEventListener(\"load\", synch(window.nvd3_stat.session, \n",
       "                                                  {\"event\":\"plot\", \"data\": data_pieChart_024, \"plotId\":\"pieChart_024\"}))\n",
       "                    })();\n",
       "                </script>\n",
       "            </div>\n",
       "            \n",
       "            <div id=\"pieChart_025\" class=\"with-3d-shadow with-transitions\" style=\"float:left; height:400px; width:300px\">\n",
       "                <svg></svg>\n",
       "                <script class=\"nvd3_data\">\n",
       "                    var data_pieChart_025 = {\"config\": {\"height\": 400, \"donut\": true, \"width\": 300, \"halfPie\": true, \"color\": [\"#393b79\", \"#5254a3\", \"#6b6ecf\", \"#9c9ede\", \"#637939\", \"#8ca252\", \"#b5cf6b\", \"#cedb9c\", \"#8c6d31\", \"#bd9e39\", \"#e7ba52\", \"#e7cb94\", \"#843c39\", \"#ad494a\", \"#d6616b\", \"#e7969c\", \"#7b4173\", \"#a55194\", \"#ce6dbd\", \"#de9ed6\"]}, \"data\": [{\"x\": \"SepalLength\", \"y\": 5.843333333333335}, {\"x\": \"SepalWidth\", \"y\": 3.0540000000000007}, {\"x\": \"PetalLength\", \"y\": 3.7586666666666693}, {\"x\": \"PetalWidth\", \"y\": 1.1986666666666672}]};\n",
       "                </script>\n",
       "                <script>\n",
       "                    (function() {\n",
       "                        var plot = function(session, object) {\n",
       "            var chart = nv.models.pieChart()\n",
       "                .showLabels(true)\n",
       "                .growOnHover(true)\n",
       "                .labelType('value')\n",
       "                .legendPosition('top')\n",
       "//                .showTooltipPercent(true)\n",
       "\n",
       "           session.__functions.makeChart(session, object, chart);\n",
       "        }\n",
       "                        var synch = function(session, object) {\n",
       "                            window.nvd3_stat.promise.then(function() {\n",
       "                                window.nvd3_stat.session.__functions.charts[\"pieChart_025\"] = plot;\n",
       "                                plot(session, object);\n",
       "                            })\n",
       "                        }\n",
       "                        document.getElementById(\"pieChart_025\")\n",
       "                                .addEventListener(\"load\", synch(window.nvd3_stat.session, \n",
       "                                                  {\"event\":\"plot\", \"data\": data_pieChart_025, \"plotId\":\"pieChart_025\"}))\n",
       "                    })();\n",
       "                </script>\n",
       "            </div>\n",
       "            "
      ]
     },
     "metadata": {},
     "output_type": "display_data"
    }
   ],
   "source": [
    "p3 = p2.clone()"
   ]
  },
  {
   "cell_type": "markdown",
   "metadata": {},
   "source": [
    "## 8 Stacked Area Chart\n",
    "\n",
    "### a) Plot"
   ]
  },
  {
   "cell_type": "code",
   "execution_count": 36,
   "metadata": {
    "collapsed": false
   },
   "outputs": [
    {
     "data": {
      "text/html": [
       "<div>\n",
       "<table border=\"1\" class=\"dataframe\">\n",
       "  <thead>\n",
       "    <tr style=\"text-align: right;\">\n",
       "      <th></th>\n",
       "      <th>Date</th>\n",
       "      <th>Series 0</th>\n",
       "      <th>Series 1</th>\n",
       "      <th>Series 2</th>\n",
       "      <th>Series 3</th>\n",
       "      <th>Series 4</th>\n",
       "    </tr>\n",
       "  </thead>\n",
       "  <tbody>\n",
       "    <tr>\n",
       "      <th>0</th>\n",
       "      <td>1.484295e+12</td>\n",
       "      <td>49.216664</td>\n",
       "      <td>20.544571</td>\n",
       "      <td>85.967285</td>\n",
       "      <td>26.055335</td>\n",
       "      <td>79.898651</td>\n",
       "    </tr>\n",
       "    <tr>\n",
       "      <th>1</th>\n",
       "      <td>1.484381e+12</td>\n",
       "      <td>44.505753</td>\n",
       "      <td>2.320196</td>\n",
       "      <td>79.275479</td>\n",
       "      <td>45.444778</td>\n",
       "      <td>79.000722</td>\n",
       "    </tr>\n",
       "  </tbody>\n",
       "</table>\n",
       "</div>"
      ],
      "text/plain": [
       "           Date   Series 0   Series 1   Series 2   Series 3   Series 4\n",
       "0  1.484295e+12  49.216664  20.544571  85.967285  26.055335  79.898651\n",
       "1  1.484381e+12  44.505753   2.320196  79.275479  45.444778  79.000722"
      ]
     },
     "execution_count": 36,
     "metadata": {},
     "output_type": "execute_result"
    }
   ],
   "source": [
    "count = 100\n",
    "groups = 5\n",
    "\n",
    "series = []\n",
    "for i in range(groups):\n",
    "    factor = np.random.randint(5,10)\n",
    "    offset = np.random.randint(20,100)\n",
    "    series.append(randomWalk(count, 20, offset).tolist())\n",
    "\n",
    "sa_df = pd.DataFrame([lastDays(count, epoch=True)] + series).T\n",
    "sa_df.columns = [\"Date\"] + [\"Series %d\" % i  for i in range(groups)]\n",
    "sa_df.head(2)"
   ]
  },
  {
   "cell_type": "code",
   "execution_count": 37,
   "metadata": {
    "collapsed": false,
    "scrolled": false
   },
   "outputs": [
    {
     "data": {
      "text/html": [
       "<div style=\"height:500px; width:1024px\">\n",
       "            <div id=\"stackedAreaChart_026\" class=\"with-3d-shadow with-transitions\" style=\" height:500px; width:1024px\">\n",
       "                <svg></svg>\n",
       "                <script class=\"nvd3_data\">\n",
       "                    var data_stackedAreaChart_026 = {\"config\": {\"xAxis\": {\"tickFormat\": \"%d.%m.%Y\"}, \"height\": 500, \"color\": [\"#1f77b4\", \"#aec7e8\", \"#ff7f0e\", \"#ffbb78\", \"#2ca02c\", \"#98df8a\", \"#d62728\", \"#ff9896\", \"#9467bd\", \"#c5b0d5\", \"#8c564b\", \"#c49c94\", \"#e377c2\", \"#f7b6d2\", \"#7f7f7f\", \"#c7c7c7\", \"#bcbd22\", \"#dbdb8d\", \"#17becf\", \"#9edae5\"], \"duration\": 0}, \"data\": [{\"key\": \"Series 0\", \"values\": [{\"x\": 1484295040000.0, \"y\": 49.216664111167944}, {\"x\": 1484381440000.0, \"y\": 44.505752859242904}, {\"x\": 1484467840000.0, \"y\": 51.68490861130307}, {\"x\": 1484554240000.0, \"y\": 55.18555739933766}, {\"x\": 1484640640000.0, \"y\": 47.534510470301385}, {\"x\": 1484727040000.0, \"y\": 39.333801221606976}, {\"x\": 1484813440000.0, \"y\": 28.61711365470599}, {\"x\": 1484899840000.0, \"y\": 12.658585007379614}, {\"x\": 1484986240000.0, \"y\": 4.65093425972492}, {\"x\": 1485072640000.0, \"y\": 1.049146630634965}, {\"x\": 1485159040000.0, \"y\": 10.61325241417157}, {\"x\": 1485245440000.0, \"y\": 5.16848668429283}, {\"x\": 1485331840000.0, \"y\": 5.138681968023178}, {\"x\": 1485418240000.0, \"y\": 21.449813859247513}, {\"x\": 1485504640000.0, \"y\": 13.035106511135837}, {\"x\": 1485591040000.0, \"y\": 14.614704277744138}, {\"x\": 1485677440000.0, \"y\": 31.997579326133447}, {\"x\": 1485763840000.0, \"y\": 34.00903539703688}, {\"x\": 1485850240000.0, \"y\": 51.493405506597114}, {\"x\": 1485936640000.0, \"y\": 58.44062601136838}, {\"x\": 1486023040000.0, \"y\": 77.55291414107896}, {\"x\": 1486109440000.0, \"y\": 62.5608643617756}, {\"x\": 1486195840000.0, \"y\": 71.72290207726505}, {\"x\": 1486282240000.0, \"y\": 59.54960059624214}, {\"x\": 1486368640000.0, \"y\": 57.8679144967175}, {\"x\": 1486455040000.0, \"y\": 71.43443545043115}, {\"x\": 1486541440000.0, \"y\": 77.5653984309279}, {\"x\": 1486627840000.0, \"y\": 61.91802127175879}, {\"x\": 1486714240000.0, \"y\": 61.875976004745496}, {\"x\": 1486800640000.0, \"y\": 52.35976348015832}, {\"x\": 1486887040000.0, \"y\": 38.90868731852218}, {\"x\": 1486973440000.0, \"y\": 57.225947127345194}, {\"x\": 1487059840000.0, \"y\": 64.75398359449639}, {\"x\": 1487146240000.0, \"y\": 69.99462651552994}, {\"x\": 1487232640000.0, \"y\": 82.4529203513996}, {\"x\": 1487319040000.0, \"y\": 97.02761914597565}, {\"x\": 1487405440000.0, \"y\": 82.89034552859127}, {\"x\": 1487491840000.0, \"y\": 90.41846099013975}, {\"x\": 1487578240000.0, \"y\": 103.74936156004671}, {\"x\": 1487664640000.0, \"y\": 89.93760838838062}, {\"x\": 1487751040000.0, \"y\": 97.11618541567745}, {\"x\": 1487837440000.0, \"y\": 108.85789719891525}, {\"x\": 1487923840000.0, \"y\": 114.4622105598275}, {\"x\": 1488010240000.0, \"y\": 126.68858991705639}, {\"x\": 1488096640000.0, \"y\": 107.43738522400278}, {\"x\": 1488183040000.0, \"y\": 108.73073761109677}, {\"x\": 1488269440000.0, \"y\": 108.31087287505696}, {\"x\": 1488355840000.0, \"y\": 91.53877586134416}, {\"x\": 1488442240000.0, \"y\": 84.25680939665241}, {\"x\": 1488528640000.0, \"y\": 88.28264881705655}, {\"x\": 1488615040000.0, \"y\": 90.27971517290763}, {\"x\": 1488701440000.0, \"y\": 96.17561913464075}, {\"x\": 1488787840000.0, \"y\": 106.46601715382653}, {\"x\": 1488874240000.0, \"y\": 87.08767898831292}, {\"x\": 1488960640000.0, \"y\": 84.86687406613146}, {\"x\": 1489047040000.0, \"y\": 66.86880593111559}, {\"x\": 1489133440000.0, \"y\": 68.7390635316462}, {\"x\": 1489219840000.0, \"y\": 53.11704745974873}, {\"x\": 1489306240000.0, \"y\": 36.42808918435807}, {\"x\": 1489392640000.0, \"y\": 29.835587489134667}, {\"x\": 1489479040000.0, \"y\": 23.751732079177685}, {\"x\": 1489565440000.0, \"y\": 9.764593959039814}, {\"x\": 1489651840000.0, \"y\": 13.57574608152018}, {\"x\": 1489738240000.0, \"y\": 19.473545188388172}, {\"x\": 1489824640000.0, \"y\": 8.268167522061304}, {\"x\": 1489911040000.0, \"y\": 3.6277892067736133}, {\"x\": 1489997440000.0, \"y\": 5.25488521420808}, {\"x\": 1490083840000.0, \"y\": 22.910624636545172}, {\"x\": 1490170240000.0, \"y\": 6.9480697223057035}, {\"x\": 1490256640000.0, \"y\": 26.72869020663299}, {\"x\": 1490343040000.0, \"y\": 15.373068612075478}, {\"x\": 1490429440000.0, \"y\": 24.300525453180533}, {\"x\": 1490515840000.0, \"y\": 26.78492915179463}, {\"x\": 1490602240000.0, \"y\": 9.010400413800703}, {\"x\": 1490688640000.0, \"y\": 5.392391622123753}, {\"x\": 1490775040000.0, \"y\": 23.397981064013237}, {\"x\": 1490861440000.0, \"y\": 22.967797535631234}, {\"x\": 1490947840000.0, \"y\": 39.72286212650022}, {\"x\": 1491034240000.0, \"y\": 51.254573163100304}, {\"x\": 1491120640000.0, \"y\": 37.04158268907675}]}, {\"key\": \"Series 1\", \"values\": [{\"x\": 1484295040000.0, \"y\": 20.544570990639606}, {\"x\": 1484381440000.0, \"y\": 2.3201956685566074}, {\"x\": 1484467840000.0, \"y\": 8.821987824251476}, {\"x\": 1484554240000.0, \"y\": 6.513252312057016}, {\"x\": 1484640640000.0, \"y\": 10.967420291147778}, {\"x\": 1484727040000.0, \"y\": 7.357402203811173}, {\"x\": 1484813440000.0, \"y\": 5.413417405066035}, {\"x\": 1484899840000.0, \"y\": 13.502009696701705}, {\"x\": 1484986240000.0, \"y\": 0.35556666951850957}, {\"x\": 1485072640000.0, \"y\": 6.985587029864956}, {\"x\": 1485159040000.0, \"y\": 7.763849337844221}, {\"x\": 1485245440000.0, \"y\": 22.33961501653981}, {\"x\": 1485331840000.0, \"y\": 9.968217408666014}, {\"x\": 1485418240000.0, \"y\": 1.4294726916027756}, {\"x\": 1485504640000.0, \"y\": 7.34972387991278}, {\"x\": 1485591040000.0, \"y\": 13.265695462699043}, {\"x\": 1485677440000.0, \"y\": 24.91190407468938}, {\"x\": 1485763840000.0, \"y\": 26.476150457467043}, {\"x\": 1485850240000.0, \"y\": 14.270566679781616}, {\"x\": 1485936640000.0, \"y\": 8.455864973063676}, {\"x\": 1486023040000.0, \"y\": 22.293412102756484}, {\"x\": 1486109440000.0, \"y\": 8.286874456517449}, {\"x\": 1486195840000.0, \"y\": 7.903805077164662}, {\"x\": 1486282240000.0, \"y\": 10.478784749993473}, {\"x\": 1486368640000.0, \"y\": 15.436083230003284}, {\"x\": 1486455040000.0, \"y\": 3.7468815234021093}, {\"x\": 1486541440000.0, \"y\": 16.188061077200842}, {\"x\": 1486627840000.0, \"y\": 23.837179530912913}, {\"x\": 1486714240000.0, \"y\": 14.16246670589966}, {\"x\": 1486800640000.0, \"y\": 26.790622401029488}, {\"x\": 1486887040000.0, \"y\": 42.17359057751702}, {\"x\": 1486973440000.0, \"y\": 48.77754943602669}, {\"x\": 1487059840000.0, \"y\": 40.65064263014648}, {\"x\": 1487146240000.0, \"y\": 57.26160031886448}, {\"x\": 1487232640000.0, \"y\": 43.53135992170648}, {\"x\": 1487319040000.0, \"y\": 43.5080590637907}, {\"x\": 1487405440000.0, \"y\": 27.375022142771016}, {\"x\": 1487491840000.0, \"y\": 21.65564905388672}, {\"x\": 1487578240000.0, \"y\": 19.994299259520503}, {\"x\": 1487664640000.0, \"y\": 18.42644715850858}, {\"x\": 1487751040000.0, \"y\": 10.51596838490481}, {\"x\": 1487837440000.0, \"y\": 18.329788768457227}, {\"x\": 1487923840000.0, \"y\": 13.264405585771442}, {\"x\": 1488010240000.0, \"y\": 10.155453013516322}, {\"x\": 1488096640000.0, \"y\": 26.91624005375067}, {\"x\": 1488183040000.0, \"y\": 44.22603821269881}, {\"x\": 1488269440000.0, \"y\": 41.565964750677665}, {\"x\": 1488355840000.0, \"y\": 23.621116668381077}, {\"x\": 1488442240000.0, \"y\": 6.447770855105794}, {\"x\": 1488528640000.0, \"y\": 4.105211820652865}, {\"x\": 1488615040000.0, \"y\": 6.924715119025688}, {\"x\": 1488701440000.0, \"y\": 12.714265177982512}, {\"x\": 1488787840000.0, \"y\": 26.043215361361376}, {\"x\": 1488874240000.0, \"y\": 19.147551601801403}, {\"x\": 1488960640000.0, \"y\": 19.96514841377308}, {\"x\": 1489047040000.0, \"y\": 15.560216272192427}, {\"x\": 1489133440000.0, \"y\": 16.742026704659665}, {\"x\": 1489219840000.0, \"y\": 25.456647054387027}, {\"x\": 1489306240000.0, \"y\": 30.069362619009297}, {\"x\": 1489392640000.0, \"y\": 43.53029728288632}, {\"x\": 1489479040000.0, \"y\": 48.913036485578544}, {\"x\": 1489565440000.0, \"y\": 66.0418491589833}, {\"x\": 1489651840000.0, \"y\": 59.68634437415517}, {\"x\": 1489738240000.0, \"y\": 42.41537257053166}, {\"x\": 1489824640000.0, \"y\": 52.75577329416315}, {\"x\": 1489911040000.0, \"y\": 60.09573330980152}, {\"x\": 1489997440000.0, \"y\": 65.88749536952577}, {\"x\": 1490083840000.0, \"y\": 50.03823089946329}, {\"x\": 1490170240000.0, \"y\": 67.84757949448985}, {\"x\": 1490256640000.0, \"y\": 86.50448626233214}, {\"x\": 1490343040000.0, \"y\": 67.48376141881971}, {\"x\": 1490429440000.0, \"y\": 79.25768005806296}, {\"x\": 1490515840000.0, \"y\": 76.86026145865662}, {\"x\": 1490602240000.0, \"y\": 91.10831704559673}, {\"x\": 1490688640000.0, \"y\": 101.21967622006494}, {\"x\": 1490775040000.0, \"y\": 83.23422863625252}, {\"x\": 1490861440000.0, \"y\": 67.39544714072272}, {\"x\": 1490947840000.0, \"y\": 59.47886220409457}, {\"x\": 1491034240000.0, \"y\": 55.79176184004672}, {\"x\": 1491120640000.0, \"y\": 73.94062714103828}]}, {\"key\": \"Series 2\", \"values\": [{\"x\": 1484295040000.0, \"y\": 85.96728505003333}, {\"x\": 1484381440000.0, \"y\": 79.27547905613619}, {\"x\": 1484467840000.0, \"y\": 96.53261680718529}, {\"x\": 1484554240000.0, \"y\": 90.565196458214}, {\"x\": 1484640640000.0, \"y\": 79.25274838719352}, {\"x\": 1484727040000.0, \"y\": 74.34513748518717}, {\"x\": 1484813440000.0, \"y\": 58.86008643326112}, {\"x\": 1484899840000.0, \"y\": 44.93529560468228}, {\"x\": 1484986240000.0, \"y\": 38.96988848540343}, {\"x\": 1485072640000.0, \"y\": 21.823990132299357}, {\"x\": 1485159040000.0, \"y\": 17.09500227513921}, {\"x\": 1485245440000.0, \"y\": 36.141425938105755}, {\"x\": 1485331840000.0, \"y\": 51.69459451323843}, {\"x\": 1485418240000.0, \"y\": 54.359860936412865}, {\"x\": 1485504640000.0, \"y\": 38.574027961494366}, {\"x\": 1485591040000.0, \"y\": 54.23215029650872}, {\"x\": 1485677440000.0, \"y\": 67.52987016563473}, {\"x\": 1485763840000.0, \"y\": 60.028323391092826}, {\"x\": 1485850240000.0, \"y\": 65.55819765915001}, {\"x\": 1485936640000.0, \"y\": 79.7211824366627}, {\"x\": 1486023040000.0, \"y\": 72.81108024555128}, {\"x\": 1486109440000.0, \"y\": 65.12758485442151}, {\"x\": 1486195840000.0, \"y\": 72.19242492878439}, {\"x\": 1486282240000.0, \"y\": 55.173744259348055}, {\"x\": 1486368640000.0, \"y\": 67.90559828792841}, {\"x\": 1486455040000.0, \"y\": 53.98019960854422}, {\"x\": 1486541440000.0, \"y\": 47.63530846691678}, {\"x\": 1486627840000.0, \"y\": 43.42182443155048}, {\"x\": 1486714240000.0, \"y\": 55.08034016149181}, {\"x\": 1486800640000.0, \"y\": 65.15314902347085}, {\"x\": 1486887040000.0, \"y\": 82.74915141874135}, {\"x\": 1486973440000.0, \"y\": 71.54912125457534}, {\"x\": 1487059840000.0, \"y\": 55.27588449766882}, {\"x\": 1487146240000.0, \"y\": 72.94807406515469}, {\"x\": 1487232640000.0, \"y\": 65.01444793126821}, {\"x\": 1487319040000.0, \"y\": 73.91186743546996}, {\"x\": 1487405440000.0, \"y\": 71.42776786193579}, {\"x\": 1487491840000.0, \"y\": 56.11194483609674}, {\"x\": 1487578240000.0, \"y\": 54.839925273475686}, {\"x\": 1487664640000.0, \"y\": 57.43722427923126}, {\"x\": 1487751040000.0, \"y\": 42.02792843067058}, {\"x\": 1487837440000.0, \"y\": 41.332161857105426}, {\"x\": 1487923840000.0, \"y\": 51.47441629444029}, {\"x\": 1488010240000.0, \"y\": 58.29691240869806}, {\"x\": 1488096640000.0, \"y\": 59.16086943074248}, {\"x\": 1488183040000.0, \"y\": 49.39243008577115}, {\"x\": 1488269440000.0, \"y\": 43.837009529417244}, {\"x\": 1488355840000.0, \"y\": 56.89012007932079}, {\"x\": 1488442240000.0, \"y\": 60.81143412915591}, {\"x\": 1488528640000.0, \"y\": 72.58189466835947}, {\"x\": 1488615040000.0, \"y\": 68.8770297767075}, {\"x\": 1488701440000.0, \"y\": 70.14765405684207}, {\"x\": 1488787840000.0, \"y\": 82.63613820226793}, {\"x\": 1488874240000.0, \"y\": 99.45806324532815}, {\"x\": 1488960640000.0, \"y\": 96.03929482921247}, {\"x\": 1489047040000.0, \"y\": 97.2382001581393}, {\"x\": 1489133440000.0, \"y\": 111.63170081368453}, {\"x\": 1489219840000.0, \"y\": 113.948923479611}, {\"x\": 1489306240000.0, \"y\": 131.05201621672808}, {\"x\": 1489392640000.0, \"y\": 117.89861774450436}, {\"x\": 1489479040000.0, \"y\": 117.15132249558948}, {\"x\": 1489565440000.0, \"y\": 121.23783301045748}, {\"x\": 1489651840000.0, \"y\": 120.77847468590811}, {\"x\": 1489738240000.0, \"y\": 106.9363801008268}, {\"x\": 1489824640000.0, \"y\": 100.92595717353825}, {\"x\": 1489911040000.0, \"y\": 103.37546964277078}, {\"x\": 1489997440000.0, \"y\": 108.36102592040808}, {\"x\": 1490083840000.0, \"y\": 100.76801883757562}, {\"x\": 1490170240000.0, \"y\": 120.70278861757893}, {\"x\": 1490256640000.0, \"y\": 128.76363769844824}, {\"x\": 1490343040000.0, \"y\": 139.1704901746311}, {\"x\": 1490429440000.0, \"y\": 144.20711848933675}, {\"x\": 1490515840000.0, \"y\": 139.74322966298564}, {\"x\": 1490602240000.0, \"y\": 155.5867628086298}, {\"x\": 1490688640000.0, \"y\": 145.51504716400615}, {\"x\": 1490775040000.0, \"y\": 139.81327198918214}, {\"x\": 1490861440000.0, \"y\": 149.0421325377605}, {\"x\": 1490947840000.0, \"y\": 143.38910823470073}, {\"x\": 1491034240000.0, \"y\": 127.04890171909115}, {\"x\": 1491120640000.0, \"y\": 145.52219711724928}]}, {\"key\": \"Series 3\", \"values\": [{\"x\": 1484295040000.0, \"y\": 26.055334748632735}, {\"x\": 1484381440000.0, \"y\": 45.44477778910715}, {\"x\": 1484467840000.0, \"y\": 48.240510242936196}, {\"x\": 1484554240000.0, \"y\": 45.963480863099335}, {\"x\": 1484640640000.0, \"y\": 63.44577424829705}, {\"x\": 1484727040000.0, \"y\": 50.59409283161185}, {\"x\": 1484813440000.0, \"y\": 44.02189894779182}, {\"x\": 1484899840000.0, \"y\": 33.52573673015803}, {\"x\": 1484986240000.0, \"y\": 23.39401759502855}, {\"x\": 1485072640000.0, \"y\": 35.167839689281124}, {\"x\": 1485159040000.0, \"y\": 46.17516185038612}, {\"x\": 1485245440000.0, \"y\": 28.029362320387868}, {\"x\": 1485331840000.0, \"y\": 23.390130862230176}, {\"x\": 1485418240000.0, \"y\": 7.817383404396239}, {\"x\": 1485504640000.0, \"y\": 7.506968526927444}, {\"x\": 1485591040000.0, \"y\": 0.5292630318558551}, {\"x\": 1485677440000.0, \"y\": 17.1437111290361}, {\"x\": 1485763840000.0, \"y\": 21.621163040544374}, {\"x\": 1485850240000.0, \"y\": 31.56669728115287}, {\"x\": 1485936640000.0, \"y\": 20.06901427788184}, {\"x\": 1486023040000.0, \"y\": 27.837566688360624}, {\"x\": 1486109440000.0, \"y\": 41.466386306285294}, {\"x\": 1486195840000.0, \"y\": 29.621668975571836}, {\"x\": 1486282240000.0, \"y\": 21.42835987438781}, {\"x\": 1486368640000.0, \"y\": 28.87614075497281}, {\"x\": 1486455040000.0, \"y\": 28.064604270369863}, {\"x\": 1486541440000.0, \"y\": 23.97313771346395}, {\"x\": 1486627840000.0, \"y\": 27.905653755661262}, {\"x\": 1486714240000.0, \"y\": 31.903350602976097}, {\"x\": 1486800640000.0, \"y\": 20.65869384699633}, {\"x\": 1486887040000.0, \"y\": 26.034030411820865}, {\"x\": 1486973440000.0, \"y\": 45.671263976026864}, {\"x\": 1487059840000.0, \"y\": 36.105639087038824}, {\"x\": 1487146240000.0, \"y\": 35.688451054978884}, {\"x\": 1487232640000.0, \"y\": 52.55792841462987}, {\"x\": 1487319040000.0, \"y\": 36.38379776412347}, {\"x\": 1487405440000.0, \"y\": 41.56062185677766}, {\"x\": 1487491840000.0, \"y\": 52.570994358471424}, {\"x\": 1487578240000.0, \"y\": 70.95573537368337}, {\"x\": 1487664640000.0, \"y\": 52.24950177346918}, {\"x\": 1487751040000.0, \"y\": 43.143033615449816}, {\"x\": 1487837440000.0, \"y\": 62.5623003048898}, {\"x\": 1487923840000.0, \"y\": 54.30385197675328}, {\"x\": 1488010240000.0, \"y\": 47.22466192632477}, {\"x\": 1488096640000.0, \"y\": 48.56832675308482}, {\"x\": 1488183040000.0, \"y\": 58.69647869595161}, {\"x\": 1488269440000.0, \"y\": 72.59745908453812}, {\"x\": 1488355840000.0, \"y\": 80.77866250314729}, {\"x\": 1488442240000.0, \"y\": 85.36038352344502}, {\"x\": 1488528640000.0, \"y\": 96.41403820646127}, {\"x\": 1488615040000.0, \"y\": 100.63562428175993}, {\"x\": 1488701440000.0, \"y\": 108.59426722623874}, {\"x\": 1488787840000.0, \"y\": 104.91113393436314}, {\"x\": 1488874240000.0, \"y\": 121.06351420253907}, {\"x\": 1488960640000.0, \"y\": 115.13059936469796}, {\"x\": 1489047040000.0, \"y\": 132.1782935601049}, {\"x\": 1489133440000.0, \"y\": 118.63798746471127}, {\"x\": 1489219840000.0, \"y\": 113.69074716770928}, {\"x\": 1489306240000.0, \"y\": 127.7595330834593}, {\"x\": 1489392640000.0, \"y\": 144.3989749737705}, {\"x\": 1489479040000.0, \"y\": 162.38145372067027}, {\"x\": 1489565440000.0, \"y\": 142.48332246196182}, {\"x\": 1489651840000.0, \"y\": 157.5801400098596}, {\"x\": 1489738240000.0, \"y\": 165.64034208693704}, {\"x\": 1489824640000.0, \"y\": 148.7826717249825}, {\"x\": 1489911040000.0, \"y\": 142.3288064556753}, {\"x\": 1489997440000.0, \"y\": 145.75698378944284}, {\"x\": 1490083840000.0, \"y\": 140.52840174839994}, {\"x\": 1490170240000.0, \"y\": 126.70819461485667}, {\"x\": 1490256640000.0, \"y\": 124.32469890461982}, {\"x\": 1490343040000.0, \"y\": 125.28754344968561}, {\"x\": 1490429440000.0, \"y\": 118.00657792808295}, {\"x\": 1490515840000.0, \"y\": 105.9388219310043}, {\"x\": 1490602240000.0, \"y\": 107.40319107956928}, {\"x\": 1490688640000.0, \"y\": 98.63010473514186}, {\"x\": 1490775040000.0, \"y\": 107.7779452331811}, {\"x\": 1490861440000.0, \"y\": 103.6503338738384}, {\"x\": 1490947840000.0, \"y\": 101.05739183335929}, {\"x\": 1491034240000.0, \"y\": 92.04895225098767}, {\"x\": 1491120640000.0, \"y\": 98.1454564326785}]}, {\"key\": \"Series 4\", \"values\": [{\"x\": 1484295040000.0, \"y\": 79.89865123546318}, {\"x\": 1484381440000.0, \"y\": 79.00072150185485}, {\"x\": 1484467840000.0, \"y\": 66.76862169752773}, {\"x\": 1484554240000.0, \"y\": 58.62054537022347}, {\"x\": 1484640640000.0, \"y\": 46.82697595765008}, {\"x\": 1484727040000.0, \"y\": 47.075661522738784}, {\"x\": 1484813440000.0, \"y\": 64.18364810475472}, {\"x\": 1484899840000.0, \"y\": 77.15745719715667}, {\"x\": 1484986240000.0, \"y\": 69.04726520683751}, {\"x\": 1485072640000.0, \"y\": 82.91232735266281}, {\"x\": 1485159040000.0, \"y\": 77.04887630966313}, {\"x\": 1485245440000.0, \"y\": 89.68058182651617}, {\"x\": 1485331840000.0, \"y\": 93.86761071554014}, {\"x\": 1485418240000.0, \"y\": 113.29482873597361}, {\"x\": 1485504640000.0, \"y\": 130.1956809938012}, {\"x\": 1485591040000.0, \"y\": 143.1443138157274}, {\"x\": 1485677440000.0, \"y\": 143.79446906263496}, {\"x\": 1485763840000.0, \"y\": 155.72262329451922}, {\"x\": 1485850240000.0, \"y\": 172.1485460124395}, {\"x\": 1485936640000.0, \"y\": 186.49130165553916}, {\"x\": 1486023040000.0, \"y\": 172.84315937102565}, {\"x\": 1486109440000.0, \"y\": 175.29519310650647}, {\"x\": 1486195840000.0, \"y\": 172.09814263198328}, {\"x\": 1486282240000.0, \"y\": 171.22512916962745}, {\"x\": 1486368640000.0, \"y\": 187.37054974358014}, {\"x\": 1486455040000.0, \"y\": 205.228234129925}, {\"x\": 1486541440000.0, \"y\": 220.06920425336273}, {\"x\": 1486627840000.0, \"y\": 232.0762264498946}, {\"x\": 1486714240000.0, \"y\": 222.68310378431056}, {\"x\": 1486800640000.0, \"y\": 219.23026383217925}, {\"x\": 1486887040000.0, \"y\": 211.07030579775181}, {\"x\": 1486973440000.0, \"y\": 228.09728268374366}, {\"x\": 1487059840000.0, \"y\": 241.72224257131927}, {\"x\": 1487146240000.0, \"y\": 245.4917243156849}, {\"x\": 1487232640000.0, \"y\": 260.88057412288515}, {\"x\": 1487319040000.0, \"y\": 263.49280295966753}, {\"x\": 1487405440000.0, \"y\": 257.60285626275777}, {\"x\": 1487491840000.0, \"y\": 241.34564868747813}, {\"x\": 1487578240000.0, \"y\": 231.68140238665052}, {\"x\": 1487664640000.0, \"y\": 244.28167275536453}, {\"x\": 1487751040000.0, \"y\": 234.28188835597052}, {\"x\": 1487837440000.0, \"y\": 249.047083693036}, {\"x\": 1487923840000.0, \"y\": 257.23470408042203}, {\"x\": 1488010240000.0, \"y\": 267.3082469405495}, {\"x\": 1488096640000.0, \"y\": 268.12464625038683}, {\"x\": 1488183040000.0, \"y\": 257.72589799693367}, {\"x\": 1488269440000.0, \"y\": 245.44835170029194}, {\"x\": 1488355840000.0, \"y\": 258.7598923240683}, {\"x\": 1488442240000.0, \"y\": 256.3794607896182}, {\"x\": 1488528640000.0, \"y\": 276.0979167713558}, {\"x\": 1488615040000.0, \"y\": 269.79284522205285}, {\"x\": 1488701440000.0, \"y\": 251.69667205980443}, {\"x\": 1488787840000.0, \"y\": 244.17958159801262}, {\"x\": 1488874240000.0, \"y\": 232.42688027173878}, {\"x\": 1488960640000.0, \"y\": 248.81478773061934}, {\"x\": 1489047040000.0, \"y\": 240.42818445501064}, {\"x\": 1489133440000.0, \"y\": 243.56804152390026}, {\"x\": 1489219840000.0, \"y\": 250.5874936729089}, {\"x\": 1489306240000.0, \"y\": 247.71181245683746}, {\"x\": 1489392640000.0, \"y\": 258.13826522132973}, {\"x\": 1489479040000.0, \"y\": 254.9176339441446}, {\"x\": 1489565440000.0, \"y\": 270.99049096740197}, {\"x\": 1489651840000.0, \"y\": 268.38015035556504}, {\"x\": 1489738240000.0, \"y\": 258.4785279382704}, {\"x\": 1489824640000.0, \"y\": 259.58159181298083}, {\"x\": 1489911040000.0, \"y\": 275.51161990682834}, {\"x\": 1489997440000.0, \"y\": 255.82784660215432}, {\"x\": 1490083840000.0, \"y\": 236.7936767571327}, {\"x\": 1490170240000.0, \"y\": 233.36026019151615}, {\"x\": 1490256640000.0, \"y\": 246.60475328200923}, {\"x\": 1490343040000.0, \"y\": 250.62495370083332}, {\"x\": 1490429440000.0, \"y\": 232.91110411665346}, {\"x\": 1490515840000.0, \"y\": 213.77693495645784}, {\"x\": 1490602240000.0, \"y\": 213.0527910044675}, {\"x\": 1490688640000.0, \"y\": 220.76846371094794}, {\"x\": 1490775040000.0, \"y\": 237.9876821729154}, {\"x\": 1490861440000.0, \"y\": 237.72095341954204}, {\"x\": 1490947840000.0, \"y\": 227.44267428824534}, {\"x\": 1491034240000.0, \"y\": 231.16231345163857}, {\"x\": 1491120640000.0, \"y\": 228.99125897897005}]}]};\n",
       "                </script>\n",
       "                <script>\n",
       "                    (function() {\n",
       "                        var plot = function(session, object) {\n",
       "\n",
       "            var chart = nv.models.stackedAreaChart()\n",
       "                .useInteractiveGuideline(true)\n",
       "                .controlLabels({stacked: \"Stacked\"})\n",
       "\n",
       "            chart.xAxis.showMaxMin(false)\n",
       "                       .tickFormat(d3.format(',.1f'));\n",
       "            chart.yAxis.showMaxMin(false)\n",
       "                       .tickFormat(d3.format(',.1f'));\n",
       "\n",
       "           session.__functions.makeChart(session, object, chart);\n",
       "        }\n",
       "                        var synch = function(session, object) {\n",
       "                            window.nvd3_stat.promise.then(function() {\n",
       "                                window.nvd3_stat.session.__functions.charts[\"stackedAreaChart_026\"] = plot;\n",
       "                                plot(session, object);\n",
       "                            })\n",
       "                        }\n",
       "                        document.getElementById(\"stackedAreaChart_026\")\n",
       "                                .addEventListener(\"load\", synch(window.nvd3_stat.session, \n",
       "                                                  {\"event\":\"plot\", \"data\": data_stackedAreaChart_026, \"plotId\":\"stackedAreaChart_026\"}))\n",
       "                    })();\n",
       "                </script>\n",
       "            </div>\n",
       "            "
      ]
     },
     "metadata": {},
     "output_type": "display_data"
    }
   ],
   "source": [
    "sa = nv.stackedAreaChart()\n",
    "\n",
    "config={\"color\": nv.c20(), \"height\":500, \"xAxis\":{\"tickFormat\":\"%d.%m.%Y\"}, \"duration\":0}\n",
    "\n",
    "sa.plot(sa_df[:80], \"Date\", [\"Series %d\" % i for i in range(groups)], config=config)"
   ]
  },
  {
   "cell_type": "markdown",
   "metadata": {},
   "source": [
    "\n",
    "### b) Append values"
   ]
  },
  {
   "cell_type": "code",
   "execution_count": 38,
   "metadata": {
    "collapsed": false
   },
   "outputs": [],
   "source": [
    "for i in range(80, 100, 2):\n",
    "    time.sleep(0.1)\n",
    "    sa.append(sa_df[i:i+2])"
   ]
  },
  {
   "cell_type": "markdown",
   "metadata": {},
   "source": [
    "## 9 Scatter Plus Line Chart\n",
    "\n",
    "### a) Plot"
   ]
  },
  {
   "cell_type": "code",
   "execution_count": 39,
   "metadata": {
    "collapsed": false
   },
   "outputs": [
    {
     "data": {
      "text/html": [
       "<div>\n",
       "<table border=\"1\" class=\"dataframe\">\n",
       "  <thead>\n",
       "    <tr style=\"text-align: right;\">\n",
       "      <th></th>\n",
       "      <th>A</th>\n",
       "      <th>B</th>\n",
       "      <th>C</th>\n",
       "      <th>D</th>\n",
       "      <th>S1</th>\n",
       "      <th>S2</th>\n",
       "    </tr>\n",
       "  </thead>\n",
       "  <tbody>\n",
       "    <tr>\n",
       "      <th>0</th>\n",
       "      <td>3.842117</td>\n",
       "      <td>3.572560</td>\n",
       "      <td>3.638423</td>\n",
       "      <td>5.425795</td>\n",
       "      <td>diamond</td>\n",
       "      <td>square</td>\n",
       "    </tr>\n",
       "    <tr>\n",
       "      <th>1</th>\n",
       "      <td>3.488861</td>\n",
       "      <td>3.770814</td>\n",
       "      <td>4.045415</td>\n",
       "      <td>5.579375</td>\n",
       "      <td>diamond</td>\n",
       "      <td>square</td>\n",
       "    </tr>\n",
       "  </tbody>\n",
       "</table>\n",
       "</div>"
      ],
      "text/plain": [
       "          A         B         C         D       S1      S2\n",
       "0  3.842117  3.572560  3.638423  5.425795  diamond  square\n",
       "1  3.488861  3.770814  4.045415  5.579375  diamond  square"
      ]
     },
     "execution_count": 39,
     "metadata": {},
     "output_type": "execute_result"
    }
   ],
   "source": [
    "spl_df = pd.DataFrame({chr(65+i): randomNormalList(40, 4, 1) for i in range(4)})\n",
    "spl_df[\"S1\"] = \"diamond\"\n",
    "spl_df[\"S2\"] = \"square\"\n",
    "spl_df.head(2)\n"
   ]
  },
  {
   "cell_type": "code",
   "execution_count": 47,
   "metadata": {
    "collapsed": false
   },
   "outputs": [
    {
     "data": {
      "text/html": [
       "<div style=\"height:400px; width:1024px\">\n",
       "            <div id=\"scatterPlusLineChart_029\" class=\"with-3d-shadow with-transitions\" style=\" height:400px; width:1024px\">\n",
       "                <svg></svg>\n",
       "                <script class=\"nvd3_data\">\n",
       "                    var data_scatterPlusLineChart_029 = {\"config\": {\"yDomain\": [0, 8], \"xAxis\": {\"axisLabel\": \"A: squares,  C: diamonds\"}, \"xDomain\": [0, 8], \"color\": [\"#1f77b4\", \"#ff7f0e\", \"#2ca02c\", \"#d62728\", \"#9467bd\", \"#8c564b\", \"#e377c2\", \"#7f7f7f\", \"#bcbd22\", \"#17becf\"]}, \"data\": [{\"intercept\": -1.0, \"key\": \"B\", \"values\": [{\"shape\": \"diamond\", \"x\": 3.842116988613401, \"y\": 3.572560165571681}, {\"shape\": \"diamond\", \"x\": 3.488861123900157, \"y\": 3.7708135529641216}, {\"shape\": \"diamond\", \"x\": 5.199904713518762, \"y\": 4.599826023389971}, {\"shape\": \"diamond\", \"x\": 3.631297907472938, \"y\": 4.966555930751367}, {\"shape\": \"diamond\", \"x\": 4.911571039700886, \"y\": 4.61791234651392}, {\"shape\": \"diamond\", \"x\": 3.783387563117014, \"y\": 3.8764753124292755}, {\"shape\": \"diamond\", \"x\": 5.152303870480542, \"y\": 3.8016940050904653}, {\"shape\": \"diamond\", \"x\": 3.4722740802627827, \"y\": 5.559268313271583}, {\"shape\": \"diamond\", \"x\": 5.57497710092497, \"y\": 4.317963619027637}, {\"shape\": \"diamond\", \"x\": 4.793850645689523, \"y\": 2.8453345992675465}, {\"shape\": \"diamond\", \"x\": 3.3654097785678627, \"y\": 3.3298136690254228}, {\"shape\": \"diamond\", \"x\": 4.443976649352416, \"y\": 4.7169712333039815}, {\"shape\": \"diamond\", \"x\": 3.503726194158731, \"y\": 5.394691510353885}, {\"shape\": \"diamond\", \"x\": 4.044246688152951, \"y\": 3.873640220695926}, {\"shape\": \"diamond\", \"x\": 5.060038550473951, \"y\": 2.8073677660075584}, {\"shape\": \"diamond\", \"x\": 4.6911528571982934, \"y\": 2.852891105646666}, {\"shape\": \"diamond\", \"x\": 4.143010538556718, \"y\": 3.079759293705341}, {\"shape\": \"diamond\", \"x\": 3.5836060755827828, \"y\": 4.404283195993561}, {\"shape\": \"diamond\", \"x\": 3.9427434525549305, \"y\": 4.200238460080775}, {\"shape\": \"diamond\", \"x\": 3.571867288622475, \"y\": 4.102846528519442}, {\"shape\": \"diamond\", \"x\": 3.585833555437698, \"y\": 2.3628363699554273}, {\"shape\": \"diamond\", \"x\": 3.7805721584538015, \"y\": 3.7557513596585443}, {\"shape\": \"diamond\", \"x\": 2.712742152936891, \"y\": 5.286676919026448}, {\"shape\": \"diamond\", \"x\": 3.3654489224239983, \"y\": 4.025301942035196}, {\"shape\": \"diamond\", \"x\": 1.5595924210240937, \"y\": 4.631754496616387}, {\"shape\": \"diamond\", \"x\": 4.964881195056816, \"y\": 4.126409358390381}, {\"shape\": \"diamond\", \"x\": 1.5219299254504546, \"y\": 6.818517118124468}, {\"shape\": \"diamond\", \"x\": 4.28188771357047, \"y\": 2.7183870320723855}, {\"shape\": \"diamond\", \"x\": 5.181537019124832, \"y\": 3.8964417858416365}, {\"shape\": \"diamond\", \"x\": 2.355173194156975, \"y\": 3.9729061134675487}], \"slope\": 1.0}, {\"intercept\": 6.0, \"key\": \"D\", \"values\": [{\"shape\": \"square\", \"x\": 3.638423088686198, \"y\": 5.4257952124687945}, {\"shape\": \"square\", \"x\": 4.045415010607121, \"y\": 5.579374577682621}, {\"shape\": \"square\", \"x\": 4.716295791423837, \"y\": 3.733498234661421}, {\"shape\": \"square\", \"x\": 5.648824466860011, \"y\": 6.120719740373188}, {\"shape\": \"square\", \"x\": 3.816380816987242, \"y\": 4.260177565769526}, {\"shape\": \"square\", \"x\": 3.0238863351447547, \"y\": 4.226443692072142}, {\"shape\": \"square\", \"x\": 1.865477808037015, \"y\": 3.2792245372617863}, {\"shape\": \"square\", \"x\": 5.087661675239739, \"y\": 3.654626193950618}, {\"shape\": \"square\", \"x\": 4.16625138359746, \"y\": 5.102246941122083}, {\"shape\": \"square\", \"x\": 4.008926872988327, \"y\": 4.1935826440103305}, {\"shape\": \"square\", \"x\": 2.676245848076815, \"y\": 3.66522498377363}, {\"shape\": \"square\", \"x\": 4.112626699041272, \"y\": 5.433966883583663}, {\"shape\": \"square\", \"x\": 5.653489046003687, \"y\": 5.168867405916037}, {\"shape\": \"square\", \"x\": 5.601394337231824, \"y\": 2.0369603622815973}, {\"shape\": \"square\", \"x\": 2.627268210262926, \"y\": 5.978883923206732}, {\"shape\": \"square\", \"x\": 3.306870879523931, \"y\": 3.903489004304754}, {\"shape\": \"square\", \"x\": 4.892534102668098, \"y\": 3.2483265574711013}, {\"shape\": \"square\", \"x\": 4.281786877715447, \"y\": 4.503466229813764}, {\"shape\": \"square\", \"x\": 5.633924810796873, \"y\": 3.3656490587788266}, {\"shape\": \"square\", \"x\": 3.033371007982478, \"y\": 5.732386843031469}, {\"shape\": \"square\", \"x\": 3.214044661359049, \"y\": 5.64917278642979}, {\"shape\": \"square\", \"x\": 3.19616792263714, \"y\": 1.521478749565056}, {\"shape\": \"square\", \"x\": 4.050363307666628, \"y\": 4.244503476421901}, {\"shape\": \"square\", \"x\": 3.668371719771662, \"y\": 2.660401302098629}, {\"shape\": \"square\", \"x\": 3.8098978355325315, \"y\": 2.0068149201876384}, {\"shape\": \"square\", \"x\": 3.2401720769727596, \"y\": 2.8645236082107886}, {\"shape\": \"square\", \"x\": 4.144114685337358, \"y\": 5.0794998751707094}, {\"shape\": \"square\", \"x\": 3.832302596263218, \"y\": 3.9928577105679692}, {\"shape\": \"square\", \"x\": 4.426416078065511, \"y\": 2.587811740278265}, {\"shape\": \"square\", \"x\": 5.861829421790469, \"y\": 3.028742723683631}], \"slope\": -0.6}]};\n",
       "                </script>\n",
       "                <script>\n",
       "                    (function() {\n",
       "                        var plot = function(session, object) {\n",
       "\n",
       "            var chart = nv.models.scatterChart()\n",
       "                          .showDistX(true)\n",
       "                          .showDistY(true)\n",
       "\n",
       "            chart.xAxis.showMaxMin(false)\n",
       "                       .tickFormat(d3.format('.1f'));\n",
       "                       \n",
       "            chart.yAxis.showMaxMin(false)\n",
       "                       .tickFormat(d3.format('.1f'));\n",
       "          \n",
       "            chart.scatter.onlyCircles = false;\n",
       "\n",
       "            session.__functions.makeChart(session, object, chart);\n",
       "        }\n",
       "                        var synch = function(session, object) {\n",
       "                            window.nvd3_stat.promise.then(function() {\n",
       "                                window.nvd3_stat.session.__functions.charts[\"scatterPlusLineChart_029\"] = plot;\n",
       "                                plot(session, object);\n",
       "                            })\n",
       "                        }\n",
       "                        document.getElementById(\"scatterPlusLineChart_029\")\n",
       "                                .addEventListener(\"load\", synch(window.nvd3_stat.session, \n",
       "                                                  {\"event\":\"plot\", \"data\": data_scatterPlusLineChart_029, \"plotId\":\"scatterPlusLineChart_029\"}))\n",
       "                    })();\n",
       "                </script>\n",
       "            </div>\n",
       "            "
      ]
     },
     "metadata": {},
     "output_type": "display_data"
    }
   ],
   "source": [
    "spl1 = nv.scatterPlusLineChart()\n",
    "\n",
    "config = {\"color\":nv.c10(), \n",
    "          \"xDomain\":[0, 8], \"xAxis\":{\"axisLabel\":\"A: squares,  C: diamonds\"},\n",
    "          \"yDomain\":[0, 8]}\n",
    "\n",
    "data = spl1.plot(spl_df[:30], keys=[\"A\", \"C\"], values=[\"B\", \"D\"], pointAttributes={\"shapes\":[\"S1\", \"S2\"]},\n",
    "                 lines=[{\"slope\":1.0, \"intercept\":-1.0}, {\"slope\":-0.6, \"intercept\":6.0}], config=config)"
   ]
  },
  {
   "cell_type": "markdown",
   "metadata": {},
   "source": [
    "### b) Append"
   ]
  },
  {
   "cell_type": "code",
   "execution_count": 48,
   "metadata": {
    "collapsed": false
   },
   "outputs": [],
   "source": [
    "for i in range(30,40):\n",
    "    spl1.append(spl_df[i:i+1], \n",
    "                lines=[{\"slope\":30.0/i, \"intercept\":-1.0}, {\"slope\":-20.0/i, \"intercept\":6.0}])\n",
    "    time.sleep(0.1)"
   ]
  },
  {
   "cell_type": "markdown",
   "metadata": {},
   "source": [
    "### c) Example"
   ]
  },
  {
   "cell_type": "code",
   "execution_count": 49,
   "metadata": {
    "collapsed": false,
    "scrolled": false
   },
   "outputs": [],
   "source": [
    "from sklearn import linear_model\n",
    "\n",
    "setosa     = iris[iris.Name == \"Iris-setosa\"]\n",
    "versicolor = iris[iris.Name == \"Iris-versicolor\"]\n",
    "virginica  = iris[iris.Name == \"Iris-virginica\"]\n",
    "\n",
    "def linReg(x,y):\n",
    "    regr = linear_model.LinearRegression()\n",
    "    regr.fit(x,y)\n",
    "    return (regr.coef_.item(0), regr.intercept_.item(0))\n",
    "    \n",
    "def prepare(df, name):\n",
    "    sepal = df.loc[:,[\"SepalLength\", \"SepalWidth\"]]\n",
    "    sepal.columns = [\"X\", name]\n",
    "    sepal[\"Shape\"] = \"diamond\"\n",
    "    petal = df.loc[:,[\"PetalLength\", \"PetalWidth\"]]\n",
    "    petal.columns = [\"X\", name]\n",
    "    petal[\"Shape\"] = \"square\"\n",
    "    \n",
    "    df = pd.concat([sepal, petal])\n",
    "    x = df[\"X\"].values.reshape(df.shape[0], 1)\n",
    "    y = df[name].values.reshape(df.shape[0], 1)\n",
    "    slope, intercept = linReg(x,y)\n",
    "\n",
    "    df[\"Size\"] = 2\n",
    "    df = df.groupby([\"Shape\", \"X\", name]).sum().reset_index()\n",
    "    return (df, slope, intercept)\n",
    "\n",
    "setosaDf,     setosaSlope,     setosaIntercept     = prepare(setosa,     \"Setosa\")\n",
    "virginicaDf,  virginicaSlope,  virginicaIntercept  = prepare(virginica,  \"Virginica\")\n",
    "versicolorDf, versicolorSlope, versicolorIntercept = prepare(versicolor, \"Versicolor\")\n"
   ]
  },
  {
   "cell_type": "code",
   "execution_count": 50,
   "metadata": {
    "collapsed": false,
    "scrolled": false
   },
   "outputs": [
    {
     "data": {
      "text/html": [
       "<div style=\"height:700px; width:1024px\">\n",
       "            <div id=\"scatterPlusLineChart_030\" class=\"with-3d-shadow with-transitions\" style=\" height:700px; width:1024px\">\n",
       "                <svg></svg>\n",
       "                <script class=\"nvd3_data\">\n",
       "                    var data_scatterPlusLineChart_030 = {\"config\": {\"yAxis\": {\"axisLabel\": \"Width (sepal=diamond, petal=square)\"}, \"xAxis\": {\"axisLabel\": \"Length (sepal=diamond, petal=square)\"}, \"height\": 700}, \"data\": [{\"intercept\": -1.051945144493825, \"key\": \"Setosa\", \"values\": [{\"shape\": \"diamond\", \"size\": 2, \"x\": 4.3, \"y\": 3.0}, {\"shape\": \"diamond\", \"size\": 2, \"x\": 4.4, \"y\": 2.9}, {\"shape\": \"diamond\", \"size\": 2, \"x\": 4.4, \"y\": 3.0}, {\"shape\": \"diamond\", \"size\": 2, \"x\": 4.4, \"y\": 3.2}, {\"shape\": \"diamond\", \"size\": 2, \"x\": 4.5, \"y\": 2.3}, {\"shape\": \"diamond\", \"size\": 2, \"x\": 4.6, \"y\": 3.1}, {\"shape\": \"diamond\", \"size\": 2, \"x\": 4.6, \"y\": 3.2}, {\"shape\": \"diamond\", \"size\": 2, \"x\": 4.6, \"y\": 3.4}, {\"shape\": \"diamond\", \"size\": 2, \"x\": 4.6, \"y\": 3.6}, {\"shape\": \"diamond\", \"size\": 4, \"x\": 4.7, \"y\": 3.2}, {\"shape\": \"diamond\", \"size\": 4, \"x\": 4.8, \"y\": 3.0}, {\"shape\": \"diamond\", \"size\": 2, \"x\": 4.8, \"y\": 3.1}, {\"shape\": \"diamond\", \"size\": 4, \"x\": 4.8, \"y\": 3.4}, {\"shape\": \"diamond\", \"size\": 2, \"x\": 4.9, \"y\": 3.0}, {\"shape\": \"diamond\", \"size\": 6, \"x\": 4.9, \"y\": 3.1}, {\"shape\": \"diamond\", \"size\": 2, \"x\": 5.0, \"y\": 3.0}, {\"shape\": \"diamond\", \"size\": 2, \"x\": 5.0, \"y\": 3.2}, {\"shape\": \"diamond\", \"size\": 2, \"x\": 5.0, \"y\": 3.3}, {\"shape\": \"diamond\", \"size\": 4, \"x\": 5.0, \"y\": 3.4}, {\"shape\": \"diamond\", \"size\": 4, \"x\": 5.0, \"y\": 3.5}, {\"shape\": \"diamond\", \"size\": 2, \"x\": 5.0, \"y\": 3.6}, {\"shape\": \"diamond\", \"size\": 2, \"x\": 5.1, \"y\": 3.3}, {\"shape\": \"diamond\", \"size\": 2, \"x\": 5.1, \"y\": 3.4}, {\"shape\": \"diamond\", \"size\": 4, \"x\": 5.1, \"y\": 3.5}, {\"shape\": \"diamond\", \"size\": 2, \"x\": 5.1, \"y\": 3.7}, {\"shape\": \"diamond\", \"size\": 6, \"x\": 5.1, \"y\": 3.8}, {\"shape\": \"diamond\", \"size\": 2, \"x\": 5.2, \"y\": 3.4}, {\"shape\": \"diamond\", \"size\": 2, \"x\": 5.2, \"y\": 3.5}, {\"shape\": \"diamond\", \"size\": 2, \"x\": 5.2, \"y\": 4.1}, {\"shape\": \"diamond\", \"size\": 2, \"x\": 5.3, \"y\": 3.7}, {\"shape\": \"diamond\", \"size\": 4, \"x\": 5.4, \"y\": 3.4}, {\"shape\": \"diamond\", \"size\": 2, \"x\": 5.4, \"y\": 3.7}, {\"shape\": \"diamond\", \"size\": 4, \"x\": 5.4, \"y\": 3.9}, {\"shape\": \"diamond\", \"size\": 2, \"x\": 5.5, \"y\": 3.5}, {\"shape\": \"diamond\", \"size\": 2, \"x\": 5.5, \"y\": 4.2}, {\"shape\": \"diamond\", \"size\": 2, \"x\": 5.7, \"y\": 3.8}, {\"shape\": \"diamond\", \"size\": 2, \"x\": 5.7, \"y\": 4.4}, {\"shape\": \"diamond\", \"size\": 2, \"x\": 5.8, \"y\": 4.0}, {\"shape\": \"square\", \"size\": 2, \"x\": 1.0, \"y\": 0.2}, {\"shape\": \"square\", \"size\": 2, \"x\": 1.1, \"y\": 0.1}, {\"shape\": \"square\", \"size\": 4, \"x\": 1.2, \"y\": 0.2}, {\"shape\": \"square\", \"size\": 8, \"x\": 1.3, \"y\": 0.2}, {\"shape\": \"square\", \"size\": 4, \"x\": 1.3, \"y\": 0.3}, {\"shape\": \"square\", \"size\": 2, \"x\": 1.3, \"y\": 0.4}, {\"shape\": \"square\", \"size\": 2, \"x\": 1.4, \"y\": 0.1}, {\"shape\": \"square\", \"size\": 16, \"x\": 1.4, \"y\": 0.2}, {\"shape\": \"square\", \"size\": 6, \"x\": 1.4, \"y\": 0.3}, {\"shape\": \"square\", \"size\": 8, \"x\": 1.5, \"y\": 0.1}, {\"shape\": \"square\", \"size\": 12, \"x\": 1.5, \"y\": 0.2}, {\"shape\": \"square\", \"size\": 2, \"x\": 1.5, \"y\": 0.3}, {\"shape\": \"square\", \"size\": 6, \"x\": 1.5, \"y\": 0.4}, {\"shape\": \"square\", \"size\": 10, \"x\": 1.6, \"y\": 0.2}, {\"shape\": \"square\", \"size\": 2, \"x\": 1.6, \"y\": 0.4}, {\"shape\": \"square\", \"size\": 2, \"x\": 1.6, \"y\": 0.6}, {\"shape\": \"square\", \"size\": 2, \"x\": 1.7, \"y\": 0.2}, {\"shape\": \"square\", \"size\": 2, \"x\": 1.7, \"y\": 0.3}, {\"shape\": \"square\", \"size\": 2, \"x\": 1.7, \"y\": 0.4}, {\"shape\": \"square\", \"size\": 2, \"x\": 1.7, \"y\": 0.5}, {\"shape\": \"square\", \"size\": 2, \"x\": 1.9, \"y\": 0.2}, {\"shape\": \"square\", \"size\": 2, \"x\": 1.9, \"y\": 0.4}], \"slope\": 0.8911731513118468}, {\"intercept\": -0.6094331655026801, \"key\": \"Virginica\", \"values\": [{\"shape\": \"diamond\", \"size\": 2, \"x\": 4.9, \"y\": 2.5}, {\"shape\": \"diamond\", \"size\": 2, \"x\": 5.6, \"y\": 2.8}, {\"shape\": \"diamond\", \"size\": 2, \"x\": 5.7, \"y\": 2.5}, {\"shape\": \"diamond\", \"size\": 4, \"x\": 5.8, \"y\": 2.7}, {\"shape\": \"diamond\", \"size\": 2, \"x\": 5.8, \"y\": 2.8}, {\"shape\": \"diamond\", \"size\": 2, \"x\": 5.9, \"y\": 3.0}, {\"shape\": \"diamond\", \"size\": 2, \"x\": 6.0, \"y\": 2.2}, {\"shape\": \"diamond\", \"size\": 2, \"x\": 6.0, \"y\": 3.0}, {\"shape\": \"diamond\", \"size\": 2, \"x\": 6.1, \"y\": 2.6}, {\"shape\": \"diamond\", \"size\": 2, \"x\": 6.1, \"y\": 3.0}, {\"shape\": \"diamond\", \"size\": 2, \"x\": 6.2, \"y\": 2.8}, {\"shape\": \"diamond\", \"size\": 2, \"x\": 6.2, \"y\": 3.4}, {\"shape\": \"diamond\", \"size\": 2, \"x\": 6.3, \"y\": 2.5}, {\"shape\": \"diamond\", \"size\": 2, \"x\": 6.3, \"y\": 2.7}, {\"shape\": \"diamond\", \"size\": 2, \"x\": 6.3, \"y\": 2.8}, {\"shape\": \"diamond\", \"size\": 2, \"x\": 6.3, \"y\": 2.9}, {\"shape\": \"diamond\", \"size\": 2, \"x\": 6.3, \"y\": 3.3}, {\"shape\": \"diamond\", \"size\": 2, \"x\": 6.3, \"y\": 3.4}, {\"shape\": \"diamond\", \"size\": 2, \"x\": 6.4, \"y\": 2.7}, {\"shape\": \"diamond\", \"size\": 4, \"x\": 6.4, \"y\": 2.8}, {\"shape\": \"diamond\", \"size\": 2, \"x\": 6.4, \"y\": 3.1}, {\"shape\": \"diamond\", \"size\": 2, \"x\": 6.4, \"y\": 3.2}, {\"shape\": \"diamond\", \"size\": 6, \"x\": 6.5, \"y\": 3.0}, {\"shape\": \"diamond\", \"size\": 2, \"x\": 6.5, \"y\": 3.2}, {\"shape\": \"diamond\", \"size\": 2, \"x\": 6.7, \"y\": 2.5}, {\"shape\": \"diamond\", \"size\": 2, \"x\": 6.7, \"y\": 3.0}, {\"shape\": \"diamond\", \"size\": 2, \"x\": 6.7, \"y\": 3.1}, {\"shape\": \"diamond\", \"size\": 4, \"x\": 6.7, \"y\": 3.3}, {\"shape\": \"diamond\", \"size\": 2, \"x\": 6.8, \"y\": 3.0}, {\"shape\": \"diamond\", \"size\": 2, \"x\": 6.8, \"y\": 3.2}, {\"shape\": \"diamond\", \"size\": 4, \"x\": 6.9, \"y\": 3.1}, {\"shape\": \"diamond\", \"size\": 2, \"x\": 6.9, \"y\": 3.2}, {\"shape\": \"diamond\", \"size\": 2, \"x\": 7.1, \"y\": 3.0}, {\"shape\": \"diamond\", \"size\": 2, \"x\": 7.2, \"y\": 3.0}, {\"shape\": \"diamond\", \"size\": 2, \"x\": 7.2, \"y\": 3.2}, {\"shape\": \"diamond\", \"size\": 2, \"x\": 7.2, \"y\": 3.6}, {\"shape\": \"diamond\", \"size\": 2, \"x\": 7.3, \"y\": 2.9}, {\"shape\": \"diamond\", \"size\": 2, \"x\": 7.4, \"y\": 2.8}, {\"shape\": \"diamond\", \"size\": 2, \"x\": 7.6, \"y\": 3.0}, {\"shape\": \"diamond\", \"size\": 2, \"x\": 7.7, \"y\": 2.6}, {\"shape\": \"diamond\", \"size\": 2, \"x\": 7.7, \"y\": 2.8}, {\"shape\": \"diamond\", \"size\": 2, \"x\": 7.7, \"y\": 3.0}, {\"shape\": \"diamond\", \"size\": 2, \"x\": 7.7, \"y\": 3.8}, {\"shape\": \"diamond\", \"size\": 2, \"x\": 7.9, \"y\": 3.8}, {\"shape\": \"square\", \"size\": 2, \"x\": 4.5, \"y\": 1.7}, {\"shape\": \"square\", \"size\": 4, \"x\": 4.8, \"y\": 1.8}, {\"shape\": \"square\", \"size\": 4, \"x\": 4.9, \"y\": 1.8}, {\"shape\": \"square\", \"size\": 2, \"x\": 4.9, \"y\": 2.0}, {\"shape\": \"square\", \"size\": 2, \"x\": 5.0, \"y\": 1.5}, {\"shape\": \"square\", \"size\": 2, \"x\": 5.0, \"y\": 1.9}, {\"shape\": \"square\", \"size\": 2, \"x\": 5.0, \"y\": 2.0}, {\"shape\": \"square\", \"size\": 2, \"x\": 5.1, \"y\": 1.5}, {\"shape\": \"square\", \"size\": 2, \"x\": 5.1, \"y\": 1.8}, {\"shape\": \"square\", \"size\": 4, \"x\": 5.1, \"y\": 1.9}, {\"shape\": \"square\", \"size\": 2, \"x\": 5.1, \"y\": 2.0}, {\"shape\": \"square\", \"size\": 2, \"x\": 5.1, \"y\": 2.3}, {\"shape\": \"square\", \"size\": 2, \"x\": 5.1, \"y\": 2.4}, {\"shape\": \"square\", \"size\": 2, \"x\": 5.2, \"y\": 2.0}, {\"shape\": \"square\", \"size\": 2, \"x\": 5.2, \"y\": 2.3}, {\"shape\": \"square\", \"size\": 2, \"x\": 5.3, \"y\": 1.9}, {\"shape\": \"square\", \"size\": 2, \"x\": 5.3, \"y\": 2.3}, {\"shape\": \"square\", \"size\": 2, \"x\": 5.4, \"y\": 2.1}, {\"shape\": \"square\", \"size\": 2, \"x\": 5.4, \"y\": 2.3}, {\"shape\": \"square\", \"size\": 4, \"x\": 5.5, \"y\": 1.8}, {\"shape\": \"square\", \"size\": 2, \"x\": 5.5, \"y\": 2.1}, {\"shape\": \"square\", \"size\": 2, \"x\": 5.6, \"y\": 1.4}, {\"shape\": \"square\", \"size\": 2, \"x\": 5.6, \"y\": 1.8}, {\"shape\": \"square\", \"size\": 2, \"x\": 5.6, \"y\": 2.1}, {\"shape\": \"square\", \"size\": 2, \"x\": 5.6, \"y\": 2.2}, {\"shape\": \"square\", \"size\": 4, \"x\": 5.6, \"y\": 2.4}, {\"shape\": \"square\", \"size\": 2, \"x\": 5.7, \"y\": 2.1}, {\"shape\": \"square\", \"size\": 2, \"x\": 5.7, \"y\": 2.3}, {\"shape\": \"square\", \"size\": 2, \"x\": 5.7, \"y\": 2.5}, {\"shape\": \"square\", \"size\": 2, \"x\": 5.8, \"y\": 1.6}, {\"shape\": \"square\", \"size\": 2, \"x\": 5.8, \"y\": 1.8}, {\"shape\": \"square\", \"size\": 2, \"x\": 5.8, \"y\": 2.2}, {\"shape\": \"square\", \"size\": 2, \"x\": 5.9, \"y\": 2.1}, {\"shape\": \"square\", \"size\": 2, \"x\": 5.9, \"y\": 2.3}, {\"shape\": \"square\", \"size\": 2, \"x\": 6.0, \"y\": 1.8}, {\"shape\": \"square\", \"size\": 2, \"x\": 6.0, \"y\": 2.5}, {\"shape\": \"square\", \"size\": 2, \"x\": 6.1, \"y\": 1.9}, {\"shape\": \"square\", \"size\": 2, \"x\": 6.1, \"y\": 2.3}, {\"shape\": \"square\", \"size\": 2, \"x\": 6.1, \"y\": 2.5}, {\"shape\": \"square\", \"size\": 2, \"x\": 6.3, \"y\": 1.8}, {\"shape\": \"square\", \"size\": 2, \"x\": 6.4, \"y\": 2.0}, {\"shape\": \"square\", \"size\": 2, \"x\": 6.6, \"y\": 2.1}, {\"shape\": \"square\", \"size\": 2, \"x\": 6.7, \"y\": 2.0}, {\"shape\": \"square\", \"size\": 2, \"x\": 6.7, \"y\": 2.2}, {\"shape\": \"square\", \"size\": 2, \"x\": 6.9, \"y\": 2.3}], \"slope\": 0.5122624654864383}, {\"intercept\": -1.6500756645086692, \"key\": \"Versicolor\", \"values\": [{\"shape\": \"diamond\", \"size\": 2, \"x\": 4.9, \"y\": 2.4}, {\"shape\": \"diamond\", \"size\": 2, \"x\": 5.0, \"y\": 2.0}, {\"shape\": \"diamond\", \"size\": 2, \"x\": 5.0, \"y\": 2.3}, {\"shape\": \"diamond\", \"size\": 2, \"x\": 5.1, \"y\": 2.5}, {\"shape\": \"diamond\", \"size\": 2, \"x\": 5.2, \"y\": 2.7}, {\"shape\": \"diamond\", \"size\": 2, \"x\": 5.4, \"y\": 3.0}, {\"shape\": \"diamond\", \"size\": 2, \"x\": 5.5, \"y\": 2.3}, {\"shape\": \"diamond\", \"size\": 4, \"x\": 5.5, \"y\": 2.4}, {\"shape\": \"diamond\", \"size\": 2, \"x\": 5.5, \"y\": 2.5}, {\"shape\": \"diamond\", \"size\": 2, \"x\": 5.5, \"y\": 2.6}, {\"shape\": \"diamond\", \"size\": 2, \"x\": 5.6, \"y\": 2.5}, {\"shape\": \"diamond\", \"size\": 2, \"x\": 5.6, \"y\": 2.7}, {\"shape\": \"diamond\", \"size\": 2, \"x\": 5.6, \"y\": 2.9}, {\"shape\": \"diamond\", \"size\": 4, \"x\": 5.6, \"y\": 3.0}, {\"shape\": \"diamond\", \"size\": 2, \"x\": 5.7, \"y\": 2.6}, {\"shape\": \"diamond\", \"size\": 4, \"x\": 5.7, \"y\": 2.8}, {\"shape\": \"diamond\", \"size\": 2, \"x\": 5.7, \"y\": 2.9}, {\"shape\": \"diamond\", \"size\": 2, \"x\": 5.7, \"y\": 3.0}, {\"shape\": \"diamond\", \"size\": 2, \"x\": 5.8, \"y\": 2.6}, {\"shape\": \"diamond\", \"size\": 4, \"x\": 5.8, \"y\": 2.7}, {\"shape\": \"diamond\", \"size\": 2, \"x\": 5.9, \"y\": 3.0}, {\"shape\": \"diamond\", \"size\": 2, \"x\": 5.9, \"y\": 3.2}, {\"shape\": \"diamond\", \"size\": 2, \"x\": 6.0, \"y\": 2.2}, {\"shape\": \"diamond\", \"size\": 2, \"x\": 6.0, \"y\": 2.7}, {\"shape\": \"diamond\", \"size\": 2, \"x\": 6.0, \"y\": 2.9}, {\"shape\": \"diamond\", \"size\": 2, \"x\": 6.0, \"y\": 3.4}, {\"shape\": \"diamond\", \"size\": 4, \"x\": 6.1, \"y\": 2.8}, {\"shape\": \"diamond\", \"size\": 2, \"x\": 6.1, \"y\": 2.9}, {\"shape\": \"diamond\", \"size\": 2, \"x\": 6.1, \"y\": 3.0}, {\"shape\": \"diamond\", \"size\": 2, \"x\": 6.2, \"y\": 2.2}, {\"shape\": \"diamond\", \"size\": 2, \"x\": 6.2, \"y\": 2.9}, {\"shape\": \"diamond\", \"size\": 2, \"x\": 6.3, \"y\": 2.3}, {\"shape\": \"diamond\", \"size\": 2, \"x\": 6.3, \"y\": 2.5}, {\"shape\": \"diamond\", \"size\": 2, \"x\": 6.3, \"y\": 3.3}, {\"shape\": \"diamond\", \"size\": 2, \"x\": 6.4, \"y\": 2.9}, {\"shape\": \"diamond\", \"size\": 2, \"x\": 6.4, \"y\": 3.2}, {\"shape\": \"diamond\", \"size\": 2, \"x\": 6.5, \"y\": 2.8}, {\"shape\": \"diamond\", \"size\": 2, \"x\": 6.6, \"y\": 2.9}, {\"shape\": \"diamond\", \"size\": 2, \"x\": 6.6, \"y\": 3.0}, {\"shape\": \"diamond\", \"size\": 2, \"x\": 6.7, \"y\": 3.0}, {\"shape\": \"diamond\", \"size\": 4, \"x\": 6.7, \"y\": 3.1}, {\"shape\": \"diamond\", \"size\": 2, \"x\": 6.8, \"y\": 2.8}, {\"shape\": \"diamond\", \"size\": 2, \"x\": 6.9, \"y\": 3.1}, {\"shape\": \"diamond\", \"size\": 2, \"x\": 7.0, \"y\": 3.2}, {\"shape\": \"square\", \"size\": 2, \"x\": 3.0, \"y\": 1.1}, {\"shape\": \"square\", \"size\": 4, \"x\": 3.3, \"y\": 1.0}, {\"shape\": \"square\", \"size\": 4, \"x\": 3.5, \"y\": 1.0}, {\"shape\": \"square\", \"size\": 2, \"x\": 3.6, \"y\": 1.3}, {\"shape\": \"square\", \"size\": 2, \"x\": 3.7, \"y\": 1.0}, {\"shape\": \"square\", \"size\": 2, \"x\": 3.8, \"y\": 1.1}, {\"shape\": \"square\", \"size\": 2, \"x\": 3.9, \"y\": 1.1}, {\"shape\": \"square\", \"size\": 2, \"x\": 3.9, \"y\": 1.2}, {\"shape\": \"square\", \"size\": 2, \"x\": 3.9, \"y\": 1.4}, {\"shape\": \"square\", \"size\": 2, \"x\": 4.0, \"y\": 1.0}, {\"shape\": \"square\", \"size\": 2, \"x\": 4.0, \"y\": 1.2}, {\"shape\": \"square\", \"size\": 6, \"x\": 4.0, \"y\": 1.3}, {\"shape\": \"square\", \"size\": 2, \"x\": 4.1, \"y\": 1.0}, {\"shape\": \"square\", \"size\": 4, \"x\": 4.1, \"y\": 1.3}, {\"shape\": \"square\", \"size\": 2, \"x\": 4.2, \"y\": 1.2}, {\"shape\": \"square\", \"size\": 4, \"x\": 4.2, \"y\": 1.3}, {\"shape\": \"square\", \"size\": 2, \"x\": 4.2, \"y\": 1.5}, {\"shape\": \"square\", \"size\": 4, \"x\": 4.3, \"y\": 1.3}, {\"shape\": \"square\", \"size\": 2, \"x\": 4.4, \"y\": 1.2}, {\"shape\": \"square\", \"size\": 2, \"x\": 4.4, \"y\": 1.3}, {\"shape\": \"square\", \"size\": 4, \"x\": 4.4, \"y\": 1.4}, {\"shape\": \"square\", \"size\": 2, \"x\": 4.5, \"y\": 1.3}, {\"shape\": \"square\", \"size\": 10, \"x\": 4.5, \"y\": 1.5}, {\"shape\": \"square\", \"size\": 2, \"x\": 4.5, \"y\": 1.6}, {\"shape\": \"square\", \"size\": 2, \"x\": 4.6, \"y\": 1.3}, {\"shape\": \"square\", \"size\": 2, \"x\": 4.6, \"y\": 1.4}, {\"shape\": \"square\", \"size\": 2, \"x\": 4.6, \"y\": 1.5}, {\"shape\": \"square\", \"size\": 2, \"x\": 4.7, \"y\": 1.2}, {\"shape\": \"square\", \"size\": 4, \"x\": 4.7, \"y\": 1.4}, {\"shape\": \"square\", \"size\": 2, \"x\": 4.7, \"y\": 1.5}, {\"shape\": \"square\", \"size\": 2, \"x\": 4.7, \"y\": 1.6}, {\"shape\": \"square\", \"size\": 2, \"x\": 4.8, \"y\": 1.4}, {\"shape\": \"square\", \"size\": 2, \"x\": 4.8, \"y\": 1.8}, {\"shape\": \"square\", \"size\": 4, \"x\": 4.9, \"y\": 1.5}, {\"shape\": \"square\", \"size\": 2, \"x\": 5.0, \"y\": 1.7}, {\"shape\": \"square\", \"size\": 2, \"x\": 5.1, \"y\": 1.6}], \"slope\": 0.7253973449408924}]};\n",
       "                </script>\n",
       "                <script>\n",
       "                    (function() {\n",
       "                        var plot = function(session, object) {\n",
       "\n",
       "            var chart = nv.models.scatterChart()\n",
       "                          .showDistX(true)\n",
       "                          .showDistY(true)\n",
       "\n",
       "            chart.xAxis.showMaxMin(false)\n",
       "                       .tickFormat(d3.format('.1f'));\n",
       "                       \n",
       "            chart.yAxis.showMaxMin(false)\n",
       "                       .tickFormat(d3.format('.1f'));\n",
       "          \n",
       "            chart.scatter.onlyCircles = false;\n",
       "\n",
       "            session.__functions.makeChart(session, object, chart);\n",
       "        }\n",
       "                        var synch = function(session, object) {\n",
       "                            window.nvd3_stat.promise.then(function() {\n",
       "                                window.nvd3_stat.session.__functions.charts[\"scatterPlusLineChart_030\"] = plot;\n",
       "                                plot(session, object);\n",
       "                            })\n",
       "                        }\n",
       "                        document.getElementById(\"scatterPlusLineChart_030\")\n",
       "                                .addEventListener(\"load\", synch(window.nvd3_stat.session, \n",
       "                                                  {\"event\":\"plot\", \"data\": data_scatterPlusLineChart_030, \"plotId\":\"scatterPlusLineChart_030\"}))\n",
       "                    })();\n",
       "                </script>\n",
       "            </div>\n",
       "            "
      ]
     },
     "metadata": {},
     "output_type": "display_data"
    }
   ],
   "source": [
    "spl2 = nv.scatterPlusLineChart()\n",
    "\n",
    "config = {\"height\":700, #\"xDomain\":[0,8], \"yDomain\":[0,4.5],\n",
    "          \"xAxis\":{\"axisLabel\":\"Length (sepal=diamond, petal=square)\"}, \"yAxis\":{\"axisLabel\":\"Width (sepal=diamond, petal=square)\"}\n",
    "}\n",
    "\n",
    "spl2.addScatter(setosaDf,     \"X\", \"Setosa\",     lines={\"slope\":setosaSlope, \"intercept\":setosaIntercept}, \n",
    "                                                 pointAttributes={\"shapes\":\"Shape\", \"sizes\":\"Size\"})\n",
    "spl2.addScatter(virginicaDf,  \"X\", \"Virginica\",  lines={\"slope\":virginicaSlope, \"intercept\":virginicaIntercept}, \n",
    "                                                 pointAttributes={\"shapes\":\"Shape\", \"sizes\":\"Size\"})\n",
    "spl2.addScatter(versicolorDf, \"X\", \"Versicolor\", lines={\"slope\":versicolorSlope, \"intercept\":versicolorIntercept}, \n",
    "                                                 pointAttributes={\"shapes\":\"Shape\", \"sizes\":\"Size\"})\n",
    "\n",
    "spl2.plot(config=config)\n",
    "                "
   ]
  },
  {
   "cell_type": "markdown",
   "metadata": {},
   "source": [
    "## 10 Parallel Coordinates Plot"
   ]
  },
  {
   "cell_type": "code",
   "execution_count": 51,
   "metadata": {
    "collapsed": false,
    "scrolled": false
   },
   "outputs": [
    {
     "data": {
      "text/html": [
       "<div>\n",
       "<table border=\"1\" class=\"dataframe\">\n",
       "  <thead>\n",
       "    <tr style=\"text-align: right;\">\n",
       "      <th></th>\n",
       "      <th>SepalLength</th>\n",
       "      <th>SepalWidth</th>\n",
       "      <th>PetalLength</th>\n",
       "      <th>PetalWidth</th>\n",
       "      <th>Name</th>\n",
       "      <th>color</th>\n",
       "      <th>strokeWidth</th>\n",
       "    </tr>\n",
       "  </thead>\n",
       "  <tbody>\n",
       "    <tr>\n",
       "      <th>0</th>\n",
       "      <td>5.1</td>\n",
       "      <td>3.5</td>\n",
       "      <td>1.4</td>\n",
       "      <td>0.2</td>\n",
       "      <td>Iris-setosa</td>\n",
       "      <td>#1f77b4</td>\n",
       "      <td>0.5</td>\n",
       "    </tr>\n",
       "    <tr>\n",
       "      <th>1</th>\n",
       "      <td>4.9</td>\n",
       "      <td>3.0</td>\n",
       "      <td>1.4</td>\n",
       "      <td>0.2</td>\n",
       "      <td>Iris-setosa</td>\n",
       "      <td>#1f77b4</td>\n",
       "      <td>0.5</td>\n",
       "    </tr>\n",
       "    <tr>\n",
       "      <th>2</th>\n",
       "      <td>4.7</td>\n",
       "      <td>3.2</td>\n",
       "      <td>1.3</td>\n",
       "      <td>0.2</td>\n",
       "      <td>Iris-setosa</td>\n",
       "      <td>#1f77b4</td>\n",
       "      <td>0.5</td>\n",
       "    </tr>\n",
       "    <tr>\n",
       "      <th>3</th>\n",
       "      <td>4.6</td>\n",
       "      <td>3.1</td>\n",
       "      <td>1.5</td>\n",
       "      <td>0.2</td>\n",
       "      <td>Iris-setosa</td>\n",
       "      <td>#1f77b4</td>\n",
       "      <td>0.5</td>\n",
       "    </tr>\n",
       "    <tr>\n",
       "      <th>4</th>\n",
       "      <td>5.0</td>\n",
       "      <td>3.6</td>\n",
       "      <td>1.4</td>\n",
       "      <td>0.2</td>\n",
       "      <td>Iris-setosa</td>\n",
       "      <td>#1f77b4</td>\n",
       "      <td>0.5</td>\n",
       "    </tr>\n",
       "  </tbody>\n",
       "</table>\n",
       "</div>"
      ],
      "text/plain": [
       "   SepalLength  SepalWidth  PetalLength  PetalWidth         Name    color  strokeWidth\n",
       "0          5.1         3.5          1.4         0.2  Iris-setosa  #1f77b4          0.5\n",
       "1          4.9         3.0          1.4         0.2  Iris-setosa  #1f77b4          0.5\n",
       "2          4.7         3.2          1.3         0.2  Iris-setosa  #1f77b4          0.5\n",
       "3          4.6         3.1          1.5         0.2  Iris-setosa  #1f77b4          0.5\n",
       "4          5.0         3.6          1.4         0.2  Iris-setosa  #1f77b4          0.5"
      ]
     },
     "execution_count": 51,
     "metadata": {},
     "output_type": "execute_result"
    }
   ],
   "source": [
    "iris.loc[iris.Name==\"Iris-setosa\",     \"color\"] = nv.c10()[0]\n",
    "iris.loc[iris.Name==\"Iris-versicolor\", \"color\"] = nv.c10()[1]\n",
    "iris.loc[iris.Name==\"Iris-virginica\",  \"color\"] = nv.c10()[2]\n",
    "iris[\"strokeWidth\"] = 0.5\n",
    "iris.head()\n"
   ]
  },
  {
   "cell_type": "code",
   "execution_count": 52,
   "metadata": {
    "collapsed": false,
    "scrolled": false
   },
   "outputs": [
    {
     "data": {
      "text/html": [
       "<div style=\"height:600px; width:1024px\">\n",
       "            <div id=\"parallelCoordinatesChart_031\" class=\"with-3d-shadow with-transitions\" style=\" height:600px; width:1024px\">\n",
       "                <svg></svg>\n",
       "                <script class=\"nvd3_data\">\n",
       "                    var data_parallelCoordinatesChart_031 = {\"data\": [{\"name\": \"Iris-setosa\", \"color\": \"#1f77b4\", \"strokeWidth\": 0.5, \"values\": {\"SepalLength\": 5.1, \"PetalLength\": 1.4, \"SepalWidth\": 3.5, \"PetalWidth\": 0.2}}, {\"name\": \"Iris-setosa\", \"color\": \"#1f77b4\", \"strokeWidth\": 0.5, \"values\": {\"SepalLength\": 4.9, \"PetalLength\": 1.4, \"SepalWidth\": 3.0, \"PetalWidth\": 0.2}}, {\"name\": \"Iris-setosa\", \"color\": \"#1f77b4\", \"strokeWidth\": 0.5, \"values\": {\"SepalLength\": 4.7, \"PetalLength\": 1.3, \"SepalWidth\": 3.2, \"PetalWidth\": 0.2}}, {\"name\": \"Iris-setosa\", \"color\": \"#1f77b4\", \"strokeWidth\": 0.5, \"values\": {\"SepalLength\": 4.6, \"PetalLength\": 1.5, \"SepalWidth\": 3.1, \"PetalWidth\": 0.2}}, {\"name\": \"Iris-setosa\", \"color\": \"#1f77b4\", \"strokeWidth\": 0.5, \"values\": {\"SepalLength\": 5.0, \"PetalLength\": 1.4, \"SepalWidth\": 3.6, \"PetalWidth\": 0.2}}, {\"name\": \"Iris-setosa\", \"color\": \"#1f77b4\", \"strokeWidth\": 0.5, \"values\": {\"SepalLength\": 5.4, \"PetalLength\": 1.7, \"SepalWidth\": 3.9, \"PetalWidth\": 0.4}}, {\"name\": \"Iris-setosa\", \"color\": \"#1f77b4\", \"strokeWidth\": 0.5, \"values\": {\"SepalLength\": 4.6, \"PetalLength\": 1.4, \"SepalWidth\": 3.4, \"PetalWidth\": 0.3}}, {\"name\": \"Iris-setosa\", \"color\": \"#1f77b4\", \"strokeWidth\": 0.5, \"values\": {\"SepalLength\": 5.0, \"PetalLength\": 1.5, \"SepalWidth\": 3.4, \"PetalWidth\": 0.2}}, {\"name\": \"Iris-setosa\", \"color\": \"#1f77b4\", \"strokeWidth\": 0.5, \"values\": {\"SepalLength\": 4.4, \"PetalLength\": 1.4, \"SepalWidth\": 2.9, \"PetalWidth\": 0.2}}, {\"name\": \"Iris-setosa\", \"color\": \"#1f77b4\", \"strokeWidth\": 0.5, \"values\": {\"SepalLength\": 4.9, \"PetalLength\": 1.5, \"SepalWidth\": 3.1, \"PetalWidth\": 0.1}}, {\"name\": \"Iris-setosa\", \"color\": \"#1f77b4\", \"strokeWidth\": 0.5, \"values\": {\"SepalLength\": 5.4, \"PetalLength\": 1.5, \"SepalWidth\": 3.7, \"PetalWidth\": 0.2}}, {\"name\": \"Iris-setosa\", \"color\": \"#1f77b4\", \"strokeWidth\": 0.5, \"values\": {\"SepalLength\": 4.8, \"PetalLength\": 1.6, \"SepalWidth\": 3.4, \"PetalWidth\": 0.2}}, {\"name\": \"Iris-setosa\", \"color\": \"#1f77b4\", \"strokeWidth\": 0.5, \"values\": {\"SepalLength\": 4.8, \"PetalLength\": 1.4, \"SepalWidth\": 3.0, \"PetalWidth\": 0.1}}, {\"name\": \"Iris-setosa\", \"color\": \"#1f77b4\", \"strokeWidth\": 0.5, \"values\": {\"SepalLength\": 4.3, \"PetalLength\": 1.1, \"SepalWidth\": 3.0, \"PetalWidth\": 0.1}}, {\"name\": \"Iris-setosa\", \"color\": \"#1f77b4\", \"strokeWidth\": 0.5, \"values\": {\"SepalLength\": 5.8, \"PetalLength\": 1.2, \"SepalWidth\": 4.0, \"PetalWidth\": 0.2}}, {\"name\": \"Iris-setosa\", \"color\": \"#1f77b4\", \"strokeWidth\": 0.5, \"values\": {\"SepalLength\": 5.7, \"PetalLength\": 1.5, \"SepalWidth\": 4.4, \"PetalWidth\": 0.4}}, {\"name\": \"Iris-setosa\", \"color\": \"#1f77b4\", \"strokeWidth\": 0.5, \"values\": {\"SepalLength\": 5.4, \"PetalLength\": 1.3, \"SepalWidth\": 3.9, \"PetalWidth\": 0.4}}, {\"name\": \"Iris-setosa\", \"color\": \"#1f77b4\", \"strokeWidth\": 0.5, \"values\": {\"SepalLength\": 5.1, \"PetalLength\": 1.4, \"SepalWidth\": 3.5, \"PetalWidth\": 0.3}}, {\"name\": \"Iris-setosa\", \"color\": \"#1f77b4\", \"strokeWidth\": 0.5, \"values\": {\"SepalLength\": 5.7, \"PetalLength\": 1.7, \"SepalWidth\": 3.8, \"PetalWidth\": 0.3}}, {\"name\": \"Iris-setosa\", \"color\": \"#1f77b4\", \"strokeWidth\": 0.5, \"values\": {\"SepalLength\": 5.1, \"PetalLength\": 1.5, \"SepalWidth\": 3.8, \"PetalWidth\": 0.3}}, {\"name\": \"Iris-setosa\", \"color\": \"#1f77b4\", \"strokeWidth\": 0.5, \"values\": {\"SepalLength\": 5.4, \"PetalLength\": 1.7, \"SepalWidth\": 3.4, \"PetalWidth\": 0.2}}, {\"name\": \"Iris-setosa\", \"color\": \"#1f77b4\", \"strokeWidth\": 0.5, \"values\": {\"SepalLength\": 5.1, \"PetalLength\": 1.5, \"SepalWidth\": 3.7, \"PetalWidth\": 0.4}}, {\"name\": \"Iris-setosa\", \"color\": \"#1f77b4\", \"strokeWidth\": 0.5, \"values\": {\"SepalLength\": 4.6, \"PetalLength\": 1.0, \"SepalWidth\": 3.6, \"PetalWidth\": 0.2}}, {\"name\": \"Iris-setosa\", \"color\": \"#1f77b4\", \"strokeWidth\": 0.5, \"values\": {\"SepalLength\": 5.1, \"PetalLength\": 1.7, \"SepalWidth\": 3.3, \"PetalWidth\": 0.5}}, {\"name\": \"Iris-setosa\", \"color\": \"#1f77b4\", \"strokeWidth\": 0.5, \"values\": {\"SepalLength\": 4.8, \"PetalLength\": 1.9, \"SepalWidth\": 3.4, \"PetalWidth\": 0.2}}, {\"name\": \"Iris-setosa\", \"color\": \"#1f77b4\", \"strokeWidth\": 0.5, \"values\": {\"SepalLength\": 5.0, \"PetalLength\": 1.6, \"SepalWidth\": 3.0, \"PetalWidth\": 0.2}}, {\"name\": \"Iris-setosa\", \"color\": \"#1f77b4\", \"strokeWidth\": 0.5, \"values\": {\"SepalLength\": 5.0, \"PetalLength\": 1.6, \"SepalWidth\": 3.4, \"PetalWidth\": 0.4}}, {\"name\": \"Iris-setosa\", \"color\": \"#1f77b4\", \"strokeWidth\": 0.5, \"values\": {\"SepalLength\": 5.2, \"PetalLength\": 1.5, \"SepalWidth\": 3.5, \"PetalWidth\": 0.2}}, {\"name\": \"Iris-setosa\", \"color\": \"#1f77b4\", \"strokeWidth\": 0.5, \"values\": {\"SepalLength\": 5.2, \"PetalLength\": 1.4, \"SepalWidth\": 3.4, \"PetalWidth\": 0.2}}, {\"name\": \"Iris-setosa\", \"color\": \"#1f77b4\", \"strokeWidth\": 0.5, \"values\": {\"SepalLength\": 4.7, \"PetalLength\": 1.6, \"SepalWidth\": 3.2, \"PetalWidth\": 0.2}}, {\"name\": \"Iris-setosa\", \"color\": \"#1f77b4\", \"strokeWidth\": 0.5, \"values\": {\"SepalLength\": 4.8, \"PetalLength\": 1.6, \"SepalWidth\": 3.1, \"PetalWidth\": 0.2}}, {\"name\": \"Iris-setosa\", \"color\": \"#1f77b4\", \"strokeWidth\": 0.5, \"values\": {\"SepalLength\": 5.4, \"PetalLength\": 1.5, \"SepalWidth\": 3.4, \"PetalWidth\": 0.4}}, {\"name\": \"Iris-setosa\", \"color\": \"#1f77b4\", \"strokeWidth\": 0.5, \"values\": {\"SepalLength\": 5.2, \"PetalLength\": 1.5, \"SepalWidth\": 4.1, \"PetalWidth\": 0.1}}, {\"name\": \"Iris-setosa\", \"color\": \"#1f77b4\", \"strokeWidth\": 0.5, \"values\": {\"SepalLength\": 5.5, \"PetalLength\": 1.4, \"SepalWidth\": 4.2, \"PetalWidth\": 0.2}}, {\"name\": \"Iris-setosa\", \"color\": \"#1f77b4\", \"strokeWidth\": 0.5, \"values\": {\"SepalLength\": 4.9, \"PetalLength\": 1.5, \"SepalWidth\": 3.1, \"PetalWidth\": 0.1}}, {\"name\": \"Iris-setosa\", \"color\": \"#1f77b4\", \"strokeWidth\": 0.5, \"values\": {\"SepalLength\": 5.0, \"PetalLength\": 1.2, \"SepalWidth\": 3.2, \"PetalWidth\": 0.2}}, {\"name\": \"Iris-setosa\", \"color\": \"#1f77b4\", \"strokeWidth\": 0.5, \"values\": {\"SepalLength\": 5.5, \"PetalLength\": 1.3, \"SepalWidth\": 3.5, \"PetalWidth\": 0.2}}, {\"name\": \"Iris-setosa\", \"color\": \"#1f77b4\", \"strokeWidth\": 0.5, \"values\": {\"SepalLength\": 4.9, \"PetalLength\": 1.5, \"SepalWidth\": 3.1, \"PetalWidth\": 0.1}}, {\"name\": \"Iris-setosa\", \"color\": \"#1f77b4\", \"strokeWidth\": 0.5, \"values\": {\"SepalLength\": 4.4, \"PetalLength\": 1.3, \"SepalWidth\": 3.0, \"PetalWidth\": 0.2}}, {\"name\": \"Iris-setosa\", \"color\": \"#1f77b4\", \"strokeWidth\": 0.5, \"values\": {\"SepalLength\": 5.1, \"PetalLength\": 1.5, \"SepalWidth\": 3.4, \"PetalWidth\": 0.2}}, {\"name\": \"Iris-setosa\", \"color\": \"#1f77b4\", \"strokeWidth\": 0.5, \"values\": {\"SepalLength\": 5.0, \"PetalLength\": 1.3, \"SepalWidth\": 3.5, \"PetalWidth\": 0.3}}, {\"name\": \"Iris-setosa\", \"color\": \"#1f77b4\", \"strokeWidth\": 0.5, \"values\": {\"SepalLength\": 4.5, \"PetalLength\": 1.3, \"SepalWidth\": 2.3, \"PetalWidth\": 0.3}}, {\"name\": \"Iris-setosa\", \"color\": \"#1f77b4\", \"strokeWidth\": 0.5, \"values\": {\"SepalLength\": 4.4, \"PetalLength\": 1.3, \"SepalWidth\": 3.2, \"PetalWidth\": 0.2}}, {\"name\": \"Iris-setosa\", \"color\": \"#1f77b4\", \"strokeWidth\": 0.5, \"values\": {\"SepalLength\": 5.0, \"PetalLength\": 1.6, \"SepalWidth\": 3.5, \"PetalWidth\": 0.6}}, {\"name\": \"Iris-setosa\", \"color\": \"#1f77b4\", \"strokeWidth\": 0.5, \"values\": {\"SepalLength\": 5.1, \"PetalLength\": 1.9, \"SepalWidth\": 3.8, \"PetalWidth\": 0.4}}, {\"name\": \"Iris-setosa\", \"color\": \"#1f77b4\", \"strokeWidth\": 0.5, \"values\": {\"SepalLength\": 4.8, \"PetalLength\": 1.4, \"SepalWidth\": 3.0, \"PetalWidth\": 0.3}}, {\"name\": \"Iris-setosa\", \"color\": \"#1f77b4\", \"strokeWidth\": 0.5, \"values\": {\"SepalLength\": 5.1, \"PetalLength\": 1.6, \"SepalWidth\": 3.8, \"PetalWidth\": 0.2}}, {\"name\": \"Iris-setosa\", \"color\": \"#1f77b4\", \"strokeWidth\": 0.5, \"values\": {\"SepalLength\": 4.6, \"PetalLength\": 1.4, \"SepalWidth\": 3.2, \"PetalWidth\": 0.2}}, {\"name\": \"Iris-setosa\", \"color\": \"#1f77b4\", \"strokeWidth\": 0.5, \"values\": {\"SepalLength\": 5.3, \"PetalLength\": 1.5, \"SepalWidth\": 3.7, \"PetalWidth\": 0.2}}, {\"name\": \"Iris-setosa\", \"color\": \"#1f77b4\", \"strokeWidth\": 0.5, \"values\": {\"SepalLength\": 5.0, \"PetalLength\": 1.4, \"SepalWidth\": 3.3, \"PetalWidth\": 0.2}}, {\"name\": \"Iris-versicolor\", \"color\": \"#ff7f0e\", \"strokeWidth\": 0.5, \"values\": {\"SepalLength\": 7.0, \"PetalLength\": 4.7, \"SepalWidth\": 3.2, \"PetalWidth\": 1.4}}, {\"name\": \"Iris-versicolor\", \"color\": \"#ff7f0e\", \"strokeWidth\": 0.5, \"values\": {\"SepalLength\": 6.4, \"PetalLength\": 4.5, \"SepalWidth\": 3.2, \"PetalWidth\": 1.5}}, {\"name\": \"Iris-versicolor\", \"color\": \"#ff7f0e\", \"strokeWidth\": 0.5, \"values\": {\"SepalLength\": 6.9, \"PetalLength\": 4.9, \"SepalWidth\": 3.1, \"PetalWidth\": 1.5}}, {\"name\": \"Iris-versicolor\", \"color\": \"#ff7f0e\", \"strokeWidth\": 0.5, \"values\": {\"SepalLength\": 5.5, \"PetalLength\": 4.0, \"SepalWidth\": 2.3, \"PetalWidth\": 1.3}}, {\"name\": \"Iris-versicolor\", \"color\": \"#ff7f0e\", \"strokeWidth\": 0.5, \"values\": {\"SepalLength\": 6.5, \"PetalLength\": 4.6, \"SepalWidth\": 2.8, \"PetalWidth\": 1.5}}, {\"name\": \"Iris-versicolor\", \"color\": \"#ff7f0e\", \"strokeWidth\": 0.5, \"values\": {\"SepalLength\": 5.7, \"PetalLength\": 4.5, \"SepalWidth\": 2.8, \"PetalWidth\": 1.3}}, {\"name\": \"Iris-versicolor\", \"color\": \"#ff7f0e\", \"strokeWidth\": 0.5, \"values\": {\"SepalLength\": 6.3, \"PetalLength\": 4.7, \"SepalWidth\": 3.3, \"PetalWidth\": 1.6}}, {\"name\": \"Iris-versicolor\", \"color\": \"#ff7f0e\", \"strokeWidth\": 0.5, \"values\": {\"SepalLength\": 4.9, \"PetalLength\": 3.3, \"SepalWidth\": 2.4, \"PetalWidth\": 1.0}}, {\"name\": \"Iris-versicolor\", \"color\": \"#ff7f0e\", \"strokeWidth\": 0.5, \"values\": {\"SepalLength\": 6.6, \"PetalLength\": 4.6, \"SepalWidth\": 2.9, \"PetalWidth\": 1.3}}, {\"name\": \"Iris-versicolor\", \"color\": \"#ff7f0e\", \"strokeWidth\": 0.5, \"values\": {\"SepalLength\": 5.2, \"PetalLength\": 3.9, \"SepalWidth\": 2.7, \"PetalWidth\": 1.4}}, {\"name\": \"Iris-versicolor\", \"color\": \"#ff7f0e\", \"strokeWidth\": 0.5, \"values\": {\"SepalLength\": 5.0, \"PetalLength\": 3.5, \"SepalWidth\": 2.0, \"PetalWidth\": 1.0}}, {\"name\": \"Iris-versicolor\", \"color\": \"#ff7f0e\", \"strokeWidth\": 0.5, \"values\": {\"SepalLength\": 5.9, \"PetalLength\": 4.2, \"SepalWidth\": 3.0, \"PetalWidth\": 1.5}}, {\"name\": \"Iris-versicolor\", \"color\": \"#ff7f0e\", \"strokeWidth\": 0.5, \"values\": {\"SepalLength\": 6.0, \"PetalLength\": 4.0, \"SepalWidth\": 2.2, \"PetalWidth\": 1.0}}, {\"name\": \"Iris-versicolor\", \"color\": \"#ff7f0e\", \"strokeWidth\": 0.5, \"values\": {\"SepalLength\": 6.1, \"PetalLength\": 4.7, \"SepalWidth\": 2.9, \"PetalWidth\": 1.4}}, {\"name\": \"Iris-versicolor\", \"color\": \"#ff7f0e\", \"strokeWidth\": 0.5, \"values\": {\"SepalLength\": 5.6, \"PetalLength\": 3.6, \"SepalWidth\": 2.9, \"PetalWidth\": 1.3}}, {\"name\": \"Iris-versicolor\", \"color\": \"#ff7f0e\", \"strokeWidth\": 0.5, \"values\": {\"SepalLength\": 6.7, \"PetalLength\": 4.4, \"SepalWidth\": 3.1, \"PetalWidth\": 1.4}}, {\"name\": \"Iris-versicolor\", \"color\": \"#ff7f0e\", \"strokeWidth\": 0.5, \"values\": {\"SepalLength\": 5.6, \"PetalLength\": 4.5, \"SepalWidth\": 3.0, \"PetalWidth\": 1.5}}, {\"name\": \"Iris-versicolor\", \"color\": \"#ff7f0e\", \"strokeWidth\": 0.5, \"values\": {\"SepalLength\": 5.8, \"PetalLength\": 4.1, \"SepalWidth\": 2.7, \"PetalWidth\": 1.0}}, {\"name\": \"Iris-versicolor\", \"color\": \"#ff7f0e\", \"strokeWidth\": 0.5, \"values\": {\"SepalLength\": 6.2, \"PetalLength\": 4.5, \"SepalWidth\": 2.2, \"PetalWidth\": 1.5}}, {\"name\": \"Iris-versicolor\", \"color\": \"#ff7f0e\", \"strokeWidth\": 0.5, \"values\": {\"SepalLength\": 5.6, \"PetalLength\": 3.9, \"SepalWidth\": 2.5, \"PetalWidth\": 1.1}}, {\"name\": \"Iris-versicolor\", \"color\": \"#ff7f0e\", \"strokeWidth\": 0.5, \"values\": {\"SepalLength\": 5.9, \"PetalLength\": 4.8, \"SepalWidth\": 3.2, \"PetalWidth\": 1.8}}, {\"name\": \"Iris-versicolor\", \"color\": \"#ff7f0e\", \"strokeWidth\": 0.5, \"values\": {\"SepalLength\": 6.1, \"PetalLength\": 4.0, \"SepalWidth\": 2.8, \"PetalWidth\": 1.3}}, {\"name\": \"Iris-versicolor\", \"color\": \"#ff7f0e\", \"strokeWidth\": 0.5, \"values\": {\"SepalLength\": 6.3, \"PetalLength\": 4.9, \"SepalWidth\": 2.5, \"PetalWidth\": 1.5}}, {\"name\": \"Iris-versicolor\", \"color\": \"#ff7f0e\", \"strokeWidth\": 0.5, \"values\": {\"SepalLength\": 6.1, \"PetalLength\": 4.7, \"SepalWidth\": 2.8, \"PetalWidth\": 1.2}}, {\"name\": \"Iris-versicolor\", \"color\": \"#ff7f0e\", \"strokeWidth\": 0.5, \"values\": {\"SepalLength\": 6.4, \"PetalLength\": 4.3, \"SepalWidth\": 2.9, \"PetalWidth\": 1.3}}, {\"name\": \"Iris-versicolor\", \"color\": \"#ff7f0e\", \"strokeWidth\": 0.5, \"values\": {\"SepalLength\": 6.6, \"PetalLength\": 4.4, \"SepalWidth\": 3.0, \"PetalWidth\": 1.4}}, {\"name\": \"Iris-versicolor\", \"color\": \"#ff7f0e\", \"strokeWidth\": 0.5, \"values\": {\"SepalLength\": 6.8, \"PetalLength\": 4.8, \"SepalWidth\": 2.8, \"PetalWidth\": 1.4}}, {\"name\": \"Iris-versicolor\", \"color\": \"#ff7f0e\", \"strokeWidth\": 0.5, \"values\": {\"SepalLength\": 6.7, \"PetalLength\": 5.0, \"SepalWidth\": 3.0, \"PetalWidth\": 1.7}}, {\"name\": \"Iris-versicolor\", \"color\": \"#ff7f0e\", \"strokeWidth\": 0.5, \"values\": {\"SepalLength\": 6.0, \"PetalLength\": 4.5, \"SepalWidth\": 2.9, \"PetalWidth\": 1.5}}, {\"name\": \"Iris-versicolor\", \"color\": \"#ff7f0e\", \"strokeWidth\": 0.5, \"values\": {\"SepalLength\": 5.7, \"PetalLength\": 3.5, \"SepalWidth\": 2.6, \"PetalWidth\": 1.0}}, {\"name\": \"Iris-versicolor\", \"color\": \"#ff7f0e\", \"strokeWidth\": 0.5, \"values\": {\"SepalLength\": 5.5, \"PetalLength\": 3.8, \"SepalWidth\": 2.4, \"PetalWidth\": 1.1}}, {\"name\": \"Iris-versicolor\", \"color\": \"#ff7f0e\", \"strokeWidth\": 0.5, \"values\": {\"SepalLength\": 5.5, \"PetalLength\": 3.7, \"SepalWidth\": 2.4, \"PetalWidth\": 1.0}}, {\"name\": \"Iris-versicolor\", \"color\": \"#ff7f0e\", \"strokeWidth\": 0.5, \"values\": {\"SepalLength\": 5.8, \"PetalLength\": 3.9, \"SepalWidth\": 2.7, \"PetalWidth\": 1.2}}, {\"name\": \"Iris-versicolor\", \"color\": \"#ff7f0e\", \"strokeWidth\": 0.5, \"values\": {\"SepalLength\": 6.0, \"PetalLength\": 5.1, \"SepalWidth\": 2.7, \"PetalWidth\": 1.6}}, {\"name\": \"Iris-versicolor\", \"color\": \"#ff7f0e\", \"strokeWidth\": 0.5, \"values\": {\"SepalLength\": 5.4, \"PetalLength\": 4.5, \"SepalWidth\": 3.0, \"PetalWidth\": 1.5}}, {\"name\": \"Iris-versicolor\", \"color\": \"#ff7f0e\", \"strokeWidth\": 0.5, \"values\": {\"SepalLength\": 6.0, \"PetalLength\": 4.5, \"SepalWidth\": 3.4, \"PetalWidth\": 1.6}}, {\"name\": \"Iris-versicolor\", \"color\": \"#ff7f0e\", \"strokeWidth\": 0.5, \"values\": {\"SepalLength\": 6.7, \"PetalLength\": 4.7, \"SepalWidth\": 3.1, \"PetalWidth\": 1.5}}, {\"name\": \"Iris-versicolor\", \"color\": \"#ff7f0e\", \"strokeWidth\": 0.5, \"values\": {\"SepalLength\": 6.3, \"PetalLength\": 4.4, \"SepalWidth\": 2.3, \"PetalWidth\": 1.3}}, {\"name\": \"Iris-versicolor\", \"color\": \"#ff7f0e\", \"strokeWidth\": 0.5, \"values\": {\"SepalLength\": 5.6, \"PetalLength\": 4.1, \"SepalWidth\": 3.0, \"PetalWidth\": 1.3}}, {\"name\": \"Iris-versicolor\", \"color\": \"#ff7f0e\", \"strokeWidth\": 0.5, \"values\": {\"SepalLength\": 5.5, \"PetalLength\": 4.0, \"SepalWidth\": 2.5, \"PetalWidth\": 1.3}}, {\"name\": \"Iris-versicolor\", \"color\": \"#ff7f0e\", \"strokeWidth\": 0.5, \"values\": {\"SepalLength\": 5.5, \"PetalLength\": 4.4, \"SepalWidth\": 2.6, \"PetalWidth\": 1.2}}, {\"name\": \"Iris-versicolor\", \"color\": \"#ff7f0e\", \"strokeWidth\": 0.5, \"values\": {\"SepalLength\": 6.1, \"PetalLength\": 4.6, \"SepalWidth\": 3.0, \"PetalWidth\": 1.4}}, {\"name\": \"Iris-versicolor\", \"color\": \"#ff7f0e\", \"strokeWidth\": 0.5, \"values\": {\"SepalLength\": 5.8, \"PetalLength\": 4.0, \"SepalWidth\": 2.6, \"PetalWidth\": 1.2}}, {\"name\": \"Iris-versicolor\", \"color\": \"#ff7f0e\", \"strokeWidth\": 0.5, \"values\": {\"SepalLength\": 5.0, \"PetalLength\": 3.3, \"SepalWidth\": 2.3, \"PetalWidth\": 1.0}}, {\"name\": \"Iris-versicolor\", \"color\": \"#ff7f0e\", \"strokeWidth\": 0.5, \"values\": {\"SepalLength\": 5.6, \"PetalLength\": 4.2, \"SepalWidth\": 2.7, \"PetalWidth\": 1.3}}, {\"name\": \"Iris-versicolor\", \"color\": \"#ff7f0e\", \"strokeWidth\": 0.5, \"values\": {\"SepalLength\": 5.7, \"PetalLength\": 4.2, \"SepalWidth\": 3.0, \"PetalWidth\": 1.2}}, {\"name\": \"Iris-versicolor\", \"color\": \"#ff7f0e\", \"strokeWidth\": 0.5, \"values\": {\"SepalLength\": 5.7, \"PetalLength\": 4.2, \"SepalWidth\": 2.9, \"PetalWidth\": 1.3}}, {\"name\": \"Iris-versicolor\", \"color\": \"#ff7f0e\", \"strokeWidth\": 0.5, \"values\": {\"SepalLength\": 6.2, \"PetalLength\": 4.3, \"SepalWidth\": 2.9, \"PetalWidth\": 1.3}}, {\"name\": \"Iris-versicolor\", \"color\": \"#ff7f0e\", \"strokeWidth\": 0.5, \"values\": {\"SepalLength\": 5.1, \"PetalLength\": 3.0, \"SepalWidth\": 2.5, \"PetalWidth\": 1.1}}, {\"name\": \"Iris-versicolor\", \"color\": \"#ff7f0e\", \"strokeWidth\": 0.5, \"values\": {\"SepalLength\": 5.7, \"PetalLength\": 4.1, \"SepalWidth\": 2.8, \"PetalWidth\": 1.3}}, {\"name\": \"Iris-virginica\", \"color\": \"#2ca02c\", \"strokeWidth\": 0.5, \"values\": {\"SepalLength\": 6.3, \"PetalLength\": 6.0, \"SepalWidth\": 3.3, \"PetalWidth\": 2.5}}, {\"name\": \"Iris-virginica\", \"color\": \"#2ca02c\", \"strokeWidth\": 0.5, \"values\": {\"SepalLength\": 5.8, \"PetalLength\": 5.1, \"SepalWidth\": 2.7, \"PetalWidth\": 1.9}}, {\"name\": \"Iris-virginica\", \"color\": \"#2ca02c\", \"strokeWidth\": 0.5, \"values\": {\"SepalLength\": 7.1, \"PetalLength\": 5.9, \"SepalWidth\": 3.0, \"PetalWidth\": 2.1}}, {\"name\": \"Iris-virginica\", \"color\": \"#2ca02c\", \"strokeWidth\": 0.5, \"values\": {\"SepalLength\": 6.3, \"PetalLength\": 5.6, \"SepalWidth\": 2.9, \"PetalWidth\": 1.8}}, {\"name\": \"Iris-virginica\", \"color\": \"#2ca02c\", \"strokeWidth\": 0.5, \"values\": {\"SepalLength\": 6.5, \"PetalLength\": 5.8, \"SepalWidth\": 3.0, \"PetalWidth\": 2.2}}, {\"name\": \"Iris-virginica\", \"color\": \"#2ca02c\", \"strokeWidth\": 0.5, \"values\": {\"SepalLength\": 7.6, \"PetalLength\": 6.6, \"SepalWidth\": 3.0, \"PetalWidth\": 2.1}}, {\"name\": \"Iris-virginica\", \"color\": \"#2ca02c\", \"strokeWidth\": 0.5, \"values\": {\"SepalLength\": 4.9, \"PetalLength\": 4.5, \"SepalWidth\": 2.5, \"PetalWidth\": 1.7}}, {\"name\": \"Iris-virginica\", \"color\": \"#2ca02c\", \"strokeWidth\": 0.5, \"values\": {\"SepalLength\": 7.3, \"PetalLength\": 6.3, \"SepalWidth\": 2.9, \"PetalWidth\": 1.8}}, {\"name\": \"Iris-virginica\", \"color\": \"#2ca02c\", \"strokeWidth\": 0.5, \"values\": {\"SepalLength\": 6.7, \"PetalLength\": 5.8, \"SepalWidth\": 2.5, \"PetalWidth\": 1.8}}, {\"name\": \"Iris-virginica\", \"color\": \"#2ca02c\", \"strokeWidth\": 0.5, \"values\": {\"SepalLength\": 7.2, \"PetalLength\": 6.1, \"SepalWidth\": 3.6, \"PetalWidth\": 2.5}}, {\"name\": \"Iris-virginica\", \"color\": \"#2ca02c\", \"strokeWidth\": 0.5, \"values\": {\"SepalLength\": 6.5, \"PetalLength\": 5.1, \"SepalWidth\": 3.2, \"PetalWidth\": 2.0}}, {\"name\": \"Iris-virginica\", \"color\": \"#2ca02c\", \"strokeWidth\": 0.5, \"values\": {\"SepalLength\": 6.4, \"PetalLength\": 5.3, \"SepalWidth\": 2.7, \"PetalWidth\": 1.9}}, {\"name\": \"Iris-virginica\", \"color\": \"#2ca02c\", \"strokeWidth\": 0.5, \"values\": {\"SepalLength\": 6.8, \"PetalLength\": 5.5, \"SepalWidth\": 3.0, \"PetalWidth\": 2.1}}, {\"name\": \"Iris-virginica\", \"color\": \"#2ca02c\", \"strokeWidth\": 0.5, \"values\": {\"SepalLength\": 5.7, \"PetalLength\": 5.0, \"SepalWidth\": 2.5, \"PetalWidth\": 2.0}}, {\"name\": \"Iris-virginica\", \"color\": \"#2ca02c\", \"strokeWidth\": 0.5, \"values\": {\"SepalLength\": 5.8, \"PetalLength\": 5.1, \"SepalWidth\": 2.8, \"PetalWidth\": 2.4}}, {\"name\": \"Iris-virginica\", \"color\": \"#2ca02c\", \"strokeWidth\": 0.5, \"values\": {\"SepalLength\": 6.4, \"PetalLength\": 5.3, \"SepalWidth\": 3.2, \"PetalWidth\": 2.3}}, {\"name\": \"Iris-virginica\", \"color\": \"#2ca02c\", \"strokeWidth\": 0.5, \"values\": {\"SepalLength\": 6.5, \"PetalLength\": 5.5, \"SepalWidth\": 3.0, \"PetalWidth\": 1.8}}, {\"name\": \"Iris-virginica\", \"color\": \"#2ca02c\", \"strokeWidth\": 0.5, \"values\": {\"SepalLength\": 7.7, \"PetalLength\": 6.7, \"SepalWidth\": 3.8, \"PetalWidth\": 2.2}}, {\"name\": \"Iris-virginica\", \"color\": \"#2ca02c\", \"strokeWidth\": 0.5, \"values\": {\"SepalLength\": 7.7, \"PetalLength\": 6.9, \"SepalWidth\": 2.6, \"PetalWidth\": 2.3}}, {\"name\": \"Iris-virginica\", \"color\": \"#2ca02c\", \"strokeWidth\": 0.5, \"values\": {\"SepalLength\": 6.0, \"PetalLength\": 5.0, \"SepalWidth\": 2.2, \"PetalWidth\": 1.5}}, {\"name\": \"Iris-virginica\", \"color\": \"#2ca02c\", \"strokeWidth\": 0.5, \"values\": {\"SepalLength\": 6.9, \"PetalLength\": 5.7, \"SepalWidth\": 3.2, \"PetalWidth\": 2.3}}, {\"name\": \"Iris-virginica\", \"color\": \"#2ca02c\", \"strokeWidth\": 0.5, \"values\": {\"SepalLength\": 5.6, \"PetalLength\": 4.9, \"SepalWidth\": 2.8, \"PetalWidth\": 2.0}}, {\"name\": \"Iris-virginica\", \"color\": \"#2ca02c\", \"strokeWidth\": 0.5, \"values\": {\"SepalLength\": 7.7, \"PetalLength\": 6.7, \"SepalWidth\": 2.8, \"PetalWidth\": 2.0}}, {\"name\": \"Iris-virginica\", \"color\": \"#2ca02c\", \"strokeWidth\": 0.5, \"values\": {\"SepalLength\": 6.3, \"PetalLength\": 4.9, \"SepalWidth\": 2.7, \"PetalWidth\": 1.8}}, {\"name\": \"Iris-virginica\", \"color\": \"#2ca02c\", \"strokeWidth\": 0.5, \"values\": {\"SepalLength\": 6.7, \"PetalLength\": 5.7, \"SepalWidth\": 3.3, \"PetalWidth\": 2.1}}, {\"name\": \"Iris-virginica\", \"color\": \"#2ca02c\", \"strokeWidth\": 0.5, \"values\": {\"SepalLength\": 7.2, \"PetalLength\": 6.0, \"SepalWidth\": 3.2, \"PetalWidth\": 1.8}}, {\"name\": \"Iris-virginica\", \"color\": \"#2ca02c\", \"strokeWidth\": 0.5, \"values\": {\"SepalLength\": 6.2, \"PetalLength\": 4.8, \"SepalWidth\": 2.8, \"PetalWidth\": 1.8}}, {\"name\": \"Iris-virginica\", \"color\": \"#2ca02c\", \"strokeWidth\": 0.5, \"values\": {\"SepalLength\": 6.1, \"PetalLength\": 4.9, \"SepalWidth\": 3.0, \"PetalWidth\": 1.8}}, {\"name\": \"Iris-virginica\", \"color\": \"#2ca02c\", \"strokeWidth\": 0.5, \"values\": {\"SepalLength\": 6.4, \"PetalLength\": 5.6, \"SepalWidth\": 2.8, \"PetalWidth\": 2.1}}, {\"name\": \"Iris-virginica\", \"color\": \"#2ca02c\", \"strokeWidth\": 0.5, \"values\": {\"SepalLength\": 7.2, \"PetalLength\": 5.8, \"SepalWidth\": 3.0, \"PetalWidth\": 1.6}}, {\"name\": \"Iris-virginica\", \"color\": \"#2ca02c\", \"strokeWidth\": 0.5, \"values\": {\"SepalLength\": 7.4, \"PetalLength\": 6.1, \"SepalWidth\": 2.8, \"PetalWidth\": 1.9}}, {\"name\": \"Iris-virginica\", \"color\": \"#2ca02c\", \"strokeWidth\": 0.5, \"values\": {\"SepalLength\": 7.9, \"PetalLength\": 6.4, \"SepalWidth\": 3.8, \"PetalWidth\": 2.0}}, {\"name\": \"Iris-virginica\", \"color\": \"#2ca02c\", \"strokeWidth\": 0.5, \"values\": {\"SepalLength\": 6.4, \"PetalLength\": 5.6, \"SepalWidth\": 2.8, \"PetalWidth\": 2.2}}, {\"name\": \"Iris-virginica\", \"color\": \"#2ca02c\", \"strokeWidth\": 0.5, \"values\": {\"SepalLength\": 6.3, \"PetalLength\": 5.1, \"SepalWidth\": 2.8, \"PetalWidth\": 1.5}}, {\"name\": \"Iris-virginica\", \"color\": \"#2ca02c\", \"strokeWidth\": 0.5, \"values\": {\"SepalLength\": 6.1, \"PetalLength\": 5.6, \"SepalWidth\": 2.6, \"PetalWidth\": 1.4}}, {\"name\": \"Iris-virginica\", \"color\": \"#2ca02c\", \"strokeWidth\": 0.5, \"values\": {\"SepalLength\": 7.7, \"PetalLength\": 6.1, \"SepalWidth\": 3.0, \"PetalWidth\": 2.3}}, {\"name\": \"Iris-virginica\", \"color\": \"#2ca02c\", \"strokeWidth\": 0.5, \"values\": {\"SepalLength\": 6.3, \"PetalLength\": 5.6, \"SepalWidth\": 3.4, \"PetalWidth\": 2.4}}, {\"name\": \"Iris-virginica\", \"color\": \"#2ca02c\", \"strokeWidth\": 0.5, \"values\": {\"SepalLength\": 6.4, \"PetalLength\": 5.5, \"SepalWidth\": 3.1, \"PetalWidth\": 1.8}}, {\"name\": \"Iris-virginica\", \"color\": \"#2ca02c\", \"strokeWidth\": 0.5, \"values\": {\"SepalLength\": 6.0, \"PetalLength\": 4.8, \"SepalWidth\": 3.0, \"PetalWidth\": 1.8}}, {\"name\": \"Iris-virginica\", \"color\": \"#2ca02c\", \"strokeWidth\": 0.5, \"values\": {\"SepalLength\": 6.9, \"PetalLength\": 5.4, \"SepalWidth\": 3.1, \"PetalWidth\": 2.1}}, {\"name\": \"Iris-virginica\", \"color\": \"#2ca02c\", \"strokeWidth\": 0.5, \"values\": {\"SepalLength\": 6.7, \"PetalLength\": 5.6, \"SepalWidth\": 3.1, \"PetalWidth\": 2.4}}, {\"name\": \"Iris-virginica\", \"color\": \"#2ca02c\", \"strokeWidth\": 0.5, \"values\": {\"SepalLength\": 6.9, \"PetalLength\": 5.1, \"SepalWidth\": 3.1, \"PetalWidth\": 2.3}}, {\"name\": \"Iris-virginica\", \"color\": \"#2ca02c\", \"strokeWidth\": 0.5, \"values\": {\"SepalLength\": 5.8, \"PetalLength\": 5.1, \"SepalWidth\": 2.7, \"PetalWidth\": 1.9}}, {\"name\": \"Iris-virginica\", \"color\": \"#2ca02c\", \"strokeWidth\": 0.5, \"values\": {\"SepalLength\": 6.8, \"PetalLength\": 5.9, \"SepalWidth\": 3.2, \"PetalWidth\": 2.3}}, {\"name\": \"Iris-virginica\", \"color\": \"#2ca02c\", \"strokeWidth\": 0.5, \"values\": {\"SepalLength\": 6.7, \"PetalLength\": 5.7, \"SepalWidth\": 3.3, \"PetalWidth\": 2.5}}, {\"name\": \"Iris-virginica\", \"color\": \"#2ca02c\", \"strokeWidth\": 0.5, \"values\": {\"SepalLength\": 6.7, \"PetalLength\": 5.2, \"SepalWidth\": 3.0, \"PetalWidth\": 2.3}}, {\"name\": \"Iris-virginica\", \"color\": \"#2ca02c\", \"strokeWidth\": 0.5, \"values\": {\"SepalLength\": 6.3, \"PetalLength\": 5.0, \"SepalWidth\": 2.5, \"PetalWidth\": 1.9}}, {\"name\": \"Iris-virginica\", \"color\": \"#2ca02c\", \"strokeWidth\": 0.5, \"values\": {\"SepalLength\": 6.5, \"PetalLength\": 5.2, \"SepalWidth\": 3.0, \"PetalWidth\": 2.0}}, {\"name\": \"Iris-virginica\", \"color\": \"#2ca02c\", \"strokeWidth\": 0.5, \"values\": {\"SepalLength\": 6.2, \"PetalLength\": 5.4, \"SepalWidth\": 3.4, \"PetalWidth\": 2.3}}, {\"name\": \"Iris-virginica\", \"color\": \"#2ca02c\", \"strokeWidth\": 0.5, \"values\": {\"SepalLength\": 5.9, \"PetalLength\": 5.1, \"SepalWidth\": 3.0, \"PetalWidth\": 1.8}}], \"config\": {\"height\": 600}, \"dim\": [{\"format\": \",.1f\", \"key\": \"SepalWidth\"}, {\"format\": \",.1f\", \"key\": \"SepalLength\"}, {\"format\": \",.1f\", \"key\": \"PetalWidth\"}, {\"format\": \",.1f\", \"key\": \"PetalLength\"}]};\n",
       "                </script>\n",
       "                <script>\n",
       "                    (function() {\n",
       "                        var plot = function(session, object) {\n",
       "            for(var i in object.data.dim) {\n",
       "                object.data.dim[i].format = d3.format(object.data.dim[i].format)\n",
       "            }\n",
       "\n",
       "            var chart = nv.models.parallelCoordinatesChart()\n",
       "                    .dimensionData(object.data.dim)\n",
       "                    .displayBrush(true)\n",
       "                    .lineTension(0.85);\n",
       "\n",
       "            session.__functions.makeChart(session, object, chart);\n",
       "        }\n",
       "                        var synch = function(session, object) {\n",
       "                            window.nvd3_stat.promise.then(function() {\n",
       "                                window.nvd3_stat.session.__functions.charts[\"parallelCoordinatesChart_031\"] = plot;\n",
       "                                plot(session, object);\n",
       "                            })\n",
       "                        }\n",
       "                        document.getElementById(\"parallelCoordinatesChart_031\")\n",
       "                                .addEventListener(\"load\", synch(window.nvd3_stat.session, \n",
       "                                                  {\"event\":\"plot\", \"data\": data_parallelCoordinatesChart_031, \"plotId\":\"parallelCoordinatesChart_031\"}))\n",
       "                    })();\n",
       "                </script>\n",
       "            </div>\n",
       "            "
      ]
     },
     "metadata": {},
     "output_type": "display_data"
    }
   ],
   "source": [
    "pc = nv.parallelCoordinatesChart()\n",
    "\n",
    "config = {\"height\": 600}\n",
    "\n",
    "pc.plot(iris, 'Name', ['SepalWidth', 'SepalLength', 'PetalWidth', 'PetalLength'],\n",
    "        lineAttributes=[\"color\", \"strokeWidth\"], \n",
    "        dimAttributes= {\"format\": [\",.1f\", \",.1f\", \",.1f\", \",.1f\"]},\n",
    "        config=config)"
   ]
  },
  {
   "cell_type": "markdown",
   "metadata": {},
   "source": [
    "## 11 Historical Bar Chart"
   ]
  },
  {
   "cell_type": "code",
   "execution_count": 53,
   "metadata": {
    "collapsed": false,
    "scrolled": false
   },
   "outputs": [
    {
     "data": {
      "text/html": [
       "<div style=\"height:400px; width:1024px\">\n",
       "            <div id=\"historicalBarChart_032\" class=\"with-3d-shadow with-transitions\" style=\" height:400px; width:1024px\">\n",
       "                <svg></svg>\n",
       "                <script class=\"nvd3_data\">\n",
       "                    var data_historicalBarChart_032 = {\"config\": {\"yAxis\": {\"tickFormat\": \",.2f\", \"axisLabel\": \"Volume (Mio)\"}, \"xAxis\": {\"axisLabel\": \"Date (d.m.y)\"}, \"color\": [\"#2ca02c\", \"#98df8a\", \"#d62728\", \"#ff9896\", \"#9467bd\", \"#c5b0d5\", \"#8c564b\", \"#c49c94\", \"#e377c2\", \"#f7b6d2\", \"#7f7f7f\", \"#c7c7c7\", \"#bcbd22\", \"#dbdb8d\", \"#17becf\", \"#9edae5\"]}, \"data\": [{\"key\": \"Timestamp\", \"values\": [{\"x\": 1459123200000.0, \"y\": 1.94114}, {\"x\": 1459209600000.0, \"y\": 3.11901}, {\"x\": 1459296000000.0, \"y\": 4.56011}, {\"x\": 1459382400000.0, \"y\": 2.58884}, {\"x\": 1459468800000.0, \"y\": 2.5874}, {\"x\": 1459555200000.0, \"y\": 0.0}, {\"x\": 1459641600000.0, \"y\": 0.0}, {\"x\": 1459728000000.0, \"y\": 3.73562}, {\"x\": 1459814400000.0, \"y\": 2.65787}, {\"x\": 1459900800000.0, \"y\": 2.64041}, {\"x\": 1459987200000.0, \"y\": 3.18019}, {\"x\": 1460073600000.0, \"y\": 2.35817}, {\"x\": 1460160000000.0, \"y\": 0.0}, {\"x\": 1460246400000.0, \"y\": 0.0}, {\"x\": 1460332800000.0, \"y\": 2.94075}, {\"x\": 1460419200000.0, \"y\": 2.72323}, {\"x\": 1460505600000.0, \"y\": 3.32573}, {\"x\": 1460592000000.0, \"y\": 2.54739}, {\"x\": 1460678400000.0, \"y\": 4.6939}, {\"x\": 1460764800000.0, \"y\": 0.0}, {\"x\": 1460851200000.0, \"y\": 0.0}, {\"x\": 1460937600000.0, \"y\": 6.0834}, {\"x\": 1461024000000.0, \"y\": 3.23849}, {\"x\": 1461110400000.0, \"y\": 3.0611}, {\"x\": 1461196800000.0, \"y\": 3.15525}, {\"x\": 1461283200000.0, \"y\": 3.36831}, {\"x\": 1461369600000.0, \"y\": 0.0}, {\"x\": 1461456000000.0, \"y\": 0.0}, {\"x\": 1461542400000.0, \"y\": 2.80316}, {\"x\": 1461628800000.0, \"y\": 5.60162}, {\"x\": 1461715200000.0, \"y\": 11.46021}, {\"x\": 1461801600000.0, \"y\": 8.22427}, {\"x\": 1461888000000.0, \"y\": 6.85315}, {\"x\": 1461974400000.0, \"y\": 0.0}, {\"x\": 1462060800000.0, \"y\": 0.0}, {\"x\": 1462147200000.0, \"y\": 4.81601}, {\"x\": 1462233600000.0, \"y\": 5.68313}, {\"x\": 1462320000000.0, \"y\": 4.10255}, {\"x\": 1462406400000.0, \"y\": 3.58905}, {\"x\": 1462492800000.0, \"y\": 4.34582}, {\"x\": 1462579200000.0, \"y\": 0.0}, {\"x\": 1462665600000.0, \"y\": 0.0}, {\"x\": 1462752000000.0, \"y\": 3.29364}, {\"x\": 1462838400000.0, \"y\": 3.36868}, {\"x\": 1462924800000.0, \"y\": 2.87191}, {\"x\": 1463011200000.0, \"y\": 7.63147}, {\"x\": 1463097600000.0, \"y\": 4.43928}, {\"x\": 1463184000000.0, \"y\": 0.0}, {\"x\": 1463270400000.0, \"y\": 0.0}, {\"x\": 1463356800000.0, \"y\": 6.12598}, {\"x\": 1463443200000.0, \"y\": 4.69169}, {\"x\": 1463529600000.0, \"y\": 4.20624}, {\"x\": 1463616000000.0, \"y\": 3.04421}, {\"x\": 1463702400000.0, \"y\": 3.2026}, {\"x\": 1463788800000.0, \"y\": 0.0}, {\"x\": 1463875200000.0, \"y\": 0.0}, {\"x\": 1463961600000.0, \"y\": 3.80186}, {\"x\": 1464048000000.0, \"y\": 3.51402}, {\"x\": 1464134400000.0, \"y\": 3.81688}, {\"x\": 1464220800000.0, \"y\": 5.63312}, {\"x\": 1464307200000.0, \"y\": 3.62295}, {\"x\": 1464393600000.0, \"y\": 0.0}, {\"x\": 1464480000000.0, \"y\": 0.0}, {\"x\": 1464566400000.0, \"y\": 0.0}, {\"x\": 1464652800000.0, \"y\": 4.23072}, {\"x\": 1464739200000.0, \"y\": 2.91733}, {\"x\": 1464825600000.0, \"y\": 4.01916}, {\"x\": 1464912000000.0, \"y\": 2.80629}, {\"x\": 1464998400000.0, \"y\": 0.0}, {\"x\": 1465084800000.0, \"y\": 0.0}, {\"x\": 1465171200000.0, \"y\": 2.32925}, {\"x\": 1465257600000.0, \"y\": 2.24095}, {\"x\": 1465344000000.0, \"y\": 2.08481}, {\"x\": 1465430400000.0, \"y\": 2.66014}, {\"x\": 1465516800000.0, \"y\": 3.17129}, {\"x\": 1465603200000.0, \"y\": 0.0}, {\"x\": 1465689600000.0, \"y\": 0.0}, {\"x\": 1465776000000.0, \"y\": 3.80205}, {\"x\": 1465862400000.0, \"y\": 3.19319}, {\"x\": 1465948800000.0, \"y\": 2.94452}, {\"x\": 1466035200000.0, \"y\": 3.13268}, {\"x\": 1466121600000.0, \"y\": 6.10082}, {\"x\": 1466208000000.0, \"y\": 0.0}, {\"x\": 1466294400000.0, \"y\": 0.0}, {\"x\": 1466380800000.0, \"y\": 3.44119}, {\"x\": 1466467200000.0, \"y\": 3.55464}, {\"x\": 1466553600000.0, \"y\": 2.92191}, {\"x\": 1466640000000.0, \"y\": 3.22402}, {\"x\": 1466726400000.0, \"y\": 7.53114}, {\"x\": 1466812800000.0, \"y\": 0.0}, {\"x\": 1466899200000.0, \"y\": 0.0}, {\"x\": 1466985600000.0, \"y\": 4.54896}, {\"x\": 1467072000000.0, \"y\": 4.04449}, {\"x\": 1467158400000.0, \"y\": 3.6531}, {\"x\": 1467244800000.0, \"y\": 3.58364}, {\"x\": 1467331200000.0, \"y\": 2.60265}, {\"x\": 1467417600000.0, \"y\": 0.0}, {\"x\": 1467504000000.0, \"y\": 0.0}, {\"x\": 1467590400000.0, \"y\": 0.0}, {\"x\": 1467676800000.0, \"y\": 2.77052}, {\"x\": 1467763200000.0, \"y\": 3.09491}, {\"x\": 1467849600000.0, \"y\": 2.51396}, {\"x\": 1467936000000.0, \"y\": 2.89121}, {\"x\": 1468022400000.0, \"y\": 0.0}, {\"x\": 1468108800000.0, \"y\": 0.0}, {\"x\": 1468195200000.0, \"y\": 2.37949}, {\"x\": 1468281600000.0, \"y\": 2.41675}, {\"x\": 1468368000000.0, \"y\": 2.58922}, {\"x\": 1468454400000.0, \"y\": 3.8919}, {\"x\": 1468540800000.0, \"y\": 3.0137}, {\"x\": 1468627200000.0, \"y\": 0.0}, {\"x\": 1468713600000.0, \"y\": 0.0}, {\"x\": 1468800000000.0, \"y\": 3.64939}, {\"x\": 1468886400000.0, \"y\": 2.37799}, {\"x\": 1468972800000.0, \"y\": 2.6276}, {\"x\": 1469059200000.0, \"y\": 3.2702}, {\"x\": 1469145600000.0, \"y\": 2.83137}, {\"x\": 1469232000000.0, \"y\": 0.0}, {\"x\": 1469318400000.0, \"y\": 0.0}, {\"x\": 1469404800000.0, \"y\": 4.03829}, {\"x\": 1469491200000.0, \"y\": 5.62398}, {\"x\": 1469577600000.0, \"y\": 9.23448}, {\"x\": 1469664000000.0, \"y\": 3.98698}, {\"x\": 1469750400000.0, \"y\": 2.77337}, {\"x\": 1469836800000.0, \"y\": 0.0}, {\"x\": 1469923200000.0, \"y\": 0.0}, {\"x\": 1470009600000.0, \"y\": 3.81679}, {\"x\": 1470096000000.0, \"y\": 3.38166}, {\"x\": 1470182400000.0, \"y\": 3.02026}, {\"x\": 1470268800000.0, \"y\": 2.74087}, {\"x\": 1470355200000.0, \"y\": 4.05534}, {\"x\": 1470441600000.0, \"y\": 0.0}, {\"x\": 1470528000000.0, \"y\": 0.0}, {\"x\": 1470614400000.0, \"y\": 2.80372}, {\"x\": 1470700800000.0, \"y\": 2.63152}, {\"x\": 1470787200000.0, \"y\": 2.40085}, {\"x\": 1470873600000.0, \"y\": 2.74845}, {\"x\": 1470960000000.0, \"y\": 1.86604}, {\"x\": 1471046400000.0, \"y\": 0.0}, {\"x\": 1471132800000.0, \"y\": 0.0}, {\"x\": 1471219200000.0, \"y\": 2.58682}, {\"x\": 1471305600000.0, \"y\": 3.37944}, {\"x\": 1471392000000.0, \"y\": 2.5356}, {\"x\": 1471478400000.0, \"y\": 2.19847}, {\"x\": 1471564800000.0, \"y\": 2.53681}, {\"x\": 1471651200000.0, \"y\": 0.0}, {\"x\": 1471737600000.0, \"y\": 0.0}, {\"x\": 1471824000000.0, \"y\": 2.58202}, {\"x\": 1471910400000.0, \"y\": 2.12577}, {\"x\": 1471996800000.0, \"y\": 2.36751}, {\"x\": 1472083200000.0, \"y\": 2.50862}, {\"x\": 1472169600000.0, \"y\": 2.77663}, {\"x\": 1472256000000.0, \"y\": 0.0}, {\"x\": 1472342400000.0, \"y\": 0.0}, {\"x\": 1472428800000.0, \"y\": 2.49703}, {\"x\": 1472515200000.0, \"y\": 2.48639}, {\"x\": 1472601600000.0, \"y\": 2.96624}, {\"x\": 1472688000000.0, \"y\": 2.67015}, {\"x\": 1472774400000.0, \"y\": 2.68025}, {\"x\": 1472860800000.0, \"y\": 0.0}, {\"x\": 1472947200000.0, \"y\": 0.0}, {\"x\": 1473033600000.0, \"y\": 0.0}, {\"x\": 1473120000000.0, \"y\": 2.68804}, {\"x\": 1473206400000.0, \"y\": 4.23643}, {\"x\": 1473292800000.0, \"y\": 5.3002}, {\"x\": 1473379200000.0, \"y\": 4.6557}, {\"x\": 1473465600000.0, \"y\": 0.0}, {\"x\": 1473552000000.0, \"y\": 0.0}, {\"x\": 1473638400000.0, \"y\": 4.52928}, {\"x\": 1473724800000.0, \"y\": 6.21762}, {\"x\": 1473811200000.0, \"y\": 11.08887}, {\"x\": 1473897600000.0, \"y\": 8.99836}, {\"x\": 1473984000000.0, \"y\": 7.98869}, {\"x\": 1474070400000.0, \"y\": 0.0}, {\"x\": 1474156800000.0, \"y\": 0.0}, {\"x\": 1474243200000.0, \"y\": 4.7023}, {\"x\": 1474329600000.0, \"y\": 3.45143}, {\"x\": 1474416000000.0, \"y\": 3.60032}, {\"x\": 1474502400000.0, \"y\": 3.1074}, {\"x\": 1474588800000.0, \"y\": 5.24812}, {\"x\": 1474675200000.0, \"y\": 0.0}, {\"x\": 1474761600000.0, \"y\": 0.0}, {\"x\": 1474848000000.0, \"y\": 2.98694}, {\"x\": 1474934400000.0, \"y\": 2.46074}, {\"x\": 1475020800000.0, \"y\": 2.96411}, {\"x\": 1475107200000.0, \"y\": 3.5887}, {\"x\": 1475193600000.0, \"y\": 3.63791}, {\"x\": 1475280000000.0, \"y\": 0.0}, {\"x\": 1475366400000.0, \"y\": 0.0}, {\"x\": 1475452800000.0, \"y\": 2.17018}, {\"x\": 1475539200000.0, \"y\": 2.97368}, {\"x\": 1475625600000.0, \"y\": 2.14531}, {\"x\": 1475712000000.0, \"y\": 2.87793}, {\"x\": 1475798400000.0, \"y\": 2.43584}, {\"x\": 1475884800000.0, \"y\": 0.0}, {\"x\": 1475971200000.0, \"y\": 0.0}, {\"x\": 1476057600000.0, \"y\": 3.6236}, {\"x\": 1476144000000.0, \"y\": 6.4041}, {\"x\": 1476230400000.0, \"y\": 3.75868}, {\"x\": 1476316800000.0, \"y\": 3.51924}, {\"x\": 1476403200000.0, \"y\": 3.56522}, {\"x\": 1476489600000.0, \"y\": 0.0}, {\"x\": 1476576000000.0, \"y\": 0.0}, {\"x\": 1476662400000.0, \"y\": 2.36249}, {\"x\": 1476748800000.0, \"y\": 2.45535}, {\"x\": 1476835200000.0, \"y\": 2.00346}, {\"x\": 1476921600000.0, \"y\": 2.41258}, {\"x\": 1477008000000.0, \"y\": 2.31927}, {\"x\": 1477094400000.0, \"y\": 0.0}, {\"x\": 1477180800000.0, \"y\": 0.0}, {\"x\": 1477267200000.0, \"y\": 2.35387}, {\"x\": 1477353600000.0, \"y\": 4.8129}, {\"x\": 1477440000000.0, \"y\": 6.61342}, {\"x\": 1477526400000.0, \"y\": 3.4562}, {\"x\": 1477612800000.0, \"y\": 3.78617}, {\"x\": 1477699200000.0, \"y\": 0.0}, {\"x\": 1477785600000.0, \"y\": 0.0}, {\"x\": 1477872000000.0, \"y\": 2.64194}, {\"x\": 1477958400000.0, \"y\": 4.38258}, {\"x\": 1478044800000.0, \"y\": 2.83317}, {\"x\": 1478131200000.0, \"y\": 2.69326}, {\"x\": 1478217600000.0, \"y\": 3.0837}, {\"x\": 1478304000000.0, \"y\": 0.0}, {\"x\": 1478390400000.0, \"y\": 0.0}, {\"x\": 1478476800000.0, \"y\": 3.256}, {\"x\": 1478563200000.0, \"y\": 2.40545}, {\"x\": 1478649600000.0, \"y\": 5.91764}, {\"x\": 1478736000000.0, \"y\": 5.71345}, {\"x\": 1478822400000.0, \"y\": 3.40941}, {\"x\": 1478908800000.0, \"y\": 0.0}, {\"x\": 1478995200000.0, \"y\": 0.0}, {\"x\": 1479081600000.0, \"y\": 5.11755}, {\"x\": 1479168000000.0, \"y\": 3.22645}, {\"x\": 1479254400000.0, \"y\": 5.88405}, {\"x\": 1479340800000.0, \"y\": 2.7632}, {\"x\": 1479427200000.0, \"y\": 2.84289}, {\"x\": 1479513600000.0, \"y\": 0.0}, {\"x\": 1479600000000.0, \"y\": 0.0}, {\"x\": 1479686400000.0, \"y\": 2.92646}, {\"x\": 1479772800000.0, \"y\": 2.59655}, {\"x\": 1479859200000.0, \"y\": 2.74264}, {\"x\": 1479945600000.0, \"y\": 0.0}, {\"x\": 1480032000000.0, \"y\": 1.14759}, {\"x\": 1480118400000.0, \"y\": 0.0}, {\"x\": 1480204800000.0, \"y\": 0.0}, {\"x\": 1480291200000.0, \"y\": 2.7194}, {\"x\": 1480377600000.0, \"y\": 2.85288}, {\"x\": 1480464000000.0, \"y\": 3.61623}, {\"x\": 1480550400000.0, \"y\": 3.70869}, {\"x\": 1480636800000.0, \"y\": 2.6528}, {\"x\": 1480723200000.0, \"y\": 0.0}, {\"x\": 1480809600000.0, \"y\": 0.0}, {\"x\": 1480896000000.0, \"y\": 3.43245}, {\"x\": 1480982400000.0, \"y\": 2.61955}, {\"x\": 1481068800000.0, \"y\": 2.99987}, {\"x\": 1481155200000.0, \"y\": 2.70683}, {\"x\": 1481241600000.0, \"y\": 3.44026}, {\"x\": 1481328000000.0, \"y\": 0.0}, {\"x\": 1481414400000.0, \"y\": 0.0}, {\"x\": 1481500800000.0, \"y\": 2.63744}, {\"x\": 1481587200000.0, \"y\": 4.37338}, {\"x\": 1481673600000.0, \"y\": 3.40318}, {\"x\": 1481760000000.0, \"y\": 4.65245}, {\"x\": 1481846400000.0, \"y\": 4.43511}, {\"x\": 1481932800000.0, \"y\": 0.0}, {\"x\": 1482019200000.0, \"y\": 0.0}, {\"x\": 1482105600000.0, \"y\": 2.77794}, {\"x\": 1482192000000.0, \"y\": 2.1425}, {\"x\": 1482278400000.0, \"y\": 2.37832}, {\"x\": 1482364800000.0, \"y\": 2.60859}, {\"x\": 1482451200000.0, \"y\": 1.41812}, {\"x\": 1482537600000.0, \"y\": 0.0}, {\"x\": 1482624000000.0, \"y\": 0.0}, {\"x\": 1482710400000.0, \"y\": 0.0}, {\"x\": 1482796800000.0, \"y\": 1.82969}, {\"x\": 1482883200000.0, \"y\": 2.09059}, {\"x\": 1482969600000.0, \"y\": 1.50395}, {\"x\": 1483056000000.0, \"y\": 3.05863}, {\"x\": 1483142400000.0, \"y\": 0.0}, {\"x\": 1483228800000.0, \"y\": 0.0}, {\"x\": 1483315200000.0, \"y\": 0.0}, {\"x\": 1483401600000.0, \"y\": 2.87819}, {\"x\": 1483488000000.0, \"y\": 2.11181}, {\"x\": 1483574400000.0, \"y\": 2.21936}, {\"x\": 1483660800000.0, \"y\": 3.17519}, {\"x\": 1483747200000.0, \"y\": 0.0}, {\"x\": 1483833600000.0, \"y\": 0.0}, {\"x\": 1483920000000.0, \"y\": 3.35619}, {\"x\": 1484006400000.0, \"y\": 2.44621}, {\"x\": 1484092800000.0, \"y\": 2.75886}, {\"x\": 1484179200000.0, \"y\": 2.70862}, {\"x\": 1484265600000.0, \"y\": 2.61119}, {\"x\": 1484352000000.0, \"y\": 0.0}, {\"x\": 1484438400000.0, \"y\": 0.0}, {\"x\": 1484524800000.0, \"y\": 0.0}, {\"x\": 1484611200000.0, \"y\": 3.44398}, {\"x\": 1484697600000.0, \"y\": 2.3713}, {\"x\": 1484784000000.0, \"y\": 2.55973}, {\"x\": 1484870400000.0, \"y\": 3.25979}, {\"x\": 1484956800000.0, \"y\": 0.0}, {\"x\": 1485043200000.0, \"y\": 0.0}, {\"x\": 1485129600000.0, \"y\": 2.20502}, {\"x\": 1485216000000.0, \"y\": 2.3211}, {\"x\": 1485302400000.0, \"y\": 3.23776}, {\"x\": 1485388800000.0, \"y\": 2.63376}, {\"x\": 1485475200000.0, \"y\": 2.05629}, {\"x\": 1485561600000.0, \"y\": 0.0}, {\"x\": 1485648000000.0, \"y\": 0.0}, {\"x\": 1485734400000.0, \"y\": 3.03775}, {\"x\": 1485820800000.0, \"y\": 4.9201}, {\"x\": 1485907200000.0, \"y\": 11.1985}, {\"x\": 1485993600000.0, \"y\": 3.37104}, {\"x\": 1486080000000.0, \"y\": 2.45073}, {\"x\": 1486166400000.0, \"y\": 0.0}, {\"x\": 1486252800000.0, \"y\": 0.0}, {\"x\": 1486339200000.0, \"y\": 2.68459}, {\"x\": 1486425600000.0, \"y\": 3.81838}, {\"x\": 1486512000000.0, \"y\": 2.30041}, {\"x\": 1486598400000.0, \"y\": 2.83499}, {\"x\": 1486684800000.0, \"y\": 2.00655}, {\"x\": 1486771200000.0, \"y\": 0.0}, {\"x\": 1486857600000.0, \"y\": 0.0}, {\"x\": 1486944000000.0, \"y\": 2.30354}, {\"x\": 1487030400000.0, \"y\": 3.32262}, {\"x\": 1487116800000.0, \"y\": 3.56231}, {\"x\": 1487203200000.0, \"y\": 2.25846}, {\"x\": 1487289600000.0, \"y\": 2.21982}, {\"x\": 1487376000000.0, \"y\": 0.0}, {\"x\": 1487462400000.0, \"y\": 0.0}, {\"x\": 1487548800000.0, \"y\": 0.0}, {\"x\": 1487635200000.0, \"y\": 2.45072}, {\"x\": 1487721600000.0, \"y\": 2.08369}, {\"x\": 1487808000000.0, \"y\": 2.07882}, {\"x\": 1487894400000.0, \"y\": 2.17766}, {\"x\": 1487980800000.0, \"y\": 0.0}, {\"x\": 1488067200000.0, \"y\": 0.0}, {\"x\": 1488153600000.0, \"y\": 2.02574}, {\"x\": 1488240000000.0, \"y\": 2.34829}, {\"x\": 1488326400000.0, \"y\": 3.64146}, {\"x\": 1488412800000.0, \"y\": 2.6211}, {\"x\": 1488499200000.0, \"y\": 2.11081}, {\"x\": 1488585600000.0, \"y\": 0.0}, {\"x\": 1488672000000.0, \"y\": 0.0}, {\"x\": 1488758400000.0, \"y\": 2.175}, {\"x\": 1488844800000.0, \"y\": 1.74463}, {\"x\": 1488931200000.0, \"y\": 1.87072}, {\"x\": 1489017600000.0, \"y\": 2.21559}, {\"x\": 1489104000000.0, \"y\": 1.96128}, {\"x\": 1489190400000.0, \"y\": 0.0}, {\"x\": 1489276800000.0, \"y\": 0.0}, {\"x\": 1489363200000.0, \"y\": 1.74217}, {\"x\": 1489449600000.0, \"y\": 1.53091}, {\"x\": 1489536000000.0, \"y\": 2.56918}, {\"x\": 1489622400000.0, \"y\": 1.9232}, {\"x\": 1489708800000.0, \"y\": 4.3885}, {\"x\": 1489795200000.0, \"y\": 0.0}, {\"x\": 1489881600000.0, \"y\": 0.0}, {\"x\": 1489968000000.0, \"y\": 2.1542}, {\"x\": 1490054400000.0, \"y\": 3.95299}, {\"x\": 1490140800000.0, \"y\": 2.58602}, {\"x\": 1490227200000.0, \"y\": 2.03463}, {\"x\": 1490313600000.0, \"y\": 2.23956}, {\"x\": 1490400000000.0, \"y\": 0.0}, {\"x\": 1490486400000.0, \"y\": 0.0}, {\"x\": 1490572800000.0, \"y\": 2.35751}]}]};\n",
       "                </script>\n",
       "                <script>\n",
       "                    (function() {\n",
       "                        var plot = function(session, object) {\n",
       "\n",
       "            var chart = nv.models.historicalBarChart();\n",
       "            chart.useInteractiveGuideline(true)\n",
       "                 .showLegend(false)\n",
       "                      \n",
       "            chart.xAxis.showMaxMin(false)\n",
       "                       .tickFormat(function(d) { return d3.time.format(\"%d.%m.%Y\")(new Date(d)) })\n",
       "\n",
       "            chart.yAxis.showMaxMin(true)\n",
       "                       .tickFormat(d3.format(',.1f'))\n",
       "\n",
       "            session.__functions.makeChart(session, object, chart);\n",
       "        }\n",
       "                        var synch = function(session, object) {\n",
       "                            window.nvd3_stat.promise.then(function() {\n",
       "                                window.nvd3_stat.session.__functions.charts[\"historicalBarChart_032\"] = plot;\n",
       "                                plot(session, object);\n",
       "                            })\n",
       "                        }\n",
       "                        document.getElementById(\"historicalBarChart_032\")\n",
       "                                .addEventListener(\"load\", synch(window.nvd3_stat.session, \n",
       "                                                  {\"event\":\"plot\", \"data\": data_historicalBarChart_032, \"plotId\":\"historicalBarChart_032\"}))\n",
       "                    })();\n",
       "                </script>\n",
       "            </div>\n",
       "            "
      ]
     },
     "metadata": {},
     "output_type": "display_data"
    }
   ],
   "source": [
    "hb = nv.historicalBarChart()\n",
    "\n",
    "config = {\"color\":nv.c20()[4:],\n",
    "          \"xAxis\":{\"axisLabel\":\"Date (d.m.y)\"},\n",
    "          \"yAxis\":{\"axisLabel\":\"Volume (Mio)\", \"tickFormat\":\",.2f\"}}\n",
    "\n",
    "hb.plot(ohlcDf, \"Timestamp\", \"VolumeMio\",config=config)"
   ]
  },
  {
   "cell_type": "markdown",
   "metadata": {},
   "source": [
    "## 12 Candlestick Chart"
   ]
  },
  {
   "cell_type": "code",
   "execution_count": 54,
   "metadata": {
    "collapsed": false,
    "scrolled": false
   },
   "outputs": [
    {
     "data": {
      "text/html": [
       "<div style=\"height:800px; width:1400px\">\n",
       "            <div id=\"candlestickBarChart_033\" class=\"with-3d-shadow with-transitions\" style=\" height:800px; width:1400px\">\n",
       "                <svg></svg>\n",
       "                <script class=\"nvd3_data\">\n",
       "                    var data_candlestickBarChart_033 = {\"config\": {\"width\": 1400, \"height\": 800, \"color\": [\"#1f77b4\", \"#ff7f0e\", \"#2ca02c\", \"#d62728\", \"#9467bd\", \"#8c564b\", \"#e377c2\", \"#7f7f7f\", \"#bcbd22\", \"#17becf\"], \"yAxis\": {\"axisLabel\": \"Close (USD)\"}, \"yDomain\": [114, 145], \"xAxis\": {\"tickFormat\": \"%d/%m/%Y\", \"axisLabel\": \"Date (d/m/y)\"}}, \"data\": [{\"values\": [{\"close\": 117.910004, \"adjusted\": 117.401002, \"date\": 1483747200000.0, \"volume\": 0.0, \"open\": 116.779999, \"low\": 116.470001, \"high\": 118.160004}, {\"close\": 117.910004, \"adjusted\": 117.401002, \"date\": 1483833600000.0, \"volume\": 0.0, \"open\": 116.779999, \"low\": 116.470001, \"high\": 118.160004}, {\"close\": 118.989998, \"adjusted\": 118.476334, \"date\": 1483920000000.0, \"volume\": 33561900.0, \"open\": 117.949997, \"low\": 117.940002, \"high\": 119.43}, {\"close\": 119.110001, \"adjusted\": 118.595819, \"date\": 1484006400000.0, \"volume\": 24462100.0, \"open\": 118.769997, \"low\": 118.300003, \"high\": 119.379997}, {\"close\": 119.75, \"adjusted\": 119.233055, \"date\": 1484092800000.0, \"volume\": 27588600.0, \"open\": 118.739998, \"low\": 118.599998, \"high\": 119.93}, {\"close\": 119.25, \"adjusted\": 118.735214, \"date\": 1484179200000.0, \"volume\": 27086200.0, \"open\": 118.900002, \"low\": 118.209999, \"high\": 119.300003}, {\"close\": 119.040001, \"adjusted\": 118.526121, \"date\": 1484265600000.0, \"volume\": 26111900.0, \"open\": 119.110001, \"low\": 118.809998, \"high\": 119.620003}, {\"close\": 119.040001, \"adjusted\": 118.526121, \"date\": 1484352000000.0, \"volume\": 0.0, \"open\": 119.110001, \"low\": 118.809998, \"high\": 119.620003}, {\"close\": 119.040001, \"adjusted\": 118.526121, \"date\": 1484438400000.0, \"volume\": 0.0, \"open\": 119.110001, \"low\": 118.809998, \"high\": 119.620003}, {\"close\": 119.040001, \"adjusted\": 118.526121, \"date\": 1484524800000.0, \"volume\": 0.0, \"open\": 119.110001, \"low\": 118.809998, \"high\": 119.620003}, {\"close\": 120.0, \"adjusted\": 119.481976, \"date\": 1484611200000.0, \"volume\": 34439800.0, \"open\": 118.339996, \"low\": 118.220001, \"high\": 120.239998}, {\"close\": 119.989998, \"adjusted\": 119.472017, \"date\": 1484697600000.0, \"volume\": 23713000.0, \"open\": 120.0, \"low\": 119.709999, \"high\": 120.5}, {\"close\": 119.779999, \"adjusted\": 119.262925, \"date\": 1484784000000.0, \"volume\": 25597300.0, \"open\": 119.400002, \"low\": 119.370003, \"high\": 120.089996}, {\"close\": 120.0, \"adjusted\": 119.481976, \"date\": 1484870400000.0, \"volume\": 32597900.0, \"open\": 120.449997, \"low\": 119.730003, \"high\": 120.449997}, {\"close\": 120.0, \"adjusted\": 119.481976, \"date\": 1484956800000.0, \"volume\": 0.0, \"open\": 120.449997, \"low\": 119.730003, \"high\": 120.449997}, {\"close\": 120.0, \"adjusted\": 119.481976, \"date\": 1485043200000.0, \"volume\": 0.0, \"open\": 120.449997, \"low\": 119.730003, \"high\": 120.449997}, {\"close\": 120.080002, \"adjusted\": 119.561633, \"date\": 1485129600000.0, \"volume\": 22050200.0, \"open\": 120.0, \"low\": 119.769997, \"high\": 120.809998}, {\"close\": 119.970001, \"adjusted\": 119.452107, \"date\": 1485216000000.0, \"volume\": 23211000.0, \"open\": 119.550003, \"low\": 119.5, \"high\": 120.099998}, {\"close\": 121.879997, \"adjusted\": 121.353858, \"date\": 1485302400000.0, \"volume\": 32377600.0, \"open\": 120.419998, \"low\": 120.279999, \"high\": 122.099998}, {\"close\": 121.940002, \"adjusted\": 121.413604, \"date\": 1485388800000.0, \"volume\": 26337600.0, \"open\": 121.669998, \"low\": 121.599998, \"high\": 122.440002}, {\"close\": 121.949997, \"adjusted\": 121.423555, \"date\": 1485475200000.0, \"volume\": 20562900.0, \"open\": 122.139999, \"low\": 121.599998, \"high\": 122.349998}, {\"close\": 121.949997, \"adjusted\": 121.423555, \"date\": 1485561600000.0, \"volume\": 0.0, \"open\": 122.139999, \"low\": 121.599998, \"high\": 122.349998}, {\"close\": 121.949997, \"adjusted\": 121.423555, \"date\": 1485648000000.0, \"volume\": 0.0, \"open\": 122.139999, \"low\": 121.599998, \"high\": 122.349998}, {\"close\": 121.629997, \"adjusted\": 121.104937, \"date\": 1485734400000.0, \"volume\": 30377500.0, \"open\": 120.93, \"low\": 120.660004, \"high\": 121.629997}, {\"close\": 121.349998, \"adjusted\": 120.826147, \"date\": 1485820800000.0, \"volume\": 49201000.0, \"open\": 121.150002, \"low\": 120.620003, \"high\": 121.389999}, {\"close\": 128.75, \"adjusted\": 128.194203, \"date\": 1485907200000.0, \"volume\": 111985000.0, \"open\": 127.029999, \"low\": 127.010002, \"high\": 130.490005}, {\"close\": 128.529999, \"adjusted\": 127.975152, \"date\": 1485993600000.0, \"volume\": 33710400.0, \"open\": 127.980003, \"low\": 127.779999, \"high\": 129.389999}, {\"close\": 129.080002, \"adjusted\": 128.522781, \"date\": 1486080000000.0, \"volume\": 24507300.0, \"open\": 128.309998, \"low\": 128.160004, \"high\": 129.190002}, {\"close\": 129.080002, \"adjusted\": 128.522781, \"date\": 1486166400000.0, \"volume\": 0.0, \"open\": 128.309998, \"low\": 128.160004, \"high\": 129.190002}, {\"close\": 129.080002, \"adjusted\": 128.522781, \"date\": 1486252800000.0, \"volume\": 0.0, \"open\": 128.309998, \"low\": 128.160004, \"high\": 129.190002}, {\"close\": 130.289993, \"adjusted\": 129.727549, \"date\": 1486339200000.0, \"volume\": 26845900.0, \"open\": 129.130005, \"low\": 128.899994, \"high\": 130.5}, {\"close\": 131.529999, \"adjusted\": 130.962201, \"date\": 1486425600000.0, \"volume\": 38183800.0, \"open\": 130.539993, \"low\": 130.449997, \"high\": 132.089996}, {\"close\": 132.039993, \"adjusted\": 131.469994, \"date\": 1486512000000.0, \"volume\": 23004100.0, \"open\": 131.350006, \"low\": 131.220001, \"high\": 132.220001}, {\"close\": 132.419998, \"adjusted\": 132.419998, \"date\": 1486598400000.0, \"volume\": 28349900.0, \"open\": 131.649994, \"low\": 131.119995, \"high\": 132.449997}, {\"close\": 132.119995, \"adjusted\": 132.119995, \"date\": 1486684800000.0, \"volume\": 20065500.0, \"open\": 132.460007, \"low\": 132.050003, \"high\": 132.940002}, {\"close\": 132.119995, \"adjusted\": 132.119995, \"date\": 1486771200000.0, \"volume\": 0.0, \"open\": 132.460007, \"low\": 132.050003, \"high\": 132.940002}, {\"close\": 132.119995, \"adjusted\": 132.119995, \"date\": 1486857600000.0, \"volume\": 0.0, \"open\": 132.460007, \"low\": 132.050003, \"high\": 132.940002}, {\"close\": 133.289993, \"adjusted\": 133.289993, \"date\": 1486944000000.0, \"volume\": 23035400.0, \"open\": 133.080002, \"low\": 132.75, \"high\": 133.820007}, {\"close\": 135.020004, \"adjusted\": 135.020004, \"date\": 1487030400000.0, \"volume\": 33226200.0, \"open\": 133.470001, \"low\": 133.25, \"high\": 135.089996}, {\"close\": 135.509995, \"adjusted\": 135.509995, \"date\": 1487116800000.0, \"volume\": 35623100.0, \"open\": 135.520004, \"low\": 134.619995, \"high\": 136.270004}, {\"close\": 135.350006, \"adjusted\": 135.350006, \"date\": 1487203200000.0, \"volume\": 22584600.0, \"open\": 135.669998, \"low\": 134.839996, \"high\": 135.899994}, {\"close\": 135.720001, \"adjusted\": 135.720001, \"date\": 1487289600000.0, \"volume\": 22198200.0, \"open\": 135.100006, \"low\": 135.100006, \"high\": 135.830002}, {\"close\": 135.720001, \"adjusted\": 135.720001, \"date\": 1487376000000.0, \"volume\": 0.0, \"open\": 135.100006, \"low\": 135.100006, \"high\": 135.830002}, {\"close\": 135.720001, \"adjusted\": 135.720001, \"date\": 1487462400000.0, \"volume\": 0.0, \"open\": 135.100006, \"low\": 135.100006, \"high\": 135.830002}, {\"close\": 135.720001, \"adjusted\": 135.720001, \"date\": 1487548800000.0, \"volume\": 0.0, \"open\": 135.100006, \"low\": 135.100006, \"high\": 135.830002}, {\"close\": 136.699997, \"adjusted\": 136.699997, \"date\": 1487635200000.0, \"volume\": 24507200.0, \"open\": 136.229996, \"low\": 135.979996, \"high\": 136.75}, {\"close\": 137.110001, \"adjusted\": 137.110001, \"date\": 1487721600000.0, \"volume\": 20836900.0, \"open\": 136.429993, \"low\": 136.110001, \"high\": 137.119995}, {\"close\": 136.529999, \"adjusted\": 136.529999, \"date\": 1487808000000.0, \"volume\": 20788200.0, \"open\": 137.380005, \"low\": 136.300003, \"high\": 137.479996}, {\"close\": 136.660004, \"adjusted\": 136.660004, \"date\": 1487894400000.0, \"volume\": 21776600.0, \"open\": 135.910004, \"low\": 135.279999, \"high\": 136.660004}, {\"close\": 136.660004, \"adjusted\": 136.660004, \"date\": 1487980800000.0, \"volume\": 0.0, \"open\": 135.910004, \"low\": 135.279999, \"high\": 136.660004}, {\"close\": 136.660004, \"adjusted\": 136.660004, \"date\": 1488067200000.0, \"volume\": 0.0, \"open\": 135.910004, \"low\": 135.279999, \"high\": 136.660004}, {\"close\": 136.929993, \"adjusted\": 136.929993, \"date\": 1488153600000.0, \"volume\": 20257400.0, \"open\": 137.139999, \"low\": 136.279999, \"high\": 137.440002}, {\"close\": 136.990005, \"adjusted\": 136.990005, \"date\": 1488240000000.0, \"volume\": 23482900.0, \"open\": 137.080002, \"low\": 136.699997, \"high\": 137.440002}, {\"close\": 139.789993, \"adjusted\": 139.789993, \"date\": 1488326400000.0, \"volume\": 36414600.0, \"open\": 137.889999, \"low\": 137.600006, \"high\": 140.149994}, {\"close\": 138.960007, \"adjusted\": 138.960007, \"date\": 1488412800000.0, \"volume\": 26211000.0, \"open\": 140.0, \"low\": 138.759995, \"high\": 140.279999}, {\"close\": 139.779999, \"adjusted\": 139.779999, \"date\": 1488499200000.0, \"volume\": 21108100.0, \"open\": 138.779999, \"low\": 138.589996, \"high\": 139.830002}, {\"close\": 139.779999, \"adjusted\": 139.779999, \"date\": 1488585600000.0, \"volume\": 0.0, \"open\": 138.779999, \"low\": 138.589996, \"high\": 139.830002}, {\"close\": 139.779999, \"adjusted\": 139.779999, \"date\": 1488672000000.0, \"volume\": 0.0, \"open\": 138.779999, \"low\": 138.589996, \"high\": 139.830002}, {\"close\": 139.339996, \"adjusted\": 139.339996, \"date\": 1488758400000.0, \"volume\": 21750000.0, \"open\": 139.369995, \"low\": 138.600006, \"high\": 139.770004}, {\"close\": 139.520004, \"adjusted\": 139.520004, \"date\": 1488844800000.0, \"volume\": 17446300.0, \"open\": 139.059998, \"low\": 138.789993, \"high\": 139.979996}, {\"close\": 139.0, \"adjusted\": 139.0, \"date\": 1488931200000.0, \"volume\": 18707200.0, \"open\": 138.949997, \"low\": 138.820007, \"high\": 139.800003}, {\"close\": 138.679993, \"adjusted\": 138.679993, \"date\": 1489017600000.0, \"volume\": 22155900.0, \"open\": 138.740005, \"low\": 137.050003, \"high\": 138.789993}, {\"close\": 139.139999, \"adjusted\": 139.139999, \"date\": 1489104000000.0, \"volume\": 19612800.0, \"open\": 139.25, \"low\": 138.639999, \"high\": 139.360001}, {\"close\": 139.139999, \"adjusted\": 139.139999, \"date\": 1489190400000.0, \"volume\": 0.0, \"open\": 139.25, \"low\": 138.639999, \"high\": 139.360001}, {\"close\": 139.139999, \"adjusted\": 139.139999, \"date\": 1489276800000.0, \"volume\": 0.0, \"open\": 139.25, \"low\": 138.639999, \"high\": 139.360001}, {\"close\": 139.199997, \"adjusted\": 139.199997, \"date\": 1489363200000.0, \"volume\": 17421700.0, \"open\": 138.850006, \"low\": 138.820007, \"high\": 139.429993}, {\"close\": 138.990005, \"adjusted\": 138.990005, \"date\": 1489449600000.0, \"volume\": 15309100.0, \"open\": 139.300003, \"low\": 138.839996, \"high\": 139.649994}, {\"close\": 140.460007, \"adjusted\": 140.460007, \"date\": 1489536000000.0, \"volume\": 25691800.0, \"open\": 139.410004, \"low\": 139.029999, \"high\": 140.75}, {\"close\": 140.690002, \"adjusted\": 140.690002, \"date\": 1489622400000.0, \"volume\": 19232000.0, \"open\": 140.720001, \"low\": 140.259995, \"high\": 141.020004}, {\"close\": 139.990005, \"adjusted\": 139.990005, \"date\": 1489708800000.0, \"volume\": 43885000.0, \"open\": 141.0, \"low\": 139.889999, \"high\": 141.0}, {\"close\": 139.990005, \"adjusted\": 139.990005, \"date\": 1489795200000.0, \"volume\": 0.0, \"open\": 141.0, \"low\": 139.889999, \"high\": 141.0}, {\"close\": 139.990005, \"adjusted\": 139.990005, \"date\": 1489881600000.0, \"volume\": 0.0, \"open\": 141.0, \"low\": 139.889999, \"high\": 141.0}, {\"close\": 141.460007, \"adjusted\": 141.460007, \"date\": 1489968000000.0, \"volume\": 21542000.0, \"open\": 140.399994, \"low\": 140.229996, \"high\": 141.5}, {\"close\": 139.839996, \"adjusted\": 139.839996, \"date\": 1490054400000.0, \"volume\": 39529900.0, \"open\": 142.110001, \"low\": 139.729996, \"high\": 142.800003}, {\"close\": 141.419998, \"adjusted\": 141.419998, \"date\": 1490140800000.0, \"volume\": 25860200.0, \"open\": 139.850006, \"low\": 139.759995, \"high\": 141.600006}, {\"close\": 140.919998, \"adjusted\": 140.919998, \"date\": 1490227200000.0, \"volume\": 20346300.0, \"open\": 141.259995, \"low\": 140.610001, \"high\": 141.580002}, {\"close\": 140.639999, \"adjusted\": 140.639999, \"date\": 1490313600000.0, \"volume\": 22395600.0, \"open\": 141.5, \"low\": 140.350006, \"high\": 141.740005}, {\"close\": 140.639999, \"adjusted\": 140.639999, \"date\": 1490400000000.0, \"volume\": 0.0, \"open\": 141.5, \"low\": 140.350006, \"high\": 141.740005}, {\"close\": 140.639999, \"adjusted\": 140.639999, \"date\": 1490486400000.0, \"volume\": 0.0, \"open\": 141.5, \"low\": 140.350006, \"high\": 141.740005}, {\"close\": 140.880005, \"adjusted\": 140.880005, \"date\": 1490572800000.0, \"volume\": 23575100.0, \"open\": 139.389999, \"low\": 138.619995, \"high\": 141.220001}]}]};\n",
       "                </script>\n",
       "                <script>\n",
       "                    (function() {\n",
       "                        var plot = function(session, object) {\n",
       "\n",
       "            var chart = nv.models.candlestickBarChart()\n",
       "                 .x(function(d) { return d['date'] })\n",
       "                 .y(function(d) { return d['close'] })\n",
       "                 .useInteractiveGuideline(true)\n",
       "                 .showLegend(false)\n",
       "                      \n",
       "            chart.xAxis.showMaxMin(false)\n",
       "                       .tickFormat(function(d) { console.log(d); return d3.time.format(\"%x\")(new Date(d)) })\n",
       "\n",
       "            chart.yAxis.showMaxMin(true)\n",
       "                       .tickFormat(d3.format(',.1f'))\n",
       "\n",
       "            session.__functions.makeChart(session, object, chart);\n",
       "        }\n",
       "                        var synch = function(session, object) {\n",
       "                            window.nvd3_stat.promise.then(function() {\n",
       "                                window.nvd3_stat.session.__functions.charts[\"candlestickBarChart_033\"] = plot;\n",
       "                                plot(session, object);\n",
       "                            })\n",
       "                        }\n",
       "                        document.getElementById(\"candlestickBarChart_033\")\n",
       "                                .addEventListener(\"load\", synch(window.nvd3_stat.session, \n",
       "                                                  {\"event\":\"plot\", \"data\": data_candlestickBarChart_033, \"plotId\":\"candlestickBarChart_033\"}))\n",
       "                    })();\n",
       "                </script>\n",
       "            </div>\n",
       "            "
      ]
     },
     "metadata": {},
     "output_type": "display_data"
    }
   ],
   "source": [
    "cs = nv.candlestickBarChart()\n",
    "\n",
    "config = {\"color\":nv.c10(), \"yDomain\":[114,145], \"width\":1400, \"height\":800,\n",
    "          \"xAxis\":{\"tickFormat\":\"%d/%m/%Y\", \"axisLabel\":\"Date (d/m/y)\"},\n",
    "          \"yAxis\":{\"axisLabel\":\"Close (USD)\"}}\n",
    "\n",
    "ohlcAttribs = {\"open\":\"Open\" ,\"high\":\"High\" ,\"low\":\"Low\" ,\"volume\":\"Volume\" ,\"adjusted\":\"Adj_Close\"}\n",
    "\n",
    "cs.plot(ohlcDf[-80:], \"Timestamp\", \"Close\", ohlcAttribs, config=config)"
   ]
  },
  {
   "cell_type": "markdown",
   "metadata": {},
   "source": [
    "## 13 OHLC Chart"
   ]
  },
  {
   "cell_type": "code",
   "execution_count": 55,
   "metadata": {
    "collapsed": false,
    "scrolled": false
   },
   "outputs": [
    {
     "data": {
      "text/html": [
       "<div style=\"height:800px; width:1400px\">\n",
       "            <div id=\"ohlcBarChart_034\" class=\"with-3d-shadow with-transitions\" style=\" height:800px; width:1400px\">\n",
       "                <svg></svg>\n",
       "                <script class=\"nvd3_data\">\n",
       "                    var data_ohlcBarChart_034 = {\"config\": {\"width\": 1400, \"height\": 800, \"color\": [\"#1f77b4\", \"#ff7f0e\", \"#2ca02c\", \"#d62728\", \"#9467bd\", \"#8c564b\", \"#e377c2\", \"#7f7f7f\", \"#bcbd22\", \"#17becf\"], \"yAxis\": {\"axisLabel\": \"Close (USD)\"}, \"yDomain\": [114, 145], \"xAxis\": {\"tickFormat\": \"%d/%m/%Y\", \"axisLabel\": \"Date (d/m/y)\"}}, \"data\": [{\"values\": [{\"close\": 116.760002, \"adjusted\": 116.255965, \"date\": 1482883200000.0, \"volume\": 20905900.0, \"open\": 117.519997, \"low\": 116.199997, \"high\": 118.019997}, {\"close\": 116.730003, \"adjusted\": 116.226096, \"date\": 1482969600000.0, \"volume\": 15039500.0, \"open\": 116.449997, \"low\": 116.400002, \"high\": 117.110001}, {\"close\": 115.82, \"adjusted\": 115.32002, \"date\": 1483056000000.0, \"volume\": 30586300.0, \"open\": 116.650002, \"low\": 115.43, \"high\": 117.199997}, {\"close\": 115.82, \"adjusted\": 115.32002, \"date\": 1483142400000.0, \"volume\": 0.0, \"open\": 116.650002, \"low\": 115.43, \"high\": 117.199997}, {\"close\": 115.82, \"adjusted\": 115.32002, \"date\": 1483228800000.0, \"volume\": 0.0, \"open\": 116.650002, \"low\": 115.43, \"high\": 117.199997}, {\"close\": 115.82, \"adjusted\": 115.32002, \"date\": 1483315200000.0, \"volume\": 0.0, \"open\": 116.650002, \"low\": 115.43, \"high\": 117.199997}, {\"close\": 116.150002, \"adjusted\": 115.648597, \"date\": 1483401600000.0, \"volume\": 28781900.0, \"open\": 115.800003, \"low\": 114.760002, \"high\": 116.330002}, {\"close\": 116.019997, \"adjusted\": 115.519154, \"date\": 1483488000000.0, \"volume\": 21118100.0, \"open\": 115.849998, \"low\": 115.75, \"high\": 116.510002}, {\"close\": 116.610001, \"adjusted\": 116.106611, \"date\": 1483574400000.0, \"volume\": 22193600.0, \"open\": 115.919998, \"low\": 115.809998, \"high\": 116.860001}, {\"close\": 117.910004, \"adjusted\": 117.401002, \"date\": 1483660800000.0, \"volume\": 31751900.0, \"open\": 116.779999, \"low\": 116.470001, \"high\": 118.160004}, {\"close\": 117.910004, \"adjusted\": 117.401002, \"date\": 1483747200000.0, \"volume\": 0.0, \"open\": 116.779999, \"low\": 116.470001, \"high\": 118.160004}, {\"close\": 117.910004, \"adjusted\": 117.401002, \"date\": 1483833600000.0, \"volume\": 0.0, \"open\": 116.779999, \"low\": 116.470001, \"high\": 118.160004}, {\"close\": 118.989998, \"adjusted\": 118.476334, \"date\": 1483920000000.0, \"volume\": 33561900.0, \"open\": 117.949997, \"low\": 117.940002, \"high\": 119.43}, {\"close\": 119.110001, \"adjusted\": 118.595819, \"date\": 1484006400000.0, \"volume\": 24462100.0, \"open\": 118.769997, \"low\": 118.300003, \"high\": 119.379997}, {\"close\": 119.75, \"adjusted\": 119.233055, \"date\": 1484092800000.0, \"volume\": 27588600.0, \"open\": 118.739998, \"low\": 118.599998, \"high\": 119.93}, {\"close\": 119.25, \"adjusted\": 118.735214, \"date\": 1484179200000.0, \"volume\": 27086200.0, \"open\": 118.900002, \"low\": 118.209999, \"high\": 119.300003}, {\"close\": 119.040001, \"adjusted\": 118.526121, \"date\": 1484265600000.0, \"volume\": 26111900.0, \"open\": 119.110001, \"low\": 118.809998, \"high\": 119.620003}, {\"close\": 119.040001, \"adjusted\": 118.526121, \"date\": 1484352000000.0, \"volume\": 0.0, \"open\": 119.110001, \"low\": 118.809998, \"high\": 119.620003}, {\"close\": 119.040001, \"adjusted\": 118.526121, \"date\": 1484438400000.0, \"volume\": 0.0, \"open\": 119.110001, \"low\": 118.809998, \"high\": 119.620003}, {\"close\": 119.040001, \"adjusted\": 118.526121, \"date\": 1484524800000.0, \"volume\": 0.0, \"open\": 119.110001, \"low\": 118.809998, \"high\": 119.620003}, {\"close\": 120.0, \"adjusted\": 119.481976, \"date\": 1484611200000.0, \"volume\": 34439800.0, \"open\": 118.339996, \"low\": 118.220001, \"high\": 120.239998}, {\"close\": 119.989998, \"adjusted\": 119.472017, \"date\": 1484697600000.0, \"volume\": 23713000.0, \"open\": 120.0, \"low\": 119.709999, \"high\": 120.5}, {\"close\": 119.779999, \"adjusted\": 119.262925, \"date\": 1484784000000.0, \"volume\": 25597300.0, \"open\": 119.400002, \"low\": 119.370003, \"high\": 120.089996}, {\"close\": 120.0, \"adjusted\": 119.481976, \"date\": 1484870400000.0, \"volume\": 32597900.0, \"open\": 120.449997, \"low\": 119.730003, \"high\": 120.449997}, {\"close\": 120.0, \"adjusted\": 119.481976, \"date\": 1484956800000.0, \"volume\": 0.0, \"open\": 120.449997, \"low\": 119.730003, \"high\": 120.449997}, {\"close\": 120.0, \"adjusted\": 119.481976, \"date\": 1485043200000.0, \"volume\": 0.0, \"open\": 120.449997, \"low\": 119.730003, \"high\": 120.449997}, {\"close\": 120.080002, \"adjusted\": 119.561633, \"date\": 1485129600000.0, \"volume\": 22050200.0, \"open\": 120.0, \"low\": 119.769997, \"high\": 120.809998}, {\"close\": 119.970001, \"adjusted\": 119.452107, \"date\": 1485216000000.0, \"volume\": 23211000.0, \"open\": 119.550003, \"low\": 119.5, \"high\": 120.099998}, {\"close\": 121.879997, \"adjusted\": 121.353858, \"date\": 1485302400000.0, \"volume\": 32377600.0, \"open\": 120.419998, \"low\": 120.279999, \"high\": 122.099998}, {\"close\": 121.940002, \"adjusted\": 121.413604, \"date\": 1485388800000.0, \"volume\": 26337600.0, \"open\": 121.669998, \"low\": 121.599998, \"high\": 122.440002}, {\"close\": 121.949997, \"adjusted\": 121.423555, \"date\": 1485475200000.0, \"volume\": 20562900.0, \"open\": 122.139999, \"low\": 121.599998, \"high\": 122.349998}, {\"close\": 121.949997, \"adjusted\": 121.423555, \"date\": 1485561600000.0, \"volume\": 0.0, \"open\": 122.139999, \"low\": 121.599998, \"high\": 122.349998}, {\"close\": 121.949997, \"adjusted\": 121.423555, \"date\": 1485648000000.0, \"volume\": 0.0, \"open\": 122.139999, \"low\": 121.599998, \"high\": 122.349998}, {\"close\": 121.629997, \"adjusted\": 121.104937, \"date\": 1485734400000.0, \"volume\": 30377500.0, \"open\": 120.93, \"low\": 120.660004, \"high\": 121.629997}, {\"close\": 121.349998, \"adjusted\": 120.826147, \"date\": 1485820800000.0, \"volume\": 49201000.0, \"open\": 121.150002, \"low\": 120.620003, \"high\": 121.389999}, {\"close\": 128.75, \"adjusted\": 128.194203, \"date\": 1485907200000.0, \"volume\": 111985000.0, \"open\": 127.029999, \"low\": 127.010002, \"high\": 130.490005}, {\"close\": 128.529999, \"adjusted\": 127.975152, \"date\": 1485993600000.0, \"volume\": 33710400.0, \"open\": 127.980003, \"low\": 127.779999, \"high\": 129.389999}, {\"close\": 129.080002, \"adjusted\": 128.522781, \"date\": 1486080000000.0, \"volume\": 24507300.0, \"open\": 128.309998, \"low\": 128.160004, \"high\": 129.190002}, {\"close\": 129.080002, \"adjusted\": 128.522781, \"date\": 1486166400000.0, \"volume\": 0.0, \"open\": 128.309998, \"low\": 128.160004, \"high\": 129.190002}, {\"close\": 129.080002, \"adjusted\": 128.522781, \"date\": 1486252800000.0, \"volume\": 0.0, \"open\": 128.309998, \"low\": 128.160004, \"high\": 129.190002}, {\"close\": 130.289993, \"adjusted\": 129.727549, \"date\": 1486339200000.0, \"volume\": 26845900.0, \"open\": 129.130005, \"low\": 128.899994, \"high\": 130.5}, {\"close\": 131.529999, \"adjusted\": 130.962201, \"date\": 1486425600000.0, \"volume\": 38183800.0, \"open\": 130.539993, \"low\": 130.449997, \"high\": 132.089996}, {\"close\": 132.039993, \"adjusted\": 131.469994, \"date\": 1486512000000.0, \"volume\": 23004100.0, \"open\": 131.350006, \"low\": 131.220001, \"high\": 132.220001}, {\"close\": 132.419998, \"adjusted\": 132.419998, \"date\": 1486598400000.0, \"volume\": 28349900.0, \"open\": 131.649994, \"low\": 131.119995, \"high\": 132.449997}, {\"close\": 132.119995, \"adjusted\": 132.119995, \"date\": 1486684800000.0, \"volume\": 20065500.0, \"open\": 132.460007, \"low\": 132.050003, \"high\": 132.940002}, {\"close\": 132.119995, \"adjusted\": 132.119995, \"date\": 1486771200000.0, \"volume\": 0.0, \"open\": 132.460007, \"low\": 132.050003, \"high\": 132.940002}, {\"close\": 132.119995, \"adjusted\": 132.119995, \"date\": 1486857600000.0, \"volume\": 0.0, \"open\": 132.460007, \"low\": 132.050003, \"high\": 132.940002}, {\"close\": 133.289993, \"adjusted\": 133.289993, \"date\": 1486944000000.0, \"volume\": 23035400.0, \"open\": 133.080002, \"low\": 132.75, \"high\": 133.820007}, {\"close\": 135.020004, \"adjusted\": 135.020004, \"date\": 1487030400000.0, \"volume\": 33226200.0, \"open\": 133.470001, \"low\": 133.25, \"high\": 135.089996}, {\"close\": 135.509995, \"adjusted\": 135.509995, \"date\": 1487116800000.0, \"volume\": 35623100.0, \"open\": 135.520004, \"low\": 134.619995, \"high\": 136.270004}, {\"close\": 135.350006, \"adjusted\": 135.350006, \"date\": 1487203200000.0, \"volume\": 22584600.0, \"open\": 135.669998, \"low\": 134.839996, \"high\": 135.899994}, {\"close\": 135.720001, \"adjusted\": 135.720001, \"date\": 1487289600000.0, \"volume\": 22198200.0, \"open\": 135.100006, \"low\": 135.100006, \"high\": 135.830002}, {\"close\": 135.720001, \"adjusted\": 135.720001, \"date\": 1487376000000.0, \"volume\": 0.0, \"open\": 135.100006, \"low\": 135.100006, \"high\": 135.830002}, {\"close\": 135.720001, \"adjusted\": 135.720001, \"date\": 1487462400000.0, \"volume\": 0.0, \"open\": 135.100006, \"low\": 135.100006, \"high\": 135.830002}, {\"close\": 135.720001, \"adjusted\": 135.720001, \"date\": 1487548800000.0, \"volume\": 0.0, \"open\": 135.100006, \"low\": 135.100006, \"high\": 135.830002}, {\"close\": 136.699997, \"adjusted\": 136.699997, \"date\": 1487635200000.0, \"volume\": 24507200.0, \"open\": 136.229996, \"low\": 135.979996, \"high\": 136.75}, {\"close\": 137.110001, \"adjusted\": 137.110001, \"date\": 1487721600000.0, \"volume\": 20836900.0, \"open\": 136.429993, \"low\": 136.110001, \"high\": 137.119995}, {\"close\": 136.529999, \"adjusted\": 136.529999, \"date\": 1487808000000.0, \"volume\": 20788200.0, \"open\": 137.380005, \"low\": 136.300003, \"high\": 137.479996}, {\"close\": 136.660004, \"adjusted\": 136.660004, \"date\": 1487894400000.0, \"volume\": 21776600.0, \"open\": 135.910004, \"low\": 135.279999, \"high\": 136.660004}, {\"close\": 136.660004, \"adjusted\": 136.660004, \"date\": 1487980800000.0, \"volume\": 0.0, \"open\": 135.910004, \"low\": 135.279999, \"high\": 136.660004}, {\"close\": 136.660004, \"adjusted\": 136.660004, \"date\": 1488067200000.0, \"volume\": 0.0, \"open\": 135.910004, \"low\": 135.279999, \"high\": 136.660004}, {\"close\": 136.929993, \"adjusted\": 136.929993, \"date\": 1488153600000.0, \"volume\": 20257400.0, \"open\": 137.139999, \"low\": 136.279999, \"high\": 137.440002}, {\"close\": 136.990005, \"adjusted\": 136.990005, \"date\": 1488240000000.0, \"volume\": 23482900.0, \"open\": 137.080002, \"low\": 136.699997, \"high\": 137.440002}, {\"close\": 139.789993, \"adjusted\": 139.789993, \"date\": 1488326400000.0, \"volume\": 36414600.0, \"open\": 137.889999, \"low\": 137.600006, \"high\": 140.149994}, {\"close\": 138.960007, \"adjusted\": 138.960007, \"date\": 1488412800000.0, \"volume\": 26211000.0, \"open\": 140.0, \"low\": 138.759995, \"high\": 140.279999}, {\"close\": 139.779999, \"adjusted\": 139.779999, \"date\": 1488499200000.0, \"volume\": 21108100.0, \"open\": 138.779999, \"low\": 138.589996, \"high\": 139.830002}, {\"close\": 139.779999, \"adjusted\": 139.779999, \"date\": 1488585600000.0, \"volume\": 0.0, \"open\": 138.779999, \"low\": 138.589996, \"high\": 139.830002}, {\"close\": 139.779999, \"adjusted\": 139.779999, \"date\": 1488672000000.0, \"volume\": 0.0, \"open\": 138.779999, \"low\": 138.589996, \"high\": 139.830002}, {\"close\": 139.339996, \"adjusted\": 139.339996, \"date\": 1488758400000.0, \"volume\": 21750000.0, \"open\": 139.369995, \"low\": 138.600006, \"high\": 139.770004}, {\"close\": 139.520004, \"adjusted\": 139.520004, \"date\": 1488844800000.0, \"volume\": 17446300.0, \"open\": 139.059998, \"low\": 138.789993, \"high\": 139.979996}, {\"close\": 139.0, \"adjusted\": 139.0, \"date\": 1488931200000.0, \"volume\": 18707200.0, \"open\": 138.949997, \"low\": 138.820007, \"high\": 139.800003}, {\"close\": 138.679993, \"adjusted\": 138.679993, \"date\": 1489017600000.0, \"volume\": 22155900.0, \"open\": 138.740005, \"low\": 137.050003, \"high\": 138.789993}, {\"close\": 139.139999, \"adjusted\": 139.139999, \"date\": 1489104000000.0, \"volume\": 19612800.0, \"open\": 139.25, \"low\": 138.639999, \"high\": 139.360001}, {\"close\": 139.139999, \"adjusted\": 139.139999, \"date\": 1489190400000.0, \"volume\": 0.0, \"open\": 139.25, \"low\": 138.639999, \"high\": 139.360001}, {\"close\": 139.139999, \"adjusted\": 139.139999, \"date\": 1489276800000.0, \"volume\": 0.0, \"open\": 139.25, \"low\": 138.639999, \"high\": 139.360001}, {\"close\": 139.199997, \"adjusted\": 139.199997, \"date\": 1489363200000.0, \"volume\": 17421700.0, \"open\": 138.850006, \"low\": 138.820007, \"high\": 139.429993}, {\"close\": 138.990005, \"adjusted\": 138.990005, \"date\": 1489449600000.0, \"volume\": 15309100.0, \"open\": 139.300003, \"low\": 138.839996, \"high\": 139.649994}, {\"close\": 140.460007, \"adjusted\": 140.460007, \"date\": 1489536000000.0, \"volume\": 25691800.0, \"open\": 139.410004, \"low\": 139.029999, \"high\": 140.75}, {\"close\": 140.690002, \"adjusted\": 140.690002, \"date\": 1489622400000.0, \"volume\": 19232000.0, \"open\": 140.720001, \"low\": 140.259995, \"high\": 141.020004}, {\"close\": 139.990005, \"adjusted\": 139.990005, \"date\": 1489708800000.0, \"volume\": 43885000.0, \"open\": 141.0, \"low\": 139.889999, \"high\": 141.0}, {\"close\": 139.990005, \"adjusted\": 139.990005, \"date\": 1489795200000.0, \"volume\": 0.0, \"open\": 141.0, \"low\": 139.889999, \"high\": 141.0}, {\"close\": 139.990005, \"adjusted\": 139.990005, \"date\": 1489881600000.0, \"volume\": 0.0, \"open\": 141.0, \"low\": 139.889999, \"high\": 141.0}, {\"close\": 141.460007, \"adjusted\": 141.460007, \"date\": 1489968000000.0, \"volume\": 21542000.0, \"open\": 140.399994, \"low\": 140.229996, \"high\": 141.5}, {\"close\": 139.839996, \"adjusted\": 139.839996, \"date\": 1490054400000.0, \"volume\": 39529900.0, \"open\": 142.110001, \"low\": 139.729996, \"high\": 142.800003}, {\"close\": 141.419998, \"adjusted\": 141.419998, \"date\": 1490140800000.0, \"volume\": 25860200.0, \"open\": 139.850006, \"low\": 139.759995, \"high\": 141.600006}, {\"close\": 140.919998, \"adjusted\": 140.919998, \"date\": 1490227200000.0, \"volume\": 20346300.0, \"open\": 141.259995, \"low\": 140.610001, \"high\": 141.580002}, {\"close\": 140.639999, \"adjusted\": 140.639999, \"date\": 1490313600000.0, \"volume\": 22395600.0, \"open\": 141.5, \"low\": 140.350006, \"high\": 141.740005}, {\"close\": 140.639999, \"adjusted\": 140.639999, \"date\": 1490400000000.0, \"volume\": 0.0, \"open\": 141.5, \"low\": 140.350006, \"high\": 141.740005}, {\"close\": 140.639999, \"adjusted\": 140.639999, \"date\": 1490486400000.0, \"volume\": 0.0, \"open\": 141.5, \"low\": 140.350006, \"high\": 141.740005}, {\"close\": 140.880005, \"adjusted\": 140.880005, \"date\": 1490572800000.0, \"volume\": 23575100.0, \"open\": 139.389999, \"low\": 138.619995, \"high\": 141.220001}]}]};\n",
       "                </script>\n",
       "                <script>\n",
       "                    (function() {\n",
       "                        var plot = function(session, object) {\n",
       "\n",
       "            var chart = nv.models.ohlcBarChart()\n",
       "                 .x(function(d) { return d['date'] })\n",
       "                 .y(function(d) { return d['close'] })\n",
       "                 .useInteractiveGuideline(true)\n",
       "                 .showLegend(false)\n",
       "                      \n",
       "            chart.xAxis.showMaxMin(false)\n",
       "                       .tickFormat(function(d) { console.log(d); return d3.time.format(\"%x\")(new Date(d)) })\n",
       "\n",
       "            chart.yAxis.showMaxMin(true)\n",
       "                       .tickFormat(d3.format(',.1f'))\n",
       "\n",
       "            session.__functions.makeChart(session, object, chart);\n",
       "        }\n",
       "                        var synch = function(session, object) {\n",
       "                            window.nvd3_stat.promise.then(function() {\n",
       "                                window.nvd3_stat.session.__functions.charts[\"ohlcBarChart_034\"] = plot;\n",
       "                                plot(session, object);\n",
       "                            })\n",
       "                        }\n",
       "                        document.getElementById(\"ohlcBarChart_034\")\n",
       "                                .addEventListener(\"load\", synch(window.nvd3_stat.session, \n",
       "                                                  {\"event\":\"plot\", \"data\": data_ohlcBarChart_034, \"plotId\":\"ohlcBarChart_034\"}))\n",
       "                    })();\n",
       "                </script>\n",
       "            </div>\n",
       "            "
      ]
     },
     "metadata": {},
     "output_type": "display_data"
    }
   ],
   "source": [
    "ohlc = nv.ohlcBarChart()\n",
    "\n",
    "config = {\"color\":nv.c10(), \"yDomain\":[114,145], \"width\":1400, \"height\":800,\n",
    "          \"xAxis\":{\"tickFormat\":\"%d/%m/%Y\", \"axisLabel\":\"Date (d/m/y)\"},\n",
    "          \"yAxis\":{\"axisLabel\":\"Close (USD)\"}}\n",
    "\n",
    "ohlcAttribs = {\"open\":\"Open\" ,\"high\":\"High\" ,\"low\":\"Low\" ,\"volume\":\"Volume\" ,\"adjusted\":\"Adj_Close\"}\n",
    "\n",
    "ohlc.plot(ohlcDf[-90:], \"Timestamp\", \"Close\", ohlcAttribs, config=config)"
   ]
  },
  {
   "cell_type": "markdown",
   "metadata": {},
   "source": [
    "## 14 Bullet Chart"
   ]
  },
  {
   "cell_type": "code",
   "execution_count": 56,
   "metadata": {
    "collapsed": false
   },
   "outputs": [
    {
     "data": {
      "text/html": [
       "<div style=\"height:150px; width:1200px\">\n",
       "            <div id=\"bulletChart_035\" class=\"with-3d-shadow with-transitions\" style=\" height:75px; width:600px\">\n",
       "                <svg></svg>\n",
       "                <script class=\"nvd3_data\">\n",
       "                    var data_bulletChart_035 = {\"config\": {\"width\": 600, \"height\": 60}, \"data\": {\"rangeLabels\": [\"OK\", \"Bad\", \"Good\"], \"title\": \"Satisfaction\", \"markers\": [3.8], \"measureLabels\": [\"Current\"], \"ranges\": [4.25, 3.5, 5], \"markerLabels\": [\"Previous\"], \"markerLineLabels\": [\"Threshold\", \"Target\"], \"markerLines\": [3.0, 4.4], \"measures\": [3.9], \"subtitle\": \"out of 5\"}};\n",
       "                </script>\n",
       "                <script>\n",
       "                    (function() {\n",
       "                        var plot = function(session, object) {\n",
       "            var chart = nv.models.bulletChart()\n",
       "\n",
       "            session.__functions.makeChart(session, object, chart);\n",
       "        }\n",
       "                        var synch = function(session, object) {\n",
       "                            window.nvd3_stat.promise.then(function() {\n",
       "                                window.nvd3_stat.session.__functions.charts[\"bulletChart_035\"] = plot;\n",
       "                                plot(session, object);\n",
       "                            })\n",
       "                        }\n",
       "                        document.getElementById(\"bulletChart_035\")\n",
       "                                .addEventListener(\"load\", synch(window.nvd3_stat.session, \n",
       "                                                  {\"event\":\"plot\", \"data\": data_bulletChart_035, \"plotId\":\"bulletChart_035\"}))\n",
       "                    })();\n",
       "                </script>\n",
       "            </div>\n",
       "            \n",
       "            <div id=\"bulletChart_036\" class=\"with-3d-shadow with-transitions\" style=\" height:75px; width:600px\">\n",
       "                <svg></svg>\n",
       "                <script class=\"nvd3_data\">\n",
       "                    var data_bulletChart_036 = {\"config\": {\"width\": 600, \"height\": 60}, \"data\": {\"rangeLabels\": [\"OK\", \"Bad\", \"Good\"], \"title\": \"Satisfaction\", \"markers\": [3.8], \"measureLabels\": [\"Current\"], \"ranges\": [4.25, 3.5, 5], \"markerLabels\": [\"Previous\"], \"markerLineLabels\": [\"Threshold\", \"Target\"], \"markerLines\": [3.0, 4.4], \"measures\": [4.3], \"subtitle\": \"out of 5\"}};\n",
       "                </script>\n",
       "                <script>\n",
       "                    (function() {\n",
       "                        var plot = function(session, object) {\n",
       "            var chart = nv.models.bulletChart()\n",
       "\n",
       "            session.__functions.makeChart(session, object, chart);\n",
       "        }\n",
       "                        var synch = function(session, object) {\n",
       "                            window.nvd3_stat.promise.then(function() {\n",
       "                                window.nvd3_stat.session.__functions.charts[\"bulletChart_036\"] = plot;\n",
       "                                plot(session, object);\n",
       "                            })\n",
       "                        }\n",
       "                        document.getElementById(\"bulletChart_036\")\n",
       "                                .addEventListener(\"load\", synch(window.nvd3_stat.session, \n",
       "                                                  {\"event\":\"plot\", \"data\": data_bulletChart_036, \"plotId\":\"bulletChart_036\"}))\n",
       "                    })();\n",
       "                </script>\n",
       "            </div>\n",
       "            "
      ]
     },
     "metadata": {},
     "output_type": "display_data"
    }
   ],
   "source": [
    "def getData(title, actual, previous):\n",
    "    return {\"title\":title, \"subtitle\":\"out of 5\",\n",
    "            \"ranges\":{'Bad':3.5, 'OK':4.25, 'Good':5},\n",
    "            \"measure\":{'Current':actual},\n",
    "            \"markers\":{'Previous':previous},\n",
    "            \"markerLines\":{'Threshold':3.0, 'Target':4.4}}\n",
    "                \n",
    "b1 = nv.bulletChart()\n",
    "\n",
    "config = {\"height\":60, \"width\":600}\n",
    "\n",
    "b1.vplot([b1.chart(config=config, **getData(\"Satisfaction\", 3.9, 3.8)),\n",
    "          b1.chart(config=config, **getData(\"Satisfaction\", 4.3, 3.8))])\n"
   ]
  },
  {
   "cell_type": "code",
   "execution_count": null,
   "metadata": {
    "collapsed": true
   },
   "outputs": [],
   "source": []
  },
  {
   "cell_type": "code",
   "execution_count": null,
   "metadata": {
    "collapsed": true
   },
   "outputs": [],
   "source": []
  },
  {
   "cell_type": "code",
   "execution_count": null,
   "metadata": {
    "collapsed": true
   },
   "outputs": [],
   "source": []
  }
 ],
 "metadata": {
  "anaconda-cloud": {},
  "kernelspec": {
   "display_name": "Python 3",
   "language": "python",
   "name": "python3"
  },
  "language_info": {
   "codemirror_mode": {
    "name": "ipython",
    "version": 3
   },
   "file_extension": ".py",
   "mimetype": "text/x-python",
   "name": "python",
   "nbconvert_exporter": "python",
   "pygments_lexer": "ipython3",
   "version": "3.5.2"
  }
 },
 "nbformat": 4,
 "nbformat_minor": 2
}
