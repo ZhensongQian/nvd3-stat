{
 "cells": [
  {
   "cell_type": "markdown",
   "metadata": {},
   "source": [
    "## Load NVD3"
   ]
  },
  {
   "cell_type": "code",
   "execution_count": 1,
   "metadata": {
    "collapsed": false,
    "scrolled": false
   },
   "outputs": [],
   "source": [
    "from nvd3_stat import Nvd3"
   ]
  },
  {
   "cell_type": "code",
   "execution_count": 2,
   "metadata": {
    "collapsed": false,
    "scrolled": false
   },
   "outputs": [
    {
     "data": {
      "application/javascript": [
       "\n",
       "            window.nvd3_stat = { session:{ __functions:{} } };\n",
       "\n",
       "            Jupyter.notebook.kernel.comm_manager.register_target(\"nvd3_stat\", \n",
       "                function(comm, msg) {\n",
       "                    console.log(\"NVD3-Stat [INFO] Comm for nvd3_stat opened\");\n",
       "\n",
       "                    comm.on_msg(function(msg) {\n",
       "                        var funcName = msg.content.data.funcName;\n",
       "                        var args = msg.content.data.args;\n",
       "                        if (window.__nvd3_stat_debug > 1) {\n",
       "                            console.log(\"NVD3-Stat [DEBUG]\", funcName, args)\n",
       "                        }\n",
       "                        window.nvd3_stat.session.__functions[funcName](window.nvd3_stat.session, args);\n",
       "                    });\n",
       "\n",
       "                    comm.on_close(function(msg) {\n",
       "                        console.log(\"NVD3-Stat [INFO] comm for nvd3_stat closed \", msg);         \n",
       "                    });    \n",
       "                }    \n",
       "            )\n",
       "        "
      ]
     },
     "metadata": {},
     "output_type": "display_data"
    },
    {
     "data": {
      "text/html": [
       "\n",
       "            <style>\n",
       "                div.output_area img, div.output_area svg {\n",
       "                    max-width: 100%;\n",
       "                    height: 100%;\n",
       "                }\n",
       "            </style>\n",
       "        "
      ]
     },
     "metadata": {},
     "output_type": "display_data"
    },
    {
     "data": {
      "application/javascript": [
       "\n",
       "        window.nvd3_stat.session.__functions.makeChart = function(session, object, chart) {\n",
       "\n",
       "        var cacheId = \"__nv__chart_cache_\" + object.plotId;\n",
       "\n",
       "        var Logger = function(name) {\n",
       "            this.name = name;\n",
       "        }\n",
       "        Logger.prototype.info = function(msg) {\n",
       "            if (window.__nvd3_stat_debug > 0) {\n",
       "                console.info(this.name + \" [INFO] \" + msg)\n",
       "            }\n",
       "        }\n",
       "        Logger.prototype.debug = function(msg, obj) {\n",
       "            if (window.__nvd3_stat_debug > 1) {\n",
       "                if (typeof(obj) === \"undefined\") {\n",
       "                    console.log(this.name + \" [DEBUG] \" + msg)\n",
       "                } else {\n",
       "                    console.log(this.name + \" [DEBUG] \" + msg, obj)\n",
       "                }\n",
       "            }\n",
       "        }\n",
       "        var logger = new Logger(\"NVD3-Stat\");\n",
       "        \n",
       "        logger.debug(\"makeChart called\");\n",
       "\n",
       "        d3.selectAll('.nvtooltip').style('opacity', '0');  // remove all \"zombie\" tooltips\n",
       "\n",
       "        nv.utils.windowResize = function(chart) { console.info(\"windowResize not supported\") } // avoid d3 translate(Nan,5) errors\n",
       "        var duration = 350;\n",
       "\n",
       "\n",
       "        var identifyData = function(data) {\n",
       "            if ((typeof(data[0].values) != \"undefined\") && (typeof(data[0].key) != \"undefined\")) {\n",
       "                return \"kv\"\n",
       "            } else if ((typeof(data[0].x) != \"undefined\") && (typeof(data[0].y) != \"undefined\")) {\n",
       "                return \"xy\"\n",
       "            } else {\n",
       "                console.error('Unknown data type')\n",
       "            }\n",
       "        }\n",
       "\n",
       "\n",
       "        var configure = function(chartModel, config) {\n",
       "            for (var c in config) {\n",
       "                if (c == \"margin\" || c == \"arcRadius\") {\n",
       "                    chart[c](config[c]);                \n",
       "                } else if ((typeof(config[c]) === \"object\") && ! Array.isArray(config[c])) {       // sub config, 1 level\n",
       "                    for (var c2 in config[c]) {\n",
       "                        if (c2 == \"tickFormat\") {\n",
       "                            var format = config[c][c2];\n",
       "                            if (format[0] == \"%\") {\n",
       "                                chart[c][c2](function(d) { return d3.time.format(format)(new Date(d)) });\n",
       "                            } else {\n",
       "                                chart[c][c2](d3.format(format));\n",
       "                            }\n",
       "                        } else {\n",
       "                            chart[c][c2](config[c][c2]);\n",
       "                        }\n",
       "                    }\n",
       "                } else {                                                                     // direct config\n",
       "                    if (c === \"halfPie\" && config[c]) {\n",
       "                        chart.pie.startAngle(function(d) { return d.startAngle/2 - Math.PI/2 })\n",
       "                                 .endAngle(function(d)   { return d.endAngle/2   - Math.PI/2 });\n",
       "                    } else {\n",
       "                        chart[c](config[c]);\n",
       "                    }\n",
       "                }\n",
       "            }\n",
       "            return chart;\n",
       "        }\n",
       "\n",
       "        \n",
       "        if (object.event == \"plot\") {\n",
       "            logger.debug(\"plot \" + object.plotId, object.data)\n",
       "\n",
       "            var data = object.data.data;\n",
       "            var config = object.data.config;\n",
       "            var duration = 200;\n",
       "            if (typeof config.duration != \"undefined\") {\n",
       "                duration = config.duration\n",
       "            }\n",
       "            console.log(\"duration \", duration)\n",
       "            var divId = \"#\" + object.plotId + \" svg\";\n",
       "            session[cacheId] = {\"data\": data};\n",
       "\n",
       "            nv.addGraph(function() {\n",
       "                try {\n",
       "                    chart = configure(chart, config);\n",
       "                    chartData = d3.select(divId).datum(JSON.parse(JSON.stringify(data)));\n",
       "                    if (duration == 0) {\n",
       "                        chartData.call(chart);\n",
       "                    } else {\n",
       "                        chartData.transition().duration(duration).call(chart);\n",
       "                    }\n",
       "                } catch(err) {\n",
       "                    console.error(err.message);\n",
       "                }\n",
       "\n",
       "                \n",
       "                session[cacheId].chart = chart;\n",
       "                session[cacheId].chartData = chartData;\n",
       "\n",
       "                return chart;\n",
       "            })\n",
       "\n",
       "                               \n",
       "        } else if (object.event == \"saveAsPng\") {\n",
       "            logger.debug(\"Save \" + object.plotId + \" as PNG\")\n",
       "            window.saveSvgAsPng(document.getElementById(object.plotId).children[0], object.data.filename + \".png\", {backgroundColor: object.data.backgroundColor});\n",
       "\n",
       "        } else if (object.event == \"replace\") {\n",
       "            var data = JSON.parse(JSON.stringify(object.data));  // clone data\n",
       "\n",
       "\n",
       "            session[cacheId].data = data;\n",
       "            var chart = session[cacheId].chart;\n",
       "            var chartData = session[cacheId].chartData;\n",
       "            console.log(\"replace: \" + chart.container.parentNode.id)\n",
       "\n",
       "            chartData.datum(data).transition().duration(duration).call(chart);\n",
       "\n",
       "        } else if (object.event == \"append\") {\n",
       "\n",
       "            var newData = JSON.parse(JSON.stringify(object.data));  // clone data\n",
       "\n",
       "            var data = session[cacheId].data;\n",
       "\n",
       "            var _append = function(dataType, dold, dnew) {\n",
       "                if (dataType == \"kv\") {\n",
       "                    dold.values = dold.values.concat(dnew.values);\n",
       "                    for (var attr in dnew) {\n",
       "                        if (attr !== \"key\" && attr !== \"values\") {\n",
       "                            dold[attr] = dnew[attr];\n",
       "                        }\n",
       "                    }\n",
       "                } else {\n",
       "                    dold = dold.concat(dnew);\n",
       "                }\n",
       "                return dold\n",
       "            }\n",
       "            \n",
       "            var dataType = identifyData(data);\n",
       "            if (dataType == \"kv\") {\n",
       "                for (var i in data) {\n",
       "                    data[i] = _append(\"kv\", data[i], newData[i])\n",
       "                }\n",
       "            } else if (dataType == \"xy\") {\n",
       "                data = _append(dataType, data, newData)\n",
       "            } else {\n",
       "                console.error(\"Unknown data type\");\n",
       "            }\n",
       "\n",
       "            var chart = session[cacheId].chart;\n",
       "            var chartData = session[cacheId].chartData;\n",
       "            logger.debug(\"append: \" + chart.container.parentNode.id, newData)\n",
       "            \n",
       "            chartData.datum(data).transition().duration(duration).call(chart);\n",
       "\n",
       "        } else if (object.event == \"update\") {\n",
       "\n",
       "            var changedData = JSON.parse(JSON.stringify(object.data.changedData));  // clone data\n",
       "            var rowIndices = object.data.rowIndices;\n",
       "            \n",
       "            var data = session[cacheId].data;\n",
       "            \n",
       "            var _update = function(dold, dnew, rowIndices) {\n",
       "                for (var i in rowIndices) {\n",
       "                    dold.values[rowIndices[i]] = dnew.values[i];\n",
       "                }\n",
       "                for (attr in dnew) {\n",
       "                    if (attr !== \"key\" && attr !== \"values\") {\n",
       "                        dold[attr] = dnew[attr];\n",
       "                    }\n",
       "                }\n",
       "            }\n",
       "\n",
       "            if (data instanceof Array && changedData instanceof Array) {\n",
       "                for (i in data) { _update(data[i], changedData[i], rowIndices) }\n",
       "            } else {\n",
       "                _update(data, changedData, rowIndices)\n",
       "            }\n",
       "            \n",
       "            var chart = session[cacheId].chart;\n",
       "            var chartData = session[cacheId].chartData;\n",
       "            logger.debug(\"update: \" + chart.container.parentNode.id, changedData)\n",
       "\n",
       "            chartData.datum(data).transition().duration(duration).call(chart);\n",
       "            \n",
       "        } else if (object.event == \"delete\") {\n",
       "\n",
       "            var sortedIndices = object.data.rowIndices;\n",
       "\n",
       "            var data = session[cacheId].data;\n",
       "\n",
       "            var _delete = function(dold, rowIndices) {\n",
       "                for (var i in sortedIndices) {\n",
       "                    dold.values.splice(sortedIndices[i], 1);\n",
       "                }\n",
       "            }\n",
       "\n",
       "            if (data instanceof Array) {\n",
       "                for (var i in data) { _delete(data[i], sortedIndices) }\n",
       "            } else {\n",
       "                _delete(data, sortedIndices)\n",
       "            }\n",
       "            \n",
       "            var chart = session[cacheId].chart;\n",
       "            var chartData = session[cacheId].chartData;\n",
       "            logger.debug(\"delete: \" + chart.container.parentNode.id, sortedIndices)\n",
       "\n",
       "            chartData.datum(data).transition().duration(duration).call(chart);\n",
       "            chart.update()\n",
       "        }}\n",
       "    ;\n",
       "        "
      ]
     },
     "metadata": {},
     "output_type": "display_data"
    },
    {
     "data": {
      "application/javascript": [
       "\n",
       "        if(typeof(window.__nvd3_stat_debug) == \"undefined\") {\n",
       "            window.__nvd3_stat_debug = 0;  // no debug output\n",
       "        }\n",
       "        console.info(\"nvd3py is initialized\");\n",
       "        "
      ]
     },
     "metadata": {},
     "output_type": "display_data"
    }
   ],
   "source": [
    "nv = Nvd3()\n",
    "\n",
    "dc = nv.createDataConfig"
   ]
  },
  {
   "cell_type": "code",
   "execution_count": 3,
   "metadata": {
    "collapsed": false
   },
   "outputs": [
    {
     "data": {
      "text/html": [
       "<style>.container { width:95% !important; }</style>"
      ]
     },
     "metadata": {},
     "output_type": "display_data"
    }
   ],
   "source": [
    "from IPython.display import HTML, display_html, Javascript, display_javascript\n",
    "\n",
    "display_html(HTML(\"<style>.container { width:95% !important; }</style>\"))\n",
    "\n",
    "def display(html, style=None):\n",
    "    if isinstance(html, (tuple, list)):\n",
    "        html = \"\".join([\"\"\"<div style=\"display:inline; margin-left:%dpx\">%s</div>\"\"\" % (el[1], el[0]) for el in html])\n",
    "    if style is not None:\n",
    "        html = \"<%s>%s</%s>\" % (style, html, style)\n",
    "    display_html(HTML(html))"
   ]
  },
  {
   "cell_type": "code",
   "execution_count": 4,
   "metadata": {
    "collapsed": false,
    "scrolled": false
   },
   "outputs": [
    {
     "data": {
      "application/javascript": [
       "\n",
       "        var d3_js = \"https://cdnjs.cloudflare.com/ajax/libs/d3/3.5.17/d3\";\n",
       "        var nvd3_css = \"https://cdnjs.cloudflare.com/ajax/libs/nvd3/1.8.5/nv.d3.css\";\n",
       "        var nvd3_js = \"https://cdnjs.cloudflare.com/ajax/libs/nvd3/1.8.5/nv.d3.js\";\n",
       "        var saveAsPng_js = \"https://rawgit.com/bernhard-42/saveSvgAsPng/gh-pages/saveSvgAsPng\";\n",
       "\n",
       "        var cssLoaded = function(href) {\n",
       "            var found = false;\n",
       "            for (var i in document.styleSheets) {\n",
       "                if (document.styleSheets[i].href == href ) {\n",
       "                    found = true;\n",
       "                    break;\n",
       "                }\n",
       "            }   \n",
       "            return found;\n",
       "        }\n",
       "\n",
       "        var loadCss = function(href, callback) {\n",
       "           $('<link/>', {\n",
       "                rel: 'stylesheet',\n",
       "                type: 'text/css',\n",
       "                crossOrigin: 'anonymous',\n",
       "                href: href\n",
       "            }).error(function() {\n",
       "                element.html(\"<div style='color:red'>Error: loading nv.d3.css</div>\");\n",
       "            }).load(function() {\n",
       "                if (cssLoaded(href)) {\n",
       "                    element.append(\"<div>loaded nvd3 css</div>\");\n",
       "                    loadJs();\n",
       "                }\n",
       "            }).appendTo('head');\n",
       "        }\n",
       "\n",
       "        var loadJs = function() {\n",
       "            require.config({ paths: {d3: d3_js, saveSvg: saveAsPng_js} });\n",
       "            require([\"d3\"], function(d3) {\n",
       "                window.d3 = d3;\n",
       "                element.append(\"<div>loaded d3 js \" + d3.version + \"</div>\", window.d3)\n",
       "                $.getScript(nvd3_js)\n",
       "                 .done(function( script, textStatus ) {\n",
       "                    element.append(\"<div>loaded nvd3.js \" + nv.version + \"</div>\", window.nv)\n",
       "                    require([\"saveSvg\"], function(saveSvgAsPng) {\n",
       "                        window.saveSvgAsPng = saveSvgAsPng.saveSvgAsPng\n",
       "                        window.saveSvg = saveSvgAsPng.saveSvg\n",
       "                        window.__saveSvgAsPng = saveSvgAsPng;\n",
       "                        element.append(\"<div>loaded saveSvgAsPng</div>\");\n",
       "                    })\n",
       "                 }).fail(function(jqxhr, settings, exception){\n",
       "                    element.html(\"<div style='color:red'>Error: loading nv.d3.js</div>\");\n",
       "                 })\n",
       "            });\n",
       "        }\n",
       "\n",
       "        if (cssLoaded(nvd3_css)) {\n",
       "            loadJs();\n",
       "        } else {\n",
       "            loadCss(nvd3_css, loadJs);\n",
       "        } \n",
       "    "
      ]
     },
     "metadata": {},
     "output_type": "display_data"
    }
   ],
   "source": [
    "nv.reloadNVD3(nvd3version=\"1.8.5\", d3version=\"3.5.17\")"
   ]
  },
  {
   "cell_type": "code",
   "execution_count": 5,
   "metadata": {
    "collapsed": false,
    "scrolled": false
   },
   "outputs": [
    {
     "data": {
      "application/javascript": [
       "__nvd3_stat_debug=0"
      ]
     },
     "metadata": {},
     "output_type": "display_data"
    }
   ],
   "source": [
    "# turn javascript debugging on\n",
    "nv.traceJs(False)\n",
    "\n",
    "# turn javascript debugging on\n",
    "# nv.traceJs(True)\n"
   ]
  },
  {
   "cell_type": "markdown",
   "metadata": {},
   "source": [
    "## Some helpers to create data\n",
    "\n",
    "### Random data"
   ]
  },
  {
   "cell_type": "code",
   "execution_count": 6,
   "metadata": {
    "collapsed": true,
    "scrolled": false
   },
   "outputs": [],
   "source": [
    "import numpy as np\n",
    "import pandas as pd\n",
    "import random\n",
    "import time\n",
    "from datetime import datetime\n",
    "\n",
    "pd.options.display.width=200\n",
    "\n",
    "def randomList(count, mean, dist):\n",
    "    return [ mean + (1 if random.random() > 0.5 else -1) * random.random() * dist for i in range(count)]\n",
    "\n",
    "\n",
    "def randomNormalList(count, mean, stdev):\n",
    "    return np.random.normal(mean, stdev, count).tolist()\n",
    "\n",
    "\n",
    "def randomWalk(count=20, factor=2, offset=10):\n",
    "    return np.abs(np.cumsum(np.random.uniform(-factor, factor, (count, 1)) ) + offset)\n",
    "\n",
    "\n",
    "def lastDays(days, epoch=True, ms=True):\n",
    "    now = datetime.now()\n",
    "    t = int(time.mktime(now.timetuple())) - 3600 * 24 * days\n",
    "    if epoch:\n",
    "        factor = 1000 if ms else 1\n",
    "        return [int(t + i * 3600 * 24) * factor for i in range(days)]\n",
    "    else:\n",
    "        return [time.strftime('%Y-%m-%d', time.localtime(int(t + i*3600*24))) for i in range(days)]"
   ]
  },
  {
   "cell_type": "markdown",
   "metadata": {},
   "source": [
    "### Stock Downloader"
   ]
  },
  {
   "cell_type": "code",
   "execution_count": 7,
   "metadata": {
    "collapsed": true,
    "scrolled": false
   },
   "outputs": [],
   "source": [
    "#\n",
    "# pip install yahoo-finance\n",
    "#\n",
    "\n",
    "from yahoo_finance import Share     \n",
    "\n",
    "def downloadHistoricalStockData(symbol, begin, end, fillMissing=True):\n",
    "    data = Share(symbol).get_historical(\"%04d-%02d-%02d\" % begin, \"%04d-%02d-%02d\" % end)\n",
    "    df = pd.DataFrame(data)\n",
    "\n",
    "    for col in \"Adj_Close\", \"Close\", \"High\", \"Low\", \"Open\":\n",
    "        df[col] = df[col].astype(float)\n",
    "    df[\"Volume\"] = df[\"Volume\"].astype(int)\n",
    "    df[\"Date\"] = pd.to_datetime(df[\"Date\"], infer_datetime_format=True)\n",
    "    \n",
    "    if fillMissing:\n",
    "        return fillMissingValues(df, symbol, begin, end)\n",
    "    else: \n",
    "        return df\n",
    "\n",
    "def fillMissingValues(df, symbol, begin, end):\n",
    "    allDates = pd.DataFrame({\"Date\": pd.date_range(pd.datetime(*begin), pd.datetime(*end), freq='D')})\n",
    "    df2 = allDates.merge(df, how=\"outer\")\n",
    "    df2[\"Symbol\"] = symbol\n",
    "    # for volume fill bank holidays with 0 (no trade)\n",
    "    df2[\"Volume\"] = df2[\"Volume\"].fillna(0)\n",
    "    # and all indicators with value of day before (no price change)\n",
    "    df2 = df2.fillna(axis=0, method=\"ffill\")\n",
    "    df2[\"Timestamp\"] = (df2[\"Date\"].astype(\"int64\") / 1000000).astype('int64')\n",
    "    return df2.sort_values(by=[\"Timestamp\"])\n"
   ]
  },
  {
   "cell_type": "markdown",
   "metadata": {},
   "source": [
    "### Iris data"
   ]
  },
  {
   "cell_type": "code",
   "execution_count": 8,
   "metadata": {
    "collapsed": false,
    "scrolled": false
   },
   "outputs": [],
   "source": [
    "# !cd /tmp && wget  https://raw.github.com/pydata/pandas/master/pandas/tests/data/iris.csv"
   ]
  },
  {
   "cell_type": "code",
   "execution_count": 9,
   "metadata": {
    "collapsed": false,
    "scrolled": false
   },
   "outputs": [
    {
     "name": "stdout",
     "output_type": "stream",
     "text": [
      "   SepalLength  SepalWidth  PetalLength  PetalWidth         Name\n",
      "0          5.1         3.5          1.4         0.2  Iris-setosa\n",
      "1          4.9         3.0          1.4         0.2  Iris-setosa\n",
      "2          4.7         3.2          1.3         0.2  Iris-setosa\n",
      "3          4.6         3.1          1.5         0.2  Iris-setosa\n",
      "4          5.0         3.6          1.4         0.2  Iris-setosa\n"
     ]
    }
   ],
   "source": [
    "import pandas as pd\n",
    "iris = pd.read_csv('/tmp/iris.csv')\n",
    "print(iris.head())"
   ]
  },
  {
   "cell_type": "markdown",
   "metadata": {},
   "source": [
    "## 1 BoxPlot Chart\n",
    "\n",
    "### a) Plot\n",
    "\n",
    "#### Compare the three species (IQR box plot)"
   ]
  },
  {
   "cell_type": "code",
   "execution_count": 10,
   "metadata": {
    "collapsed": false
   },
   "outputs": [
    {
     "data": {
      "application/javascript": [
       "\n",
       "        window.nvd3_stat.session.__functions.boxPlotChart = function(session, object) {\n",
       "            var chart = nv.models.boxPlotChart()\n",
       "                        .x(function(d) { return d.key })\n",
       "\n",
       "            session.__functions.makeChart(session, object, chart);\n",
       "        }      \n",
       "    ;\n",
       "        "
      ]
     },
     "metadata": {},
     "output_type": "display_data"
    },
    {
     "data": {
      "text/html": [
       "<h3><div style=\"display:inline; margin-left:40px\">Iris-setosa</div><div style=\"display:inline; margin-left:355px\">Iris-versicolor</div><div style=\"display:inline; margin-left:330px\">Iris-virginica</div></h3>"
      ]
     },
     "metadata": {},
     "output_type": "display_data"
    },
    {
     "data": {
      "text/html": [
       "<div style=\"height:400px; width:1350px\">\n",
       "            <div id=\"boxPlotChart-001\" class=\"with-3d-shadow with-transitions\" style=\"float:left; height:400px; width:450px\">\n",
       "                <svg></svg>\n",
       "            </div>\n",
       "            \n",
       "            <div id=\"boxPlotChart-002\" class=\"with-3d-shadow with-transitions\" style=\"float:left; height:400px; width:450px\">\n",
       "                <svg></svg>\n",
       "            </div>\n",
       "            \n",
       "            <div id=\"boxPlotChart-003\" class=\"with-3d-shadow with-transitions\" style=\"float:left; height:400px; width:450px\">\n",
       "                <svg></svg>\n",
       "            </div>\n",
       "            </div>"
      ]
     },
     "metadata": {},
     "output_type": "display_data"
    }
   ],
   "source": [
    "bp1 = nv.boxPlotChart()\n",
    "config={\"height\": 400, \"width\":450, \"color\":nv.c10(),\n",
    "        \"yDomain\": [-0.5, 8.5], \"maxBoxWidth\":False}\n",
    "\n",
    "def getSpecies(name):\n",
    "    return iris[iris.Name==name].loc[:,iris.columns != 'Name']\n",
    "\n",
    "setosa     = bp1.convert(data=getSpecies(\"Iris-setosa\"    ), boxStyle=\"iqr\")\n",
    "versicolor = bp1.convert(data=getSpecies(\"Iris-versicolor\"), boxStyle=\"iqr\")\n",
    "virginica  = bp1.convert(data=getSpecies(\"Iris-virginica\" ), boxStyle=\"iqr\")\n",
    "         \n",
    "display(html=[(\"Iris-setosa\", 40),(\"Iris-versicolor\", 355),(\"Iris-virginica\", 330)], style=\"h3\")\n",
    "\n",
    "bp1.plot([dc(setosa, config), dc(versicolor, config), dc(virginica, config)])"
   ]
  },
  {
   "cell_type": "markdown",
   "metadata": {},
   "source": [
    "#### Compare IQR and Min-Max plot"
   ]
  },
  {
   "cell_type": "code",
   "execution_count": 11,
   "metadata": {
    "collapsed": false,
    "scrolled": false
   },
   "outputs": [
    {
     "data": {
      "text/html": [
       "<h3><div style=\"display:inline; margin-left:40px\">IQR</div><div style=\"display:inline; margin-left:415px\">Min-Max</div></h3>"
      ]
     },
     "metadata": {},
     "output_type": "display_data"
    },
    {
     "data": {
      "text/html": [
       "<div style=\"height:400px; width:900px\">\n",
       "            <div id=\"boxPlotChart-004\" class=\"with-3d-shadow with-transitions\" style=\"float:left; height:400px; width:450px\">\n",
       "                <svg></svg>\n",
       "            </div>\n",
       "            \n",
       "            <div id=\"boxPlotChart-005\" class=\"with-3d-shadow with-transitions\" style=\"float:left; height:400px; width:450px\">\n",
       "                <svg></svg>\n",
       "            </div>\n",
       "            </div>"
      ]
     },
     "metadata": {},
     "output_type": "display_data"
    }
   ],
   "source": [
    "bp2 = nv.boxPlotChart()\n",
    "\n",
    "config={\"height\": 400, \"width\":450, \"color\":nv.c10(),\n",
    "        \"yDomain\": [-0.5, 6], \"maxBoxWidth\":False }\n",
    "\n",
    "display(html=[(\"IQR\", 40),(\"Min-Max\", 415)], style=\"h3\")\n",
    "\n",
    "iqr =    bp2.convert(data=getSpecies(\"Iris-setosa\"), boxStyle=\"iqr\")\n",
    "minmax = bp2.convert(data=getSpecies(\"Iris-setosa\"), boxStyle=\"min-max\")\n",
    "\n",
    "bp2.plot([dc(iqr, config), dc(minmax, config)])         \n"
   ]
  },
  {
   "cell_type": "markdown",
   "metadata": {},
   "source": [
    "### b) Append"
   ]
  },
  {
   "cell_type": "code",
   "execution_count": 12,
   "metadata": {
    "collapsed": false
   },
   "outputs": [
    {
     "data": {
      "text/html": [
       "<div style=\"height:400px; width:450px\">\n",
       "            <div id=\"boxPlotChart-006\" class=\"with-3d-shadow with-transitions\" style=\"float:left; height:400px; width:450px\">\n",
       "                <svg></svg>\n",
       "            </div>\n",
       "            </div>"
      ]
     },
     "metadata": {},
     "output_type": "display_data"
    }
   ],
   "source": [
    "bp3 = nv.boxPlotChart()\n",
    "\n",
    "config={\"height\": 400, \"width\":450, \"color\":nv.c10(),\n",
    "        \"yDomain\": [0, 10], \"maxBoxWidth\":False }\n",
    "\n",
    "df = pd.DataFrame({\"X1\":randomNormalList(50, 5, 1), \"X2\":randomNormalList(50, 3, 0.5)})\n",
    "iqr = bp3.convert(data=df[:30], boxStyle=\"iqr\")\n",
    "\n",
    "bp3.plot([\n",
    "    {\"data\":iqr, \"config\":config},\n",
    "])         \n"
   ]
  },
  {
   "cell_type": "code",
   "execution_count": 13,
   "metadata": {
    "collapsed": false
   },
   "outputs": [],
   "source": [
    "bp3.append(dc(df[30:], config))    # Note, instead of converted data the original dataframe must be provided"
   ]
  },
  {
   "cell_type": "markdown",
   "metadata": {},
   "source": [
    "## 2 Line Chart\n",
    "\n",
    "### a) Plot"
   ]
  },
  {
   "cell_type": "code",
   "execution_count": 14,
   "metadata": {
    "collapsed": false,
    "scrolled": false
   },
   "outputs": [
    {
     "name": "stdout",
     "output_type": "stream",
     "text": [
      "     ArcTan       Cos       Sin         X\n",
      "0 -0.470988  1.000000  0.000000  0.000000\n",
      "1 -0.469922  0.991955  0.126592  0.126933\n",
      "2 -0.468812  0.967949  0.251148  0.253866\n",
      "3 -0.467656  0.928368  0.371662  0.380799\n",
      "4 -0.466450  0.873849  0.486197  0.507732\n"
     ]
    }
   ],
   "source": [
    "x = np.linspace(0, 4*np.pi, 100)\n",
    "\n",
    "l_df = pd.DataFrame({\"X\":x, \"Sin\":np.sin(x), \"Cos\":np.cos(x), \"ArcTan\":np.arctan(x-2*np.pi)/3})\n",
    "# l_df = pd.DataFrame({\"X\":lastDays(100, epoch=True, ms=True),\"Sin\":np.sin(x), \"Cos\":np.cos(x), \"ArcTan\":np.arctan(x-2*np.pi)/3})\n",
    "\n",
    "print(l_df.head())\n"
   ]
  },
  {
   "cell_type": "code",
   "execution_count": 26,
   "metadata": {
    "collapsed": false,
    "scrolled": false
   },
   "outputs": [
    {
     "data": {
      "text/html": [
       "<style>.dashed { stroke-dasharray: 7,7; }\n",
       ".dotted { stroke-dasharray: 3,3; } </style>"
      ]
     },
     "metadata": {},
     "output_type": "display_data"
    },
    {
     "data": {
      "text/html": [
       "<div style=\"height:500px; width:1024px\">\n",
       "            <div id=\"lineChart-012\" class=\"with-3d-shadow with-transitions\" style=\"float:left; height:500px; width:1024px\">\n",
       "                <svg></svg>\n",
       "            </div>\n",
       "            </div>"
      ]
     },
     "metadata": {},
     "output_type": "display_data"
    }
   ],
   "source": [
    "l1 = nv.lineChart()\n",
    "\n",
    "config={\"height\":500, \"width\": 1024,\n",
    "        \"focusEnable\": False, \"color\":nv.c20b()[10:13], \n",
    "        \"yAxis\": {\"axisLabel\":\"f(x)\", \"tickFormat\":\",.2f\"}, \n",
    "        \"xAxis\":{\"axisLabel\":\"x\", \"tickFormat\":\",.2f\"},\n",
    "        \"duration\":0\n",
    "       }\n",
    "        \n",
    "lineAttributes={\"area\":[True, False, True], \"fillOpacity\":[0.2, 0, 0.2], \"style\":[\"dashed\", \"dotted\", None]}\n",
    "\n",
    "data = l1.convert(data=l_df[:70], key=\"X\", values=[\"Sin\", \"Cos\", \"ArcTan\"],lineAttributes=lineAttributes)        \n",
    "\n",
    "l1.plot(dc(data, config))\n"
   ]
  },
  {
   "cell_type": "markdown",
   "metadata": {},
   "source": [
    "### b) Append values"
   ]
  },
  {
   "cell_type": "code",
   "execution_count": 27,
   "metadata": {
    "collapsed": false,
    "scrolled": false
   },
   "outputs": [],
   "source": [
    "import time\n",
    "\n",
    "for i in range(71,100):\n",
    "    time.sleep(0.02)\n",
    "    data = l1.convert(data=l_df[i:i+1], key=\"X\", values=[\"Sin\", \"Cos\", \"ArcTan\"], lineAttributes=lineAttributes)\n",
    "    l1.append(dc(data, config))"
   ]
  },
  {
   "cell_type": "markdown",
   "metadata": {},
   "source": [
    "##### c) Save it as png"
   ]
  },
  {
   "cell_type": "code",
   "execution_count": null,
   "metadata": {
    "collapsed": false
   },
   "outputs": [],
   "source": [
    "l1.saveAsPng(\"line.png\", backgroundColor=\"white\")"
   ]
  },
  {
   "cell_type": "markdown",
   "metadata": {},
   "source": [
    "### d) Add a focus selector"
   ]
  },
  {
   "cell_type": "code",
   "execution_count": null,
   "metadata": {
    "collapsed": false,
    "scrolled": false
   },
   "outputs": [],
   "source": [
    "l2 = nv.lineChart()\n",
    "\n",
    "config={\"height\":500, \"width\": 1024,\n",
    "        \"focusEnable\": True, \"color\":nv.c10(), \n",
    "        \"yAxis\": {\"axisLabel\":\"f(x)\", \"tickFormat\":\",.2f\"}, \n",
    "        \"xAxis\":{\"axisLabel\":\"x\", \"tickFormat\":\"%d-%m-%Y\"}}\n",
    "\n",
    "lineAttributes={\"area\":[True, False, True], \"fillOpacity\":[0.2, 0, 0.2], \"style\":[\"dashed\", \"dotted\", None]}\n",
    "data = l2.convert(l_df, \"X\", [\"Sin\", \"Cos\", \"ArcTan\"],lineAttributes=lineAttributes) \n",
    "\n",
    "l2.plot(dc(data, config))"
   ]
  },
  {
   "cell_type": "markdown",
   "metadata": {},
   "source": [
    "## 3 Discrete Bar Chart\n",
    "\n",
    "### a) Plot"
   ]
  },
  {
   "cell_type": "code",
   "execution_count": null,
   "metadata": {
    "collapsed": false,
    "scrolled": false
   },
   "outputs": [],
   "source": [
    "db_df = pd.DataFrame(iris.loc[:, [\"SepalLength\", \"SepalWidth\", \"PetalLength\", \"PetalWidth\"]].mean()).reset_index()\n",
    "db_df.columns = [\"Series\", \"Mean\"]\n",
    "\n",
    "db = nv.discreteBarChart()\n",
    "\n",
    "config={\"height\": 350, \"width\": 500, \"color\": nv.c20(), \"staggerLabels\": False}\n",
    "\n",
    "data = db.convert(db_df[:2], key=\"Series\", value=\"Mean\")\n",
    "\n",
    "db.plot(dc(data, config))\n"
   ]
  },
  {
   "cell_type": "markdown",
   "metadata": {},
   "source": [
    "### b) Append Values"
   ]
  },
  {
   "cell_type": "code",
   "execution_count": null,
   "metadata": {
    "collapsed": false
   },
   "outputs": [],
   "source": [
    "data = db.convert(db_df[2:], key=\"Series\", value=\"Mean\")\n",
    "\n",
    "db.append(dc(data, config))"
   ]
  },
  {
   "cell_type": "markdown",
   "metadata": {},
   "source": [
    "## 4 Multi Bar Chart"
   ]
  },
  {
   "cell_type": "code",
   "execution_count": null,
   "metadata": {
    "collapsed": false,
    "scrolled": false
   },
   "outputs": [],
   "source": [
    "x = np.linspace(0, 4*np.pi, 10)\n",
    "mb_df = pd.DataFrame({\"X\":x, \"Sin\":np.sin(x), \"Cos\":np.cos(x), \"ArcTan\":np.arctan(x-2*np.pi)/3})\n",
    "\n",
    "mb1 = nv.multiBarChart()\n",
    "\n",
    "config = {\"height\":500, \"width\": 800, \n",
    "          \"color\": nv.c20(),\n",
    "          \"xAxis\":{\"axisLabel\":\"x\", \"tickFormat\":\",.2f\"},\n",
    "          \"yAxis\":{\"axisLabel\":\"f(x)\", \"tickFormat\":\",.2f\"}}\n",
    "\n",
    "data = mb1.convert(mb_df[:6], \"X\", [\"Sin\", \"Cos\", \"ArcTan\"])\n",
    "mb1.plot(dc(data, config))\n"
   ]
  },
  {
   "cell_type": "code",
   "execution_count": null,
   "metadata": {
    "collapsed": false,
    "scrolled": false
   },
   "outputs": [],
   "source": [
    "for i in range(6,10):\n",
    "    time.sleep(0.5)\n",
    "    data = mb1.convert(mb_df[i:i+1], \"X\", [\"Sin\", \"Cos\", \"ArcTan\"])\n",
    "    mb1.append(dc(data, config))"
   ]
  },
  {
   "cell_type": "markdown",
   "metadata": {},
   "source": [
    "## 5 Multi Bar Horizontal Chart"
   ]
  },
  {
   "cell_type": "code",
   "execution_count": null,
   "metadata": {
    "collapsed": false,
    "scrolled": false
   },
   "outputs": [],
   "source": [
    "mbh = nv.multiBarHorizontalChart()\n",
    "\n",
    "config = {\"height\":500, \"width\": 800, \"color\":nv.c20()[10:], \"stacked\":False}\n",
    "\n",
    "data = mbh.convert(mb_df[:6], \"X\", [\"Sin\", \"Cos\", \"ArcTan\"])\n",
    "\n",
    "mbh.plot(dc(data, config))\n"
   ]
  },
  {
   "cell_type": "code",
   "execution_count": null,
   "metadata": {
    "collapsed": false
   },
   "outputs": [],
   "source": [
    "data = mbh.convert(mb_df[6:], \"X\", [\"Sin\", \"Cos\", \"ArcTan\"])\n",
    "\n",
    "mbh.append(dc(data, config))"
   ]
  },
  {
   "cell_type": "markdown",
   "metadata": {},
   "source": [
    "## 6 Line Plus Bar Chart"
   ]
  },
  {
   "cell_type": "markdown",
   "metadata": {},
   "source": [
    "### a) Plot"
   ]
  },
  {
   "cell_type": "code",
   "execution_count": null,
   "metadata": {
    "collapsed": false,
    "scrolled": false
   },
   "outputs": [],
   "source": [
    "ohlcDf = downloadHistoricalStockData('AAPL', (2016,3,22), (2017,3,22))\n",
    "ohlcDf.head(10)\n",
    "    "
   ]
  },
  {
   "cell_type": "code",
   "execution_count": null,
   "metadata": {
    "collapsed": false,
    "scrolled": false
   },
   "outputs": [],
   "source": [
    "lpb = nv.linePlusBarChart()\n",
    "\n",
    "config={\"color\":[nv.c20()[0], nv.c20()[3]], \n",
    "        \"height\":600, \"width\":1200,\n",
    "        \"xAxis\":{\"tickFormat\":\"%d.%m.%y\"},\n",
    "        \"x2Axis\":{\"tickFormat\":\"%d.%m.%y\"},\n",
    "        \"yDomain\":[80, 120],\n",
    "        \"duration\":0, \"focusEnable\":False\n",
    "}\n",
    "\n",
    "data = lpb.convert(ohlcDf[0:300], \"Timestamp\", lineValue=\"Close\", barValue=\"Volume\")\n",
    "\n",
    "lpb.plot(dc(data, config))\n"
   ]
  },
  {
   "cell_type": "markdown",
   "metadata": {},
   "source": [
    "### b) Append"
   ]
  },
  {
   "cell_type": "code",
   "execution_count": null,
   "metadata": {
    "collapsed": false
   },
   "outputs": [],
   "source": [
    "import time\n",
    "\n",
    "for i in range(301,len(ohlcDf)):\n",
    "    time.sleep(0.05)\n",
    "    data = lpb.convert(data=ohlcDf[i:i+1], key=\"Timestamp\", lineValue=\"Close\", barValue=\"Volume\")\n",
    "    lpb.append(dc(data, config))"
   ]
  },
  {
   "cell_type": "markdown",
   "metadata": {},
   "source": [
    "## 7 Pie Chart\n",
    "\n",
    "### a) Plot"
   ]
  },
  {
   "cell_type": "code",
   "execution_count": null,
   "metadata": {
    "collapsed": false,
    "scrolled": false
   },
   "outputs": [],
   "source": [
    "p = nv.pieChart()\n",
    "\n",
    "config1={\"donut\": False,                  \"color\": nv.c10(),  \"width\": 300, \"height\":400}\n",
    "config2={\"donut\": True,                   \"color\": nv.c20(),  \"width\": 300, \"height\":400}\n",
    "config3={\"donut\": True,  \"halfPie\": True, \"color\": nv.c20b(), \"width\": 300, \"height\":400}\n",
    "\n",
    "data = p.convert(db_df[:2], \"Series\", \"Mean\")\n",
    "data\n",
    "\n",
    "p.plot([dc(data, config1), dc(data, config2), dc(data, config3)])"
   ]
  },
  {
   "cell_type": "markdown",
   "metadata": {},
   "source": [
    "### b) Append values"
   ]
  },
  {
   "cell_type": "code",
   "execution_count": null,
   "metadata": {
    "collapsed": false,
    "scrolled": false
   },
   "outputs": [],
   "source": [
    "config = [config1, config2, config3]\n",
    "\n",
    "for chart in range(3):\n",
    "    data = p.convert(db_df[2:], \"Series\", \"Mean\")\n",
    "    p.append(dc(data, config[chart]), chart=chart)"
   ]
  },
  {
   "cell_type": "markdown",
   "metadata": {},
   "source": [
    "## 8 Stacked Area Chart\n",
    "\n",
    "### a) Plot"
   ]
  },
  {
   "cell_type": "code",
   "execution_count": null,
   "metadata": {
    "collapsed": false,
    "scrolled": false
   },
   "outputs": [],
   "source": [
    "import time\n",
    "from datetime import datetime\n",
    "\n",
    "count = 100\n",
    "groups = 5\n",
    "\n",
    "series = []\n",
    "for i in range(groups):\n",
    "    factor = np.random.randint(5,10)\n",
    "    offset = np.random.randint(20,100)\n",
    "    series.append(randomWalk(count, 20, offset).tolist())\n",
    "\n",
    "sa_df = pd.DataFrame([lastDays(count, epoch=True)] + series).T\n",
    "sa_df.columns = [\"Date\"] + [\"Series %d\" % i  for i in range(groups)]\n",
    "\n",
    "\n",
    "sa = nv.stackedAreaChart()\n",
    "\n",
    "config={\"color\": nv.c20(), \"height\":500, \"xAxis\":{\"tickFormat\":\"%d.%m.%Y\"}, \"duration\":0}\n",
    "data = sa.convert(sa_df[:80], \"Date\", [\"Series %d\" % i for i in range(groups)])\n",
    "\n",
    "sa.plot(dc(data, config))\n"
   ]
  },
  {
   "cell_type": "markdown",
   "metadata": {},
   "source": [
    "### b) Append values"
   ]
  },
  {
   "cell_type": "code",
   "execution_count": null,
   "metadata": {
    "collapsed": false
   },
   "outputs": [],
   "source": [
    "import time\n",
    "\n",
    "for i in range(80, 100, 2):\n",
    "    time.sleep(0.1)\n",
    "    data = sa.convert(sa_df[i:i+2], \"Date\", [\"Series %d\" % i for i in range(groups)])\n",
    "    sa.append(dc(data, config))\n",
    "    "
   ]
  },
  {
   "cell_type": "markdown",
   "metadata": {},
   "source": [
    "## 9 Scatter Plus Line Chart\n",
    "\n",
    "### a) Plot"
   ]
  },
  {
   "cell_type": "code",
   "execution_count": null,
   "metadata": {
    "collapsed": false
   },
   "outputs": [],
   "source": [
    "a = randomNormalList(40, 4, 1)\n",
    "b = randomNormalList(40, 4, 1)\n",
    "c = randomNormalList(40, 4, 1)\n",
    "d = randomNormalList(40, 4, 1)\n",
    "spl_df = pd.DataFrame({\"A\":a, \"B\":b, \"C\":c, \"D\":d})\n",
    "spl_df[\"S1\"] = \"diamond\"\n",
    "spl_df[\"S2\"] = \"square\"\n",
    "\n",
    "config = {\"color\":nv.c10(), \n",
    "          \"xAxis\":{\"axisLabel\":\"A: squares,  B: diamonds\"},\n",
    "          \"xDomain\":[0, 8], \"yDomain\":[0, 8]\n",
    "         }\n",
    "spl1 = nv.scatterPlusLineChart()\n",
    "data = spl1.convert(data=spl_df[:20], keys=[\"A\", \"C\"], values=[\"B\", \"D\"], pointAttributes={\"shapes\":[\"S1\", \"S2\"]},\n",
    "                    lines=[{\"slope\":2.0, \"intercept\":-4.0}, {\"slope\":1.0, \"intercept\":-1.0}])\n",
    "spl1.plot(dc(data, config))"
   ]
  },
  {
   "cell_type": "markdown",
   "metadata": {},
   "source": [
    "### b) Append"
   ]
  },
  {
   "cell_type": "code",
   "execution_count": null,
   "metadata": {
    "collapsed": false
   },
   "outputs": [],
   "source": [
    "import time\n",
    "for i in range(20,40):\n",
    "    time.sleep(0.1)\n",
    "    data = spl1.convert(data=spl_df[i:i+1], keys=[\"A\", \"C\"], values=[\"B\", \"D\"], \n",
    "                        pointAttributes={\"shapes\":[\"S1\", \"S2\"]},\n",
    "                        lines=[{\"slope\":1.0, \"intercept\":-2.0}, {\"slope\":-1.0, \"intercept\":6.0}])\n",
    "    spl1.append(dc(data, config))"
   ]
  },
  {
   "cell_type": "markdown",
   "metadata": {},
   "source": [
    "### c) Example"
   ]
  },
  {
   "cell_type": "code",
   "execution_count": null,
   "metadata": {
    "collapsed": false,
    "scrolled": false
   },
   "outputs": [],
   "source": [
    "from sklearn import linear_model\n",
    "\n",
    "setosa     = iris[iris.Name == \"Iris-setosa\"]\n",
    "versicolor = iris[iris.Name == \"Iris-versicolor\"]\n",
    "virginica  = iris[iris.Name == \"Iris-virginica\"]\n",
    "\n",
    "def linReg(x,y):\n",
    "    regr = linear_model.LinearRegression()\n",
    "    regr.fit(x,y)\n",
    "    return (regr.coef_.item(0), regr.intercept_.item(0))\n",
    "    \n",
    "def prepare(df, name):\n",
    "    sepal = df.loc[:,[\"SepalLength\", \"SepalWidth\"]]\n",
    "    sepal.columns = [\"X\", name]\n",
    "    sepal[\"Shape\"] = \"diamond\"\n",
    "    petal = df.loc[:,[\"PetalLength\", \"PetalWidth\"]]\n",
    "    petal.columns = [\"X\", name]\n",
    "    petal[\"Shape\"] = \"square\"\n",
    "    \n",
    "    df = pd.concat([sepal, petal])\n",
    "    x = df[\"X\"].values.reshape(df.shape[0], 1)\n",
    "    y = df[name].values.reshape(df.shape[0], 1)\n",
    "    slope, intercept = linReg(x,y)\n",
    "\n",
    "    df[\"Size\"] = 2\n",
    "    df = df.groupby([\"Shape\", \"X\", name]).sum().reset_index()\n",
    "    return (df, slope, intercept)\n",
    "\n",
    "setosaDf,     setosaSlope,     setosaIntercept     = prepare(setosa,     \"Setosa\")\n",
    "virginicaDf,  virginicaSlope,  virginicaIntercept  = prepare(virginica,  \"Virginica\")\n",
    "versicolorDf, versicolorSlope, versicolorIntercept = prepare(versicolor, \"Versicolor\")\n"
   ]
  },
  {
   "cell_type": "code",
   "execution_count": null,
   "metadata": {
    "collapsed": false,
    "scrolled": false
   },
   "outputs": [],
   "source": [
    "spl2 = nv.scatterPlusLineChart()\n",
    "\n",
    "config = {\"height\":700, #\"xDomain\":[0,8], \"yDomain\":[0,4.5],\n",
    "          \"xAxis\":{\"axisLabel\":\"Length (sepal=diamond, petal=square)\"}, \"yAxis\":{\"axisLabel\":\"Width (sepal=diamond, petal=square)\"}\n",
    "}\n",
    "\n",
    "data = spl2.convert(data=[{ \"data\":setosaDf, \"keys\":\"X\", \"values\":\"Setosa\", \n",
    "                            \"lines\":{\"slope\":setosaSlope, \"intercept\":setosaIntercept}, \n",
    "                            \"pointAttributes\":{\"shapes\":\"Shape\", \"sizes\":\"Size\"} },\n",
    "                           \n",
    "                          { \"data\":virginicaDf, \"keys\":\"X\", \"values\":\"Virginica\", \n",
    "                            \"lines\":{\"slope\":virginicaSlope, \"intercept\":virginicaIntercept}, \n",
    "                            \"pointAttributes\":{\"shapes\":\"Shape\", \"sizes\":\"Size\"} },\n",
    "                           \n",
    "                          { \"data\":versicolorDf, \"keys\":\"X\", \"values\":\"Versicolor\", \n",
    "                            \"lines\":{\"slope\":versicolorSlope, \"intercept\":versicolorIntercept}, \n",
    "                            \"pointAttributes\":{\"shapes\":\"Shape\", \"sizes\":\"Size\"} }\n",
    "                         ])\n",
    "#data\n",
    "spl2.plot({\"data\":data, \"config\":config})\n"
   ]
  },
  {
   "cell_type": "markdown",
   "metadata": {},
   "source": [
    "## 10 Parallel Coordinates Plot"
   ]
  },
  {
   "cell_type": "code",
   "execution_count": null,
   "metadata": {
    "collapsed": false,
    "scrolled": false
   },
   "outputs": [],
   "source": [
    "iris.loc[iris.Name==\"Iris-setosa\",     \"color\"] = nv.c10()[0]\n",
    "iris.loc[iris.Name==\"Iris-versicolor\", \"color\"] = nv.c10()[1]\n",
    "iris.loc[iris.Name==\"Iris-virginica\",  \"color\"] = nv.c10()[2]\n",
    "iris[\"strokeWidth\"] = 0.5\n",
    "iris.head()\n"
   ]
  },
  {
   "cell_type": "code",
   "execution_count": null,
   "metadata": {
    "collapsed": false,
    "scrolled": false
   },
   "outputs": [],
   "source": [
    "pc = nv.parallelCoordinatesChart()\n",
    "\n",
    "config = {\"height\": 600}\n",
    "\n",
    "data, dim = pc.convert(iris, 'Name', ['SepalWidth', 'SepalLength', 'PetalWidth', 'PetalLength'],\n",
    "                       lineAttributes=[\"color\", \"strokeWidth\"], \n",
    "                       dimAttributes= {\"format\": [\",.1f\", \",.1f\", \",.1f\", \",.1f\"]})\n",
    "                       \n",
    "pc.plot({\"data\":data, \"dim\":dim, \"config\":config})"
   ]
  },
  {
   "cell_type": "markdown",
   "metadata": {},
   "source": [
    "## 11 Historical Bar Chart"
   ]
  },
  {
   "cell_type": "code",
   "execution_count": null,
   "metadata": {
    "collapsed": false,
    "scrolled": false
   },
   "outputs": [],
   "source": [
    "hb = nv.historicalBarChart()\n",
    "aapl[\"VolumeMio\"] = aapl[\"Volume\"] / 10000000\n",
    "\n",
    "config = {\"color\":nv.c20()[4:],\n",
    "          \"xAxis\":{\"axisLabel\":\"Date (d.m.y)\"},\n",
    "          \"yAxis\":{\"axisLabel\":\"Volume (Mio)\", \"tickFormat\":\",.2f\"}}\n",
    "\n",
    "data = hb.convert(aapl, key=\"Timestamp\", value=\"VolumeMio\")\n",
    "\n",
    "hb.plot({\"data\":data, \"dim\":dim, \"config\":config})"
   ]
  },
  {
   "cell_type": "markdown",
   "metadata": {},
   "source": [
    "## 12 Candlestick Chart"
   ]
  },
  {
   "cell_type": "code",
   "execution_count": null,
   "metadata": {
    "collapsed": false,
    "scrolled": false
   },
   "outputs": [],
   "source": [
    "cs = nv.candlestickBarChart()\n",
    "\n",
    "ohlcAttribs = {\"open\":\"Open\" ,\"high\":\"High\" ,\"low\":\"Low\" ,\"volume\":\"Volume\" ,\"adjusted\":\"Adj_Close\"}\n",
    "data = cs.convert(aapl[-90:], \"Timestamp\", \"Close\", ohlcAttribs)\n",
    "\n",
    "config = {\"color\":nv.c10(), \"yDomain\":[100,145], \"width\":1400, \"height\":800,\n",
    "          \"xAxis\":{\"tickFormat\":\"%d/%m/%Y\", \"axisLabel\":\"Date (d/m/y)\"},\n",
    "          \"yAxis\":{\"axisLabel\":\"Close (USD)\"}}\n",
    "\n",
    "cs.plot({\"data\":data, \"config\":config})"
   ]
  },
  {
   "cell_type": "markdown",
   "metadata": {},
   "source": [
    "## 13 OHLC Chart"
   ]
  },
  {
   "cell_type": "code",
   "execution_count": null,
   "metadata": {
    "collapsed": false,
    "scrolled": false
   },
   "outputs": [],
   "source": [
    "ohlc = nv.ohlcBarChart()\n",
    "\n",
    "ohlcAttribs = {\"open\":\"Open\" ,\"high\":\"High\" ,\"low\":\"Low\" ,\"volume\":\"Volume\" ,\"adjusted\":\"Adj_Close\"}\n",
    "data = ohlc.convert(aapl[-90:], \"Timestamp\", \"Close\", ohlcAttribs)\n",
    "\n",
    "config = {\"color\":nv.c20(), \"yDomain\":[100,135], \"width\":1400, \"height\":800,\n",
    "          \"xAxis\":{\"tickFormat\":\"%d/%m/%Y\", \"axisLabel\":\"Date (d/m/y)\"},\n",
    "          \"yAxis\":{\"axisLabel\":\"Open / High / Low / Close  (USD)\"}}\n",
    "\n",
    "ohlc.plot({\"data\":data, \"config\":config})"
   ]
  },
  {
   "cell_type": "markdown",
   "metadata": {},
   "source": [
    "## 14 BulletChart"
   ]
  },
  {
   "cell_type": "code",
   "execution_count": null,
   "metadata": {
    "collapsed": false
   },
   "outputs": [],
   "source": [
    "def getData(title, actual, previous):\n",
    "    return {\"title\":title, \"subtitle\":\"out of 5\",\n",
    "            \"ranges\":{'Bad':3.5, 'OK':4.25, 'Good':5},\n",
    "            \"measure\":{'Current':actual},\n",
    "            \"markers\":{'Previous':previous},\n",
    "            \"markerLines\":{'Threshold':3.0, 'Target':4.4}}\n",
    "                \n",
    "b1 = nv.bulletChart()\n",
    "data = b1.convert(**getData(\"Satisfaction\", 3.9, 3.8))\n",
    "b1.plot({\"data\":data, \"config\":{\"height\":60, \"width\":750}})\n",
    "\n",
    "b2 = nv.bulletChart()\n",
    "data = b2.convert(**getData(\"Quality\", 4.3, 3.8))\n",
    "b2.plot({\"data\":data, \"config\":{\"height\":60, \"width\":750}})\n"
   ]
  },
  {
   "cell_type": "code",
   "execution_count": null,
   "metadata": {
    "collapsed": false
   },
   "outputs": [],
   "source": []
  },
  {
   "cell_type": "code",
   "execution_count": null,
   "metadata": {
    "collapsed": true
   },
   "outputs": [],
   "source": []
  }
 ],
 "metadata": {
  "anaconda-cloud": {},
  "kernelspec": {
   "display_name": "Python [conda root]",
   "language": "python",
   "name": "conda-root-py"
  },
  "language_info": {
   "codemirror_mode": {
    "name": "ipython",
    "version": 3
   },
   "file_extension": ".py",
   "mimetype": "text/x-python",
   "name": "python",
   "nbconvert_exporter": "python",
   "pygments_lexer": "ipython3",
   "version": "3.5.2"
  }
 },
 "nbformat": 4,
 "nbformat_minor": 2
}
