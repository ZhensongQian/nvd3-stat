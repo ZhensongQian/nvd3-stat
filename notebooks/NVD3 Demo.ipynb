{
 "cells": [
  {
   "cell_type": "markdown",
   "metadata": {},
   "source": [
    "## Load NVD3"
   ]
  },
  {
   "cell_type": "code",
   "execution_count": null,
   "metadata": {
    "collapsed": false,
    "scrolled": false
   },
   "outputs": [],
   "source": [
    "from nvd3_stat import Nvd3"
   ]
  },
  {
   "cell_type": "code",
   "execution_count": null,
   "metadata": {
    "collapsed": false,
    "scrolled": false
   },
   "outputs": [],
   "source": [
    "nv = Nvd3()"
   ]
  },
  {
   "cell_type": "code",
   "execution_count": null,
   "metadata": {
    "collapsed": false,
    "scrolled": false
   },
   "outputs": [],
   "source": [
    "nv.reloadNVD3()"
   ]
  },
  {
   "cell_type": "code",
   "execution_count": null,
   "metadata": {
    "collapsed": false,
    "scrolled": false
   },
   "outputs": [],
   "source": [
    "from IPython.display import HTML, display_html, Javascript, display_javascript\n",
    "\n",
    "display_html(HTML(\"<style>.container { width:95% !important; }</style>\"))\n",
    "\n",
    "def display(html, style=None):\n",
    "    if isinstance(html, (tuple, list)):\n",
    "        html = \"\".join([\"\"\"<div style=\"display:inline; margin-left:%dpx\">%s</div>\"\"\" % (el[1], el[0]) for el in html])\n",
    "    if style is not None:\n",
    "        html = \"<%s>%s</%s>\" % (style, html, style)\n",
    "    display_html(HTML(html))"
   ]
  },
  {
   "cell_type": "code",
   "execution_count": null,
   "metadata": {
    "collapsed": false,
    "scrolled": false
   },
   "outputs": [],
   "source": [
    "# turn javascript debugging on\n",
    "# nv.nvd3Functions.display_javascript(\"__nvd3_stat_debug=2\")\n",
    "# turn javascript debugging on\n",
    "display_javascript(Javascript(\"__nvd3_stat_debug=0\"))\n"
   ]
  },
  {
   "cell_type": "markdown",
   "metadata": {},
   "source": [
    "## Some helpers to create data\n",
    "\n",
    "### Random data"
   ]
  },
  {
   "cell_type": "code",
   "execution_count": null,
   "metadata": {
    "collapsed": true,
    "scrolled": false
   },
   "outputs": [],
   "source": [
    "import numpy as np\n",
    "import pandas as pd\n",
    "import random\n",
    "import time\n",
    "from datetime import datetime\n",
    "\n",
    "pd.options.display.width=200\n",
    "\n",
    "def randomList(count, mean, dist):\n",
    "    return [ mean + (1 if random.random() > 0.5 else -1) * random.random() * dist for i in range(count)]\n",
    "\n",
    "\n",
    "def randomNormalList(count, mean, stdev):\n",
    "    return np.random.normal(mean, stdev, count).tolist()\n",
    "\n",
    "\n",
    "def randomWalk(count=20, factor=2, offset=10):\n",
    "    return np.abs(np.cumsum(np.random.uniform(-factor, factor, (count, 1)) ) + offset)\n",
    "\n",
    "\n",
    "def lastDays(days, epoch=True, ms=True):\n",
    "    now = datetime.now()\n",
    "    t = int(time.mktime(now.timetuple())) - 3600 * 24 * days\n",
    "    if epoch:\n",
    "        factor = 1000 if ms else 1\n",
    "        return [int(t + i * 3600 * 24) * factor for i in range(days)]\n",
    "    else:\n",
    "        return [time.strftime('%Y-%m-%d', time.localtime(int(t + i*3600*24))) for i in range(days)]"
   ]
  },
  {
   "cell_type": "markdown",
   "metadata": {},
   "source": [
    "### Stock Downloader"
   ]
  },
  {
   "cell_type": "code",
   "execution_count": null,
   "metadata": {
    "collapsed": true,
    "scrolled": false
   },
   "outputs": [],
   "source": [
    "#\n",
    "# pip install yahoo-finance\n",
    "#\n",
    "\n",
    "from yahoo_finance import Share     \n",
    "\n",
    "def downloadHistoricalStockData(symbol, begin, end, fillMissing=True):\n",
    "    data = Share(symbol).get_historical(\"%04d-%02d-%02d\" % begin, \"%04d-%02d-%02d\" % end)\n",
    "    df = pd.DataFrame(data)\n",
    "\n",
    "    for col in \"Adj_Close\", \"Close\", \"High\", \"Low\", \"Open\":\n",
    "        df[col] = df[col].astype(float)\n",
    "    df[\"Volume\"] = df[\"Volume\"].astype(int)\n",
    "    df[\"Date\"] = pd.to_datetime(df[\"Date\"], infer_datetime_format=True)\n",
    "    \n",
    "    if fillMissing:\n",
    "        return fillMissingValues(df, symbol, begin, end)\n",
    "    else: \n",
    "        return df\n",
    "\n",
    "def fillMissingValues(df, symbol, begin, end):\n",
    "    allDates = pd.DataFrame({\"Date\": pd.date_range(pd.datetime(*begin), pd.datetime(*end), freq='D')})\n",
    "    df2 = allDates.merge(df, how=\"outer\")\n",
    "    df2[\"Symbol\"] = symbol\n",
    "    df2 = df.fillna(0, axis=1)\n",
    "    df2[\"Timestamp\"] = (df[\"Date\"].astype(\"int64\") / 1000000).astype('int64')\n",
    "    return df2.sort_values(by=[\"Timestamp\"])\n"
   ]
  },
  {
   "cell_type": "markdown",
   "metadata": {},
   "source": [
    "### Iris data"
   ]
  },
  {
   "cell_type": "code",
   "execution_count": null,
   "metadata": {
    "collapsed": false,
    "scrolled": false
   },
   "outputs": [],
   "source": [
    "# !cd /tmp && wget  https://raw.github.com/pydata/pandas/master/pandas/tests/data/iris.csv"
   ]
  },
  {
   "cell_type": "code",
   "execution_count": null,
   "metadata": {
    "collapsed": false,
    "scrolled": false
   },
   "outputs": [],
   "source": [
    "import pandas as pd\n",
    "iris = pd.read_csv('/tmp/iris.csv')\n",
    "print(iris.head())"
   ]
  },
  {
   "cell_type": "markdown",
   "metadata": {},
   "source": [
    "## 1 BoxPlot Chart\n",
    "\n",
    "### Compare the three species (IQR box plot)"
   ]
  },
  {
   "cell_type": "code",
   "execution_count": null,
   "metadata": {
    "collapsed": false,
    "scrolled": false
   },
   "outputs": [],
   "source": [
    "bp1 = nv.boxPlotChart()\n",
    "\n",
    "config={\"height\": 400, \"width\":450, \"color\":nv.c10(),\n",
    "        \"yDomain\": [-0.5, 8.5], \"maxBoxWidth\":False }\n",
    "\n",
    "def getSpecies(name):\n",
    "    return iris[iris.Name==name].loc[:,iris.columns != 'Name']\n",
    "\n",
    "setosa     = bp1.convert(data=getSpecies(\"Iris-setosa\"    ), boxStyle=\"iqr\")\n",
    "versicolor = bp1.convert(data=getSpecies(\"Iris-versicolor\"), boxStyle=\"iqr\")\n",
    "virginica  = bp1.convert(data=getSpecies(\"Iris-virginica\" ), boxStyle=\"iqr\")\n",
    "         \n",
    "display(html=[(\"Iris-setosa\", 40),(\"Iris-versicolor\", 355),(\"Iris-virginica\", 330)], style=\"h3\")\n",
    "\n",
    "bp1.plot([\n",
    "    {\"data\":setosa,     \"config\":config},\n",
    "    {\"data\":versicolor, \"config\":config},\n",
    "    {\"data\":virginica,  \"config\":config}\n",
    "])"
   ]
  },
  {
   "cell_type": "markdown",
   "metadata": {},
   "source": [
    "### Compare the three species (IQR box plot)"
   ]
  },
  {
   "cell_type": "code",
   "execution_count": null,
   "metadata": {
    "collapsed": false,
    "scrolled": false
   },
   "outputs": [],
   "source": [
    "bp2 = nv.boxPlotChart()\n",
    "\n",
    "config={\"height\": 400, \"width\":450, \"color\":nv.c10(),\n",
    "        \"yDomain\": [-0.5, 6], \"maxBoxWidth\":False }\n",
    "\n",
    "display(html=[(\"IQR\", 40),(\"Min-Max\", 415)], style=\"h3\")\n",
    "\n",
    "iqr =    bp2.convert(data=getSpecies(\"Iris-setosa\"), boxStyle=\"iqr\")\n",
    "minmax = bp2.convert(data=getSpecies(\"Iris-setosa\"), boxStyle=\"min-max\")\n",
    "\n",
    "bp2.plot([\n",
    "    {\"data\":iqr,     \"config\":config},\n",
    "    {\"data\":minmax,  \"config\":config}\n",
    "])         \n"
   ]
  },
  {
   "cell_type": "markdown",
   "metadata": {},
   "source": [
    "## 2 Line Chart"
   ]
  },
  {
   "cell_type": "code",
   "execution_count": null,
   "metadata": {
    "collapsed": false,
    "scrolled": false
   },
   "outputs": [],
   "source": [
    "x = np.linspace(0, 4*np.pi, 100)\n",
    "\n",
    "l_df = pd.DataFrame({\"X\":x, \"Sin\":np.sin(x), \"Cos\":np.cos(x), \"ArcTan\":np.arctan(x-2*np.pi)/3})\n",
    "# l_df = pd.DataFrame({\"X\":lastDays(100, epoch=True, ms=True),\"Sin\":np.sin(x), \"Cos\":np.cos(x), \"ArcTan\":np.arctan(x-2*np.pi)/3})\n",
    "\n",
    "print(l_df.head())\n"
   ]
  },
  {
   "cell_type": "code",
   "execution_count": null,
   "metadata": {
    "collapsed": false,
    "scrolled": false
   },
   "outputs": [],
   "source": [
    "l1 = nv.lineChart()\n",
    "\n",
    "config={\"height\":500, \"width\": 1024,\n",
    "        \"focusEnable\": False, \"color\":nv.c20b()[10:13], \n",
    "        \"yAxis\": {\"axisLabel\":\"f(x)\", \"tickFormat\":\",.2f\"}, \n",
    "        \"xAxis\":{\"axisLabel\":\"x\", \"tickFormat\":\",.2f\"}}\n",
    "        \n",
    "lineAttributes={\"area\":[True, False, True], \"fillOpacity\":[0.2, 0, 0.2], \"style\":[\"dashed\", \"dotted\", None]}\n",
    "\n",
    "data = l1.convert(data=l_df[:70], key=\"X\", values=[\"Sin\", \"Cos\", \"ArcTan\"],lineAttributes=lineAttributes)        \n",
    "\n",
    "l1.plot({\"data\":data, \"config\":config})"
   ]
  },
  {
   "cell_type": "markdown",
   "metadata": {},
   "source": [
    "### Dynamically append values"
   ]
  },
  {
   "cell_type": "code",
   "execution_count": null,
   "metadata": {
    "collapsed": false,
    "scrolled": false
   },
   "outputs": [],
   "source": [
    "import time\n",
    "\n",
    "for i in range(71,100):\n",
    "    time.sleep(0.1)\n",
    "    data = l1.convert(data=l_df[i:i+1], key=\"X\", values=[\"Sin\", \"Cos\", \"ArcTan\"], lineAttributes=lineAttributes)\n",
    "    l1.append({\"data\":data, \"config\":config})"
   ]
  },
  {
   "cell_type": "markdown",
   "metadata": {},
   "source": [
    "### Add a focus selector"
   ]
  },
  {
   "cell_type": "code",
   "execution_count": null,
   "metadata": {
    "collapsed": false,
    "scrolled": false
   },
   "outputs": [],
   "source": [
    "l2 = nv.lineChart()\n",
    "\n",
    "config={\"height\":500, \"width\": 1024,\n",
    "        \"focusEnable\": True, \"color\":nv.c10(), \n",
    "        \"yAxis\": {\"axisLabel\":\"f(x)\", \"tickFormat\":\",.2f\"}, \n",
    "        \"xAxis\":{\"axisLabel\":\"x\", \"tickFormat\":\"%d-%m-%Y\"}}\n",
    "\n",
    "lineAttributes={\"area\":[True, False, True], \"fillOpacity\":[0.2, 0, 0.2], \"style\":[\"dashed\", \"dotted\", None]}\n",
    "data = l2.convert(l_df, \"X\", [\"Sin\", \"Cos\", \"ArcTan\"],lineAttributes=lineAttributes) \n",
    "\n",
    "l2.plot({\"data\":data, \"config\":config})"
   ]
  },
  {
   "cell_type": "markdown",
   "metadata": {},
   "source": [
    "## 3 Discrete Bar Chart"
   ]
  },
  {
   "cell_type": "code",
   "execution_count": null,
   "metadata": {
    "collapsed": false,
    "scrolled": false
   },
   "outputs": [],
   "source": [
    "db_df = pd.DataFrame(iris.loc[:, iris.columns != \"Name\"].mean()).reset_index()\n",
    "db_df.columns = [\"Series\", \"Mean\"]\n",
    "\n",
    "db = nv.discreteBarChart()\n",
    "\n",
    "config={\"height\": 350, \"width\": 500, \"color\": nv.c20(), \"staggerLabels\": False}\n",
    "\n",
    "data = db.convert(db_df, key=\"Series\", value=\"Mean\")\n",
    "\n",
    "db.plot({\"data\":data, \"config\":config})\n"
   ]
  },
  {
   "cell_type": "markdown",
   "metadata": {},
   "source": [
    "## 4 Multi Bar Chart"
   ]
  },
  {
   "cell_type": "code",
   "execution_count": null,
   "metadata": {
    "collapsed": false,
    "scrolled": false
   },
   "outputs": [],
   "source": [
    "x = np.linspace(0, 4*np.pi, 10)\n",
    "mb_df = pd.DataFrame({\"X\":x, \"Sin\":np.sin(x), \"Cos\":np.cos(x), \"ArcTan\":np.arctan(x-2*np.pi)/3})\n",
    "\n",
    "mb1 = nv.multiBarChart()\n",
    "\n",
    "config = {\"height\":500, \"width\": 800, \n",
    "          \"color\": nv.c20(),\n",
    "          \"xAxis\":{\"axisLabel\":\"x\", \"tickFormat\":\",.2f\"},\n",
    "          \"yAxis\":{\"axisLabel\":\"f(x)\", \"tickFormat\":\",.2f\"}}\n",
    "\n",
    "data = mb1.convert(mb_df[:6], \"X\", [\"Sin\", \"Cos\", \"ArcTan\"])\n",
    "\n",
    "mb1.plot({\"data\":data, \"config\":config})\n"
   ]
  },
  {
   "cell_type": "code",
   "execution_count": null,
   "metadata": {
    "collapsed": false,
    "scrolled": false
   },
   "outputs": [],
   "source": [
    "for i in range(6,10):\n",
    "    time.sleep(0.5)\n",
    "    data = mb1.convert(mb_df[i:i+1], \"X\", [\"Sin\", \"Cos\", \"ArcTan\"])\n",
    "    mb1.append({\"data\":data, \"config\":config})"
   ]
  },
  {
   "cell_type": "markdown",
   "metadata": {},
   "source": [
    "## 5 Multi Bar Horizontal Chart"
   ]
  },
  {
   "cell_type": "code",
   "execution_count": null,
   "metadata": {
    "collapsed": false,
    "scrolled": false
   },
   "outputs": [],
   "source": [
    "mbh = nv.multiBarHorizontalChart()\n",
    "\n",
    "config = {\"height\":500, \"width\": 800, \"color\":nv.c20()[10:], \"stacked\":False}\n",
    "\n",
    "data = mbh.convert(mb_df, \"X\", [\"Sin\", \"Cos\", \"ArcTan\"])\n",
    "\n",
    "mbh.plot({\"data\":data,\"config\":config})\n"
   ]
  },
  {
   "cell_type": "markdown",
   "metadata": {},
   "source": [
    "## 6 Line Plus Bar Chart"
   ]
  },
  {
   "cell_type": "code",
   "execution_count": null,
   "metadata": {
    "collapsed": false,
    "scrolled": false
   },
   "outputs": [],
   "source": [
    "hdp = downloadHistoricalStockData('HDP', (2016,3,22), (2017,3,22))\n",
    "hdp.head(5)\n"
   ]
  },
  {
   "cell_type": "code",
   "execution_count": null,
   "metadata": {
    "collapsed": false,
    "scrolled": false
   },
   "outputs": [],
   "source": [
    "count = 100\n",
    "quantity = randomWalk(500, 20, 100)\n",
    "price = randomWalk(500, 2, 20)\n",
    "date = lastDays(500)\n",
    "\n",
    "lpb_df = pd.DataFrame({\"Date\":date, \"Quantity\":quantity, \"Price\":price})\n",
    "\n",
    "lpb = nv.linePlusBarChart()\n",
    "\n",
    "config={\"color\":[nv.c20()[0], nv.c20()[3]], \n",
    "        \"height\":600, \"width\":1200,\n",
    "        \"xAxis\":{\"tickFormat\":\"%d.%m.%y\"},\n",
    "        \"x2Axis\":{\"tickFormat\":\"%d.%m.%y\"}\n",
    "}\n",
    "\n",
    "data = lpb.convert(hdp, \"Timestamp\", lineValue=\"Close\", barValue=\"Volume\")\n",
    "\n",
    "lpb.plot({\"data\":data,\"config\":config})\n"
   ]
  },
  {
   "cell_type": "markdown",
   "metadata": {},
   "source": [
    "## 7 Pie Chart"
   ]
  },
  {
   "cell_type": "code",
   "execution_count": null,
   "metadata": {
    "collapsed": false,
    "scrolled": false
   },
   "outputs": [],
   "source": [
    "p = nv.pieChart()\n",
    "\n",
    "config1={\"donut\": False,                  \"color\": nv.c10(),  \"width\": 300, \"height\":400}\n",
    "config2={\"donut\": True,                   \"color\": nv.c20(),  \"width\": 300, \"height\":400}\n",
    "config3={\"donut\": True,  \"halfPie\": True, \"color\": nv.c20b(), \"width\": 300, \"height\":400}\n",
    "\n",
    "data = p.convert(db_df, \"Series\", \"Mean\")\n",
    "\n",
    "p.plot([{\"data\":data,\"config\":config1},\n",
    "        {\"data\":data,\"config\":config2},\n",
    "        {\"data\":data,\"config\":config3}])"
   ]
  },
  {
   "cell_type": "code",
   "execution_count": null,
   "metadata": {
    "collapsed": false,
    "scrolled": false
   },
   "outputs": [],
   "source": [
    "config = [config1, config2, config3]\n",
    "\n",
    "for chart in range(3):\n",
    "    data = p.convert(pd.DataFrame([{\"Series\":\"New\", \"Mean\":3.42}]), \"Series\", \"Mean\")\n",
    "    p.append({\"data\":data,\"config\":config[chart]}, chart=chart)"
   ]
  },
  {
   "cell_type": "markdown",
   "metadata": {},
   "source": [
    "## 8 Stacked Area Chart"
   ]
  },
  {
   "cell_type": "code",
   "execution_count": null,
   "metadata": {
    "collapsed": false,
    "scrolled": false
   },
   "outputs": [],
   "source": [
    "import time\n",
    "from datetime import datetime\n",
    "\n",
    "count = 100\n",
    "groups = 5\n",
    "\n",
    "series = []\n",
    "for i in range(groups):\n",
    "    factor = np.random.randint(5,10)\n",
    "    offset = np.random.randint(20,100)\n",
    "    series.append(randomWalk(count, 20, offset).tolist())\n",
    "\n",
    "sa_df = pd.DataFrame([lastDays(count, epoch=True)] + series).T\n",
    "sa_df.columns = [\"Date\"] + [\"Series %d\" % i  for i in range(groups)]\n",
    "\n",
    "\n",
    "sa = nv.stackedAreaChart()\n",
    "\n",
    "config={\"color\": nv.c20(), \"height\":500}\n",
    "data = sa.convert(sa_df, \"Date\", [\"Series %d\" % i for i in range(groups)])\n",
    "\n",
    "sa.plot({\"data\":data,\"config\":config})"
   ]
  },
  {
   "cell_type": "markdown",
   "metadata": {},
   "source": [
    "## 9 Scatter Plus Line Chart"
   ]
  },
  {
   "cell_type": "code",
   "execution_count": null,
   "metadata": {
    "collapsed": false,
    "scrolled": false
   },
   "outputs": [],
   "source": [
    "from sklearn import linear_model\n",
    "\n",
    "setosa     = iris[iris.Name == \"Iris-setosa\"]\n",
    "versicolor = iris[iris.Name == \"Iris-versicolor\"]\n",
    "virginica  = iris[iris.Name == \"Iris-virginica\"]\n",
    "\n",
    "def linReg(x,y):\n",
    "    regr = linear_model.LinearRegression()\n",
    "    regr.fit(x,y)\n",
    "    return (regr.coef_.item(0), regr.intercept_.item(0))\n",
    "    \n",
    "def prepare(df, name):\n",
    "    sepal = df.loc[:,[\"SepalLength\", \"SepalWidth\"]]\n",
    "    sepal.columns = [\"X\", name]\n",
    "    sepal[\"Shape\"] = \"diamond\"\n",
    "    petal = df.loc[:,[\"PetalLength\", \"PetalWidth\"]]\n",
    "    petal.columns = [\"X\", name]\n",
    "    petal[\"Shape\"] = \"square\"\n",
    "    \n",
    "    df = pd.concat([sepal, petal])\n",
    "    x = df[\"X\"].values.reshape(df.shape[0], 1)\n",
    "    y = df[name].values.reshape(df.shape[0], 1)\n",
    "    slope, intercept = linReg(x,y)\n",
    "\n",
    "    df[\"Size\"] = 2\n",
    "    df = df.groupby([\"Shape\", \"X\", name]).sum().reset_index()\n",
    "    return (df, slope, intercept)\n",
    "\n",
    "setosaDf,     setosaSlope,     setosaIntercept     = prepare(setosa,     \"Setosa\")\n",
    "virginicaDf,  virginicaSlope,  virginicaIntercept  = prepare(virginica,  \"Virginica\")\n",
    "versicolorDf, versicolorSlope, versicolorIntercept = prepare(versicolor, \"Versicolor\")"
   ]
  },
  {
   "cell_type": "code",
   "execution_count": null,
   "metadata": {
    "collapsed": false,
    "scrolled": false
   },
   "outputs": [],
   "source": [
    "spl = nv.scatterPlusLineChart()\n",
    "\n",
    "config = {\"height\":700, \"xDomain\":[0,8.5], \"yDomain\":[0,4.6],\n",
    "          \"xAxis\":{\"axisLabel\":\"Length (sepal=diamond, petal=square)\"}, \"yAxis\":{\"axisLabel\":\"Width (sepal=diamond, petal=square)\"}\n",
    "}\n",
    "\n",
    "data = spl.convert(data=[{ \"data\":setosaDf, \"keys\":\"X\", \"values\":\"Setosa\", \n",
    "                           \"lines\":{\"slope\":setosaSlope, \"intercept\":setosaIntercept}, \n",
    "                           \"pointAttributes\":{\"shapes\":\"Shape\",  \"sizes\":\"Size\"} },\n",
    "                           \n",
    "                         { \"data\":virginicaDf, \"keys\":\"X\", \"values\":\"Virginica\", \n",
    "                           \"lines\":{\"slope\":virginicaSlope, \"intercept\":virginicaIntercept}, \n",
    "                           \"pointAttributes\":{\"shapes\":\"Shape\", \"sizes\":\"Size\"} },\n",
    "                           \n",
    "                         { \"data\":versicolorDf, \"keys\":\"X\", \"values\":\"Versicolor\", \n",
    "                           \"lines\":{\"slope\":versicolorSlope, \"intercept\":versicolorIntercept}, \n",
    "                           \"pointAttributes\":{\"shapes\":\"Shape\", \"sizes\":\"Size\"} }\n",
    "                           ])\n",
    "                           \n",
    "spl.plot({\"data\":data, \"config\":config})"
   ]
  },
  {
   "cell_type": "markdown",
   "metadata": {},
   "source": [
    "## 10 Parallel Coordinates Plot"
   ]
  },
  {
   "cell_type": "code",
   "execution_count": null,
   "metadata": {
    "collapsed": false,
    "scrolled": false
   },
   "outputs": [],
   "source": [
    "iris.loc[iris.Name==\"Iris-setosa\",     \"color\"] = nv.c10()[0]\n",
    "iris.loc[iris.Name==\"Iris-versicolor\", \"color\"] = nv.c10()[1]\n",
    "iris.loc[iris.Name==\"Iris-virginica\",  \"color\"] = nv.c10()[2]\n",
    "iris[\"strokeWidth\"] = 0.5\n",
    "iris.head()\n"
   ]
  },
  {
   "cell_type": "code",
   "execution_count": null,
   "metadata": {
    "collapsed": false,
    "scrolled": false
   },
   "outputs": [],
   "source": [
    "pc = nv.parallelCoordinatesChart()\n",
    "\n",
    "config = {\"height\": 600}\n",
    "\n",
    "data, dim = pc.convert(iris, 'Name', ['SepalWidth', 'SepalLength', 'PetalWidth', 'PetalLength'],\n",
    "                       lineAttributes=[\"color\", \"strokeWidth\"], \n",
    "                       dimAttributes= {\"format\": [\",.1f\", \",.1f\", \",.1f\", \",.1f\"]})\n",
    "                       \n",
    "pc.plot({\"data\":data, \"dim\":dim, \"config\":config})    \n"
   ]
  },
  {
   "cell_type": "markdown",
   "metadata": {},
   "source": [
    "## 11 Historical Bar Chart"
   ]
  },
  {
   "cell_type": "code",
   "execution_count": null,
   "metadata": {
    "collapsed": false,
    "scrolled": false
   },
   "outputs": [],
   "source": [
    "hb = nv.historicalBarChart()\n",
    "hdp[\"VolumeMio\"] = hdp[\"Volume\"] / 10000000\n",
    "\n",
    "config = {\"color\":nv.c20()[4:],\n",
    "          \"xAxis\":{\"axisLabel\":\"Date (d.m.y)\"},\n",
    "          \"yAxis\":{\"axisLabel\":\"Volume (Mio)\", \"tickFormat\":\",.2f\"}}\n",
    "\n",
    "data = hb.convert(hdp, key=\"Timestamp\", value=\"VolumeMio\")\n",
    "\n",
    "hb.plot({\"data\":data, \"dim\":dim, \"config\":config})"
   ]
  },
  {
   "cell_type": "markdown",
   "metadata": {},
   "source": [
    "## 12 Candlestick Chart"
   ]
  },
  {
   "cell_type": "code",
   "execution_count": null,
   "metadata": {
    "collapsed": false,
    "scrolled": false
   },
   "outputs": [],
   "source": [
    "cs = nv.candlestickBarChart()\n",
    "\n",
    "ohlcAttribs = {\"open\":\"Open\" ,\"high\":\"High\" ,\"low\":\"Low\" ,\"volume\":\"Volume\" ,\"adjusted\":\"Adj_Close\"}\n",
    "data = cs.convert(hdp[-90:], \"Timestamp\", \"Close\", ohlcAttribs)\n",
    "\n",
    "config = {\"color\":nv.c10(), \"yDomain\":[7,12], \"width\":1400, \"height\":800,\n",
    "          \"xAxis\":{\"tickFormat\":\"%d/%m/%Y\", \"axisLabel\":\"Date (d/m/y)\"},\n",
    "          \"yAxis\":{\"axisLabel\":\"Close (USD)\"}}\n",
    "\n",
    "cs.plot({\"data\":data, \"config\":config})"
   ]
  },
  {
   "cell_type": "markdown",
   "metadata": {},
   "source": [
    "## 13 OHLC Chart"
   ]
  },
  {
   "cell_type": "code",
   "execution_count": null,
   "metadata": {
    "collapsed": false,
    "scrolled": false
   },
   "outputs": [],
   "source": [
    "ohlc = nv.ohlcBarChart()\n",
    "\n",
    "ohlcAttribs = {\"open\":\"Open\" ,\"high\":\"High\" ,\"low\":\"Low\" ,\"volume\":\"Volume\" ,\"adjusted\":\"Adj_Close\"}\n",
    "data = ohlc.convert(hdp[-90:], \"Timestamp\", \"Close\", ohlcAttribs)\n",
    "\n",
    "config = {\"color\":nv.c20(), \"yDomain\":[7,12], \"width\":1400, \"height\":800,\n",
    "          \"xAxis\":{\"tickFormat\":\"%d/%m/%Y\", \"axisLabel\":\"Date (d/m/y)\"},\n",
    "          \"yAxis\":{\"axisLabel\":\"Open / High / Low / Close  (USD)\"}}\n",
    "\n",
    "ohlc.plot({\"data\":data, \"config\":config})"
   ]
  },
  {
   "cell_type": "markdown",
   "metadata": {},
   "source": [
    "## 14 BulletChart"
   ]
  },
  {
   "cell_type": "code",
   "execution_count": null,
   "metadata": {
    "collapsed": false
   },
   "outputs": [],
   "source": [
    "def getData(title, actual, previous):\n",
    "    return {\"title\":title, \"subtitle\":\"out of 5\",\n",
    "            \"ranges\":{'Bad':3.5, 'OK':4.25, 'Good':5},\n",
    "            \"measure\":{'Current':actual},\n",
    "            \"markers\":{'Previous':previous},\n",
    "            \"markerLines\":{'Threshold':3.0, 'Target':4.4}}\n",
    "                \n",
    "b1 = nv.bulletChart()\n",
    "data = b1.convert(**getData(\"Satisfaction\", 3.9, 3.8))\n",
    "b1.plot({\"data\":data, \"config\":{\"height\":60, \"width\":750}})\n",
    "\n",
    "b2 = nv.bulletChart()\n",
    "data = b2.convert(**getData(\"Quality\", 4.3, 3.8))\n",
    "b2.plot({\"data\":data, \"config\":{\"height\":60, \"width\":750}})\n"
   ]
  },
  {
   "cell_type": "code",
   "execution_count": null,
   "metadata": {
    "collapsed": true
   },
   "outputs": [],
   "source": []
  }
 ],
 "metadata": {
  "anaconda-cloud": {},
  "kernelspec": {
   "display_name": "Python [conda root]",
   "language": "python",
   "name": "conda-root-py"
  },
  "language_info": {
   "codemirror_mode": {
    "name": "ipython",
    "version": 3
   },
   "file_extension": ".py",
   "mimetype": "text/x-python",
   "name": "python",
   "nbconvert_exporter": "python",
   "pygments_lexer": "ipython3",
   "version": "3.5.2"
  }
 },
 "nbformat": 4,
 "nbformat_minor": 2
}
