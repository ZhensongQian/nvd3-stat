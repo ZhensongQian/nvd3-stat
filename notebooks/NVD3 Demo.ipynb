{
 "cells": [
  {
   "cell_type": "markdown",
   "metadata": {},
   "source": [
    "## Load NVD3"
   ]
  },
  {
   "cell_type": "code",
   "execution_count": null,
   "metadata": {
    "collapsed": false,
    "scrolled": false
   },
   "outputs": [],
   "source": [
    "from nvd3_stat import Nvd3\n",
    "import time"
   ]
  },
  {
   "cell_type": "code",
   "execution_count": null,
   "metadata": {
    "collapsed": false,
    "scrolled": false
   },
   "outputs": [],
   "source": [
    "nv = Nvd3()\n",
    "\n",
    "dc = nv.createDataConfig"
   ]
  },
  {
   "cell_type": "code",
   "execution_count": null,
   "metadata": {
    "collapsed": false
   },
   "outputs": [],
   "source": [
    "from IPython.display import HTML, display_html, Javascript, display_javascript\n",
    "\n",
    "display_html(HTML(\"<style>.container { width:95% !important; }</style>\"))\n",
    "\n",
    "def display(html, style=None):\n",
    "    if isinstance(html, (tuple, list)):\n",
    "        html = \"\".join([\"\"\"<div style=\"display:inline; margin-left:%dpx\">%s</div>\"\"\" % (el[1], el[0]) for el in html])\n",
    "    if style is not None:\n",
    "        html = \"<%s>%s</%s>\" % (style, html, style)\n",
    "    display_html(HTML(html))"
   ]
  },
  {
   "cell_type": "code",
   "execution_count": null,
   "metadata": {
    "collapsed": false,
    "scrolled": false
   },
   "outputs": [],
   "source": [
    "nv.reloadNVD3(nvd3version=\"1.8.5\", d3version=\"3.5.17\")"
   ]
  },
  {
   "cell_type": "code",
   "execution_count": null,
   "metadata": {
    "collapsed": false,
    "scrolled": false
   },
   "outputs": [],
   "source": [
    "# turn javascript debugging on\n",
    "nv.traceJs(False)\n",
    "\n",
    "# turn javascript debugging on\n",
    "# nv.traceJs(True)"
   ]
  },
  {
   "cell_type": "markdown",
   "metadata": {},
   "source": [
    "## Some helpers to create data\n",
    "\n",
    "### Random data"
   ]
  },
  {
   "cell_type": "code",
   "execution_count": null,
   "metadata": {
    "collapsed": true,
    "scrolled": false
   },
   "outputs": [],
   "source": [
    "import numpy as np\n",
    "import pandas as pd\n",
    "import random\n",
    "import time\n",
    "from datetime import datetime\n",
    "\n",
    "pd.options.display.width=200\n",
    "\n",
    "def randomList(count, mean, dist):\n",
    "    return [ mean + (1 if random.random() > 0.5 else -1) * random.random() * dist for i in range(count)]\n",
    "\n",
    "\n",
    "def randomNormalList(count, mean, stdev):\n",
    "    return np.random.normal(mean, stdev, count).tolist()\n",
    "\n",
    "\n",
    "def randomWalk(count=20, factor=2, offset=10):\n",
    "    return np.abs(np.cumsum(np.random.uniform(-factor, factor, (count, 1)) ) + offset)\n",
    "\n",
    "\n",
    "def lastDays(days, epoch=True, ms=True):\n",
    "    now = datetime.now()\n",
    "    t = int(time.mktime(now.timetuple())) - 3600 * 24 * days\n",
    "    if epoch:\n",
    "        factor = 1000 if ms else 1\n",
    "        return [int(t + i * 3600 * 24) * factor for i in range(days)]\n",
    "    else:\n",
    "        return [time.strftime('%Y-%m-%d', time.localtime(int(t + i*3600*24))) for i in range(days)]"
   ]
  },
  {
   "cell_type": "markdown",
   "metadata": {},
   "source": [
    "### Stock Downloader"
   ]
  },
  {
   "cell_type": "code",
   "execution_count": null,
   "metadata": {
    "collapsed": true,
    "scrolled": false
   },
   "outputs": [],
   "source": [
    "#\n",
    "# pip install yahoo-finance\n",
    "#\n",
    "\n",
    "from yahoo_finance import Share     \n",
    "\n",
    "def downloadHistoricalStockData(symbol, begin, end, fillMissing=True):\n",
    "    data = Share(symbol).get_historical(\"%04d-%02d-%02d\" % begin, \"%04d-%02d-%02d\" % end)\n",
    "    df = pd.DataFrame(data)\n",
    "\n",
    "    for col in \"Adj_Close\", \"Close\", \"High\", \"Low\", \"Open\":\n",
    "        df[col] = df[col].astype(float)\n",
    "    df[\"Volume\"] = df[\"Volume\"].astype(int)\n",
    "    df[\"Date\"] = pd.to_datetime(df[\"Date\"], infer_datetime_format=True)\n",
    "    \n",
    "    if fillMissing:\n",
    "        return fillMissingValues(df, symbol, begin, end)\n",
    "    else: \n",
    "        return df\n",
    "\n",
    "def fillMissingValues(df, symbol, begin, end):\n",
    "    allDates = pd.DataFrame({\"Date\": pd.date_range(pd.datetime(*begin), pd.datetime(*end), freq='D')})\n",
    "    df2 = allDates.merge(df, how=\"outer\")\n",
    "    df2[\"Symbol\"] = symbol\n",
    "    # for volume fill bank holidays with 0 (no trade)\n",
    "    df2[\"Volume\"] = df2[\"Volume\"].fillna(0)\n",
    "    # and all indicators with value of day before (no price change)\n",
    "    df2 = df2.fillna(axis=0, method=\"ffill\")\n",
    "    df2[\"Timestamp\"] = (df2[\"Date\"].astype(\"int64\") / 1000000).astype('int64')\n",
    "    return df2.sort_values(by=[\"Timestamp\"])"
   ]
  },
  {
   "cell_type": "markdown",
   "metadata": {},
   "source": [
    "### Iris data"
   ]
  },
  {
   "cell_type": "code",
   "execution_count": null,
   "metadata": {
    "collapsed": false,
    "scrolled": false
   },
   "outputs": [],
   "source": [
    "# !cd /tmp && wget  https://raw.github.com/pydata/pandas/master/pandas/tests/data/iris.csv"
   ]
  },
  {
   "cell_type": "code",
   "execution_count": null,
   "metadata": {
    "collapsed": false,
    "scrolled": false
   },
   "outputs": [],
   "source": [
    "import pandas as pd\n",
    "iris = pd.read_csv('/tmp/iris.csv')\n",
    "\n",
    "def getSpecies(name):\n",
    "    return iris[iris.Name==name].loc[:,iris.columns != 'Name']\n",
    "\n",
    "print(iris.head())"
   ]
  },
  {
   "cell_type": "markdown",
   "metadata": {},
   "source": [
    "## 1 BoxPlot Chart\n",
    "\n",
    "### a) Single IQR Box Plot"
   ]
  },
  {
   "cell_type": "code",
   "execution_count": null,
   "metadata": {
    "collapsed": false
   },
   "outputs": [],
   "source": [
    "df = pd.DataFrame({\"X1\":randomNormalList(50, 5, 1), \"X2\":randomNormalList(50, 3, 0.5)})\n",
    "\n",
    "bp1 = nv.boxPlotChart()\n",
    "\n",
    "config={\"height\": 400, \"width\":450, \"color\":nv.c10(), \"yDomain\": [0, 10], \"maxBoxWidth\":False }\n",
    "\n",
    "bp1.plot(data=df, boxStyle=\"iqr\", config=config)"
   ]
  },
  {
   "cell_type": "markdown",
   "metadata": {},
   "source": [
    "### b) Append"
   ]
  },
  {
   "cell_type": "code",
   "execution_count": null,
   "metadata": {
    "collapsed": false
   },
   "outputs": [],
   "source": [
    "bp1.append({\"X1\":[1,5,7,8,9,8,7], \"X2\":[0.5, 3,4,5,6,3,2]})"
   ]
  },
  {
   "cell_type": "markdown",
   "metadata": {},
   "source": [
    "### c) Hoizontal Box Plots\n",
    "\n",
    "#### Compare the three species (horizontal IQR box plot)"
   ]
  },
  {
   "cell_type": "code",
   "execution_count": null,
   "metadata": {
    "collapsed": false
   },
   "outputs": [],
   "source": [
    "display(html=[(\"Iris-setosa\", 40),(\"Iris-versicolor\", 355),(\"Iris-virginica\", 330)], style=\"h3\")\n",
    "\n",
    "bp2 = nv.boxPlotChart()\n",
    "\n",
    "config = {\"height\": 400, \"width\":450, \"color\":nv.c10(), \"yDomain\": [-0.5, 8.5], \"maxBoxWidth\":False}\n",
    "\n",
    "bp2.hplot([bp2.chart(getSpecies(\"Iris-setosa\"),     boxStyle=\"iqr\", config=config),\n",
    "           bp2.chart(getSpecies(\"Iris-versicolor\"), boxStyle=\"iqr\", config=config),\n",
    "           bp2.chart(getSpecies(\"Iris-virginica\"),  boxStyle=\"iqr\", config=config)])"
   ]
  },
  {
   "cell_type": "markdown",
   "metadata": {},
   "source": [
    "#### Compare IQR and Min-Max plot"
   ]
  },
  {
   "cell_type": "code",
   "execution_count": null,
   "metadata": {
    "collapsed": false,
    "scrolled": false
   },
   "outputs": [],
   "source": [
    "display(html=[(\"IQR\", 40),(\"Min-Max\", 415)], style=\"h3\")\n",
    "\n",
    "bp3 = nv.boxPlotChart()\n",
    "\n",
    "config = {\"height\": 400, \"width\":450, \"color\":nv.c10(), \"yDomain\": [-0.5, 6], \"maxBoxWidth\":False }\n",
    "\n",
    "bp3.hplot([bp3.chart(data=getSpecies(\"Iris-setosa\"), boxStyle=\"iqr\",     config=config),\n",
    "           bp3.chart(data=getSpecies(\"Iris-setosa\"), boxStyle=\"min-max\", config=config)])"
   ]
  },
  {
   "cell_type": "markdown",
   "metadata": {},
   "source": [
    "## 2 Line Chart\n",
    "\n",
    "### a) Plot"
   ]
  },
  {
   "cell_type": "code",
   "execution_count": null,
   "metadata": {
    "collapsed": false,
    "scrolled": false
   },
   "outputs": [],
   "source": [
    "x = np.linspace(0, 4*np.pi, 100)\n",
    "\n",
    "l_df = pd.DataFrame({\"X\":x,\n",
    "                     \"Sin\":np.sin(x), \n",
    "                     \"Cos\":np.cos(x), \n",
    "                     \"ArcTan\":np.arctan(x-2*np.pi)/3})\n",
    "\n",
    "print(l_df.head())"
   ]
  },
  {
   "cell_type": "markdown",
   "metadata": {},
   "source": [
    "#### Single line"
   ]
  },
  {
   "cell_type": "code",
   "execution_count": null,
   "metadata": {
    "collapsed": false
   },
   "outputs": [],
   "source": [
    "l1 = nv.lineChart()\n",
    "\n",
    "config={\"height\":350, \"width\": 800, \"color\":nv.c10(), \n",
    "        \"yAxis\":{\"axisLabel\":\"f(x)\", \"tickFormat\":\",.2f\"}, \n",
    "        \"xAxis\":{\"axisLabel\":\"x\",    \"tickFormat\":\",.2f\"}}\n",
    "        \n",
    "lineAttributes={\"area\":True, \"fillOpacity\":0.2, \"style\":\"dashed\"}\n",
    "\n",
    "l1.plot(l_df, \"X\", \"Sin\", lineAttributes, config)"
   ]
  },
  {
   "cell_type": "code",
   "execution_count": null,
   "metadata": {
    "collapsed": false
   },
   "outputs": [],
   "source": [
    "l2 = nv.lineChart()\n",
    "\n",
    "def config(i):\n",
    "    return {\"height\":300, \"width\": 400, \"color\":nv.c10()[i-1:], \n",
    "            \"yAxis\":{\"axisLabel\":\"f(x)\", \"tickFormat\":\",.2f\"}, \n",
    "            \"xAxis\":{\"axisLabel\":\"x\",    \"tickFormat\":\",.2f\"},\n",
    "            \"yDomain\":[-1.2,1.2]}\n",
    "\n",
    "lineAttributes1={\"area\":True,  \"fillOpacity\":0.2, \"style\":\"dashed\"}\n",
    "lineAttributes2={\"area\":False,                    \"style\":\"dotted\"}\n",
    "lineAttributes3={\"area\":True,  \"fillOpacity\":1.0                  }\n",
    "\n",
    "l2.hplot([l2.chart(l_df, \"X\", \"Sin\",    lineAttributes1, config=config(1)),\n",
    "          l2.chart(l_df, \"X\", \"Cos\",    lineAttributes2, config=config(2)),\n",
    "          l2.chart(l_df, \"X\", \"ArcTan\", lineAttributes3, config=config(3))])"
   ]
  },
  {
   "cell_type": "markdown",
   "metadata": {},
   "source": [
    "#### Multiple lines"
   ]
  },
  {
   "cell_type": "code",
   "execution_count": null,
   "metadata": {
    "collapsed": false,
    "scrolled": false
   },
   "outputs": [],
   "source": [
    "l3 = nv.lineChart()\n",
    "\n",
    "config={\"height\":500, \"width\": 1024, \"color\":nv.c20b()[10:13], \n",
    "        \"yAxis\":{\"axisLabel\":\"f(x)\", \"tickFormat\":\",.2f\"}, \n",
    "        \"xAxis\":{\"axisLabel\":\"x\",    \"tickFormat\":\",.2f\"},\n",
    "        \"focusEnable\": False, \"duration\":0}\n",
    "        \n",
    "lineAttributes={\"area\":[True, False, True], \"fillOpacity\":[0.2, 0, 0.2], \"style\":[\"dashed\", \"dotted\", None]}\n",
    "\n",
    "l3.plot(l_df[:70], \"X\", [\"Sin\", \"Cos\", \"ArcTan\"], lineAttributes, config)"
   ]
  },
  {
   "cell_type": "markdown",
   "metadata": {},
   "source": [
    "### b) Append values"
   ]
  },
  {
   "cell_type": "code",
   "execution_count": null,
   "metadata": {
    "collapsed": false,
    "scrolled": false
   },
   "outputs": [],
   "source": [
    "for i in range(71,100):\n",
    "    time.sleep(0.05)\n",
    "    l3.append(l_df[i:i+1])"
   ]
  },
  {
   "cell_type": "markdown",
   "metadata": {},
   "source": [
    "##### c) Save it as png"
   ]
  },
  {
   "cell_type": "code",
   "execution_count": null,
   "metadata": {
    "collapsed": false
   },
   "outputs": [],
   "source": [
    "l3.saveAsPng(\"line.png\", backgroundColor=\"white\")"
   ]
  },
  {
   "cell_type": "markdown",
   "metadata": {},
   "source": [
    "### d) Add a focus selector"
   ]
  },
  {
   "cell_type": "code",
   "execution_count": null,
   "metadata": {
    "collapsed": false,
    "scrolled": false
   },
   "outputs": [],
   "source": [
    "l2 = nv.lineChart()\n",
    "\n",
    "config={\"height\":500, \"width\": 1024,\n",
    "        \"focusEnable\": True, \"color\":nv.c10(), \n",
    "        \"yAxis\": {\"axisLabel\":\"f(x)\", \"tickFormat\":\",.2f\"}, \n",
    "        \"xAxis\":{\"axisLabel\":\"x\", \"tickFormat\":\"%d-%m-%Y\"}}\n",
    "\n",
    "lineAttributes={\"area\":[True, False, True], \"fillOpacity\":[0.2, 0, 0.2], \"style\":[\"dashed\", \"dotted\", None]}\n",
    "\n",
    "l2.plot(l_df, \"X\", [\"Sin\", \"Cos\", \"ArcTan\"], lineAttributes, config)"
   ]
  },
  {
   "cell_type": "markdown",
   "metadata": {},
   "source": [
    "## 3 Discrete Bar Chart\n",
    "\n",
    "### a) Plot"
   ]
  },
  {
   "cell_type": "code",
   "execution_count": null,
   "metadata": {
    "collapsed": false,
    "scrolled": false
   },
   "outputs": [],
   "source": [
    "db_df = pd.DataFrame(iris.loc[:, [\"SepalLength\", \"SepalWidth\", \"PetalLength\", \"PetalWidth\"]].mean()).reset_index()\n",
    "db_df.columns = [\"Series\", \"Mean\"]\n",
    "\n",
    "db = nv.discreteBarChart()\n",
    "\n",
    "config={\"height\": 350, \"width\": 500, \"color\": nv.c20(), \"staggerLabels\": False}\n",
    "\n",
    "db.plot(db_df[:2], key=\"Series\", value=\"Mean\", config=config)\n"
   ]
  },
  {
   "cell_type": "markdown",
   "metadata": {},
   "source": [
    "### b) Append Values"
   ]
  },
  {
   "cell_type": "code",
   "execution_count": null,
   "metadata": {
    "collapsed": false
   },
   "outputs": [],
   "source": [
    "db.append(db_df[2:])"
   ]
  },
  {
   "cell_type": "markdown",
   "metadata": {},
   "source": [
    "## 4 Multi Bar Chart"
   ]
  },
  {
   "cell_type": "code",
   "execution_count": null,
   "metadata": {
    "collapsed": false,
    "scrolled": false
   },
   "outputs": [],
   "source": [
    "x = np.linspace(0, 4*np.pi, 10)\n",
    "mb_df = pd.DataFrame({\"X\":x, \"Sin\":np.sin(x), \"Cos\":np.cos(x), \"ArcTan\":np.arctan(x-2*np.pi)/3})\n",
    "\n",
    "mb1 = nv.multiBarChart()\n",
    "\n",
    "config = {\"height\":500, \"width\": 800, \n",
    "          \"color\": nv.c20(),\n",
    "          \"xAxis\":{\"axisLabel\":\"x\", \"tickFormat\":\",.2f\"},\n",
    "          \"yAxis\":{\"axisLabel\":\"f(x)\", \"tickFormat\":\",.2f\"}}\n",
    "\n",
    "mb1.plot(mb_df[:6], \"X\", [\"Sin\", \"Cos\", \"ArcTan\"], config)"
   ]
  },
  {
   "cell_type": "code",
   "execution_count": null,
   "metadata": {
    "collapsed": false,
    "scrolled": false
   },
   "outputs": [],
   "source": [
    "for i in range(6,10):\n",
    "    time.sleep(0.5)\n",
    "    mb1.append(mb_df[i:i+1])"
   ]
  },
  {
   "cell_type": "markdown",
   "metadata": {},
   "source": [
    "## 5 Multi Bar Horizontal Chart"
   ]
  },
  {
   "cell_type": "code",
   "execution_count": null,
   "metadata": {
    "collapsed": false,
    "scrolled": false
   },
   "outputs": [],
   "source": [
    "mbh = nv.multiBarHorizontalChart()\n",
    "\n",
    "config = {\"height\":500, \"width\": 800, \"color\":nv.c20()[10:], \"stacked\":False}\n",
    "\n",
    "mbh.plot(mb_df[:6], \"X\", [\"Sin\", \"Cos\", \"ArcTan\"], config)"
   ]
  },
  {
   "cell_type": "code",
   "execution_count": null,
   "metadata": {
    "collapsed": false
   },
   "outputs": [],
   "source": [
    "mbh.append(mb_df[6:])"
   ]
  },
  {
   "cell_type": "markdown",
   "metadata": {},
   "source": [
    "## 6 Line Plus Bar Chart"
   ]
  },
  {
   "cell_type": "markdown",
   "metadata": {},
   "source": [
    "### a) Plot"
   ]
  },
  {
   "cell_type": "code",
   "execution_count": null,
   "metadata": {
    "collapsed": false,
    "scrolled": false
   },
   "outputs": [],
   "source": [
    "ohlcDf = downloadHistoricalStockData('AAPL', (2016,3,28), (2017,3,27))\n",
    "ohlcDf[\"VolumeMio\"] = ohlcDf[\"Volume\"] / 10000000\n",
    "ohlcDf.head(10)"
   ]
  },
  {
   "cell_type": "code",
   "execution_count": null,
   "metadata": {
    "collapsed": false,
    "scrolled": false
   },
   "outputs": [],
   "source": [
    "lpb = nv.linePlusBarChart()\n",
    "\n",
    "config={\"color\":[nv.c20()[0], nv.c20()[3]], \n",
    "        \"height\":600, \"width\":1200,\n",
    "        \"xAxis\":{\"tickFormat\":\"%d.%m.%y\"},\n",
    "        \"x2Axis\":{\"tickFormat\":\"%d.%m.%y\"},\n",
    "        \"yDomain\":[80, 145],\n",
    "        \"duration\":0, \"focusEnable\":True\n",
    "}\n",
    "\n",
    "lpb.plot(ohlcDf[0:300], \"Timestamp\", lineValue=\"Close\", barValue=\"Volume\", config=config)\n"
   ]
  },
  {
   "cell_type": "markdown",
   "metadata": {},
   "source": [
    "### b) Append"
   ]
  },
  {
   "cell_type": "code",
   "execution_count": null,
   "metadata": {
    "collapsed": false
   },
   "outputs": [],
   "source": [
    "import time\n",
    "\n",
    "for i in range(301,len(ohlcDf)):\n",
    "    time.sleep(0.1)\n",
    "    lpb.append(ohlcDf[i:i+1])"
   ]
  },
  {
   "cell_type": "markdown",
   "metadata": {},
   "source": [
    "## 7 Pie Chart\n",
    "\n",
    "### a) Plot"
   ]
  },
  {
   "cell_type": "code",
   "execution_count": null,
   "metadata": {
    "collapsed": false
   },
   "outputs": [],
   "source": [
    "p1 = nv.pieChart()\n",
    "p1.plot(db_df, \"Series\", \"Mean\", config={\"height\":300, \"width\":260})"
   ]
  },
  {
   "cell_type": "code",
   "execution_count": null,
   "metadata": {
    "collapsed": false,
    "scrolled": false
   },
   "outputs": [],
   "source": [
    "p2 = nv.pieChart()\n",
    "\n",
    "config1={\"donut\": False,                  \"color\": nv.c10(),  \"width\": 300, \"height\":400}\n",
    "config2={\"donut\": True,                   \"color\": nv.c20(),  \"width\": 300, \"height\":400}\n",
    "config3={\"donut\": True,  \"halfPie\": True, \"color\": nv.c20b(), \"width\": 300, \"height\":400}\n",
    "\n",
    "p2.hplot([p2.chart(db_df[:2], \"Series\", \"Mean\", config=config1), \n",
    "          p2.chart(db_df[:2], \"Series\", \"Mean\", config=config2), \n",
    "          p2.chart(db_df[:2], \"Series\", \"Mean\", config=config3)])\n"
   ]
  },
  {
   "cell_type": "markdown",
   "metadata": {},
   "source": [
    "### b) Append values"
   ]
  },
  {
   "cell_type": "code",
   "execution_count": null,
   "metadata": {
    "collapsed": false,
    "scrolled": false
   },
   "outputs": [],
   "source": [
    "for chart in range(3):\n",
    "    p2.append(db_df[2:], chart=chart)"
   ]
  },
  {
   "cell_type": "markdown",
   "metadata": {},
   "source": [
    "## 8 Stacked Area Chart\n",
    "\n",
    "### a) Plot"
   ]
  },
  {
   "cell_type": "code",
   "execution_count": null,
   "metadata": {
    "collapsed": false
   },
   "outputs": [],
   "source": [
    "import time\n",
    "from datetime import datetime\n",
    "\n",
    "count = 100\n",
    "groups = 5\n",
    "\n",
    "series = []\n",
    "for i in range(groups):\n",
    "    factor = np.random.randint(5,10)\n",
    "    offset = np.random.randint(20,100)\n",
    "    series.append(randomWalk(count, 20, offset).tolist())\n",
    "\n",
    "sa_df = pd.DataFrame([lastDays(count, epoch=True)] + series).T\n",
    "sa_df.columns = [\"Date\"] + [\"Series %d\" % i  for i in range(groups)]\n",
    "sa_df.head(2)"
   ]
  },
  {
   "cell_type": "code",
   "execution_count": null,
   "metadata": {
    "collapsed": false,
    "scrolled": false
   },
   "outputs": [],
   "source": [
    "sa = nv.stackedAreaChart()\n",
    "\n",
    "config={\"color\": nv.c20(), \"height\":500, \"xAxis\":{\"tickFormat\":\"%d.%m.%Y\"}, \"duration\":0}\n",
    "\n",
    "sa.plot(sa_df[:80], \"Date\", [\"Series %d\" % i for i in range(groups)], config=config)"
   ]
  },
  {
   "cell_type": "markdown",
   "metadata": {},
   "source": [
    "\n",
    "### b) Append values"
   ]
  },
  {
   "cell_type": "code",
   "execution_count": null,
   "metadata": {
    "collapsed": false
   },
   "outputs": [],
   "source": [
    "import time\n",
    "\n",
    "for i in range(80, 100, 2):\n",
    "    time.sleep(0.1)\n",
    "    sa.append(sa_df[i:i+2])"
   ]
  },
  {
   "cell_type": "markdown",
   "metadata": {},
   "source": [
    "## 9 Scatter Plus Line Chart\n",
    "\n",
    "### a) Plot"
   ]
  },
  {
   "cell_type": "code",
   "execution_count": null,
   "metadata": {
    "collapsed": false
   },
   "outputs": [],
   "source": [
    "a = randomNormalList(40, 4, 1)\n",
    "b = randomNormalList(40, 4, 1)\n",
    "c = randomNormalList(40, 4, 1)\n",
    "d = randomNormalList(40, 4, 1)\n",
    "spl_df = pd.DataFrame({\"A\":a, \"B\":b, \"C\":c, \"D\":d})\n",
    "spl_df[\"S1\"] = \"diamond\"\n",
    "spl_df[\"S2\"] = \"square\"\n",
    "spl_df.head(2)"
   ]
  },
  {
   "cell_type": "code",
   "execution_count": null,
   "metadata": {
    "collapsed": false
   },
   "outputs": [],
   "source": [
    "spl1 = nv.scatterPlusLineChart()\n",
    "\n",
    "config = {\"color\":nv.c10(), \n",
    "          \"xDomain\":[0, 8], \"xAxis\":{\"axisLabel\":\"A: squares,  B: diamonds\"},\n",
    "          \"yDomain\":[0, 8]}\n",
    "\n",
    "data = spl1.plot(spl_df[:30], keys=[\"A\", \"C\"], values=[\"B\", \"D\"], pointAttributes={\"shapes\":[\"S1\", \"S2\"]},\n",
    "                 lines=[{\"slope\":1.0, \"intercept\":-1.0}, {\"slope\":-0.6, \"intercept\":6.0}], config=config)"
   ]
  },
  {
   "cell_type": "markdown",
   "metadata": {},
   "source": [
    "### b) Append"
   ]
  },
  {
   "cell_type": "code",
   "execution_count": null,
   "metadata": {
    "collapsed": false
   },
   "outputs": [],
   "source": [
    "import time\n",
    "for i in range(30,40):\n",
    "    time.sleep(0.5)\n",
    "    spl1.append(spl_df[i:i+1], \n",
    "                lines=[{\"slope\":30.0/i, \"intercept\":-1.0}, {\"slope\":-20.0/i, \"intercept\":6.0}])"
   ]
  },
  {
   "cell_type": "markdown",
   "metadata": {},
   "source": [
    "### c) Example"
   ]
  },
  {
   "cell_type": "code",
   "execution_count": null,
   "metadata": {
    "collapsed": false,
    "scrolled": false
   },
   "outputs": [],
   "source": [
    "from sklearn import linear_model\n",
    "\n",
    "setosa     = iris[iris.Name == \"Iris-setosa\"]\n",
    "versicolor = iris[iris.Name == \"Iris-versicolor\"]\n",
    "virginica  = iris[iris.Name == \"Iris-virginica\"]\n",
    "\n",
    "def linReg(x,y):\n",
    "    regr = linear_model.LinearRegression()\n",
    "    regr.fit(x,y)\n",
    "    return (regr.coef_.item(0), regr.intercept_.item(0))\n",
    "    \n",
    "def prepare(df, name):\n",
    "    sepal = df.loc[:,[\"SepalLength\", \"SepalWidth\"]]\n",
    "    sepal.columns = [\"X\", name]\n",
    "    sepal[\"Shape\"] = \"diamond\"\n",
    "    petal = df.loc[:,[\"PetalLength\", \"PetalWidth\"]]\n",
    "    petal.columns = [\"X\", name]\n",
    "    petal[\"Shape\"] = \"square\"\n",
    "    \n",
    "    df = pd.concat([sepal, petal])\n",
    "    x = df[\"X\"].values.reshape(df.shape[0], 1)\n",
    "    y = df[name].values.reshape(df.shape[0], 1)\n",
    "    slope, intercept = linReg(x,y)\n",
    "\n",
    "    df[\"Size\"] = 2\n",
    "    df = df.groupby([\"Shape\", \"X\", name]).sum().reset_index()\n",
    "    return (df, slope, intercept)\n",
    "\n",
    "setosaDf,     setosaSlope,     setosaIntercept     = prepare(setosa,     \"Setosa\")\n",
    "virginicaDf,  virginicaSlope,  virginicaIntercept  = prepare(virginica,  \"Virginica\")\n",
    "versicolorDf, versicolorSlope, versicolorIntercept = prepare(versicolor, \"Versicolor\")\n"
   ]
  },
  {
   "cell_type": "code",
   "execution_count": null,
   "metadata": {
    "collapsed": false,
    "scrolled": false
   },
   "outputs": [],
   "source": [
    "spl2 = nv.scatterPlusLineChart()\n",
    "\n",
    "config = {\"height\":700, #\"xDomain\":[0,8], \"yDomain\":[0,4.5],\n",
    "          \"xAxis\":{\"axisLabel\":\"Length (sepal=diamond, petal=square)\"}, \"yAxis\":{\"axisLabel\":\"Width (sepal=diamond, petal=square)\"}\n",
    "}\n",
    "\n",
    "spl2.plot(data=[{ \"data\":setosaDf, \"keys\":\"X\", \"values\":\"Setosa\", \n",
    "                  \"lines\":{\"slope\":setosaSlope, \"intercept\":setosaIntercept}, \n",
    "                  \"pointAttributes\":{\"shapes\":\"Shape\", \"sizes\":\"Size\"} },\n",
    "                           \n",
    "                { \"data\":virginicaDf, \"keys\":\"X\", \"values\":\"Virginica\", \n",
    "                  \"lines\":{\"slope\":virginicaSlope, \"intercept\":virginicaIntercept}, \n",
    "                  \"pointAttributes\":{\"shapes\":\"Shape\", \"sizes\":\"Size\"} },\n",
    "                           \n",
    "                { \"data\":versicolorDf, \"keys\":\"X\", \"values\":\"Versicolor\", \n",
    "                  \"lines\":{\"slope\":versicolorSlope, \"intercept\":versicolorIntercept}, \n",
    "                  \"pointAttributes\":{\"shapes\":\"Shape\", \"sizes\":\"Size\"} } ],\n",
    "          config=config)\n",
    "\n"
   ]
  },
  {
   "cell_type": "markdown",
   "metadata": {},
   "source": [
    "## 10 Parallel Coordinates Plot"
   ]
  },
  {
   "cell_type": "code",
   "execution_count": null,
   "metadata": {
    "collapsed": false,
    "scrolled": false
   },
   "outputs": [],
   "source": [
    "iris.loc[iris.Name==\"Iris-setosa\",     \"color\"] = nv.c10()[0]\n",
    "iris.loc[iris.Name==\"Iris-versicolor\", \"color\"] = nv.c10()[1]\n",
    "iris.loc[iris.Name==\"Iris-virginica\",  \"color\"] = nv.c10()[2]\n",
    "iris[\"strokeWidth\"] = 0.5\n",
    "iris.head()\n"
   ]
  },
  {
   "cell_type": "code",
   "execution_count": null,
   "metadata": {
    "collapsed": false,
    "scrolled": false
   },
   "outputs": [],
   "source": [
    "pc = nv.parallelCoordinatesChart()\n",
    "\n",
    "config = {\"height\": 600}\n",
    "\n",
    "pc.plot(iris, 'Name', ['SepalWidth', 'SepalLength', 'PetalWidth', 'PetalLength'],\n",
    "        lineAttributes=[\"color\", \"strokeWidth\"], \n",
    "        dimAttributes= {\"format\": [\",.1f\", \",.1f\", \",.1f\", \",.1f\"]},\n",
    "        config=config)"
   ]
  },
  {
   "cell_type": "markdown",
   "metadata": {},
   "source": [
    "## 11 Historical Bar Chart"
   ]
  },
  {
   "cell_type": "code",
   "execution_count": null,
   "metadata": {
    "collapsed": false,
    "scrolled": false
   },
   "outputs": [],
   "source": [
    "hb = nv.historicalBarChart()\n",
    "\n",
    "config = {\"color\":nv.c20()[4:],\n",
    "          \"xAxis\":{\"axisLabel\":\"Date (d.m.y)\"},\n",
    "          \"yAxis\":{\"axisLabel\":\"Volume (Mio)\", \"tickFormat\":\",.2f\"}}\n",
    "\n",
    "hb.plot(ohlcDf, \"Timestamp\", \"VolumeMio\",config=config)"
   ]
  },
  {
   "cell_type": "markdown",
   "metadata": {},
   "source": [
    "## 12 Candlestick Chart"
   ]
  },
  {
   "cell_type": "code",
   "execution_count": null,
   "metadata": {
    "collapsed": false,
    "scrolled": false
   },
   "outputs": [],
   "source": [
    "cs = nv.candlestickBarChart()\n",
    "\n",
    "config = {\"color\":nv.c10(), \"yDomain\":[114,145], \"width\":1400, \"height\":800,\n",
    "          \"xAxis\":{\"tickFormat\":\"%d/%m/%Y\", \"axisLabel\":\"Date (d/m/y)\"},\n",
    "          \"yAxis\":{\"axisLabel\":\"Close (USD)\"}}\n",
    "\n",
    "ohlcAttribs = {\"open\":\"Open\" ,\"high\":\"High\" ,\"low\":\"Low\" ,\"volume\":\"Volume\" ,\"adjusted\":\"Adj_Close\"}\n",
    "\n",
    "cs.plot(ohlcDf[-80:], \"Timestamp\", \"Close\", ohlcAttribs, config=config)"
   ]
  },
  {
   "cell_type": "markdown",
   "metadata": {},
   "source": [
    "## 13 OHLC Chart"
   ]
  },
  {
   "cell_type": "code",
   "execution_count": null,
   "metadata": {
    "collapsed": false,
    "scrolled": true
   },
   "outputs": [],
   "source": [
    "ohlc = nv.ohlcBarChart()\n",
    "\n",
    "config = {\"color\":nv.c10(), \"yDomain\":[114,145], \"width\":1400, \"height\":800,\n",
    "          \"xAxis\":{\"tickFormat\":\"%d/%m/%Y\", \"axisLabel\":\"Date (d/m/y)\"},\n",
    "          \"yAxis\":{\"axisLabel\":\"Close (USD)\"}}\n",
    "\n",
    "ohlcAttribs = {\"open\":\"Open\" ,\"high\":\"High\" ,\"low\":\"Low\" ,\"volume\":\"Volume\" ,\"adjusted\":\"Adj_Close\"}\n",
    "\n",
    "ohlc.plot(ohlcDf[-90:], \"Timestamp\", \"Close\", ohlcAttribs, config=config)"
   ]
  },
  {
   "cell_type": "markdown",
   "metadata": {},
   "source": [
    "## 14 BulletChart"
   ]
  },
  {
   "cell_type": "code",
   "execution_count": null,
   "metadata": {
    "collapsed": false
   },
   "outputs": [],
   "source": [
    "def getData(title, actual, previous):\n",
    "    return {\"title\":title, \"subtitle\":\"out of 5\",\n",
    "            \"ranges\":{'Bad':3.5, 'OK':4.25, 'Good':5},\n",
    "            \"measure\":{'Current':actual},\n",
    "            \"markers\":{'Previous':previous},\n",
    "            \"markerLines\":{'Threshold':3.0, 'Target':4.4}}\n",
    "                \n",
    "b1 = nv.bulletChart()\n",
    "\n",
    "config = {\"height\":60, \"width\":600}\n",
    "\n",
    "b1.vplot([b1.chart(**getData(\"Satisfaction\", 3.9, 3.8), config=config),\n",
    "          b1.chart(**getData(\"Satisfaction\", 4.3, 3.8), config=config)])\n"
   ]
  },
  {
   "cell_type": "code",
   "execution_count": null,
   "metadata": {
    "collapsed": true
   },
   "outputs": [],
   "source": []
  }
 ],
 "metadata": {
  "anaconda-cloud": {},
  "kernelspec": {
   "display_name": "Python [conda root]",
   "language": "python",
   "name": "conda-root-py"
  },
  "language_info": {
   "codemirror_mode": {
    "name": "ipython",
    "version": 3
   },
   "file_extension": ".py",
   "mimetype": "text/x-python",
   "name": "python",
   "nbconvert_exporter": "python",
   "pygments_lexer": "ipython3",
   "version": "3.5.2"
  }
 },
 "nbformat": 4,
 "nbformat_minor": 2
}
